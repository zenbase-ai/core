{
 "cells": [
  {
   "cell_type": "markdown",
   "source": [
    "# Import the Zenbase Library"
   ],
   "metadata": {
    "collapsed": false
   },
   "id": "297ac2e185a1ec3b"
  },
  {
   "cell_type": "code",
   "outputs": [],
   "source": [
    "import sys\n",
    "import subprocess\n",
    "\n",
    "def install_package(package):\n",
    "    try:\n",
    "        subprocess.check_call([sys.executable, \"-m\", \"pip\", \"install\", package])\n",
    "    except subprocess.CalledProcessError as e:\n",
    "        print(f\"Failed to install {package}: {e}\")\n",
    "        raise\n",
    "\n",
    "def install_packages(packages):\n",
    "    for package in packages:\n",
    "        install_package(package)\n",
    "\n",
    "try:\n",
    "    # Check if running in Google Colab\n",
    "    import google.colab\n",
    "    IN_COLAB = True\n",
    "except ImportError:\n",
    "    IN_COLAB = False\n",
    "\n",
    "if IN_COLAB:\n",
    "    # Install the zenbase package if running in Google Colab\n",
    "    # install_package('zenbase')\n",
    "    # Install the zenbse package from a GitHub branch if running in Google Colab\n",
    "    install_package('git+https://github.com/zenbase-ai/lib.git@main#egg=zenbase&subdirectory=py')\n",
    "\n",
    "    # List of other packages to install in Google Colab\n",
    "    additional_packages = [\n",
    "        'python-dotenv',\n",
    "        'langsmith[vcr]',\n",
    "        'openai',\n",
    "        'langchain',\n",
    "        'langchain_openai'\n",
    "    ]\n",
    "    \n",
    "    # Install additional packages\n",
    "    install_packages(additional_packages)\n",
    "\n",
    "# Now import the zenbase library\n",
    "try:\n",
    "    import zenbase\n",
    "except ImportError as e:\n",
    "    print(\"Failed to import zenbase: \", e)\n",
    "    raise"
   ],
   "metadata": {
    "collapsed": false,
    "ExecuteTime": {
     "end_time": "2024-07-10T00:40:34.381113Z",
     "start_time": "2024-07-10T00:40:34.347308Z"
    }
   },
   "id": "90cbce6f536bbc1d",
   "execution_count": 4
  },
  {
   "cell_type": "markdown",
   "source": [
    "# Configure the Environment"
   ],
   "metadata": {
    "collapsed": false
   },
   "id": "a7763c93879d642f"
  },
  {
   "cell_type": "code",
   "execution_count": 5,
   "id": "1377617ec4c1781f",
   "metadata": {
    "ExecuteTime": {
     "end_time": "2024-07-10T00:40:35.178102Z",
     "start_time": "2024-07-10T00:40:35.154742Z"
    }
   },
   "outputs": [
    {
     "data": {
      "text/plain": "True"
     },
     "execution_count": 5,
     "metadata": {},
     "output_type": "execute_result"
    }
   ],
   "source": [
    "from pathlib import Path\n",
    "from dotenv import load_dotenv\n",
    "\n",
    "# import os\n",
    "#\n",
    "# os.environ[\"OPENAI_API_KEY\"] = \"...\"\n",
    "# os.environ[\"LANGCHAIN_API_KEY\"] = \"...\"\n",
    "# os.environ[\"LANGCHAIN_TRACING_V2\"] = \"true\"\n",
    "\n",
    "load_dotenv(Path(\"../../.env.test\"), override=True)"
   ]
  },
  {
   "cell_type": "code",
   "execution_count": 6,
   "id": "808bae4c98be5c94",
   "metadata": {
    "ExecuteTime": {
     "end_time": "2024-07-10T00:40:35.628552Z",
     "start_time": "2024-07-10T00:40:35.622849Z"
    }
   },
   "outputs": [],
   "source": [
    "import nest_asyncio\n",
    "\n",
    "nest_asyncio.apply()"
   ]
  },
  {
   "cell_type": "markdown",
   "source": [
    "# Initial Setup"
   ],
   "metadata": {
    "collapsed": false
   },
   "id": "bbf3e9e3a82a3db7"
  },
  {
   "cell_type": "code",
   "outputs": [],
   "source": [
    "from langsmith.wrappers import wrap_openai\n",
    "from openai import OpenAI\n",
    "\n",
    "openai = wrap_openai(OpenAI())"
   ],
   "metadata": {
    "collapsed": false,
    "ExecuteTime": {
     "end_time": "2024-07-10T00:40:37.214200Z",
     "start_time": "2024-07-10T00:40:36.396623Z"
    }
   },
   "id": "29d4415d36107124",
   "execution_count": 7
  },
  {
   "cell_type": "markdown",
   "source": [
    "# Now, you probably already have some LLM code."
   ],
   "metadata": {
    "collapsed": false
   },
   "id": "9a324fc452bc8197"
  },
  {
   "cell_type": "markdown",
   "source": [
    "It could use the OpenAI SDK, LangChain, or anything really. But it looks something like this:"
   ],
   "metadata": {
    "collapsed": false
   },
   "id": "de5f4afdde31cbd3"
  },
  {
   "cell_type": "code",
   "execution_count": 11,
   "id": "c49d5afd7ed94163",
   "metadata": {
    "ExecuteTime": {
     "end_time": "2024-07-10T00:43:15.640023Z",
     "start_time": "2024-07-10T00:43:15.612056Z"
    }
   },
   "outputs": [],
   "source": [
    "import json\n",
    "from langsmith import traceable\n",
    "from langsmith.schemas import Run, Example\n",
    "from langchain_core.output_parsers import StrOutputParser\n",
    "from langchain_core.prompts import ChatPromptTemplate\n",
    "from langchain_openai import ChatOpenAI\n",
    "\n",
    "@traceable\n",
    "def solver(inputs):\n",
    "    messages = [\n",
    "        (\"system\", \"\"\"You are an expert math solver. Solve the given problem using the provided plan and operations.\n",
    "        Return only the final numerical answer, without any additional text or explanation.\"\"\"),\n",
    "        (\"user\", \"Question: {question}\"),\n",
    "        (\"user\", \"Plan: {plan}\"),\n",
    "        (\"user\", \"Mathematical Operation: {operation}\"),\n",
    "        (\"user\", \"Provide the final numerical answer:\")\n",
    "    ]\n",
    "\n",
    "    chain = ChatPromptTemplate.from_messages(messages) | ChatOpenAI(model=\"gpt-3.5-turbo\") | StrOutputParser()\n",
    "\n",
    "    plan = planner_chain(inputs)\n",
    "    operation = operation_finder({\"plan\": plan[\"plan\"], \"question\": inputs[\"question\"]})\n",
    "    \n",
    "    inputs_to_answer = {\n",
    "        \"question\": inputs[\"question\"],\n",
    "        \"plan\": plan[\"plan\"],\n",
    "        \"operation\": operation[\"operation\"],\n",
    "    }\n",
    "    answer = chain.invoke(inputs_to_answer)\n",
    "    return {\"answer\": answer}\n",
    "\n",
    "@traceable\n",
    "def planner_chain(inputs):\n",
    "    messages = [\n",
    "        (\"system\", \"\"\"You are an expert math solver. Create a step-by-step plan to solve the given problem.\n",
    "        Be clear and concise in your steps.\"\"\"),\n",
    "        (\"user\", \"Problem: {question}\\n\\nProvide a step-by-step plan to solve this problem:\")\n",
    "    ]\n",
    "\n",
    "    chain = ChatPromptTemplate.from_messages(messages) | ChatOpenAI(model=\"gpt-3.5-turbo\") | StrOutputParser()\n",
    "    plan = chain.invoke(inputs)\n",
    "    return {\"plan\": plan}\n",
    "\n",
    "@traceable\n",
    "def operation_finder(inputs):\n",
    "    messages = [\n",
    "        (\"system\", \"\"\"You are an expert math solver. Identify the overall mathematical operation needed to solve the problem \n",
    "        based on the given plan. Use simple operations like addition, subtraction, multiplication, and division.\"\"\"),\n",
    "        (\"user\", \"Question: {question}\"),\n",
    "        (\"user\", \"Plan: {plan}\"),\n",
    "        (\"user\", \"Identify the primary mathematical operation needed:\")\n",
    "    ]\n",
    "\n",
    "    chain = ChatPromptTemplate.from_messages(messages) | ChatOpenAI(model=\"gpt-3.5-turbo\") | StrOutputParser()\n",
    "    operation = chain.invoke(inputs)\n",
    "    return {\"operation\": operation}"
   ]
  },
  {
   "cell_type": "markdown",
   "source": [
    "## And let's say you have an eval function like this"
   ],
   "metadata": {
    "collapsed": false
   },
   "id": "9509dc99a65652c6"
  },
  {
   "cell_type": "code",
   "outputs": [],
   "source": [
    "def score_answer(run: Run, example: Example):\n",
    "    output = run.outputs[\"answer\"].split(\"#### \")[-1]\n",
    "    target = example.outputs[\"answer\"].split(\"#### \")[-1]\n",
    "    return {\n",
    "        \"key\": \"correctness\",\n",
    "        \"score\": int(output == target),\n",
    "    }"
   ],
   "metadata": {
    "collapsed": false,
    "ExecuteTime": {
     "end_time": "2024-07-10T00:43:16.153239Z",
     "start_time": "2024-07-10T00:43:16.149241Z"
    }
   },
   "id": "309b233df7ba4912",
   "execution_count": 12
  },
  {
   "cell_type": "markdown",
   "source": [
    "## Then you're probably evaluating like this"
   ],
   "metadata": {
    "collapsed": false
   },
   "id": "532947c7de246b4f"
  },
  {
   "cell_type": "code",
   "execution_count": 13,
   "id": "269ce9c328f8e5e6",
   "metadata": {
    "ExecuteTime": {
     "end_time": "2024-07-10T00:43:22.281623Z",
     "start_time": "2024-07-10T00:43:16.647822Z"
    }
   },
   "outputs": [
    {
     "name": "stdout",
     "output_type": "stream",
     "text": [
      "View the evaluation results for experiment: 'proper-pain-78' at:\n",
      "https://smith.langchain.com/o/05b1b207-85a0-5cf8-81b0-ed015fce6e1e/datasets/2e9517c2-10a2-421d-be30-d55f9d83ce1e/compare?selectedSessions=5cc32459-96bf-4508-a1e3-7c6314e6b218\n"
     ]
    },
    {
     "data": {
      "text/plain": "0it [00:00, ?it/s]",
      "application/vnd.jupyter.widget-view+json": {
       "version_major": 2,
       "version_minor": 0,
       "model_id": "b0aca392a4cf40f6a64eecd5208c27cd"
      }
     },
     "metadata": {},
     "output_type": "display_data"
    },
    {
     "data": {
      "text/plain": "<ExperimentResults proper-pain-78>"
     },
     "execution_count": 13,
     "metadata": {},
     "output_type": "execute_result"
    }
   ],
   "source": [
    "# Evaluate using LangSmith\n",
    "from langsmith import Client, evaluate\n",
    "\n",
    "langsmith = Client()\n",
    "evalset = list(langsmith.list_examples(dataset_name=\"GSM8K_test_set_langsmith_dataset_2j24kEFx8T718mqwRblcoNK3S0L\"))\n",
    "\n",
    "evaluate_kwargs = dict(\n",
    "    data=evalset,\n",
    "    evaluators=[score_answer],\n",
    "    client=langsmith,\n",
    "    max_concurrency=2,\n",
    ")\n",
    "\n",
    "evaluate(solver, **evaluate_kwargs)"
   ]
  },
  {
   "cell_type": "markdown",
   "source": [
    " # Now, how can we optimize this score?"
   ],
   "metadata": {
    "collapsed": false
   },
   "id": "463a61739518337f"
  },
  {
   "cell_type": "markdown",
   "source": [
    "## First, initialize the Zenbase ZenbaseTracer"
   ],
   "metadata": {
    "collapsed": false
   },
   "id": "627f4479a42d3c9c"
  },
  {
   "cell_type": "code",
   "outputs": [],
   "source": [
    "from zenbase.core.managers import ZenbaseTracer\n",
    "zenbase_tracer = ZenbaseTracer()\n"
   ],
   "metadata": {
    "collapsed": false,
    "ExecuteTime": {
     "end_time": "2024-07-10T01:00:35.566501Z",
     "start_time": "2024-07-10T01:00:35.563437Z"
    }
   },
   "id": "e7edd4903633743a",
   "execution_count": 20
  },
  {
   "cell_type": "markdown",
   "source": [
    "## Hook up Zenbase to your functions\n",
    "\n",
    "1. Use the `zenbase_tracer` decorator.\n",
    "2. Change function inputs to request\n",
    "3. Use request's `zenbase.task_demos` to get the few-shot examples for the task and add them however you would like into your prompt.\n",
    "4. If you need to use just a few examples, you can use `request.zenbase.task_demos[:2]` to get the first two examples."
   ],
   "metadata": {
    "collapsed": false
   },
   "id": "dd9ca6b5c562771f"
  },
  {
   "cell_type": "code",
   "execution_count": 21,
   "id": "9592f3913f694364",
   "metadata": {
    "ExecuteTime": {
     "end_time": "2024-07-10T01:00:35.978533Z",
     "start_time": "2024-07-10T01:00:35.966459Z"
    }
   },
   "outputs": [],
   "source": [
    "from zenbase.types import LMRequest\n",
    "\n",
    "\n",
    "@zenbase_tracer  # it is 1\n",
    "@traceable\n",
    "def solver(request: LMRequest):  # it is 2\n",
    "    messages = [\n",
    "        (\"system\", \"\"\"You are an expert math solver. Solve the given problem using the provided plan and operations.\n",
    "        Return only the final numerical answer, without any additional text or explanation.\"\"\"),\n",
    "    ]\n",
    "\n",
    "    for demo in request.zenbase.task_demos: # it is 3\n",
    "        messages += [\n",
    "            (\"user\", f'Example Question: {demo.inputs[\"question\"]}'),\n",
    "            (\"assistant\", f'Example Answer: {demo.outputs[\"answer\"]}'),\n",
    "        ] # it is 4\n",
    "    \n",
    "    messages.extend([\n",
    "        (\"user\", \"Question: {question}\"),\n",
    "        (\"user\", \"Plan: {plan}\"),\n",
    "        (\"user\", \"Mathematical Operation: {operation}\"),\n",
    "        (\"user\", \"Provide the final numerical answer:\")\n",
    "    ])\n",
    "\n",
    "    chain = ChatPromptTemplate.from_messages(messages) | ChatOpenAI(model=\"gpt-3.5-turbo\") | StrOutputParser()\n",
    "\n",
    "    plan = planner_chain(request.inputs)\n",
    "    operation = operation_finder({\"plan\": plan[\"plan\"], \"question\": request.inputs[\"question\"]})\n",
    "\n",
    "    inputs_to_answer = {\n",
    "        \"question\": request.inputs[\"question\"],\n",
    "        \"plan\": plan[\"plan\"],\n",
    "        \"operation\": operation[\"operation\"],\n",
    "    }\n",
    "    answer = chain.invoke(inputs_to_answer)\n",
    "    return {\"answer\": answer}\n",
    "\n",
    "\n",
    "@zenbase_tracer  # it is 1\n",
    "@traceable\n",
    "def planner_chain(request: LMRequest):  # it is 2\n",
    "    messages = [\n",
    "        (\"system\", \"\"\"You are an expert math solver. Create a step-by-step plan to solve the given problem.\n",
    "        Be clear and concise in your steps.\"\"\"),\n",
    "        (\"user\", \"Problem: {question}\\n\\nProvide a step-by-step plan to solve this problem:\")\n",
    "    ]\n",
    "\n",
    "    if request.zenbase.task_demos:  # it is 3\n",
    "        for demo in request.zenbase.task_demos[:2]:  # it is 4\n",
    "            messages += [\n",
    "                (\"user\", demo.inputs[\"question\"]),\n",
    "                (\"assistant\", demo.outputs[\"plan\"]),\n",
    "            ]\n",
    "\n",
    "    chain = ChatPromptTemplate.from_messages(messages) | ChatOpenAI(model=\"gpt-3.5-turbo\") | StrOutputParser()\n",
    "    plan = chain.invoke(request.inputs)\n",
    "    return {\"plan\": plan}\n",
    "\n",
    "\n",
    "@zenbase_tracer  # it is 1\n",
    "@traceable\n",
    "def operation_finder(request: LMRequest):  # it is 2\n",
    "    messages = [\n",
    "        (\"system\", \"\"\"You are an expert math solver. Identify the overall mathematical operation needed to solve the problem \n",
    "        based on the given plan. Use simple operations like addition, subtraction, multiplication, and division.\"\"\"),\n",
    "        (\"user\", \"Question: {question}\"),\n",
    "        (\"user\", \"Plan: {plan}\"),\n",
    "        (\"user\", \"Identify the primary mathematical operation needed:\")\n",
    "    ]\n",
    "\n",
    "    if request.zenbase.task_demos:  # it is 3 \n",
    "        for demo in request.zenbase.task_demos[:2]:  # it is 4\n",
    "            messages += [\n",
    "                (\"user\", demo.inputs[\"question\"]),\n",
    "                (\"user\", demo.inputs[\"plan\"]),\n",
    "                (\"assistant\", demo.outputs[\"operation\"]),\n",
    "            ]\n",
    "\n",
    "    chain = ChatPromptTemplate.from_messages(messages) | ChatOpenAI(model=\"gpt-3.5-turbo\") | StrOutputParser()\n",
    "    operation = chain.invoke(request.inputs)\n",
    "    return {\"operation\": operation}"
   ]
  },
  {
   "cell_type": "markdown",
   "source": [
    "## Now we can optimize!"
   ],
   "metadata": {
    "collapsed": false
   },
   "id": "6be90130ae43e7e6"
  },
  {
   "cell_type": "markdown",
   "source": [
    "### Set up your optimizer:"
   ],
   "metadata": {
    "collapsed": false
   },
   "id": "be3d4c7df5d5fe5e"
  },
  {
   "cell_type": "code",
   "outputs": [],
   "source": [
    "from zenbase.adaptors.langchain import ZenLangSmith\n",
    "from zenbase.optim.metric.bootstrap_few_shot import BootstrapFewShot\n",
    "\n",
    "# Define your Langsmith and helper\n",
    "langsmith = Client()\n",
    "zen_langsmith_adaptor = ZenLangSmith(client=langsmith)\n",
    "\n",
    "TRAIN_SET = \"GSM8K_train_set_langsmith_dataset_2j24jtX6pr5OFyi9IRlj2Pk29NX\"\n",
    "TEST_SET = \"GSM8K_test_set_langsmith_dataset_2j24kEFx8T718mqwRblcoNK3S0L\"\n",
    "VALIDATION_SET = \"GSM8K_validation_set_langsmith_dataset_2j24kCxc6WhYDe27hEcnhUEHPmE\"\n",
    "SHOTS = 2\n",
    "SAMPLES = 2\n",
    "\n",
    "train_set = zen_langsmith_adaptor.fetch_dataset(dataset_name=TRAIN_SET)\n",
    "test_set = zen_langsmith_adaptor.fetch_dataset(dataset_name=TEST_SET)\n",
    "validation_set = zen_langsmith_adaptor.fetch_dataset(dataset_name=VALIDATION_SET)\n",
    "\n",
    "evaluator_kwargs = dict(\n",
    "    evaluators=[score_answer],\n",
    "    client=langsmith,\n",
    "    max_concurrency=1,\n",
    ")\n",
    "\n",
    "bootstrap_few_shot = BootstrapFewShot(\n",
    "    shots=SHOTS,\n",
    "    training_set=train_set,\n",
    "    test_set=test_set,\n",
    "    validation_set=validation_set,\n",
    "    evaluator_kwargs=evaluator_kwargs,\n",
    "    zen_adaptor=zen_langsmith_adaptor,\n",
    ")\n",
    "\n",
    "\n"
   ],
   "metadata": {
    "collapsed": false,
    "ExecuteTime": {
     "end_time": "2024-07-10T01:02:21.153397Z",
     "start_time": "2024-07-10T01:02:19.819986Z"
    }
   },
   "id": "9c7008ff5c73da1c",
   "execution_count": 22
  },
  {
   "cell_type": "markdown",
   "source": [
    "### Do the optimization"
   ],
   "metadata": {
    "collapsed": false
   },
   "id": "aa5e591a161f3318"
  },
  {
   "cell_type": "code",
   "outputs": [
    {
     "name": "stdout",
     "output_type": "stream",
     "text": [
      "View the evaluation results for experiment: 'zenbase-cross-group-eco-centric-696109d5' at:\n",
      "https://smith.langchain.com/o/05b1b207-85a0-5cf8-81b0-ed015fce6e1e/datasets/2e9517c2-10a2-421d-be30-d55f9d83ce1e/compare?selectedSessions=fe2556bb-b692-49e8-977e-c5d7caf62e02\n"
     ]
    },
    {
     "data": {
      "text/plain": "0it [00:00, ?it/s]",
      "application/vnd.jupyter.widget-view+json": {
       "version_major": 2,
       "version_minor": 0,
       "model_id": "0290265c02b14dc4aa9aa37bc88bcad4"
      }
     },
     "metadata": {},
     "output_type": "display_data"
    },
    {
     "name": "stdout",
     "output_type": "stream",
     "text": [
      "View the evaluation results for experiment: 'zenbase-progressive-grid-enabled-41553c50' at:\n",
      "https://smith.langchain.com/o/05b1b207-85a0-5cf8-81b0-ed015fce6e1e/datasets/f4949b35-e36c-49b8-9e07-35d4779eb5f7/compare?selectedSessions=40892a37-83d4-48fd-822c-8e39b6e5ace2\n"
     ]
    },
    {
     "data": {
      "text/plain": "0it [00:00, ?it/s]",
      "application/vnd.jupyter.widget-view+json": {
       "version_major": 2,
       "version_minor": 0,
       "model_id": "b610045230c34b31a45820e5456fcae5"
      }
     },
     "metadata": {},
     "output_type": "display_data"
    },
    {
     "name": "stdout",
     "output_type": "stream",
     "text": [
      "View the evaluation results for experiment: 'zenbase-extended-fresh-thinking-7910468b' at:\n",
      "https://smith.langchain.com/o/05b1b207-85a0-5cf8-81b0-ed015fce6e1e/datasets/f4949b35-e36c-49b8-9e07-35d4779eb5f7/compare?selectedSessions=80fea70e-7e7b-4a40-ab82-509773a7b884\n"
     ]
    },
    {
     "data": {
      "text/plain": "0it [00:00, ?it/s]",
      "application/vnd.jupyter.widget-view+json": {
       "version_major": 2,
       "version_minor": 0,
       "model_id": "37da3ffcec3e473e8d480e4a5ff4dd9f"
      }
     },
     "metadata": {},
     "output_type": "display_data"
    },
    {
     "name": "stdout",
     "output_type": "stream",
     "text": [
      "View the evaluation results for experiment: 'zenbase-ameliorated-analyzing-b4eba06e' at:\n",
      "https://smith.langchain.com/o/05b1b207-85a0-5cf8-81b0-ed015fce6e1e/datasets/c608cbe2-12f7-4953-8a6b-8810884c6042/compare?selectedSessions=ddd0e089-7c47-4c46-baf7-b72f4e91a87a\n"
     ]
    },
    {
     "data": {
      "text/plain": "0it [00:00, ?it/s]",
      "application/vnd.jupyter.widget-view+json": {
       "version_major": 2,
       "version_minor": 0,
       "model_id": "935cae04475f4a2d9ca42ac61fc80f66"
      }
     },
     "metadata": {},
     "output_type": "display_data"
    },
    {
     "name": "stdout",
     "output_type": "stream",
     "text": [
      "View the evaluation results for experiment: 'zenbase-switchable-6thgeneration-9cc158ce' at:\n",
      "https://smith.langchain.com/o/05b1b207-85a0-5cf8-81b0-ed015fce6e1e/datasets/2e9517c2-10a2-421d-be30-d55f9d83ce1e/compare?selectedSessions=f70854f6-9490-42b7-b18f-b8ee46c089da\n"
     ]
    },
    {
     "data": {
      "text/plain": "0it [00:00, ?it/s]",
      "application/vnd.jupyter.widget-view+json": {
       "version_major": 2,
       "version_minor": 0,
       "model_id": "068aa52430fa4dd5a1cea09b4fa230db"
      }
     },
     "metadata": {},
     "output_type": "display_data"
    }
   ],
   "source": [
    "best_fn, candidates = bootstrap_few_shot.perform(\n",
    "    solver,\n",
    "    samples=SAMPLES,\n",
    "    rounds=1,\n",
    "    trace_manager=zenbase_tracer,\n",
    ")"
   ],
   "metadata": {
    "collapsed": false,
    "ExecuteTime": {
     "end_time": "2024-07-10T01:03:48.161695Z",
     "start_time": "2024-07-10T01:02:24.156860Z"
    }
   },
   "id": "8ce98837b3cd1f20",
   "execution_count": 23
  },
  {
   "cell_type": "markdown",
   "source": [
    "### Introspect evaluation improvement\n",
    "\n",
    "You can see in this example that the best function has improved the evaluation score by 50%."
   ],
   "metadata": {
    "collapsed": false
   },
   "id": "bc72f474aeafcdc1"
  },
  {
   "cell_type": "code",
   "outputs": [
    {
     "name": "stdout",
     "output_type": "stream",
     "text": [
      "{'score': 0.5}\n"
     ]
    }
   ],
   "source": [
    "bootstrap_few_shot.base_evaluation.evals"
   ],
   "metadata": {
    "collapsed": false,
    "ExecuteTime": {
     "end_time": "2024-07-10T01:05:37.787649Z",
     "start_time": "2024-07-10T01:05:37.783892Z"
    }
   },
   "id": "106ee1d1be4088a3",
   "execution_count": 29
  },
  {
   "cell_type": "code",
   "outputs": [
    {
     "name": "stdout",
     "output_type": "stream",
     "text": [
      "{'score': 1.0}\n"
     ]
    }
   ],
   "source": [
    "bootstrap_few_shot.best_evaluation.evals"
   ],
   "metadata": {
    "collapsed": false,
    "ExecuteTime": {
     "end_time": "2024-07-10T01:05:50.517990Z",
     "start_time": "2024-07-10T01:05:50.513714Z"
    }
   },
   "id": "148eba8ce5614f76",
   "execution_count": 31
  },
  {
   "cell_type": "markdown",
   "source": [
    "### Use your optimized function"
   ],
   "metadata": {
    "collapsed": false
   },
   "id": "42ead38d1179c979"
  },
  {
   "cell_type": "code",
   "outputs": [],
   "source": [
    "zenbase_tracer.all_traces = {}"
   ],
   "metadata": {
    "collapsed": false
   },
   "id": "f3128cd993847a92"
  },
  {
   "cell_type": "code",
   "outputs": [
    {
     "name": "stdout",
     "output_type": "stream",
     "text": [
      "4,550,000\n"
     ]
    }
   ],
   "source": [
    "# Now you can use your zenbase fn\n",
    "best_fn({\"question\": \"If I have 30% of shares, and Mo has 24.5% of shares, how many of our 10M shares are unassigned?\"})"
   ],
   "metadata": {
    "collapsed": false,
    "ExecuteTime": {
     "end_time": "2024-07-10T02:11:04.856649Z",
     "start_time": "2024-07-10T02:11:00.292006Z"
    }
   },
   "id": "673698a3ac4d9706",
   "execution_count": 44
  },
  {
   "cell_type": "markdown",
   "source": [
    "### Introspect function traces"
   ],
   "metadata": {
    "collapsed": false
   },
   "id": "fbad50bcd672f3fe"
  },
  {
   "cell_type": "code",
   "outputs": [],
   "source": [
    "function_traces = [v for k, v in zenbase_tracer.all_traces.items()][0][\"optimized\"]"
   ],
   "metadata": {
    "collapsed": false,
    "ExecuteTime": {
     "end_time": "2024-07-10T01:09:08.332978Z",
     "start_time": "2024-07-10T01:09:08.327752Z"
    }
   },
   "id": "3a89e03362a776bc",
   "execution_count": 38
  },
  {
   "cell_type": "markdown",
   "source": [
    "### Check the optimized parameters for solver\n"
   ],
   "metadata": {
    "collapsed": false
   },
   "id": "3e190e5e7bb623be"
  },
  {
   "cell_type": "code",
   "execution_count": 39,
   "id": "280bbbc5",
   "metadata": {
    "ExecuteTime": {
     "end_time": "2024-07-10T01:09:10.138876Z",
     "start_time": "2024-07-10T01:09:10.129219Z"
    }
   },
   "outputs": [
    {
     "name": "stdout",
     "output_type": "stream",
     "text": [
      "[LMDemo(inputs={'question': 'Natalia sold clips to 48 of her friends in April, '\n",
      "                            'and then she sold half as many clips in May. How '\n",
      "                            'many clips did Natalia sell altogether in April '\n",
      "                            'and May?'},\n",
      "        outputs={'answer': '72'},\n",
      "        adaptor_object=None),\n",
      " LMDemo(inputs={'question': 'Betty is saving money for a new wallet which '\n",
      "                            'costs $100. Betty has only half of the money she '\n",
      "                            'needs. Her parents decided to give her $15 for '\n",
      "                            'that purpose, and her grandparents twice as much '\n",
      "                            'as her parents. How much more money does Betty '\n",
      "                            'need to buy the wallet?'},\n",
      "        outputs={'answer': '5'},\n",
      "        adaptor_object=None),\n",
      " LMDemo(inputs={'question': 'Julie is reading a 120-page book. Yesterday, she '\n",
      "                            'was able to read 12 pages and today, she read '\n",
      "                            'twice as many pages as yesterday. If she wants to '\n",
      "                            'read half of the remaining pages tomorrow, how '\n",
      "                            'many pages should she read?'},\n",
      "        outputs={'answer': '42'},\n",
      "        adaptor_object=None),\n",
      " LMDemo(inputs={'question': 'James writes a 3-page letter to 2 different '\n",
      "                            'friends twice a week.  How many pages does he '\n",
      "                            'write a year?'},\n",
      "        outputs={'answer': '624'},\n",
      "        adaptor_object=None)]\n"
     ]
    }
   ],
   "source": [
    "from pprint import pprint\n",
    "\n",
    "pprint(function_traces[\"solver\"][\"args\"][\"request\"].zenbase.task_demos)\n"
   ]
  },
  {
   "cell_type": "markdown",
   "source": [
    "### Check the optimized parameters for operation_finder\n"
   ],
   "metadata": {
    "collapsed": false
   },
   "id": "dbebcd1af07c36c"
  },
  {
   "cell_type": "code",
   "outputs": [
    {
     "name": "stdout",
     "output_type": "stream",
     "text": [
      "[LMDemo(inputs={'plan': 'Step 1: Calculate how many clips Natalia sold in May '\n",
      "                        'by finding half of the clips she sold in April.\\n'\n",
      "                        'Number of clips sold in May = 48 / 2\\n'\n",
      "                        '\\n'\n",
      "                        'Step 2: Add the number of clips sold in April and May '\n",
      "                        'to find the total number of clips sold.\\n'\n",
      "                        'Total number of clips sold = Number of clips sold in '\n",
      "                        'April + Number of clips sold in May\\n'\n",
      "                        '\\n'\n",
      "                        'Step 3: Substitute the values found in step 1 into '\n",
      "                        'step 2 and calculate the total number of clips sold '\n",
      "                        'by Natalia in April and May.',\n",
      "                'question': 'Natalia sold clips to 48 of her friends in April, '\n",
      "                            'and then she sold half as many clips in May. How '\n",
      "                            'many clips did Natalia sell altogether in April '\n",
      "                            'and May?'},\n",
      "        outputs={'operation': 'The primary mathematical operation needed to '\n",
      "                              'solve this problem is addition.'},\n",
      "        adaptor_object=None),\n",
      " LMDemo(inputs={'plan': '1. Calculate how much money Betty has saved: $100 / 2 '\n",
      "                        '= $50\\n'\n",
      "                        \"2. Calculate how much money Betty's grandparents gave \"\n",
      "                        'her: $15 x 2 = $30\\n'\n",
      "                        \"3. Calculate Betty's total savings now: $50 (from her \"\n",
      "                        'savings) + $15 (from her parents) + $30 (from her '\n",
      "                        'grandparents) = $95\\n'\n",
      "                        '4. Calculate how much more money Betty needs to buy '\n",
      "                        'the wallet: $100 - $95 = $5\\n'\n",
      "                        '\\n'\n",
      "                        'Therefore, Betty needs $5 more to buy the wallet.',\n",
      "                'question': 'Betty is saving money for a new wallet which '\n",
      "                            'costs $100. Betty has only half of the money she '\n",
      "                            'needs. Her parents decided to give her $15 for '\n",
      "                            'that purpose, and her grandparents twice as much '\n",
      "                            'as her parents. How much more money does Betty '\n",
      "                            'need to buy the wallet?'},\n",
      "        outputs={'operation': 'The primary mathematical operation needed to '\n",
      "                              'solve this problem is subtraction.'},\n",
      "        adaptor_object=None),\n",
      " LMDemo(inputs={'plan': 'Step 1: Calculate how many pages Julie read today.\\n'\n",
      "                        'Today, Julie read twice as many pages as yesterday, '\n",
      "                        'which is 2 * 12 = 24 pages.\\n'\n",
      "                        '\\n'\n",
      "                        'Step 2: Calculate the total pages Julie has read so '\n",
      "                        'far.\\n'\n",
      "                        'Julie has read 12 pages yesterday + 24 pages today = '\n",
      "                        '36 pages.\\n'\n",
      "                        '\\n'\n",
      "                        'Step 3: Calculate how many pages are remaining to be '\n",
      "                        'read.\\n'\n",
      "                        'The total number of pages in the book is 120 pages, '\n",
      "                        'and Julie has read 36 pages, so the remaining pages '\n",
      "                        'are 120 - 36 = 84 pages.\\n'\n",
      "                        '\\n'\n",
      "                        'Step 4: Calculate how many pages Julie should read '\n",
      "                        'tomorrow.\\n'\n",
      "                        'Julie wants to read half of the remaining pages, '\n",
      "                        'which is 84 / 2 = 42 pages.\\n'\n",
      "                        '\\n'\n",
      "                        'Therefore, Julie should read 42 pages tomorrow to '\n",
      "                        'finish half of the remaining pages in the book.',\n",
      "                'question': 'Julie is reading a 120-page book. Yesterday, she '\n",
      "                            'was able to read 12 pages and today, she read '\n",
      "                            'twice as many pages as yesterday. If she wants to '\n",
      "                            'read half of the remaining pages tomorrow, how '\n",
      "                            'many pages should she read?'},\n",
      "        outputs={'operation': 'Subtraction and division are the primary '\n",
      "                              'mathematical operations needed to solve the '\n",
      "                              'problem.'},\n",
      "        adaptor_object=None),\n",
      " LMDemo(inputs={'plan': 'Step 1: Calculate how many pages James writes to one '\n",
      "                        'friend in a week: 3 pages/letter * 2 letters/week = 6 '\n",
      "                        'pages/week.\\n'\n",
      "                        '\\n'\n",
      "                        'Step 2: Calculate how many pages James writes to both '\n",
      "                        'friends in a week: 6 pages/friend/week * 2 friends = '\n",
      "                        '12 pages/week.\\n'\n",
      "                        '\\n'\n",
      "                        'Step 3: Calculate how many pages James writes in a '\n",
      "                        'year: 12 pages/week * 52 weeks/year = 624 '\n",
      "                        'pages/year.\\n'\n",
      "                        '\\n'\n",
      "                        'Step 4: James writes 624 pages in a year.',\n",
      "                'question': 'James writes a 3-page letter to 2 different '\n",
      "                            'friends twice a week.  How many pages does he '\n",
      "                            'write a year?'},\n",
      "        outputs={'operation': 'Multiplication.'},\n",
      "        adaptor_object=None)]\n"
     ]
    }
   ],
   "source": [
    "from pprint import pprint\n",
    "\n",
    "pprint(function_traces[\"operation_finder\"][\"args\"][\"request\"].zenbase.task_demos)"
   ],
   "metadata": {
    "collapsed": false,
    "ExecuteTime": {
     "end_time": "2024-07-10T01:07:29.399717Z",
     "start_time": "2024-07-10T01:07:29.389895Z"
    }
   },
   "id": "fc02d3eb7132f76d",
   "execution_count": 37
  },
  {
   "cell_type": "markdown",
   "source": [
    "### Check the optimized parameters for planner_chain\n"
   ],
   "metadata": {
    "collapsed": false
   },
   "id": "e64c9d27f8cf4fe8"
  },
  {
   "cell_type": "code",
   "outputs": [
    {
     "name": "stdout",
     "output_type": "stream",
     "text": [
      "[LMDemo(inputs={'question': 'Natalia sold clips to 48 of her friends in April, '\n",
      "                            'and then she sold half as many clips in May. How '\n",
      "                            'many clips did Natalia sell altogether in April '\n",
      "                            'and May?'},\n",
      "        outputs={'plan': 'Step 1: Calculate how many clips Natalia sold in May '\n",
      "                         'by finding half of the clips she sold in April.\\n'\n",
      "                         'Number of clips sold in May = 48 / 2\\n'\n",
      "                         '\\n'\n",
      "                         'Step 2: Add the number of clips sold in April and '\n",
      "                         'May to find the total number of clips sold.\\n'\n",
      "                         'Total number of clips sold = Number of clips sold in '\n",
      "                         'April + Number of clips sold in May\\n'\n",
      "                         '\\n'\n",
      "                         'Step 3: Substitute the values found in step 1 into '\n",
      "                         'step 2 and calculate the total number of clips sold '\n",
      "                         'by Natalia in April and May.'},\n",
      "        adaptor_object=None),\n",
      " LMDemo(inputs={'question': 'Betty is saving money for a new wallet which '\n",
      "                            'costs $100. Betty has only half of the money she '\n",
      "                            'needs. Her parents decided to give her $15 for '\n",
      "                            'that purpose, and her grandparents twice as much '\n",
      "                            'as her parents. How much more money does Betty '\n",
      "                            'need to buy the wallet?'},\n",
      "        outputs={'plan': '1. Calculate how much money Betty has saved: $100 / '\n",
      "                         '2 = $50\\n'\n",
      "                         \"2. Calculate how much money Betty's grandparents \"\n",
      "                         'gave her: $15 x 2 = $30\\n'\n",
      "                         \"3. Calculate Betty's total savings now: $50 (from \"\n",
      "                         'her savings) + $15 (from her parents) + $30 (from '\n",
      "                         'her grandparents) = $95\\n'\n",
      "                         '4. Calculate how much more money Betty needs to buy '\n",
      "                         'the wallet: $100 - $95 = $5\\n'\n",
      "                         '\\n'\n",
      "                         'Therefore, Betty needs $5 more to buy the wallet.'},\n",
      "        adaptor_object=None),\n",
      " LMDemo(inputs={'question': 'Julie is reading a 120-page book. Yesterday, she '\n",
      "                            'was able to read 12 pages and today, she read '\n",
      "                            'twice as many pages as yesterday. If she wants to '\n",
      "                            'read half of the remaining pages tomorrow, how '\n",
      "                            'many pages should she read?'},\n",
      "        outputs={'plan': 'Step 1: Calculate how many pages Julie read today.\\n'\n",
      "                         'Today, Julie read twice as many pages as yesterday, '\n",
      "                         'which is 2 * 12 = 24 pages.\\n'\n",
      "                         '\\n'\n",
      "                         'Step 2: Calculate the total pages Julie has read so '\n",
      "                         'far.\\n'\n",
      "                         'Julie has read 12 pages yesterday + 24 pages today = '\n",
      "                         '36 pages.\\n'\n",
      "                         '\\n'\n",
      "                         'Step 3: Calculate how many pages are remaining to be '\n",
      "                         'read.\\n'\n",
      "                         'The total number of pages in the book is 120 pages, '\n",
      "                         'and Julie has read 36 pages, so the remaining pages '\n",
      "                         'are 120 - 36 = 84 pages.\\n'\n",
      "                         '\\n'\n",
      "                         'Step 4: Calculate how many pages Julie should read '\n",
      "                         'tomorrow.\\n'\n",
      "                         'Julie wants to read half of the remaining pages, '\n",
      "                         'which is 84 / 2 = 42 pages.\\n'\n",
      "                         '\\n'\n",
      "                         'Therefore, Julie should read 42 pages tomorrow to '\n",
      "                         'finish half of the remaining pages in the book.'},\n",
      "        adaptor_object=None),\n",
      " LMDemo(inputs={'question': 'James writes a 3-page letter to 2 different '\n",
      "                            'friends twice a week.  How many pages does he '\n",
      "                            'write a year?'},\n",
      "        outputs={'plan': 'Step 1: Calculate how many pages James writes to one '\n",
      "                         'friend in a week: 3 pages/letter * 2 letters/week = '\n",
      "                         '6 pages/week.\\n'\n",
      "                         '\\n'\n",
      "                         'Step 2: Calculate how many pages James writes to '\n",
      "                         'both friends in a week: 6 pages/friend/week * 2 '\n",
      "                         'friends = 12 pages/week.\\n'\n",
      "                         '\\n'\n",
      "                         'Step 3: Calculate how many pages James writes in a '\n",
      "                         'year: 12 pages/week * 52 weeks/year = 624 '\n",
      "                         'pages/year.\\n'\n",
      "                         '\\n'\n",
      "                         'Step 4: James writes 624 pages in a year.'},\n",
      "        adaptor_object=None)]\n"
     ]
    }
   ],
   "source": [
    "from pprint import pprint\n",
    "\n",
    "pprint(function_traces[\"planner_chain\"][\"args\"][\"request\"].zenbase.task_demos)"
   ],
   "metadata": {
    "collapsed": false,
    "ExecuteTime": {
     "end_time": "2024-07-10T01:09:52.003661Z",
     "start_time": "2024-07-10T01:09:51.995341Z"
    }
   },
   "id": "5ac8df87e61c41d0",
   "execution_count": 40
  },
  {
   "cell_type": "markdown",
   "source": [
    "## How to save the function and load it later"
   ],
   "metadata": {
    "collapsed": false
   },
   "id": "6882afc26f54b354"
  },
  {
   "cell_type": "markdown",
   "source": [
    "### Save the optimized function args to a file"
   ],
   "metadata": {
    "collapsed": false
   },
   "id": "9f38fd21f76b3cbb"
  },
  {
   "cell_type": "code",
   "outputs": [],
   "source": [
    "bootstrap_few_shot.save_optimizer_args(\"bootstrap_few_shot_args.zenbase\")"
   ],
   "metadata": {
    "collapsed": false,
    "ExecuteTime": {
     "end_time": "2024-07-10T01:10:50.608156Z",
     "start_time": "2024-07-10T01:10:50.600109Z"
    }
   },
   "id": "ee823dd2db26e925",
   "execution_count": 41
  },
  {
   "cell_type": "markdown",
   "source": [
    "### Load the optimized function args with the function"
   ],
   "metadata": {
    "collapsed": false
   },
   "id": "ec286af05ba833d8"
  },
  {
   "cell_type": "code",
   "execution_count": 42,
   "id": "622d32eb538487a4",
   "metadata": {
    "ExecuteTime": {
     "end_time": "2024-07-10T01:10:53.130434Z",
     "start_time": "2024-07-10T01:10:53.121081Z"
    }
   },
   "outputs": [],
   "source": [
    "optimized_function = bootstrap_few_shot.load_optimizer_and_function(\"bootstrap_few_shot_args.zenbase\", solver, zenbase_tracer)"
   ]
  },
  {
   "cell_type": "markdown",
   "source": [
    "### Use the loaded function and make sure it loaded the demos."
   ],
   "metadata": {
    "collapsed": false
   },
   "id": "fa5be6fa9f6d11f4"
  },
  {
   "cell_type": "code",
   "execution_count": 43,
   "id": "62d795c9",
   "metadata": {
    "ExecuteTime": {
     "end_time": "2024-07-10T01:11:27.121666Z",
     "start_time": "2024-07-10T01:11:22.770196Z"
    }
   },
   "outputs": [
    {
     "name": "stdout",
     "output_type": "stream",
     "text": [
      "[LMDemo(inputs={'question': 'Natalia sold clips to 48 of her friends in April, '\n",
      "                            'and then she sold half as many clips in May. How '\n",
      "                            'many clips did Natalia sell altogether in April '\n",
      "                            'and May?'},\n",
      "        outputs={'answer': '72'},\n",
      "        adaptor_object=None),\n",
      " LMDemo(inputs={'question': 'Betty is saving money for a new wallet which '\n",
      "                            'costs $100. Betty has only half of the money she '\n",
      "                            'needs. Her parents decided to give her $15 for '\n",
      "                            'that purpose, and her grandparents twice as much '\n",
      "                            'as her parents. How much more money does Betty '\n",
      "                            'need to buy the wallet?'},\n",
      "        outputs={'answer': '5'},\n",
      "        adaptor_object=None),\n",
      " LMDemo(inputs={'question': 'Julie is reading a 120-page book. Yesterday, she '\n",
      "                            'was able to read 12 pages and today, she read '\n",
      "                            'twice as many pages as yesterday. If she wants to '\n",
      "                            'read half of the remaining pages tomorrow, how '\n",
      "                            'many pages should she read?'},\n",
      "        outputs={'answer': '42'},\n",
      "        adaptor_object=None),\n",
      " LMDemo(inputs={'question': 'James writes a 3-page letter to 2 different '\n",
      "                            'friends twice a week.  How many pages does he '\n",
      "                            'write a year?'},\n",
      "        outputs={'answer': '624'},\n",
      "        adaptor_object=None)]\n",
      "[LMDemo(inputs={'question': 'Natalia sold clips to 48 of her friends in April, '\n",
      "                            'and then she sold half as many clips in May. How '\n",
      "                            'many clips did Natalia sell altogether in April '\n",
      "                            'and May?'},\n",
      "        outputs={'plan': 'Step 1: Calculate how many clips Natalia sold in May '\n",
      "                         'by finding half of the clips she sold in April.\\n'\n",
      "                         'Number of clips sold in May = 48 / 2\\n'\n",
      "                         '\\n'\n",
      "                         'Step 2: Add the number of clips sold in April and '\n",
      "                         'May to find the total number of clips sold.\\n'\n",
      "                         'Total number of clips sold = Number of clips sold in '\n",
      "                         'April + Number of clips sold in May\\n'\n",
      "                         '\\n'\n",
      "                         'Step 3: Substitute the values found in step 1 into '\n",
      "                         'step 2 and calculate the total number of clips sold '\n",
      "                         'by Natalia in April and May.'},\n",
      "        adaptor_object=None),\n",
      " LMDemo(inputs={'question': 'Betty is saving money for a new wallet which '\n",
      "                            'costs $100. Betty has only half of the money she '\n",
      "                            'needs. Her parents decided to give her $15 for '\n",
      "                            'that purpose, and her grandparents twice as much '\n",
      "                            'as her parents. How much more money does Betty '\n",
      "                            'need to buy the wallet?'},\n",
      "        outputs={'plan': '1. Calculate how much money Betty has saved: $100 / '\n",
      "                         '2 = $50\\n'\n",
      "                         \"2. Calculate how much money Betty's grandparents \"\n",
      "                         'gave her: $15 x 2 = $30\\n'\n",
      "                         \"3. Calculate Betty's total savings now: $50 (from \"\n",
      "                         'her savings) + $15 (from her parents) + $30 (from '\n",
      "                         'her grandparents) = $95\\n'\n",
      "                         '4. Calculate how much more money Betty needs to buy '\n",
      "                         'the wallet: $100 - $95 = $5\\n'\n",
      "                         '\\n'\n",
      "                         'Therefore, Betty needs $5 more to buy the wallet.'},\n",
      "        adaptor_object=None),\n",
      " LMDemo(inputs={'question': 'Julie is reading a 120-page book. Yesterday, she '\n",
      "                            'was able to read 12 pages and today, she read '\n",
      "                            'twice as many pages as yesterday. If she wants to '\n",
      "                            'read half of the remaining pages tomorrow, how '\n",
      "                            'many pages should she read?'},\n",
      "        outputs={'plan': 'Step 1: Calculate how many pages Julie read today.\\n'\n",
      "                         'Today, Julie read twice as many pages as yesterday, '\n",
      "                         'which is 2 * 12 = 24 pages.\\n'\n",
      "                         '\\n'\n",
      "                         'Step 2: Calculate the total pages Julie has read so '\n",
      "                         'far.\\n'\n",
      "                         'Julie has read 12 pages yesterday + 24 pages today = '\n",
      "                         '36 pages.\\n'\n",
      "                         '\\n'\n",
      "                         'Step 3: Calculate how many pages are remaining to be '\n",
      "                         'read.\\n'\n",
      "                         'The total number of pages in the book is 120 pages, '\n",
      "                         'and Julie has read 36 pages, so the remaining pages '\n",
      "                         'are 120 - 36 = 84 pages.\\n'\n",
      "                         '\\n'\n",
      "                         'Step 4: Calculate how many pages Julie should read '\n",
      "                         'tomorrow.\\n'\n",
      "                         'Julie wants to read half of the remaining pages, '\n",
      "                         'which is 84 / 2 = 42 pages.\\n'\n",
      "                         '\\n'\n",
      "                         'Therefore, Julie should read 42 pages tomorrow to '\n",
      "                         'finish half of the remaining pages in the book.'},\n",
      "        adaptor_object=None),\n",
      " LMDemo(inputs={'question': 'James writes a 3-page letter to 2 different '\n",
      "                            'friends twice a week.  How many pages does he '\n",
      "                            'write a year?'},\n",
      "        outputs={'plan': 'Step 1: Calculate how many pages James writes to one '\n",
      "                         'friend in a week: 3 pages/letter * 2 letters/week = '\n",
      "                         '6 pages/week.\\n'\n",
      "                         '\\n'\n",
      "                         'Step 2: Calculate how many pages James writes to '\n",
      "                         'both friends in a week: 6 pages/friend/week * 2 '\n",
      "                         'friends = 12 pages/week.\\n'\n",
      "                         '\\n'\n",
      "                         'Step 3: Calculate how many pages James writes in a '\n",
      "                         'year: 12 pages/week * 52 weeks/year = 624 '\n",
      "                         'pages/year.\\n'\n",
      "                         '\\n'\n",
      "                         'Step 4: James writes 624 pages in a year.'},\n",
      "        adaptor_object=None)]\n",
      "[LMDemo(inputs={'plan': 'Step 1: Calculate how many clips Natalia sold in May '\n",
      "                        'by finding half of the clips she sold in April.\\n'\n",
      "                        'Number of clips sold in May = 48 / 2\\n'\n",
      "                        '\\n'\n",
      "                        'Step 2: Add the number of clips sold in April and May '\n",
      "                        'to find the total number of clips sold.\\n'\n",
      "                        'Total number of clips sold = Number of clips sold in '\n",
      "                        'April + Number of clips sold in May\\n'\n",
      "                        '\\n'\n",
      "                        'Step 3: Substitute the values found in step 1 into '\n",
      "                        'step 2 and calculate the total number of clips sold '\n",
      "                        'by Natalia in April and May.',\n",
      "                'question': 'Natalia sold clips to 48 of her friends in April, '\n",
      "                            'and then she sold half as many clips in May. How '\n",
      "                            'many clips did Natalia sell altogether in April '\n",
      "                            'and May?'},\n",
      "        outputs={'operation': 'The primary mathematical operation needed to '\n",
      "                              'solve this problem is addition.'},\n",
      "        adaptor_object=None),\n",
      " LMDemo(inputs={'plan': '1. Calculate how much money Betty has saved: $100 / 2 '\n",
      "                        '= $50\\n'\n",
      "                        \"2. Calculate how much money Betty's grandparents gave \"\n",
      "                        'her: $15 x 2 = $30\\n'\n",
      "                        \"3. Calculate Betty's total savings now: $50 (from her \"\n",
      "                        'savings) + $15 (from her parents) + $30 (from her '\n",
      "                        'grandparents) = $95\\n'\n",
      "                        '4. Calculate how much more money Betty needs to buy '\n",
      "                        'the wallet: $100 - $95 = $5\\n'\n",
      "                        '\\n'\n",
      "                        'Therefore, Betty needs $5 more to buy the wallet.',\n",
      "                'question': 'Betty is saving money for a new wallet which '\n",
      "                            'costs $100. Betty has only half of the money she '\n",
      "                            'needs. Her parents decided to give her $15 for '\n",
      "                            'that purpose, and her grandparents twice as much '\n",
      "                            'as her parents. How much more money does Betty '\n",
      "                            'need to buy the wallet?'},\n",
      "        outputs={'operation': 'The primary mathematical operation needed to '\n",
      "                              'solve this problem is subtraction.'},\n",
      "        adaptor_object=None),\n",
      " LMDemo(inputs={'plan': 'Step 1: Calculate how many pages Julie read today.\\n'\n",
      "                        'Today, Julie read twice as many pages as yesterday, '\n",
      "                        'which is 2 * 12 = 24 pages.\\n'\n",
      "                        '\\n'\n",
      "                        'Step 2: Calculate the total pages Julie has read so '\n",
      "                        'far.\\n'\n",
      "                        'Julie has read 12 pages yesterday + 24 pages today = '\n",
      "                        '36 pages.\\n'\n",
      "                        '\\n'\n",
      "                        'Step 3: Calculate how many pages are remaining to be '\n",
      "                        'read.\\n'\n",
      "                        'The total number of pages in the book is 120 pages, '\n",
      "                        'and Julie has read 36 pages, so the remaining pages '\n",
      "                        'are 120 - 36 = 84 pages.\\n'\n",
      "                        '\\n'\n",
      "                        'Step 4: Calculate how many pages Julie should read '\n",
      "                        'tomorrow.\\n'\n",
      "                        'Julie wants to read half of the remaining pages, '\n",
      "                        'which is 84 / 2 = 42 pages.\\n'\n",
      "                        '\\n'\n",
      "                        'Therefore, Julie should read 42 pages tomorrow to '\n",
      "                        'finish half of the remaining pages in the book.',\n",
      "                'question': 'Julie is reading a 120-page book. Yesterday, she '\n",
      "                            'was able to read 12 pages and today, she read '\n",
      "                            'twice as many pages as yesterday. If she wants to '\n",
      "                            'read half of the remaining pages tomorrow, how '\n",
      "                            'many pages should she read?'},\n",
      "        outputs={'operation': 'Subtraction and division are the primary '\n",
      "                              'mathematical operations needed to solve the '\n",
      "                              'problem.'},\n",
      "        adaptor_object=None),\n",
      " LMDemo(inputs={'plan': 'Step 1: Calculate how many pages James writes to one '\n",
      "                        'friend in a week: 3 pages/letter * 2 letters/week = 6 '\n",
      "                        'pages/week.\\n'\n",
      "                        '\\n'\n",
      "                        'Step 2: Calculate how many pages James writes to both '\n",
      "                        'friends in a week: 6 pages/friend/week * 2 friends = '\n",
      "                        '12 pages/week.\\n'\n",
      "                        '\\n'\n",
      "                        'Step 3: Calculate how many pages James writes in a '\n",
      "                        'year: 12 pages/week * 52 weeks/year = 624 '\n",
      "                        'pages/year.\\n'\n",
      "                        '\\n'\n",
      "                        'Step 4: James writes 624 pages in a year.',\n",
      "                'question': 'James writes a 3-page letter to 2 different '\n",
      "                            'friends twice a week.  How many pages does he '\n",
      "                            'write a year?'},\n",
      "        outputs={'operation': 'Multiplication.'},\n",
      "        adaptor_object=None)]\n"
     ]
    }
   ],
   "source": [
    "zenbase_tracer.all_traces = {}\n",
    "optimized_function({\"question\": \"If I have 30% of shares, and Mo has 24.5% of shares, how many of our 10M shares are unassigned?\"})\n",
    "function_traces = [v for k, v in zenbase_tracer.all_traces.items()][0][\"optimized\"]\n",
    "from pprint import pprint\n",
    "\n",
    "pprint(function_traces[\"solver\"][\"args\"][\"request\"].zenbase.task_demos)\n",
    "pprint(function_traces[\"planner_chain\"][\"args\"][\"request\"].zenbase.task_demos)\n",
    "pprint(function_traces[\"operation_finder\"][\"args\"][\"request\"].zenbase.task_demos)\n"
   ]
  }
 ],
 "metadata": {
  "kernelspec": {
   "display_name": "Python 3",
   "language": "python",
   "name": "python3"
  },
  "language_info": {
   "codemirror_mode": {
    "name": "ipython",
    "version": 3
   },
   "file_extension": ".py",
   "mimetype": "text/x-python",
   "name": "python",
   "nbconvert_exporter": "python",
   "pygments_lexer": "ipython3",
   "version": "3.10.13"
  }
 },
 "nbformat": 4,
 "nbformat_minor": 5
}
