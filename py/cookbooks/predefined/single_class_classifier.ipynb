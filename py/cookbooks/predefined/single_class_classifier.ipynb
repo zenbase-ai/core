{
 "cells": [
  {
   "cell_type": "markdown",
   "metadata": {},
   "source": [
    "# Single Class Classifier Tutorial\n",
    "\n",
    "## Introduction\n",
    "\n",
    "In this tutorial, we'll learn how to use the SingleClassClassifier from the zenbase library. This classifier is designed to categorize inputs into predefined classes using language models."
   ]
  },
  {
   "cell_type": "markdown",
   "source": [
    "### Import the Zenbase Library"
   ],
   "metadata": {
    "collapsed": false
   }
  },
  {
   "cell_type": "code",
   "outputs": [],
   "source": [
    "import sys\n",
    "import subprocess\n",
    "\n",
    "def install_package(package):\n",
    "    try:\n",
    "        subprocess.check_call([sys.executable, \"-m\", \"pip\", \"install\", package])\n",
    "    except subprocess.CalledProcessError as e:\n",
    "        print(f\"Failed to install {package}: {e}\")\n",
    "        raise\n",
    "\n",
    "def install_packages(packages):\n",
    "    for package in packages:\n",
    "        install_package(package)\n",
    "\n",
    "try:\n",
    "    # Check if running in Google Colab\n",
    "    import google.colab\n",
    "    IN_COLAB = True\n",
    "except ImportError:\n",
    "    IN_COLAB = False\n",
    "\n",
    "if IN_COLAB:\n",
    "    # Install the zenbase package if running in Google Colab\n",
    "    # install_package('zenbase')\n",
    "    # Install the zenbse package from a GitHub branch if running in Google Colab\n",
    "    install_package('git+https://github.com/zenbase-ai/lib.git@main#egg=zenbase&subdirectory=py')\n",
    "\n",
    "    # List of other packages to install in Google Colab\n",
    "    additional_packages = [\n",
    "        'python-dotenv',\n",
    "        'openai',\n",
    "        'langchain',\n",
    "        'langchain_openai',\n",
    "        'instructor',\n",
    "        'datasets'\n",
    "    ]\n",
    "    \n",
    "    # Install additional packages\n",
    "    install_packages(additional_packages)\n",
    "\n",
    "# Now import the zenbase library\n",
    "try:\n",
    "    import zenbase\n",
    "except ImportError as e:\n",
    "    print(\"Failed to import zenbase: \", e)\n",
    "    raise"
   ],
   "metadata": {
    "collapsed": false,
    "ExecuteTime": {
     "end_time": "2024-07-19T22:44:08.173455Z",
     "start_time": "2024-07-19T22:44:08.163428Z"
    }
   },
   "execution_count": 2
  },
  {
   "cell_type": "markdown",
   "source": [
    "### Configure the Environment"
   ],
   "metadata": {
    "collapsed": false
   }
  },
  {
   "cell_type": "code",
   "outputs": [
    {
     "data": {
      "text/plain": "True"
     },
     "execution_count": 3,
     "metadata": {},
     "output_type": "execute_result"
    }
   ],
   "source": [
    "from pathlib import Path\n",
    "from dotenv import load_dotenv\n",
    "\n",
    "# import os\n",
    "#\n",
    "# os.environ[\"OPENAI_API_KEY\"] = \"...\"\n",
    "\n",
    "load_dotenv(Path(\"../../.env.test\"), override=True)"
   ],
   "metadata": {
    "collapsed": false,
    "ExecuteTime": {
     "end_time": "2024-07-19T22:44:09.997735Z",
     "start_time": "2024-07-19T22:44:09.975440Z"
    }
   },
   "execution_count": 3
  },
  {
   "cell_type": "markdown",
   "metadata": {},
   "source": [
    "## Setup\n",
    "\n",
    "First, let's import the necessary libraries and set up our environment."
   ]
  },
  {
   "cell_type": "code",
   "execution_count": 4,
   "metadata": {
    "ExecuteTime": {
     "end_time": "2024-07-19T22:44:11.659105Z",
     "start_time": "2024-07-19T22:44:11.567133Z"
    }
   },
   "outputs": [],
   "source": [
    "import instructor\n",
    "from openai import OpenAI\n",
    "from zenbase.core.managers import ZenbaseTracer\n",
    "from zenbase.predefined.single_class_classifier import SingleClassClassifier\n",
    "\n",
    "# Set up OpenAI client (you'll need to provide your API key)\n",
    "openai_client = OpenAI()\n",
    "instructor_client = instructor.from_openai(openai_client)\n",
    "zenbase_tracer = ZenbaseTracer()"
   ]
  },
  {
   "cell_type": "markdown",
   "metadata": {},
   "source": [
    "## Defining the Classifier\n",
    "\n",
    "To use the SingleClassClassifier, we need to define a few key components:\n",
    "\n",
    "1. Prompt definition\n",
    "2. Class dictionary\n",
    "3. Dataset (train, validation, and test sets)\n",
    "\n",
    "Let's set these up:"
   ]
  },
  {
   "cell_type": "code",
   "execution_count": 16,
   "metadata": {
    "ExecuteTime": {
     "end_time": "2024-07-19T22:49:43.796524Z",
     "start_time": "2024-07-19T22:49:41.179950Z"
    }
   },
   "outputs": [],
   "source": [
    "# 1. Prompt definition\n",
    "prompt_definition = \"\"\"Your task is to accurately categorize each incoming arXiv paper into one of the given categories based on its title and abstract.\"\"\"\n",
    "\n",
    "# 2. Class dictionary\n",
    "class_dict = {\n",
    "    \"Machine Learning\": \"Papers focused on algorithms and statistical models that enable computer systems to improve their performance on a specific task over time.\",\n",
    "    \"Artificial Intelligence\": \"Research on creating intelligent machines that work and react like humans.\",\n",
    "    \"Computational Linguistics\": \"Studies involving computer processing of human languages.\",\n",
    "    \"Information Retrieval\": \"The science of searching for information in documents, databases, and on the World Wide Web.\",\n",
    "    \"Computer Vision\": \"Field of study focused on how computers can be made to gain high-level understanding from digital images or videos.\",\n",
    "    \"Human-Computer Interaction\": \"Research on the design and use of computer technology, focused on the interfaces between people and computers.\",\n",
    "    \"Cryptography and Security\": \"Studies on secure communication techniques and cybersecurity measures.\",\n",
    "    \"Robotics\": \"Research on the design, construction, operation, and use of robots.\",\n",
    "    \"Computers and Society\": \"Exploration of the social impact of computers and computation on society.\",\n",
    "    \"Software Engineering\": \"Application of engineering to the development of software in a systematic method.\",\n",
    "}\n",
    "# 3. Dataset preparation\n",
    "from datasets import load_dataset\n",
    "\n",
    "def create_dataset_with_examples(item_set):\n",
    "    return [{\"inputs\": item['input'], \"outputs\": item['output']} for item in item_set]\n",
    "\n",
    "# Load the arxiv dataset\n",
    "arxiv_dataset = load_dataset(\"dansbecker/arxiv_article_classification\")\n",
    "\n",
    "# Define the sizes for each set\n",
    "TRAINSET_SIZE = 100\n",
    "VALIDATIONSET_SIZE = 20\n",
    "TESTSET_SIZE = 20\n",
    "\n",
    "# Create train set\n",
    "train_data = list(arxiv_dataset[\"train\"].select(range(TRAINSET_SIZE)))\n",
    "train_set = create_dataset_with_examples(train_data)\n",
    "\n",
    "# Create validation set\n",
    "validation_data = list(arxiv_dataset[\"train\"].select(range(TRAINSET_SIZE, TRAINSET_SIZE + VALIDATIONSET_SIZE)))\n",
    "validation_set = create_dataset_with_examples(validation_data)\n",
    "\n",
    "# Create test set\n",
    "test_data = list(arxiv_dataset[\"test\"].select(range(TESTSET_SIZE)))\n",
    "test_set = create_dataset_with_examples(test_data)"
   ]
  },
  {
   "cell_type": "markdown",
   "metadata": {},
   "source": [
    "## Creating the SingleClassClassifier\n",
    "\n",
    "Now that we have all the components, let's create our SingleClassClassifier:"
   ]
  },
  {
   "cell_type": "code",
   "execution_count": 17,
   "metadata": {
    "ExecuteTime": {
     "end_time": "2024-07-19T22:49:47.333919Z",
     "start_time": "2024-07-19T22:49:47.308556Z"
    }
   },
   "outputs": [],
   "source": [
    "classifier = SingleClassClassifier(\n",
    "    instructor_client=instructor_client,\n",
    "    prompt=prompt_definition,\n",
    "    class_dict=class_dict,\n",
    "    model=\"gpt-4o-mini\",  # You can change this to the appropriate model\n",
    "    zenbase_tracer=zenbase_tracer,\n",
    "    training_set=train_set,\n",
    "    validation_set=validation_set,\n",
    "    test_set=test_set,\n",
    "    samples=20,\n",
    ")"
   ]
  },
  {
   "cell_type": "markdown",
   "metadata": {},
   "source": [
    "## Performing Classification\n",
    "\n",
    "To use the classifier, we call the `perform()` method:"
   ]
  },
  {
   "cell_type": "code",
   "execution_count": 18,
   "metadata": {
    "ExecuteTime": {
     "end_time": "2024-07-19T22:56:11.195527Z",
     "start_time": "2024-07-19T22:49:48.883924Z"
    }
   },
   "outputs": [],
   "source": [
    "result = classifier.perform()"
   ]
  },
  {
   "cell_type": "markdown",
   "metadata": {},
   "source": [
    "## Analyzing Results\n",
    "\n",
    "After performing the classification, we can analyze the results:"
   ]
  },
  {
   "cell_type": "code",
   "outputs": [
    {
     "name": "stdout",
     "output_type": "stream",
     "text": [
      "0.5\n",
      "0.8\n"
     ]
    }
   ],
   "source": [
    "# Base Evaluation based on the test set\n",
    "print(classifier.base_evaluation.evals['score'])\n",
    "\n",
    "# Best function evaluation based on the test set\n",
    "print(classifier.best_evaluation.evals['score'])"
   ],
   "metadata": {
    "collapsed": false,
    "ExecuteTime": {
     "end_time": "2024-07-19T22:58:30.541385Z",
     "start_time": "2024-07-19T22:58:30.537687Z"
    }
   },
   "execution_count": 25
  },
  {
   "cell_type": "code",
   "execution_count": 27,
   "metadata": {
    "ExecuteTime": {
     "end_time": "2024-07-19T22:58:54.220372Z",
     "start_time": "2024-07-19T22:58:54.216772Z"
    }
   },
   "outputs": [
    {
     "name": "stdout",
     "output_type": "stream",
     "text": [
      "Best function: <zenbase.types.LMFunction object at 0x127c605e0>\n",
      "Number of candidate results: 20\n",
      "Best candidate result: {'score': 0.85}\n",
      "Number of traces: 470\n"
     ]
    }
   ],
   "source": [
    "print(\"Best function:\", result.best_function)\n",
    "print(\"Number of candidate results:\", len(result.candidate_results))\n",
    "print(\"Best candidate result:\", result.best_candidate_result.evals)\n",
    "\n",
    "# Check the traces\n",
    "print(\"Number of traces:\", len(classifier.zenbase_tracer.all_traces))"
   ]
  },
  {
   "cell_type": "markdown",
   "metadata": {},
   "source": [
    "## Using the Classifier\n",
    "\n",
    "Now that we have trained and optimized our classifier, we can use it to classify new inputs:"
   ]
  },
  {
   "cell_type": "code",
   "execution_count": 28,
   "metadata": {
    "ExecuteTime": {
     "end_time": "2024-07-19T22:59:02.299949Z",
     "start_time": "2024-07-19T22:59:01.309131Z"
    }
   },
   "outputs": [
    {
     "name": "stdout",
     "output_type": "stream",
     "text": [
      "The paper is classified as: Cryptography and Security\n"
     ]
    }
   ],
   "source": [
    "new_paper = \"\"\"\n",
    "title: Advances in Quantum Computing Algorithms\n",
    "abstract: This paper explores recent developments in quantum computing algorithms, \n",
    "focusing on their potential applications in cryptography and optimization problems. \n",
    "We present a novel approach to quantum error correction that significantly improves \n",
    "the stability of qubit states in noisy environments.\n",
    "\"\"\"\n",
    "\n",
    "classification = result.best_function(new_paper)\n",
    "print(f\"The paper is classified as: {classification.class_label.name}\")"
   ]
  },
  {
   "cell_type": "markdown",
   "metadata": {},
   "source": [
    "## Conclusion\n",
    "\n",
    "In this tutorial, we've learned how to:\n",
    "1. Set up the necessary components for the SingleClassClassifier\n",
    "2. Create and initialize the classifier\n",
    "3. Perform classification and optimization\n",
    "4. Analyze the results\n",
    "5. Use the optimized classifier for new inputs\n",
    "\n"
   ]
  }
 ],
 "metadata": {
  "kernelspec": {
   "display_name": "Python 3",
   "language": "python",
   "name": "python3"
  },
  "language_info": {
   "codemirror_mode": {
    "name": "ipython",
    "version": 3
   },
   "file_extension": ".py",
   "mimetype": "text/x-python",
   "name": "python",
   "nbconvert_exporter": "python",
   "pygments_lexer": "ipython3",
   "version": "3.8.0"
  }
 },
 "nbformat": 4,
 "nbformat_minor": 4
}
