{
 "cells": [
  {
   "cell_type": "markdown",
   "source": [
    "# Import the Zenbase Library"
   ],
   "metadata": {
    "collapsed": false
   }
  },
  {
   "cell_type": "code",
   "outputs": [],
   "source": [
    "import sys\n",
    "import subprocess\n",
    "\n",
    "def install_package(package):\n",
    "    try:\n",
    "        subprocess.check_call([sys.executable, \"-m\", \"pip\", \"install\", package])\n",
    "    except subprocess.CalledProcessError as e:\n",
    "        print(f\"Failed to install {package}: {e}\")\n",
    "        raise\n",
    "\n",
    "def install_packages(packages):\n",
    "    for package in packages:\n",
    "        install_package(package)\n",
    "\n",
    "try:\n",
    "    # Check if running in Google Colab\n",
    "    import google.colab\n",
    "    IN_COLAB = True\n",
    "except ImportError:\n",
    "    IN_COLAB = False\n",
    "\n",
    "if IN_COLAB:\n",
    "    # Install the zenbase package if running in Google Colab\n",
    "    # install_package('zenbase')\n",
    "    # Install the zenbse package from a GitHub branch if running in Google Colab\n",
    "    install_package('git+https://github.com/zenbase-ai/lib.git@main#egg=zenbase&subdirectory=py')\n",
    "\n",
    "    # List of other packages to install in Google Colab\n",
    "    additional_packages = [\n",
    "        'python-dotenv',\n",
    "        'langfuse',\n",
    "        'openai',\n",
    "        'langchain',\n",
    "        'langchain_openai'\n",
    "    ]\n",
    "    \n",
    "    # Install additional packages\n",
    "    install_packages(additional_packages)\n",
    "\n",
    "# Now import the zenbase library\n",
    "try:\n",
    "    import zenbase\n",
    "except ImportError as e:\n",
    "    print(\"Failed to import zenbase: \", e)\n",
    "    raise"
   ],
   "metadata": {
    "collapsed": false,
    "ExecuteTime": {
     "end_time": "2024-07-09T23:06:14.517139Z",
     "start_time": "2024-07-09T23:06:14.493120Z"
    }
   },
   "execution_count": 1
  },
  {
   "cell_type": "markdown",
   "source": [
    "# Configure the Environment"
   ],
   "metadata": {
    "collapsed": false
   }
  },
  {
   "cell_type": "code",
   "execution_count": 2,
   "metadata": {
    "ExecuteTime": {
     "end_time": "2024-07-09T23:08:49.959356Z",
     "start_time": "2024-07-09T23:08:49.937237Z"
    }
   },
   "outputs": [
    {
     "data": {
      "text/plain": "True"
     },
     "execution_count": 2,
     "metadata": {},
     "output_type": "execute_result"
    }
   ],
   "source": [
    "from pathlib import Path\n",
    "from dotenv import load_dotenv\n",
    "\n",
    "# import os\n",
    "#\n",
    "# os.environ[\"OPENAI_API_KEY\"] = \"...\"\n",
    "# os.environ[\"LANGFUSE_HOST\"] = \"...\"\n",
    "# os.environ[\"LANGFUSE_PUBLIC_KEY\"] = \"...\"\n",
    "# os.environ[\"LANGFUSE_SECRET_KEY\"] = \"...\"\n",
    "\n",
    "load_dotenv(Path(\"../../.env.test\"), override=True)"
   ]
  },
  {
   "cell_type": "code",
   "execution_count": 3,
   "metadata": {
    "ExecuteTime": {
     "end_time": "2024-07-09T23:08:50.682661Z",
     "start_time": "2024-07-09T23:08:50.677848Z"
    }
   },
   "outputs": [],
   "source": [
    "import nest_asyncio\n",
    "\n",
    "nest_asyncio.apply()"
   ]
  },
  {
   "cell_type": "markdown",
   "source": [
    "# Initial Setup\n"
   ],
   "metadata": {
    "collapsed": false
   }
  },
  {
   "cell_type": "code",
   "execution_count": 4,
   "metadata": {
    "ExecuteTime": {
     "end_time": "2024-07-09T23:08:53.627344Z",
     "start_time": "2024-07-09T23:08:51.971274Z"
    }
   },
   "outputs": [],
   "source": [
    "from openai import OpenAI\n",
    "from langfuse import Langfuse\n",
    "\n",
    "langfuse = Langfuse()\n",
    "langfuse.auth_check()\n",
    "\n",
    "openai = OpenAI()"
   ]
  },
  {
   "cell_type": "markdown",
   "source": [
    "# Now, you probably already have some LLM code."
   ],
   "metadata": {
    "collapsed": false
   }
  },
  {
   "cell_type": "markdown",
   "source": [
    "It could use the OpenAI SDK, LangChain, or anything really. But it looks something like this:"
   ],
   "metadata": {
    "collapsed": false
   }
  },
  {
   "cell_type": "code",
   "execution_count": 5,
   "metadata": {
    "ExecuteTime": {
     "end_time": "2024-07-09T23:08:55.487232Z",
     "start_time": "2024-07-09T23:08:55.473072Z"
    }
   },
   "outputs": [],
   "source": [
    "from langfuse.decorators import observe\n",
    "\n",
    "@observe()\n",
    "def solver(inputs):\n",
    "    from langchain_core.output_parsers import StrOutputParser\n",
    "    from langchain_core.prompts import ChatPromptTemplate\n",
    "    from langchain_openai import ChatOpenAI\n",
    "\n",
    "    messages = [\n",
    "        (\n",
    "            \"system\",\n",
    "            \"You are an expert math solver. \"\n",
    "            \"You have an question that you should answer, \"\n",
    "            \"You have step by step actions that you should take to solve the problem.\"\n",
    "            \"You have the opertaions that you should do to solve the problem\"\n",
    "            \"You should come just with the number for the answer, just the actual number like examples that you have.\"  # noqa\n",
    "            \"\"\n",
    "            \"\"\n",
    "            \"Follow the format of the examples as they have the final answer, you need to came up to the plan for solving them.\",  # noqa\n",
    "        )\n",
    "    ]\n",
    "\n",
    "    messages.append((\"user\", \"Question: {question}\"))\n",
    "    messages.append((\"user\", \"Plan: {plan}\"))\n",
    "    messages.append((\"user\", \"Mathematical Operation that needed: {operation}\"))\n",
    "    messages.append(\n",
    "        (\"user\", \"Now come with the answer as number, just return the number, nothing else, just NUMBERS.\")\n",
    "    )\n",
    "\n",
    "    chain = ChatPromptTemplate.from_messages(messages) | ChatOpenAI(model=\"gpt-3.5-turbo\") | StrOutputParser()\n",
    "\n",
    "    plan = planner_chain(inputs)\n",
    "    the_plan = plan[\"plan\"]\n",
    "    the_operation = operation_finder(\n",
    "        {\n",
    "            \"plan\": the_plan,\n",
    "            \"question\": inputs[\"question\"],\n",
    "        }\n",
    "    )\n",
    "    inputs_to_answer = {\n",
    "        \"question\": inputs[\"question\"],\n",
    "        \"plan\": the_plan,\n",
    "        \"operation\": the_operation[\"operation\"],\n",
    "    }\n",
    "    answer = chain.invoke(inputs_to_answer)\n",
    "    return {\"answer\": answer}\n",
    "\n",
    "@observe()\n",
    "def planner_chain(inputs):\n",
    "    from langchain_core.output_parsers import StrOutputParser\n",
    "    from langchain_core.prompts import ChatPromptTemplate\n",
    "    from langchain_openai import ChatOpenAI\n",
    "\n",
    "    messages = [\n",
    "        (\n",
    "            \"system\",\n",
    "            \"You are an expert math solver. You have an question that you should create step-by-step plan to solve it. \"  # noqa\n",
    "            \"Follow the format of the examples.\",\n",
    "            # noqa\n",
    "        )\n",
    "    ]\n",
    "\n",
    "    messages.append((\"user\", \"{question}\"))\n",
    "\n",
    "    chain = ChatPromptTemplate.from_messages(messages) | ChatOpenAI(model=\"gpt-3.5-turbo\") | StrOutputParser()\n",
    "\n",
    "    answer = chain.invoke(inputs)\n",
    "    return {\"plan\": answer}\n",
    "\n",
    "@observe()\n",
    "def operation_finder(inputs):\n",
    "    from langchain_core.output_parsers import StrOutputParser\n",
    "    from langchain_core.prompts import ChatPromptTemplate\n",
    "    from langchain_openai import ChatOpenAI\n",
    "\n",
    "    messages = [\n",
    "        (\n",
    "            \"system\",\n",
    "            \"You are an expert math solver. You have a plan for solve a problem that is step-by-step, you need to find the overal operation in the math to solve it. \"  # noqa\n",
    "            \"Just come up with math operation with simple match operations like sum, multiply, division and minus. \"\n",
    "            \"\"\n",
    "            \"Follow the format of the examples.\",\n",
    "            # noqa\n",
    "        )\n",
    "    ]\n",
    "    messages.append((\"user\", \"{question}\"))\n",
    "    messages.append((\"user\", \"{plan}\"))\n",
    "\n",
    "    chain = ChatPromptTemplate.from_messages(messages) | ChatOpenAI(model=\"gpt-3.5-turbo\") | StrOutputParser()\n",
    "\n",
    "    answer = chain.invoke(inputs)\n",
    "    return {\"operation\": answer}\n",
    "\n"
   ]
  },
  {
   "cell_type": "markdown",
   "source": [
    "## And let's say you have an eval function like this"
   ],
   "metadata": {
    "collapsed": false
   }
  },
  {
   "cell_type": "code",
   "outputs": [],
   "source": [
    "def score_answer(answer: str, expected_output: dict):\n",
    "    \"\"\"The first argument is the return value from the `langchain_chain` function above.\"\"\"\n",
    "    score = int(answer['answer'] == expected_output.split(\"#### \")[-1])\n",
    "    langfuse.score(\n",
    "        name=\"correctness\",\n",
    "        value=score,\n",
    "        trace_id=langfuse.get_trace_id(),\n",
    "    )\n",
    "    return {\"score\": score}\n"
   ],
   "metadata": {
    "collapsed": false,
    "ExecuteTime": {
     "end_time": "2024-07-09T23:08:57.020150Z",
     "start_time": "2024-07-09T23:08:57.013034Z"
    }
   },
   "execution_count": 6
  },
  {
   "cell_type": "markdown",
   "source": [
    "## Then you're probably evaluating like this"
   ],
   "metadata": {
    "collapsed": false
   }
  },
  {
   "cell_type": "code",
   "execution_count": 7,
   "metadata": {
    "ExecuteTime": {
     "end_time": "2024-07-09T23:09:49.733121Z",
     "start_time": "2024-07-09T23:08:58.217671Z"
    }
   },
   "outputs": [
    {
     "name": "stdout",
     "output_type": "stream",
     "text": [
      "Average score 0.6\n"
     ]
    }
   ],
   "source": [
    "evalset = langfuse.get_dataset(\"gsm8k-testset\")\n",
    "\n",
    "scores = []\n",
    "for item in evalset.items:\n",
    "    answer = solver(item.input)\n",
    "    eval = score_answer(answer, item.expected_output)\n",
    "    scores.append(eval[\"score\"])\n",
    "\n",
    "print(\"Average score\", sum(scores) / len(scores))"
   ]
  },
  {
   "cell_type": "markdown",
   "source": [
    " # Now, how can we optimize this score of 0.6?"
   ],
   "metadata": {
    "collapsed": false
   }
  },
  {
   "cell_type": "markdown",
   "source": [
    "## First, initialize the Zenbase ZenbaseTracer and import the Langfuse helper"
   ],
   "metadata": {
    "collapsed": false
   }
  },
  {
   "cell_type": "code",
   "outputs": [],
   "source": [
    "from zenbase.adaptors.langfuse_helper import ZenLangfuse\n",
    "from zenbase.core.managers import ZenbaseTracer\n",
    "\n",
    "zen_langfuse_adaptor = ZenLangfuse(langfuse)\n",
    "zenbase_tracer = ZenbaseTracer()\n"
   ],
   "metadata": {
    "collapsed": false,
    "ExecuteTime": {
     "end_time": "2024-07-09T23:11:46.424968Z",
     "start_time": "2024-07-09T23:11:46.421347Z"
    }
   },
   "execution_count": 9
  },
  {
   "cell_type": "markdown",
   "source": [
    "## Hook up Zenbase to your functions\n",
    "\n",
    "1. Use the `zenbase_tracer` decorator.\n",
    "2. Change function inputs to request\n",
    "3. Use request's `zenbase.task_demos` to get the few-shot examples for the task and add them however you would like into your prompt.\n",
    "4. If you need to use just a few examples, you can use `request.zenbase.task_demos[:2]` to get the first two examples."
   ],
   "metadata": {
    "collapsed": false
   }
  },
  {
   "cell_type": "code",
   "execution_count": 27,
   "metadata": {
    "ExecuteTime": {
     "end_time": "2024-07-09T23:52:17.307402Z",
     "start_time": "2024-07-09T23:52:17.295203Z"
    }
   },
   "outputs": [],
   "source": [
    "from zenbase.types import LMRequest, LMDemo\n",
    "\n",
    "@zenbase_tracer # it is 1\n",
    "@observe()\n",
    "def solver(request: LMRequest): # it is 2\n",
    "    from langchain_core.output_parsers import StrOutputParser\n",
    "    from langchain_core.prompts import ChatPromptTemplate\n",
    "    from langchain_openai import ChatOpenAI\n",
    "\n",
    "    messages = [\n",
    "        (\n",
    "            \"system\",\n",
    "            \"You are an expert math solver. \"\n",
    "            \"You have an question that you should answer, \"\n",
    "            \"You have step by step actions that you should take to solve the problem.\"\n",
    "            \"You have the operations that you should do to solve the problem\"\n",
    "            \"You should come just with the number for the answer, just the actual number like examples that you have.\"  # noqa\n",
    "            \"\"\n",
    "            \"\"\n",
    "            \"Follow the format of the examples as they have the final answer, you need to came up to the plan for solving them.\",  # noqa\n",
    "        )\n",
    "    ]\n",
    "    for demo in request.zenbase.task_demos: # it is 3 and 4\n",
    "        if isinstance(demo.outputs, dict):\n",
    "            the_output = demo.outputs[\"answer\"]\n",
    "        else:\n",
    "            the_output = demo.outputs\n",
    "\n",
    "        messages += [\n",
    "            (\"user\", f'Example Question: {demo.inputs[\"question\"]}'),\n",
    "            (\"assistant\", f\"Example Answer: {the_output}\"),\n",
    "        ]\n",
    "\n",
    "    messages.append((\"user\", \"Question: {question}\"))\n",
    "    messages.append((\"user\", \"Plan: {plan}\"))\n",
    "    messages.append((\"user\", \"Mathematical Operation that needed: {operation}\"))\n",
    "    messages.append(\n",
    "        (\"user\", \"Now come with the answer as number, just return the number, nothing else, just NUMBERS.\")\n",
    "    )\n",
    "\n",
    "    chain = ChatPromptTemplate.from_messages(messages) | ChatOpenAI(model=\"gpt-3.5-turbo\") | StrOutputParser()\n",
    "\n",
    "    plan = planner_chain(request.inputs)\n",
    "    the_plan = plan[\"plan\"]\n",
    "    the_operation = operation_finder(\n",
    "        {\n",
    "            \"plan\": the_plan,\n",
    "            \"question\": request.inputs[\"question\"],\n",
    "        }\n",
    "    )\n",
    "    inputs_to_answer = {\n",
    "        \"question\": request.inputs[\"question\"],\n",
    "        \"plan\": the_plan,\n",
    "        \"operation\": the_operation[\"operation\"],\n",
    "    }\n",
    "    answer = chain.invoke(inputs_to_answer)\n",
    "    return {\"answer\": answer}\n",
    "\n",
    "@zenbase_tracer # it is 1\n",
    "@observe()\n",
    "def planner_chain(request: LMRequest): # it is 2\n",
    "    from langchain_core.output_parsers import StrOutputParser\n",
    "    from langchain_core.prompts import ChatPromptTemplate\n",
    "    from langchain_openai import ChatOpenAI\n",
    "\n",
    "    messages = [\n",
    "        (\n",
    "            \"system\",\n",
    "            \"You are an expert math solver. You have an question that you should create step-by-step plan to solve it. \"  # noqa\n",
    "            \"Follow the format of the examples.\",\n",
    "            # noqa\n",
    "        )\n",
    "    ]\n",
    "    if request.zenbase.task_demos: # it is 3\n",
    "        for demo in request.zenbase.task_demos[:2]: # it is 4\n",
    "            messages += [\n",
    "                (\"user\", demo.inputs[\"question\"]),\n",
    "                (\"assistant\", demo.outputs[\"plan\"]),\n",
    "            ]\n",
    "\n",
    "    messages.append((\"user\", \"{question}\"))\n",
    "\n",
    "    chain = ChatPromptTemplate.from_messages(messages) | ChatOpenAI(model=\"gpt-3.5-turbo\") | StrOutputParser()\n",
    "\n",
    "    answer = chain.invoke(request.inputs)\n",
    "    return {\"plan\": answer}\n",
    "\n",
    "@zenbase_tracer # it is 1\n",
    "@observe()\n",
    "def operation_finder(request: LMRequest): # it is 2 \n",
    "    from langchain_core.output_parsers import StrOutputParser\n",
    "    from langchain_core.prompts import ChatPromptTemplate\n",
    "    from langchain_openai import ChatOpenAI\n",
    "\n",
    "    messages = [\n",
    "        (\n",
    "            \"system\",\n",
    "            \"You are an expert math solver. You have a plan for solve a problem that is step-by-step, you need to find the overal operation in the math to solve it. \"  # noqa\n",
    "            \"Just come up with math operation with simple match operations like sum, multiply, division and minus. \"\n",
    "            \"\"\n",
    "            \"Follow the format of the examples.\",\n",
    "            # noqa\n",
    "        )\n",
    "    ]\n",
    "    if request.zenbase.task_demos: # it is 3\n",
    "        for demo in request.zenbase.task_demos[:2]: # it is 4\n",
    "            messages += [\n",
    "                (\"user\", demo.inputs[\"question\"]),\n",
    "                (\"user\", demo.inputs[\"plan\"]),\n",
    "                (\"assistant\", demo.outputs[\"operation\"]),\n",
    "            ]\n",
    "\n",
    "    messages.append((\"user\", \"{question}\"))\n",
    "    messages.append((\"user\", \"{plan}\"))\n",
    "\n",
    "    chain = ChatPromptTemplate.from_messages(messages) | ChatOpenAI(model=\"gpt-3.5-turbo\") | StrOutputParser()\n",
    "\n",
    "    answer = chain.invoke(request.inputs)\n",
    "    return {\"operation\": answer}\n"
   ]
  },
  {
   "cell_type": "markdown",
   "source": [
    "## For Langfuse, we have to update our eval function a little bit"
   ],
   "metadata": {
    "collapsed": false
   }
  },
  {
   "cell_type": "code",
   "outputs": [],
   "source": [
    "def score_answer_with_json(answer: str, demo: LMDemo, langfuse: Langfuse):\n",
    "    \"\"\"The first argument is the return value from the `langchain_chain` function above.\"\"\"\n",
    "    score = int(answer[\"answer\"] == demo.outputs.split(\"#### \")[-1])\n",
    "    langfuse.score(\n",
    "        name=\"correctness\",\n",
    "        value=score,\n",
    "        trace_id=langfuse.get_trace_id(),\n",
    "    )\n",
    "    return {\"score\": score}"
   ],
   "metadata": {
    "collapsed": false,
    "ExecuteTime": {
     "end_time": "2024-07-09T23:52:18.339828Z",
     "start_time": "2024-07-09T23:52:18.335038Z"
    }
   },
   "execution_count": 28
  },
  {
   "cell_type": "markdown",
   "source": [
    "## Now we can optimize!"
   ],
   "metadata": {
    "collapsed": false
   }
  },
  {
   "cell_type": "markdown",
   "source": [
    "### Set up your optimizer:"
   ],
   "metadata": {
    "collapsed": false
   }
  },
  {
   "cell_type": "code",
   "outputs": [],
   "source": [
    "from zenbase.optim.metric.bootstrap_few_shot import BootstrapFewShot\n",
    "\n",
    "train_set = 'GSM8K_train_set_langsmith_dataset_2it3BpoNmwfYa5Nvk6dRButWA56'\n",
    "validation_set = 'GSM8K_validation_set_langsmith_dataset_2it1pPsf4w75FJ82v5BwweOxnS4'\n",
    "test_set = 'GSM8K_test_set_langsmith_dataset_2it1pZxHYNfqO8wHTsRP7NiUi1e'\n",
    "SHOTS = 2\n",
    "SAMPLES = 2\n",
    "\n",
    "\n",
    "evaluator_kwargs = dict(\n",
    "    evaluate=score_answer_with_json,\n",
    ")\n",
    "\n",
    "\n",
    "bootstrap_few_shot = BootstrapFewShot(\n",
    "    shots=SHOTS,\n",
    "    training_set=train_set,\n",
    "    test_set=test_set,\n",
    "    validation_set=validation_set,\n",
    "    evaluator_kwargs=evaluator_kwargs,\n",
    "    zen_adaptor=zen_langfuse_adaptor,\n",
    ")\n"
   ],
   "metadata": {
    "collapsed": false,
    "ExecuteTime": {
     "end_time": "2024-07-09T23:52:20.721Z",
     "start_time": "2024-07-09T23:52:20.464484Z"
    }
   },
   "execution_count": 29
  },
  {
   "cell_type": "markdown",
   "source": [
    "### Do the optimization"
   ],
   "metadata": {
    "collapsed": false
   }
  },
  {
   "cell_type": "code",
   "outputs": [],
   "source": [
    "# Empty the traces\n",
    "zenbase_tracer.all_traces = {}\n",
    "# Run the optimization\n",
    "best_fn, candidates = bootstrap_few_shot.perform(\n",
    "    solver,\n",
    "    samples=SAMPLES,\n",
    "    rounds=1,\n",
    "    trace_manager=zenbase_tracer,\n",
    ")"
   ],
   "metadata": {
    "collapsed": false,
    "ExecuteTime": {
     "end_time": "2024-07-09T23:54:34.574160Z",
     "start_time": "2024-07-09T23:52:54.360840Z"
    }
   },
   "execution_count": 31
  },
  {
   "cell_type": "markdown",
   "source": [
    "### Use your optimized function\n"
   ],
   "metadata": {
    "collapsed": false
   }
  },
  {
   "cell_type": "code",
   "outputs": [
    {
     "data": {
      "text/plain": "{'answer': '4'}"
     },
     "execution_count": 32,
     "metadata": {},
     "output_type": "execute_result"
    }
   ],
   "source": [
    "zenbase_tracer.all_traces = {}\n",
    "best_fn({\"question\": \"What is 2 + 2?\"})"
   ],
   "metadata": {
    "collapsed": false,
    "ExecuteTime": {
     "end_time": "2024-07-09T23:56:47.060429Z",
     "start_time": "2024-07-09T23:56:44.716649Z"
    }
   },
   "execution_count": 32
  },
  {
   "cell_type": "markdown",
   "source": [
    "### Introspect function traces"
   ],
   "metadata": {
    "collapsed": false
   }
  },
  {
   "cell_type": "code",
   "outputs": [],
   "source": [
    "function_traces = [v for k, v in zenbase_tracer.all_traces.items()][0][\"optimized\"]\n"
   ],
   "metadata": {
    "collapsed": false,
    "ExecuteTime": {
     "end_time": "2024-07-09T23:56:48.746156Z",
     "start_time": "2024-07-09T23:56:48.742954Z"
    }
   },
   "execution_count": 33
  },
  {
   "cell_type": "markdown",
   "source": [
    "### Check the optimized parameters for planner_chain"
   ],
   "metadata": {
    "collapsed": false
   }
  },
  {
   "cell_type": "code",
   "outputs": [
    {
     "name": "stdout",
     "output_type": "stream",
     "text": [
      "[LMDemo(inputs={'question': 'James writes a 3-page letter to 2 different '\n",
      "                            'friends twice a week.  How many pages does he '\n",
      "                            'write a year?'},\n",
      "        outputs={'plan': 'To find the total number of pages James writes in a '\n",
      "                         'year, we first need to calculate how many pages he '\n",
      "                         'writes in a week and then multiply that by the '\n",
      "                         'number of weeks in a year.\\n'\n",
      "                         '\\n'\n",
      "                         '1. Calculate how many pages James writes in a week:\\n'\n",
      "                         '   - James writes a 3-page letter to 2 different '\n",
      "                         'friends twice a week.\\n'\n",
      "                         '   - He writes 3 pages * 2 friends = 6 pages per '\n",
      "                         'letter.\\n'\n",
      "                         '   - Since he writes two letters a week, he writes 6 '\n",
      "                         'pages * 2 = 12 pages per week.\\n'\n",
      "                         '\\n'\n",
      "                         '2. Calculate how many pages James writes in a year:\\n'\n",
      "                         '   - There are 52 weeks in a year.\\n'\n",
      "                         '   - Total pages written in a year = 12 pages/week * '\n",
      "                         '52 weeks/year = 624 pages.\\n'\n",
      "                         '\\n'\n",
      "                         'Therefore, James writes 624 pages in a year.'},\n",
      "        adaptor_object=None),\n",
      " LMDemo(inputs={'question': 'Julie is reading a 120-page book. Yesterday, she '\n",
      "                            'was able to read 12 pages and today, she read '\n",
      "                            'twice as many pages as yesterday. If she wants to '\n",
      "                            'read half of the remaining pages tomorrow, how '\n",
      "                            'many pages should she read?'},\n",
      "        outputs={'plan': \"Let's break down the information given:\\n\"\n",
      "                         '1. Total number of pages in the book = 120 pages\\n'\n",
      "                         '2. Pages read yesterday = 12 pages\\n'\n",
      "                         '3. Pages read today = 2 * 12 = 24 pages\\n'\n",
      "                         '\\n'\n",
      "                         'To find out how many pages Julie has read so far:\\n'\n",
      "                         '12 pages (yesterday) + 24 pages (today) = 12 + 24 = '\n",
      "                         '36 pages\\n'\n",
      "                         '\\n'\n",
      "                         'To find out how many pages are remaining:\\n'\n",
      "                         'Total pages in the book - Pages read so far = 120 - '\n",
      "                         '36 = 84 pages\\n'\n",
      "                         '\\n'\n",
      "                         'To find out how many pages Julie should read '\n",
      "                         'tomorrow (half of the remaining pages):\\n'\n",
      "                         '84 pages / 2 = 42 pages\\n'\n",
      "                         '\\n'\n",
      "                         'Therefore, Julie should read 42 pages tomorrow.'},\n",
      "        adaptor_object=None),\n",
      " LMDemo(inputs={'question': 'Natalia sold clips to 48 of her friends in April, '\n",
      "                            'and then she sold half as many clips in May. How '\n",
      "                            'many clips did Natalia sell altogether in April '\n",
      "                            'and May?'},\n",
      "        outputs={'plan': 'Step 1: Find out how many clips Natalia sold in '\n",
      "                         'May.\\n'\n",
      "                         '- Natalia sold half as many clips in May as she did '\n",
      "                         'in April.\\n'\n",
      "                         '- Number of clips sold in May = 48 / 2 = 24 clips\\n'\n",
      "                         '\\n'\n",
      "                         'Step 2: Calculate the total number of clips Natalia '\n",
      "                         'sold in April and May.\\n'\n",
      "                         '- Total number of clips sold = Number of clips sold '\n",
      "                         'in April + Number of clips sold in May\\n'\n",
      "                         '- Total number of clips sold = 48 + 24 = 72 clips\\n'\n",
      "                         '\\n'\n",
      "                         'Therefore, Natalia sold a total of 72 clips '\n",
      "                         'altogether in April and May.'},\n",
      "        adaptor_object=None)]\n"
     ]
    }
   ],
   "source": [
    "from pprint import pprint\n",
    "\n",
    "pprint(function_traces[\"planner_chain\"][\"args\"][\"request\"].zenbase.task_demos)\n"
   ],
   "metadata": {
    "collapsed": false,
    "ExecuteTime": {
     "end_time": "2024-07-09T23:56:52.632591Z",
     "start_time": "2024-07-09T23:56:52.627284Z"
    }
   },
   "execution_count": 34
  },
  {
   "cell_type": "markdown",
   "source": [
    "### Check the optimized parameters for operation_finder chain"
   ],
   "metadata": {
    "collapsed": false
   }
  },
  {
   "cell_type": "code",
   "outputs": [
    {
     "name": "stdout",
     "output_type": "stream",
     "text": [
      "[LMDemo(inputs={'plan': 'To find the total number of pages James writes in a '\n",
      "                        'year, we first need to calculate how many pages he '\n",
      "                        'writes in a week and then multiply that by the number '\n",
      "                        'of weeks in a year.\\n'\n",
      "                        '\\n'\n",
      "                        '1. Calculate how many pages James writes in a week:\\n'\n",
      "                        '   - James writes a 3-page letter to 2 different '\n",
      "                        'friends twice a week.\\n'\n",
      "                        '   - He writes 3 pages * 2 friends = 6 pages per '\n",
      "                        'letter.\\n'\n",
      "                        '   - Since he writes two letters a week, he writes 6 '\n",
      "                        'pages * 2 = 12 pages per week.\\n'\n",
      "                        '\\n'\n",
      "                        '2. Calculate how many pages James writes in a year:\\n'\n",
      "                        '   - There are 52 weeks in a year.\\n'\n",
      "                        '   - Total pages written in a year = 12 pages/week * '\n",
      "                        '52 weeks/year = 624 pages.\\n'\n",
      "                        '\\n'\n",
      "                        'Therefore, James writes 624 pages in a year.',\n",
      "                'question': 'James writes a 3-page letter to 2 different '\n",
      "                            'friends twice a week.  How many pages does he '\n",
      "                            'write a year?'},\n",
      "        outputs={'operation': 'Total pages written in a year = 3 pages * 2 '\n",
      "                              'friends * 2 letters/week * 52 weeks/year = 624 '\n",
      "                              'pages.'},\n",
      "        adaptor_object=None),\n",
      " LMDemo(inputs={'plan': \"Let's break down the information given:\\n\"\n",
      "                        '1. Total number of pages in the book = 120 pages\\n'\n",
      "                        '2. Pages read yesterday = 12 pages\\n'\n",
      "                        '3. Pages read today = 2 * 12 = 24 pages\\n'\n",
      "                        '\\n'\n",
      "                        'To find out how many pages Julie has read so far:\\n'\n",
      "                        '12 pages (yesterday) + 24 pages (today) = 12 + 24 = '\n",
      "                        '36 pages\\n'\n",
      "                        '\\n'\n",
      "                        'To find out how many pages are remaining:\\n'\n",
      "                        'Total pages in the book - Pages read so far = 120 - '\n",
      "                        '36 = 84 pages\\n'\n",
      "                        '\\n'\n",
      "                        'To find out how many pages Julie should read tomorrow '\n",
      "                        '(half of the remaining pages):\\n'\n",
      "                        '84 pages / 2 = 42 pages\\n'\n",
      "                        '\\n'\n",
      "                        'Therefore, Julie should read 42 pages tomorrow.',\n",
      "                'question': 'Julie is reading a 120-page book. Yesterday, she '\n",
      "                            'was able to read 12 pages and today, she read '\n",
      "                            'twice as many pages as yesterday. If she wants to '\n",
      "                            'read half of the remaining pages tomorrow, how '\n",
      "                            'many pages should she read?'},\n",
      "        outputs={'operation': 'Overall operation: \\n'\n",
      "                              '\\n'\n",
      "                              '120 (Total pages) - (12 (Pages read yesterday) '\n",
      "                              '+ 24 (Pages read today)) / 2 (Half of the '\n",
      "                              'remaining pages)'},\n",
      "        adaptor_object=None),\n",
      " LMDemo(inputs={'plan': 'Step 1: Find out how many clips Natalia sold in May.\\n'\n",
      "                        '- Natalia sold half as many clips in May as she did '\n",
      "                        'in April.\\n'\n",
      "                        '- Number of clips sold in May = 48 / 2 = 24 clips\\n'\n",
      "                        '\\n'\n",
      "                        'Step 2: Calculate the total number of clips Natalia '\n",
      "                        'sold in April and May.\\n'\n",
      "                        '- Total number of clips sold = Number of clips sold '\n",
      "                        'in April + Number of clips sold in May\\n'\n",
      "                        '- Total number of clips sold = 48 + 24 = 72 clips\\n'\n",
      "                        '\\n'\n",
      "                        'Therefore, Natalia sold a total of 72 clips '\n",
      "                        'altogether in April and May.',\n",
      "                'question': 'Natalia sold clips to 48 of her friends in April, '\n",
      "                            'and then she sold half as many clips in May. How '\n",
      "                            'many clips did Natalia sell altogether in April '\n",
      "                            'and May?'},\n",
      "        outputs={'operation': 'Total number of clips sold = 48 (April) + 24 '\n",
      "                              '(May)\\n'\n",
      "                              'Total number of clips sold = 72 clips\\n'\n",
      "                              '\\n'\n",
      "                              'Therefore, Natalia sold a total of 72 clips '\n",
      "                              'altogether in April and May.'},\n",
      "        adaptor_object=None)]\n"
     ]
    }
   ],
   "source": [
    "from pprint import pprint\n",
    "\n",
    "pprint(function_traces[\"operation_finder\"][\"args\"][\"request\"].zenbase.task_demos)\n"
   ],
   "metadata": {
    "collapsed": false,
    "ExecuteTime": {
     "end_time": "2024-07-09T23:56:58.985190Z",
     "start_time": "2024-07-09T23:56:58.979909Z"
    }
   },
   "execution_count": 35
  },
  {
   "cell_type": "markdown",
   "source": [
    "### Check the optimized parameters for solver"
   ],
   "metadata": {
    "collapsed": false
   }
  },
  {
   "cell_type": "code",
   "outputs": [
    {
     "name": "stdout",
     "output_type": "stream",
     "text": [
      "[LMDemo(inputs={'question': 'James writes a 3-page letter to 2 different '\n",
      "                            'friends twice a week.  How many pages does he '\n",
      "                            'write a year?'},\n",
      "        outputs={'answer': '624'},\n",
      "        adaptor_object=None),\n",
      " LMDemo(inputs={'question': 'Julie is reading a 120-page book. Yesterday, she '\n",
      "                            'was able to read 12 pages and today, she read '\n",
      "                            'twice as many pages as yesterday. If she wants to '\n",
      "                            'read half of the remaining pages tomorrow, how '\n",
      "                            'many pages should she read?'},\n",
      "        outputs={'answer': '42'},\n",
      "        adaptor_object=None),\n",
      " LMDemo(inputs={'question': 'Natalia sold clips to 48 of her friends in April, '\n",
      "                            'and then she sold half as many clips in May. How '\n",
      "                            'many clips did Natalia sell altogether in April '\n",
      "                            'and May?'},\n",
      "        outputs={'answer': '72'},\n",
      "        adaptor_object=None)]\n"
     ]
    }
   ],
   "source": [
    "from pprint import pprint\n",
    "\n",
    "pprint(function_traces[\"solver\"][\"args\"][\"request\"].zenbase.task_demos)\n"
   ],
   "metadata": {
    "collapsed": false,
    "ExecuteTime": {
     "end_time": "2024-07-09T23:57:05.001308Z",
     "start_time": "2024-07-09T23:57:04.997398Z"
    }
   },
   "execution_count": 36
  },
  {
   "cell_type": "code",
   "outputs": [],
   "source": [],
   "metadata": {
    "collapsed": false
   }
  }
 ],
 "metadata": {
  "kernelspec": {
   "display_name": ".venv",
   "language": "python",
   "name": "python3"
  },
  "language_info": {
   "codemirror_mode": {
    "name": "ipython",
    "version": 3
   },
   "file_extension": ".py",
   "mimetype": "text/x-python",
   "name": "python",
   "nbconvert_exporter": "python",
   "pygments_lexer": "ipython3",
   "version": "3.10.13"
  }
 },
 "nbformat": 4,
 "nbformat_minor": 2
}
