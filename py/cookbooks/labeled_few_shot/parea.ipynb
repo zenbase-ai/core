{
 "cells": [
  {
   "cell_type": "markdown",
   "id": "7934d3d886237115",
   "metadata": {
    "collapsed": false
   },
   "source": [
    "# Import the Zenbase Library"
   ]
  },
  {
   "cell_type": "code",
   "execution_count": null,
   "id": "5e77515480558be1",
   "metadata": {
    "collapsed": false
   },
   "outputs": [],
   "source": [
    "import sys\n",
    "import subprocess\n",
    "\n",
    "def install_package(package):\n",
    "    try:\n",
    "        subprocess.check_call([sys.executable, \"-m\", \"pip\", \"install\", package])\n",
    "    except subprocess.CalledProcessError as e:\n",
    "        print(f\"Failed to install {package}: {e}\")\n",
    "        raise\n",
    "\n",
    "def install_packages(packages):\n",
    "    for package in packages:\n",
    "        install_package(package)\n",
    "\n",
    "try:\n",
    "    # Check if running in Google Colab\n",
    "    import google.colab\n",
    "    IN_COLAB = True\n",
    "except ImportError:\n",
    "    IN_COLAB = False\n",
    "\n",
    "if IN_COLAB:\n",
    "    # Install the zenbase package if running in Google Colab\n",
    "    # install_package('zenbase')\n",
    "    # Install the zenbse package from a GitHub branch if running in Google Colab\n",
    "    install_package('git+https://github.com/zenbase-ai/lib.git@main#egg=zenbase&subdirectory=py')\n",
    "\n",
    "    # List of other packages to install in Google Colab\n",
    "    additional_packages = [\n",
    "        'python-dotenv',\n",
    "        'parea-ai==0.2.164',\n",
    "        'openai',\n",
    "        'langchain',\n",
    "        'langchain_openai'\n",
    "    ]\n",
    "    \n",
    "    # Install additional packages\n",
    "    install_packages(additional_packages)\n",
    "\n",
    "# Now import the zenbase library\n",
    "try:\n",
    "    import zenbase\n",
    "except ImportError as e:\n",
    "    print(\"Failed to import zenbase: \", e)\n",
    "    raise"
   ]
  },
  {
   "cell_type": "markdown",
   "id": "a420dd75eca92742",
   "metadata": {
    "collapsed": false
   },
   "source": [
    "# Configure the Environment"
   ]
  },
  {
   "cell_type": "code",
   "execution_count": 1,
   "id": "initial_id",
   "metadata": {
    "ExecuteTime": {
     "end_time": "2024-07-05T00:51:22.031217Z",
     "start_time": "2024-07-05T00:51:22.008187Z"
    }
   },
   "outputs": [
    {
     "data": {
      "text/plain": [
       "True"
      ]
     },
     "execution_count": 1,
     "metadata": {},
     "output_type": "execute_result"
    }
   ],
   "source": [
    "from pathlib import Path\n",
    "from dotenv import load_dotenv\n",
    "\n",
    "# import os\n",
    "#\n",
    "# os.environ[\"OPENAI_API_KEY\"] = \"...\"\n",
    "# os.environ[\"PAREA_API_KEY\"] = \"...\"\n",
    "\n",
    "load_dotenv(Path(\"../../.env.test\"), override=True)"
   ]
  },
  {
   "cell_type": "code",
   "execution_count": 2,
   "id": "dfb3ed902652dfd6",
   "metadata": {
    "ExecuteTime": {
     "end_time": "2024-07-05T00:51:22.991631Z",
     "start_time": "2024-07-05T00:51:22.986093Z"
    }
   },
   "outputs": [],
   "source": [
    "import nest_asyncio\n",
    "\n",
    "nest_asyncio.apply()"
   ]
  },
  {
   "cell_type": "markdown",
   "id": "5fa609ebe9754cec",
   "metadata": {
    "collapsed": false
   },
   "source": [
    "# Initial Setup"
   ]
  },
  {
   "cell_type": "code",
   "execution_count": 3,
   "id": "c6f32dc5445e19c0",
   "metadata": {
    "ExecuteTime": {
     "end_time": "2024-07-05T00:51:26.265552Z",
     "start_time": "2024-07-05T00:51:24.189920Z"
    }
   },
   "outputs": [],
   "source": [
    "from openai import OpenAI\n",
    "from parea import Parea, trace\n",
    "\n",
    "parea = Parea()\n",
    "openai = OpenAI()\n",
    "\n",
    "parea.wrap_openai_client(openai)"
   ]
  },
  {
   "cell_type": "markdown",
   "id": "e736a359fe91a572",
   "metadata": {
    "collapsed": false
   },
   "source": [
    "# What you already have should look like below:"
   ]
  },
  {
   "cell_type": "markdown",
   "id": "9520dcde8d3b38dc",
   "metadata": {
    "collapsed": false
   },
   "source": [
    "## Your Scoring Function should look like this:"
   ]
  },
  {
   "cell_type": "code",
   "execution_count": null,
   "id": "9e51dbf2aef500e8",
   "metadata": {
    "collapsed": false
   },
   "outputs": [],
   "source": [
    "from parea.schemas import Log, EvaluationResult\n",
    "\n",
    "\n",
    "def score_answer(log: Log) -> EvaluationResult:\n",
    "    print(log)\n",
    "    if log.target:\n",
    "        output = log.output.split(\"#### \")[-1]\n",
    "        target = log.target.split(\"#### \")[-1]\n",
    "        return EvaluationResult(\"correctness\", int(output == target))\n"
   ]
  },
  {
   "cell_type": "markdown",
   "id": "2e5913668cb2d625",
   "metadata": {
    "collapsed": false
   },
   "source": [
    "## Your OpenAI Call should look like this with LangChain (It could be with OpenAI too, doesn't matter)\n"
   ]
  },
  {
   "cell_type": "code",
   "execution_count": 4,
   "id": "75125e8ad065532",
   "metadata": {
    "ExecuteTime": {
     "end_time": "2024-07-05T00:51:28.182341Z",
     "start_time": "2024-07-05T00:51:28.175801Z"
    }
   },
   "outputs": [],
   "source": [
    "@trace(eval_funcs=[score_answer])\n",
    "def langchain_chain(inputs):\n",
    "    from langchain_openai import ChatOpenAI\n",
    "    from langchain_core.prompts import ChatPromptTemplate\n",
    "    from langchain_core.output_parsers import StrOutputParser\n",
    "\n",
    "    messages = [\n",
    "        (\n",
    "            \"system\",\n",
    "            \"You are an expert math solver. Your answer must be just the number with no separators, and nothing else. Follow the format of the examples.\",\n",
    "        ),\n",
    "        (\"user\", \"{question}\")\n",
    "    ]\n",
    "\n",
    "    chain = (\n",
    "        ChatPromptTemplate.from_messages(messages)\n",
    "        | ChatOpenAI(model=\"gpt-3.5-turbo\")\n",
    "        | StrOutputParser()\n",
    "    )\n",
    "\n",
    "    answer = chain.invoke(inputs)\n",
    "    return answer\n"
   ]
  },
  {
   "cell_type": "markdown",
   "id": "350a66008361572d",
   "metadata": {
    "collapsed": false
   },
   "source": [
    "## Your Evaluation should look like this:"
   ]
  },
  {
   "cell_type": "code",
   "execution_count": 5,
   "id": "f66675f324975a5a",
   "metadata": {
    "ExecuteTime": {
     "end_time": "2024-07-05T00:51:38.848143Z",
     "start_time": "2024-07-05T00:51:29.773360Z"
    }
   },
   "outputs": [
    {
     "name": "stdout",
     "output_type": "stream",
     "text": [
      "Run name set to: dotty-woes, since a name was not provided.\n",
      "Fetching test collection: GSM8K_test_set_parea_dataset_2inu4fT1X5IZKj361H21BbD2Mc4\n",
      "Fetched 5 test cases from collection: GSM8K_test_set_parea_dataset_2inu4fT1X5IZKj361H21BbD2Mc4 \n"
     ]
    },
    {
     "name": "stderr",
     "output_type": "stream",
     "text": [
      " 20%|██        | 1/5 [00:01<00:07,  1.99s/it]"
     ]
    },
    {
     "name": "stdout",
     "output_type": "stream",
     "text": [
      "TraceLog(configuration=LLMInputs(model=None, provider=None, model_params=None, messages=None, functions=None, function_call=None), inputs={'inputs': '{\"question\": \"Natalia sold clips to 48 of her friends in April, and then she sold half as many clips in May. How many clips did Natalia sell altogether in April and May?\"}'}, output='72', target='Natalia sold 48/2 = <<48/2=24>>24 clips in May.\\nNatalia sold 48+24 = <<48+24=72>>72 clips altogether in April and May.\\n#### 72', latency=2.01057, time_to_first_token=None, input_tokens=0, output_tokens=0, total_tokens=0, cost=0.0, scores=[], trace_id='9599e222-6634-446b-b760-5f09fa9ad536', parent_trace_id='9599e222-6634-446b-b760-5f09fa9ad536', root_trace_id='9599e222-6634-446b-b760-5f09fa9ad536', start_timestamp='2024-07-05T00:51:30.214305+00:00', organization_id=None, project_uuid=None, error=None, status='success', deployment_id=None, cache_hit=False, output_for_eval_metrics='72', evaluation_metric_names=None, apply_eval_frac=1.0, feedback_score=None, trace_name='langchain_chain', children=[], end_timestamp='2024-07-05T00:51:32.224875+00:00', end_user_identifier=None, session_id=None, metadata=None, tags=None, experiment_uuid='dfb8442c-6ee3-4fde-a1ed-dfde37123e82', images=[], comments=None, annotations=None, depth=0, execution_order=0)\n"
     ]
    },
    {
     "name": "stderr",
     "output_type": "stream",
     "text": [
      " 40%|████      | 2/5 [00:02<00:03,  1.15s/it]"
     ]
    },
    {
     "name": "stdout",
     "output_type": "stream",
     "text": [
      "TraceLog(configuration=LLMInputs(model=None, provider=None, model_params=None, messages=None, functions=None, function_call=None), inputs={'inputs': '{\"question\": \"Weng earns $12 an hour for babysitting. Yesterday, she just did 50 minutes of babysitting. How much did she earn?\"}'}, output='10', target='Weng earns 12/60 = $<<12/60=0.2>>0.2 per minute.\\nWorking 50 minutes, she earned 0.2 x 50 = $<<0.2*50=10>>10.\\n#### 10', latency=0.569417, time_to_first_token=None, input_tokens=0, output_tokens=0, total_tokens=0, cost=0.0, scores=[], trace_id='4766f4cb-b60b-412d-8df6-535bf31133c3', parent_trace_id='4766f4cb-b60b-412d-8df6-535bf31133c3', root_trace_id='4766f4cb-b60b-412d-8df6-535bf31133c3', start_timestamp='2024-07-05T00:51:32.226771+00:00', organization_id=None, project_uuid=None, error=None, status='success', deployment_id=None, cache_hit=False, output_for_eval_metrics='10', evaluation_metric_names=None, apply_eval_frac=1.0, feedback_score=None, trace_name='langchain_chain', children=[], end_timestamp='2024-07-05T00:51:32.796188+00:00', end_user_identifier=None, session_id=None, metadata=None, tags=None, experiment_uuid='dfb8442c-6ee3-4fde-a1ed-dfde37123e82', images=[], comments=None, annotations=None, depth=0, execution_order=0)\n"
     ]
    },
    {
     "name": "stderr",
     "output_type": "stream",
     "text": [
      " 60%|██████    | 3/5 [00:03<00:01,  1.20it/s]"
     ]
    },
    {
     "name": "stdout",
     "output_type": "stream",
     "text": [
      "TraceLog(configuration=LLMInputs(model=None, provider=None, model_params=None, messages=None, functions=None, function_call=None), inputs={'inputs': '{\"question\": \"Betty is saving money for a new wallet which costs $100. Betty has only half of the money she needs. Her parents decided to give her $15 for that purpose, and her grandparents twice as much as her parents. How much more money does Betty need to buy the wallet?\"}'}, output='20', target=\"In the beginning, Betty has only 100 / 2 = $<<100/2=50>>50.\\nBetty's grandparents gave her 15 * 2 = $<<15*2=30>>30.\\nThis means, Betty needs 100 - 50 - 30 - 15 = $<<100-50-30-15=5>>5 more.\\n#### 5\", latency=0.452865, time_to_first_token=None, input_tokens=0, output_tokens=0, total_tokens=0, cost=0.0, scores=[], trace_id='fde92030-4868-4e6b-8153-fd6fda30dc35', parent_trace_id='fde92030-4868-4e6b-8153-fd6fda30dc35', root_trace_id='fde92030-4868-4e6b-8153-fd6fda30dc35', start_timestamp='2024-07-05T00:51:32.797150+00:00', organization_id=None, project_uuid=None, error=None, status='success', deployment_id=None, cache_hit=False, output_for_eval_metrics='20', evaluation_metric_names=None, apply_eval_frac=1.0, feedback_score=None, trace_name='langchain_chain', children=[], end_timestamp='2024-07-05T00:51:33.250015+00:00', end_user_identifier=None, session_id=None, metadata=None, tags=None, experiment_uuid='dfb8442c-6ee3-4fde-a1ed-dfde37123e82', images=[], comments=None, annotations=None, depth=0, execution_order=0)\n"
     ]
    },
    {
     "name": "stderr",
     "output_type": "stream",
     "text": [
      " 80%|████████  | 4/5 [00:03<00:00,  1.41it/s]"
     ]
    },
    {
     "name": "stdout",
     "output_type": "stream",
     "text": [
      "TraceLog(configuration=LLMInputs(model=None, provider=None, model_params=None, messages=None, functions=None, function_call=None), inputs={'inputs': '{\"question\": \"Julie is reading a 120-page book. Yesterday, she was able to read 12 pages and today, she read twice as many pages as yesterday. If she wants to read half of the remaining pages tomorrow, how many pages should she read?\"}'}, output='72', target='Maila read 12 x 2 = <<12*2=24>>24 pages today.\\nSo she was able to read a total of 12 + 24 = <<12+24=36>>36 pages since yesterday.\\nThere are 120 - 36 = <<120-36=84>>84 pages left to be read.\\nSince she wants to read half of the remaining pages tomorrow, then she should read 84/2 = <<84/2=42>>42 pages.\\n#### 42', latency=0.518624, time_to_first_token=None, input_tokens=0, output_tokens=0, total_tokens=0, cost=0.0, scores=[], trace_id='4718810f-6c1b-429b-9050-66de256d44a6', parent_trace_id='4718810f-6c1b-429b-9050-66de256d44a6', root_trace_id='4718810f-6c1b-429b-9050-66de256d44a6', start_timestamp='2024-07-05T00:51:33.251295+00:00', organization_id=None, project_uuid=None, error=None, status='success', deployment_id=None, cache_hit=False, output_for_eval_metrics='72', evaluation_metric_names=None, apply_eval_frac=1.0, feedback_score=None, trace_name='langchain_chain', children=[], end_timestamp='2024-07-05T00:51:33.769919+00:00', end_user_identifier=None, session_id=None, metadata=None, tags=None, experiment_uuid='dfb8442c-6ee3-4fde-a1ed-dfde37123e82', images=[], comments=None, annotations=None, depth=0, execution_order=0)\n"
     ]
    },
    {
     "name": "stderr",
     "output_type": "stream",
     "text": [
      "100%|██████████| 5/5 [00:04<00:00,  1.24it/s]"
     ]
    },
    {
     "name": "stdout",
     "output_type": "stream",
     "text": [
      "TraceLog(configuration=LLMInputs(model=None, provider=None, model_params=None, messages=None, functions=None, function_call=None), inputs={'inputs': '{\"question\": \"James writes a 3-page letter to 2 different friends twice a week.  How many pages does he write a year?\"}'}, output='624', target='He writes each friend 3*2=<<3*2=6>>6 pages a week\\nSo he writes 6*2=<<6*2=12>>12 pages every week\\nThat means he writes 12*52=<<12*52=624>>624 pages a year\\n#### 624', latency=0.490708, time_to_first_token=None, input_tokens=0, output_tokens=0, total_tokens=0, cost=0.0, scores=[], trace_id='875af573-96fb-47da-94c6-526d0ecace03', parent_trace_id='875af573-96fb-47da-94c6-526d0ecace03', root_trace_id='875af573-96fb-47da-94c6-526d0ecace03', start_timestamp='2024-07-05T00:51:33.770497+00:00', organization_id=None, project_uuid=None, error=None, status='success', deployment_id=None, cache_hit=False, output_for_eval_metrics='624', evaluation_metric_names=None, apply_eval_frac=1.0, feedback_score=None, trace_name='langchain_chain', children=[], end_timestamp='2024-07-05T00:51:34.261205+00:00', end_user_identifier=None, session_id=None, metadata=None, tags=None, experiment_uuid='dfb8442c-6ee3-4fde-a1ed-dfde37123e82', images=[], comments=None, annotations=None, depth=0, execution_order=0)\n"
     ]
    },
    {
     "name": "stderr",
     "output_type": "stream",
     "text": [
      "\n",
      "0it [00:04, ?it/s]\n"
     ]
    },
    {
     "name": "stdout",
     "output_type": "stream",
     "text": [
      "Experiment wibbly-wobbly Run dotty-woes stats:\n",
      "{\n",
      "  \"latency\": \"0.81\",\n",
      "  \"input_tokens\": \"0.00\",\n",
      "  \"output_tokens\": \"0.00\",\n",
      "  \"total_tokens\": \"0.00\",\n",
      "  \"cost\": \"0.00000\",\n",
      "  \"correctness\": \"0.60\"\n",
      "}\n",
      "\n",
      "\n",
      "View experiment & traces at: https://app.parea.ai/experiments/wibbly-wobbly/dfb8442c-6ee3-4fde-a1ed-dfde37123e82\n"
     ]
    }
   ],
   "source": [
    "experiment_kwargs = dict(\n",
    "    data=\"GSM8K_test_set_parea_dataset_2inu4fT1X5IZKj361H21BbD2Mc4\",\n",
    "    n_workers=1,\n",
    ")\n",
    "\n",
    "parea.experiment(\n",
    "    name=\"wibbly-wobbly\",\n",
    "    func=langchain_chain,\n",
    "    **experiment_kwargs\n",
    ").run()"
   ]
  },
  {
   "cell_type": "markdown",
   "id": "fde83296ce104d0e",
   "metadata": {
    "collapsed": false
   },
   "source": [
    "# How you should do the few-shot learning"
   ]
  },
  {
   "cell_type": "markdown",
   "id": "f1486e1accae198e",
   "metadata": {
    "collapsed": false
   },
   "source": [
    "## Rewrite your langchain_chain function to use the `zenbase` decorators"
   ]
  },
  {
   "cell_type": "code",
   "execution_count": 6,
   "id": "b35fb30eb084d55e",
   "metadata": {
    "ExecuteTime": {
     "end_time": "2024-07-05T00:51:41.438861Z",
     "start_time": "2024-07-05T00:51:41.182454Z"
    }
   },
   "outputs": [],
   "source": [
    "from zenbase.types import LMRequest, deflm\n",
    "\n",
    "# Step 1: Add the deflm decorator\n",
    "# Step 2: Incorporate few-shot demonstrations\n",
    "\n",
    "@deflm # Step 1\n",
    "@trace(eval_funcs=[score_answer])\n",
    "def zen_chain(request: LMRequest):\n",
    "    from langchain_core.output_parsers import StrOutputParser\n",
    "    from langchain_core.prompts import ChatPromptTemplate\n",
    "    from langchain_openai import ChatOpenAI\n",
    "\n",
    "    messages = [\n",
    "        (\n",
    "            \"system\",\n",
    "            \"You are an expert math solver. Your answer must be just the number with no separators, and nothing else. Follow the format of the examples.\",\n",
    "        )\n",
    "    ]\n",
    "\n",
    "    # Step 2\n",
    "    for demo in request.zenbase.task_demos:\n",
    "        messages += [\n",
    "            (\"user\", str(demo.inputs).replace(\"{\", \"\").replace(\"}\", \"\")),\n",
    "            (\"assistant\", str(demo.outputs['target'])),\n",
    "        ]\n",
    "    \n",
    "    messages.append((\"user\", \"{question}\"))\n",
    "    chain = (\n",
    "        ChatPromptTemplate.from_messages(messages)\n",
    "        | ChatOpenAI(model=\"gpt-3.5-turbo\")\n",
    "        | StrOutputParser()\n",
    "    )\n",
    "\n",
    "    answer = chain.invoke(request.inputs)\n",
    "    return answer\n"
   ]
  },
  {
   "cell_type": "markdown",
   "id": "f788a28b9a74cea3",
   "metadata": {
    "collapsed": false
   },
   "source": [
    "It is still working like before:"
   ]
  },
  {
   "cell_type": "code",
   "execution_count": 7,
   "id": "6794b40a27bd573c",
   "metadata": {
    "ExecuteTime": {
     "end_time": "2024-07-05T00:51:43.968282Z",
     "start_time": "2024-07-05T00:51:43.402008Z"
    },
    "collapsed": false
   },
   "outputs": [
    {
     "name": "stdout",
     "output_type": "stream",
     "text": [
      "TraceLog(configuration=LLMInputs(model=None, provider=None, model_params=None, messages=None, functions=None, function_call=None), inputs={'request': '{\"zenbase\": {\"task_demos\": [], \"model_params\": {}}, \"inputs\": {\"question\": \"What is 2+2?\"}, \"id\": \"request_2inyb3jIGYhlocjDNk8w4EnTYQa\"}'}, output='4', target=None, latency=0.555932, time_to_first_token=None, input_tokens=0, output_tokens=0, total_tokens=0, cost=0.0, scores=[], trace_id='27b4d578-58ea-46e4-93ad-6548f1bbc7e3', parent_trace_id='27b4d578-58ea-46e4-93ad-6548f1bbc7e3', root_trace_id='27b4d578-58ea-46e4-93ad-6548f1bbc7e3', start_timestamp='2024-07-05T00:51:43.403718+00:00', organization_id=None, project_uuid=None, error=None, status='success', deployment_id=None, cache_hit=False, output_for_eval_metrics='4', evaluation_metric_names=None, apply_eval_frac=1.0, feedback_score=None, trace_name='zen_chain', children=[], end_timestamp='2024-07-05T00:51:43.959650+00:00', end_user_identifier=None, session_id=None, metadata=None, tags=None, experiment_uuid=None, images=[], comments=None, annotations=None, depth=0, execution_order=0)\n"
     ]
    },
    {
     "data": {
      "text/plain": [
       "'4'"
      ]
     },
     "execution_count": 7,
     "metadata": {},
     "output_type": "execute_result"
    }
   ],
   "source": [
    "zen_chain({\"question\": \"What is 2+2?\"})"
   ]
  },
  {
   "cell_type": "markdown",
   "id": "d09a311ea1828071",
   "metadata": {
    "collapsed": false
   },
   "source": [
    "### Define your optimizer:"
   ]
  },
  {
   "cell_type": "code",
   "execution_count": 8,
   "id": "e935c1126e7e18be",
   "metadata": {
    "ExecuteTime": {
     "end_time": "2024-07-05T00:52:09.291776Z",
     "start_time": "2024-07-05T00:51:45.769544Z"
    }
   },
   "outputs": [
    {
     "name": "stdout",
     "output_type": "stream",
     "text": [
      "Run name set to: moldy-kobs, since a name was not provided.\n",
      "Fetching test collection: GSM8K_test_set_parea_dataset_2inu4fT1X5IZKj361H21BbD2Mc4\n",
      "Fetched 5 test cases from collection: GSM8K_test_set_parea_dataset_2inu4fT1X5IZKj361H21BbD2Mc4 \n"
     ]
    },
    {
     "name": "stderr",
     "output_type": "stream",
     "text": [
      " 20%|██        | 1/5 [00:01<00:05,  1.31s/it]"
     ]
    },
    {
     "name": "stdout",
     "output_type": "stream",
     "text": [
      "TraceLog(configuration=LLMInputs(model=None, provider=None, model_params=None, messages=None, functions=None, function_call=None), inputs={'request': '{\"zenbase\": {\"task_demos\": [{\"inputs\": {\"inputs\": \"{\\\\\"question\\\\\": \\\\\"Toulouse has twice as many sheep as Charleston. Charleston has 4 times as many sheep as Seattle. How many sheep do Toulouse, Charleston, and Seattle have together if Seattle has 20 sheep?\\\\\"}\"}, \"outputs\": {\"target\": \"If Seattle has 20 sheep, Charleston has 4 * 20 sheep = <<20*4=80>>80 sheep\\\\nToulouse has twice as many sheep as Charleston, which is 2 * 80 sheep = <<2*80=160>>160 sheep\\\\nTogether, the three has 20 sheep + 160 sheep + 80 sheep = <<20+160+80=260>>260 sheep\\\\n#### 260\"}, \"original_object\": null}], \"model_params\": {}}, \"inputs\": \"{\\\\\"question\\\\\": \\\\\"Natalia sold clips to 48 of her friends in April, and then she sold half as many clips in May. How many clips did Natalia sell altogether in April and May?\\\\\"}\", \"id\": \"request_2inybPvI3uItoFfQWJNSoIByHDC\"}'}, output='In May, Natalia sold half as many clips as in April, which is 48 clips / 2 = <<48/2=24>>24 clips\\nAltogether, Natalia sold 48 clips in April + 24 clips in May = <<48+24=72>>72 clips\\n#### 72', target='Natalia sold 48/2 = <<48/2=24>>24 clips in May.\\nNatalia sold 48+24 = <<48+24=72>>72 clips altogether in April and May.\\n#### 72', latency=1.313644, time_to_first_token=None, input_tokens=0, output_tokens=0, total_tokens=0, cost=0.0, scores=[], trace_id='f8618e7e-80a4-4a46-a948-4cefb6fc8e51', parent_trace_id='f8618e7e-80a4-4a46-a948-4cefb6fc8e51', root_trace_id='f8618e7e-80a4-4a46-a948-4cefb6fc8e51', start_timestamp='2024-07-05T00:51:46.600650+00:00', organization_id=None, project_uuid=None, error=None, status='success', deployment_id=None, cache_hit=False, output_for_eval_metrics='In May, Natalia sold half as many clips as in April, which is 48 clips / 2 = <<48/2=24>>24 clips\\nAltogether, Natalia sold 48 clips in April + 24 clips in May = <<48+24=72>>72 clips\\n#### 72', evaluation_metric_names=None, apply_eval_frac=1.0, feedback_score=None, trace_name='zen_chain', children=[], end_timestamp='2024-07-05T00:51:47.914294+00:00', end_user_identifier=None, session_id=None, metadata=None, tags=None, experiment_uuid='004f5366-661e-43ce-b299-400f8954218b', images=[], comments=None, annotations=None, depth=0, execution_order=0)\n"
     ]
    },
    {
     "name": "stderr",
     "output_type": "stream",
     "text": [
      " 40%|████      | 2/5 [00:02<00:03,  1.09s/it]"
     ]
    },
    {
     "name": "stdout",
     "output_type": "stream",
     "text": [
      "TraceLog(configuration=LLMInputs(model=None, provider=None, model_params=None, messages=None, functions=None, function_call=None), inputs={'request': '{\"zenbase\": {\"task_demos\": [{\"inputs\": {\"inputs\": \"{\\\\\"question\\\\\": \\\\\"Toulouse has twice as many sheep as Charleston. Charleston has 4 times as many sheep as Seattle. How many sheep do Toulouse, Charleston, and Seattle have together if Seattle has 20 sheep?\\\\\"}\"}, \"outputs\": {\"target\": \"If Seattle has 20 sheep, Charleston has 4 * 20 sheep = <<20*4=80>>80 sheep\\\\nToulouse has twice as many sheep as Charleston, which is 2 * 80 sheep = <<2*80=160>>160 sheep\\\\nTogether, the three has 20 sheep + 160 sheep + 80 sheep = <<20+160+80=260>>260 sheep\\\\n#### 260\"}, \"original_object\": null}], \"model_params\": {}}, \"inputs\": \"{\\\\\"question\\\\\": \\\\\"Weng earns $12 an hour for babysitting. Yesterday, she just did 50 minutes of babysitting. How much did she earn?\\\\\"}\", \"id\": \"request_2inybZLdSk25SUpDiSTx5awN7oM\"}'}, output='Weng earns $12 an hour for babysitting, so for 50 minutes she earns 12/60 * 50 = <<12/60*50=10>>10\\n#### 10', target='Weng earns 12/60 = $<<12/60=0.2>>0.2 per minute.\\nWorking 50 minutes, she earned 0.2 x 50 = $<<0.2*50=10>>10.\\n#### 10', latency=0.925395, time_to_first_token=None, input_tokens=0, output_tokens=0, total_tokens=0, cost=0.0, scores=[], trace_id='270deb7a-5cf2-46d0-8699-ec56c0ba4c4f', parent_trace_id='270deb7a-5cf2-46d0-8699-ec56c0ba4c4f', root_trace_id='270deb7a-5cf2-46d0-8699-ec56c0ba4c4f', start_timestamp='2024-07-05T00:51:47.915451+00:00', organization_id=None, project_uuid=None, error=None, status='success', deployment_id=None, cache_hit=False, output_for_eval_metrics='Weng earns $12 an hour for babysitting, so for 50 minutes she earns 12/60 * 50 = <<12/60*50=10>>10\\n#### 10', evaluation_metric_names=None, apply_eval_frac=1.0, feedback_score=None, trace_name='zen_chain', children=[], end_timestamp='2024-07-05T00:51:48.840846+00:00', end_user_identifier=None, session_id=None, metadata=None, tags=None, experiment_uuid='004f5366-661e-43ce-b299-400f8954218b', images=[], comments=None, annotations=None, depth=0, execution_order=0)\n"
     ]
    },
    {
     "name": "stderr",
     "output_type": "stream",
     "text": [
      " 60%|██████    | 3/5 [00:03<00:02,  1.10s/it]"
     ]
    },
    {
     "name": "stdout",
     "output_type": "stream",
     "text": [
      "TraceLog(configuration=LLMInputs(model=None, provider=None, model_params=None, messages=None, functions=None, function_call=None), inputs={'request': '{\"zenbase\": {\"task_demos\": [{\"inputs\": {\"inputs\": \"{\\\\\"question\\\\\": \\\\\"Toulouse has twice as many sheep as Charleston. Charleston has 4 times as many sheep as Seattle. How many sheep do Toulouse, Charleston, and Seattle have together if Seattle has 20 sheep?\\\\\"}\"}, \"outputs\": {\"target\": \"If Seattle has 20 sheep, Charleston has 4 * 20 sheep = <<20*4=80>>80 sheep\\\\nToulouse has twice as many sheep as Charleston, which is 2 * 80 sheep = <<2*80=160>>160 sheep\\\\nTogether, the three has 20 sheep + 160 sheep + 80 sheep = <<20+160+80=260>>260 sheep\\\\n#### 260\"}, \"original_object\": null}], \"model_params\": {}}, \"inputs\": \"{\\\\\"question\\\\\": \\\\\"Betty is saving money for a new wallet which costs $100. Betty has only half of the money she needs. Her parents decided to give her $15 for that purpose, and her grandparents twice as much as her parents. How much more money does Betty need to buy the wallet?\\\\\"}\", \"id\": \"request_2inybkNwBgbjgZSIoyB15PRjRMM\"}'}, output='Betty needs $100 / 2 = $50\\nHer grandparents give $15 * 2 = $30\\nIn total, she has $50 + $15 + $30 = $95\\nBetty still needs $100 - $95 = $5\\n#### 5', target=\"In the beginning, Betty has only 100 / 2 = $<<100/2=50>>50.\\nBetty's grandparents gave her 15 * 2 = $<<15*2=30>>30.\\nThis means, Betty needs 100 - 50 - 30 - 15 = $<<100-50-30-15=5>>5 more.\\n#### 5\", latency=1.124406, time_to_first_token=None, input_tokens=0, output_tokens=0, total_tokens=0, cost=0.0, scores=[], trace_id='0ef0e7a9-394d-4f7f-8e3f-0a0a20e65177', parent_trace_id='0ef0e7a9-394d-4f7f-8e3f-0a0a20e65177', root_trace_id='0ef0e7a9-394d-4f7f-8e3f-0a0a20e65177', start_timestamp='2024-07-05T00:51:48.842017+00:00', organization_id=None, project_uuid=None, error=None, status='success', deployment_id=None, cache_hit=False, output_for_eval_metrics='Betty needs $100 / 2 = $50\\nHer grandparents give $15 * 2 = $30\\nIn total, she has $50 + $15 + $30 = $95\\nBetty still needs $100 - $95 = $5\\n#### 5', evaluation_metric_names=None, apply_eval_frac=1.0, feedback_score=None, trace_name='zen_chain', children=[], end_timestamp='2024-07-05T00:51:49.966423+00:00', end_user_identifier=None, session_id=None, metadata=None, tags=None, experiment_uuid='004f5366-661e-43ce-b299-400f8954218b', images=[], comments=None, annotations=None, depth=0, execution_order=0)\n"
     ]
    },
    {
     "name": "stderr",
     "output_type": "stream",
     "text": [
      " 80%|████████  | 4/5 [00:04<00:01,  1.29s/it]"
     ]
    },
    {
     "name": "stdout",
     "output_type": "stream",
     "text": [
      "TraceLog(configuration=LLMInputs(model=None, provider=None, model_params=None, messages=None, functions=None, function_call=None), inputs={'request': '{\"zenbase\": {\"task_demos\": [{\"inputs\": {\"inputs\": \"{\\\\\"question\\\\\": \\\\\"Toulouse has twice as many sheep as Charleston. Charleston has 4 times as many sheep as Seattle. How many sheep do Toulouse, Charleston, and Seattle have together if Seattle has 20 sheep?\\\\\"}\"}, \"outputs\": {\"target\": \"If Seattle has 20 sheep, Charleston has 4 * 20 sheep = <<20*4=80>>80 sheep\\\\nToulouse has twice as many sheep as Charleston, which is 2 * 80 sheep = <<2*80=160>>160 sheep\\\\nTogether, the three has 20 sheep + 160 sheep + 80 sheep = <<20+160+80=260>>260 sheep\\\\n#### 260\"}, \"original_object\": null}], \"model_params\": {}}, \"inputs\": \"{\\\\\"question\\\\\": \\\\\"Julie is reading a 120-page book. Yesterday, she was able to read 12 pages and today, she read twice as many pages as yesterday. If she wants to read half of the remaining pages tomorrow, how many pages should she read?\\\\\"}\", \"id\": \"request_2inybnV9NFWOBXzqCFrrq0Tm51j\"}'}, output='Julie read twice as many pages as yesterday, so today she read 2 * 12 pages = <<2*12=24>>24 pages.\\nSo far, Julie has read 12 pages + 24 pages = <<12+24=36>>36 pages.\\nShe has 120 total pages - 36 pages read = <<120-36=84>>84 pages left to read.\\nJulie wants to read half of the remaining pages tomorrow, so she should read 84 pages / 2 = <<84/2=42>>42 pages.\\n#### 42', target='Maila read 12 x 2 = <<12*2=24>>24 pages today.\\nSo she was able to read a total of 12 + 24 = <<12+24=36>>36 pages since yesterday.\\nThere are 120 - 36 = <<120-36=84>>84 pages left to be read.\\nSince she wants to read half of the remaining pages tomorrow, then she should read 84/2 = <<84/2=42>>42 pages.\\n#### 42', latency=1.567197, time_to_first_token=None, input_tokens=0, output_tokens=0, total_tokens=0, cost=0.0, scores=[], trace_id='376bc1a6-9013-489a-8f66-aac28fe6de2d', parent_trace_id='376bc1a6-9013-489a-8f66-aac28fe6de2d', root_trace_id='376bc1a6-9013-489a-8f66-aac28fe6de2d', start_timestamp='2024-07-05T00:51:49.968061+00:00', organization_id=None, project_uuid=None, error=None, status='success', deployment_id=None, cache_hit=False, output_for_eval_metrics='Julie read twice as many pages as yesterday, so today she read 2 * 12 pages = <<2*12=24>>24 pages.\\nSo far, Julie has read 12 pages + 24 pages = <<12+24=36>>36 pages.\\nShe has 120 total pages - 36 pages read = <<120-36=84>>84 pages left to read.\\nJulie wants to read half of the remaining pages tomorrow, so she should read 84 pages / 2 = <<84/2=42>>42 pages.\\n#### 42', evaluation_metric_names=None, apply_eval_frac=1.0, feedback_score=None, trace_name='zen_chain', children=[], end_timestamp='2024-07-05T00:51:51.535258+00:00', end_user_identifier=None, session_id=None, metadata=None, tags=None, experiment_uuid='004f5366-661e-43ce-b299-400f8954218b', images=[], comments=None, annotations=None, depth=0, execution_order=0)\n"
     ]
    },
    {
     "name": "stderr",
     "output_type": "stream",
     "text": [
      "100%|██████████| 5/5 [00:06<00:00,  1.29s/it]"
     ]
    },
    {
     "name": "stdout",
     "output_type": "stream",
     "text": [
      "TraceLog(configuration=LLMInputs(model=None, provider=None, model_params=None, messages=None, functions=None, function_call=None), inputs={'request': '{\"zenbase\": {\"task_demos\": [{\"inputs\": {\"inputs\": \"{\\\\\"question\\\\\": \\\\\"Toulouse has twice as many sheep as Charleston. Charleston has 4 times as many sheep as Seattle. How many sheep do Toulouse, Charleston, and Seattle have together if Seattle has 20 sheep?\\\\\"}\"}, \"outputs\": {\"target\": \"If Seattle has 20 sheep, Charleston has 4 * 20 sheep = <<20*4=80>>80 sheep\\\\nToulouse has twice as many sheep as Charleston, which is 2 * 80 sheep = <<2*80=160>>160 sheep\\\\nTogether, the three has 20 sheep + 160 sheep + 80 sheep = <<20+160+80=260>>260 sheep\\\\n#### 260\"}, \"original_object\": null}], \"model_params\": {}}, \"inputs\": \"{\\\\\"question\\\\\": \\\\\"James writes a 3-page letter to 2 different friends twice a week.  How many pages does he write a year?\\\\\"}\", \"id\": \"request_2inyc1J0lAIkqI2GZDT5qbFb4nQ\"}'}, output='James writes 3 pages to 2 friends, twice a week, so he writes 3 * 2 * 2 = <<3*2*2=12>>12 pages per week\\nIn a year, there are 52 weeks, so James writes 12 pages * 52 weeks = <<12*52=624>>624 pages in a year\\n#### 624', target='He writes each friend 3*2=<<3*2=6>>6 pages a week\\nSo he writes 6*2=<<6*2=12>>12 pages every week\\nThat means he writes 12*52=<<12*52=624>>624 pages a year\\n#### 624', latency=1.535722, time_to_first_token=None, input_tokens=0, output_tokens=0, total_tokens=0, cost=0.0, scores=[], trace_id='57fe3712-e030-4545-a900-9e7b6fc0e20c', parent_trace_id='57fe3712-e030-4545-a900-9e7b6fc0e20c', root_trace_id='57fe3712-e030-4545-a900-9e7b6fc0e20c', start_timestamp='2024-07-05T00:51:51.536527+00:00', organization_id=None, project_uuid=None, error=None, status='success', deployment_id=None, cache_hit=False, output_for_eval_metrics='James writes 3 pages to 2 friends, twice a week, so he writes 3 * 2 * 2 = <<3*2*2=12>>12 pages per week\\nIn a year, there are 52 weeks, so James writes 12 pages * 52 weeks = <<12*52=624>>624 pages in a year\\n#### 624', evaluation_metric_names=None, apply_eval_frac=1.0, feedback_score=None, trace_name='zen_chain', children=[], end_timestamp='2024-07-05T00:51:53.072249+00:00', end_user_identifier=None, session_id=None, metadata=None, tags=None, experiment_uuid='004f5366-661e-43ce-b299-400f8954218b', images=[], comments=None, annotations=None, depth=0, execution_order=0)\n"
     ]
    },
    {
     "name": "stderr",
     "output_type": "stream",
     "text": [
      "\n",
      "0it [00:04, ?it/s]\n"
     ]
    },
    {
     "name": "stdout",
     "output_type": "stream",
     "text": [
      "Experiment zenbase-open-source-grid-enabled Run moldy-kobs stats:\n",
      "{\n",
      "  \"latency\": \"1.29\",\n",
      "  \"input_tokens\": \"0.00\",\n",
      "  \"output_tokens\": \"0.00\",\n",
      "  \"total_tokens\": \"0.00\",\n",
      "  \"cost\": \"0.00000\",\n",
      "  \"correctness\": \"1.00\"\n",
      "}\n",
      "\n",
      "\n",
      "View experiment & traces at: https://app.parea.ai/experiments/zenbase-open-source-grid-enabled/004f5366-661e-43ce-b299-400f8954218b\n",
      "\n",
      "Run name set to: sedgy-huia, since a name was not provided.\n",
      "Fetching test collection: GSM8K_test_set_parea_dataset_2inu4fT1X5IZKj361H21BbD2Mc4\n",
      "Fetched 5 test cases from collection: GSM8K_test_set_parea_dataset_2inu4fT1X5IZKj361H21BbD2Mc4 \n"
     ]
    },
    {
     "name": "stderr",
     "output_type": "stream",
     "text": [
      " 20%|██        | 1/5 [00:01<00:05,  1.30s/it]"
     ]
    },
    {
     "name": "stdout",
     "output_type": "stream",
     "text": [
      "TraceLog(configuration=LLMInputs(model=None, provider=None, model_params=None, messages=None, functions=None, function_call=None), inputs={'request': '{\"zenbase\": {\"task_demos\": [{\"inputs\": {\"inputs\": \"{\\\\\"question\\\\\": \\\\\"Toulouse has twice as many sheep as Charleston. Charleston has 4 times as many sheep as Seattle. How many sheep do Toulouse, Charleston, and Seattle have together if Seattle has 20 sheep?\\\\\"}\"}, \"outputs\": {\"target\": \"If Seattle has 20 sheep, Charleston has 4 * 20 sheep = <<20*4=80>>80 sheep\\\\nToulouse has twice as many sheep as Charleston, which is 2 * 80 sheep = <<2*80=160>>160 sheep\\\\nTogether, the three has 20 sheep + 160 sheep + 80 sheep = <<20+160+80=260>>260 sheep\\\\n#### 260\"}, \"original_object\": null}], \"model_params\": {}}, \"inputs\": \"{\\\\\"question\\\\\": \\\\\"Natalia sold clips to 48 of her friends in April, and then she sold half as many clips in May. How many clips did Natalia sell altogether in April and May?\\\\\"}\", \"id\": \"request_2inyd0iC1Su5M7LvkmPWrtvMzFQ\"}'}, output='In April, Natalia sold 48 clips.\\nIn May, she sold half as many clips, which is 48 / 2 = 24 clips.\\nAltogether, Natalia sold 48 clips + 24 clips = 72 clips.\\n#### 72', target='Natalia sold 48/2 = <<48/2=24>>24 clips in May.\\nNatalia sold 48+24 = <<48+24=72>>72 clips altogether in April and May.\\n#### 72', latency=1.304435, time_to_first_token=None, input_tokens=0, output_tokens=0, total_tokens=0, cost=0.0, scores=[], trace_id='017e73cc-7b2f-433f-adc3-5c93aadfdac4', parent_trace_id='017e73cc-7b2f-433f-adc3-5c93aadfdac4', root_trace_id='017e73cc-7b2f-433f-adc3-5c93aadfdac4', start_timestamp='2024-07-05T00:51:58.040813+00:00', organization_id=None, project_uuid=None, error=None, status='success', deployment_id=None, cache_hit=False, output_for_eval_metrics='In April, Natalia sold 48 clips.\\nIn May, she sold half as many clips, which is 48 / 2 = 24 clips.\\nAltogether, Natalia sold 48 clips + 24 clips = 72 clips.\\n#### 72', evaluation_metric_names=None, apply_eval_frac=1.0, feedback_score=None, trace_name='zen_chain', children=[], end_timestamp='2024-07-05T00:51:59.345248+00:00', end_user_identifier=None, session_id=None, metadata=None, tags=None, experiment_uuid='e6bb2b6a-2673-4eea-b712-64c4fdcb33d1', images=[], comments=None, annotations=None, depth=0, execution_order=0)\n"
     ]
    },
    {
     "name": "stderr",
     "output_type": "stream",
     "text": [
      " 40%|████      | 2/5 [00:02<00:04,  1.34s/it]"
     ]
    },
    {
     "name": "stdout",
     "output_type": "stream",
     "text": [
      "TraceLog(configuration=LLMInputs(model=None, provider=None, model_params=None, messages=None, functions=None, function_call=None), inputs={'request': '{\"zenbase\": {\"task_demos\": [{\"inputs\": {\"inputs\": \"{\\\\\"question\\\\\": \\\\\"Toulouse has twice as many sheep as Charleston. Charleston has 4 times as many sheep as Seattle. How many sheep do Toulouse, Charleston, and Seattle have together if Seattle has 20 sheep?\\\\\"}\"}, \"outputs\": {\"target\": \"If Seattle has 20 sheep, Charleston has 4 * 20 sheep = <<20*4=80>>80 sheep\\\\nToulouse has twice as many sheep as Charleston, which is 2 * 80 sheep = <<2*80=160>>160 sheep\\\\nTogether, the three has 20 sheep + 160 sheep + 80 sheep = <<20+160+80=260>>260 sheep\\\\n#### 260\"}, \"original_object\": null}], \"model_params\": {}}, \"inputs\": \"{\\\\\"question\\\\\": \\\\\"Weng earns $12 an hour for babysitting. Yesterday, she just did 50 minutes of babysitting. How much did she earn?\\\\\"}\", \"id\": \"request_2inyd6XvgIjwSBpt23iehUVT3ks\"}'}, output='Weng earns $12 for 60 minutes of babysitting, so for 50 minutes she earns 12 * (50/60) = <<12*(50/60)>>(50 * 12) / 60 = <<50*12/60>>10\\n#### 10', target='Weng earns 12/60 = $<<12/60=0.2>>0.2 per minute.\\nWorking 50 minutes, she earned 0.2 x 50 = $<<0.2*50=10>>10.\\n#### 10', latency=1.35791, time_to_first_token=None, input_tokens=0, output_tokens=0, total_tokens=0, cost=0.0, scores=[], trace_id='e3fdf188-488f-4aa7-96c9-68a60233e8ea', parent_trace_id='e3fdf188-488f-4aa7-96c9-68a60233e8ea', root_trace_id='e3fdf188-488f-4aa7-96c9-68a60233e8ea', start_timestamp='2024-07-05T00:51:59.346773+00:00', organization_id=None, project_uuid=None, error=None, status='success', deployment_id=None, cache_hit=False, output_for_eval_metrics='Weng earns $12 for 60 minutes of babysitting, so for 50 minutes she earns 12 * (50/60) = <<12*(50/60)>>(50 * 12) / 60 = <<50*12/60>>10\\n#### 10', evaluation_metric_names=None, apply_eval_frac=1.0, feedback_score=None, trace_name='zen_chain', children=[], end_timestamp='2024-07-05T00:52:00.704683+00:00', end_user_identifier=None, session_id=None, metadata=None, tags=None, experiment_uuid='e6bb2b6a-2673-4eea-b712-64c4fdcb33d1', images=[], comments=None, annotations=None, depth=0, execution_order=0)\n"
     ]
    },
    {
     "name": "stderr",
     "output_type": "stream",
     "text": [
      " 60%|██████    | 3/5 [00:03<00:02,  1.26s/it]"
     ]
    },
    {
     "name": "stdout",
     "output_type": "stream",
     "text": [
      "TraceLog(configuration=LLMInputs(model=None, provider=None, model_params=None, messages=None, functions=None, function_call=None), inputs={'request': '{\"zenbase\": {\"task_demos\": [{\"inputs\": {\"inputs\": \"{\\\\\"question\\\\\": \\\\\"Toulouse has twice as many sheep as Charleston. Charleston has 4 times as many sheep as Seattle. How many sheep do Toulouse, Charleston, and Seattle have together if Seattle has 20 sheep?\\\\\"}\"}, \"outputs\": {\"target\": \"If Seattle has 20 sheep, Charleston has 4 * 20 sheep = <<20*4=80>>80 sheep\\\\nToulouse has twice as many sheep as Charleston, which is 2 * 80 sheep = <<2*80=160>>160 sheep\\\\nTogether, the three has 20 sheep + 160 sheep + 80 sheep = <<20+160+80=260>>260 sheep\\\\n#### 260\"}, \"original_object\": null}], \"model_params\": {}}, \"inputs\": \"{\\\\\"question\\\\\": \\\\\"Betty is saving money for a new wallet which costs $100. Betty has only half of the money she needs. Her parents decided to give her $15 for that purpose, and her grandparents twice as much as her parents. How much more money does Betty need to buy the wallet?\\\\\"}\", \"id\": \"request_2inydDqCn89ghW0t7ZRstvM7p8t\"}'}, output='Betty needs $100 / 2 = $50.\\nHer grandparents give her $15 * 2 = $30.\\nIn total, Betty has $50 + $15 + $30 = $95.\\nBetty still needs $100 - $95 = $5 more to buy the wallet.\\n#### 5', target=\"In the beginning, Betty has only 100 / 2 = $<<100/2=50>>50.\\nBetty's grandparents gave her 15 * 2 = $<<15*2=30>>30.\\nThis means, Betty needs 100 - 50 - 30 - 15 = $<<100-50-30-15=5>>5 more.\\n#### 5\", latency=1.17153, time_to_first_token=None, input_tokens=0, output_tokens=0, total_tokens=0, cost=0.0, scores=[], trace_id='9ac3e7d5-7fce-49f7-9472-b1de2784a479', parent_trace_id='9ac3e7d5-7fce-49f7-9472-b1de2784a479', root_trace_id='9ac3e7d5-7fce-49f7-9472-b1de2784a479', start_timestamp='2024-07-05T00:52:00.706161+00:00', organization_id=None, project_uuid=None, error=None, status='success', deployment_id=None, cache_hit=False, output_for_eval_metrics='Betty needs $100 / 2 = $50.\\nHer grandparents give her $15 * 2 = $30.\\nIn total, Betty has $50 + $15 + $30 = $95.\\nBetty still needs $100 - $95 = $5 more to buy the wallet.\\n#### 5', evaluation_metric_names=None, apply_eval_frac=1.0, feedback_score=None, trace_name='zen_chain', children=[], end_timestamp='2024-07-05T00:52:01.877691+00:00', end_user_identifier=None, session_id=None, metadata=None, tags=None, experiment_uuid='e6bb2b6a-2673-4eea-b712-64c4fdcb33d1', images=[], comments=None, annotations=None, depth=0, execution_order=0)\n"
     ]
    },
    {
     "name": "stderr",
     "output_type": "stream",
     "text": [
      " 80%|████████  | 4/5 [00:05<00:01,  1.43s/it]"
     ]
    },
    {
     "name": "stdout",
     "output_type": "stream",
     "text": [
      "TraceLog(configuration=LLMInputs(model=None, provider=None, model_params=None, messages=None, functions=None, function_call=None), inputs={'request': '{\"zenbase\": {\"task_demos\": [{\"inputs\": {\"inputs\": \"{\\\\\"question\\\\\": \\\\\"Toulouse has twice as many sheep as Charleston. Charleston has 4 times as many sheep as Seattle. How many sheep do Toulouse, Charleston, and Seattle have together if Seattle has 20 sheep?\\\\\"}\"}, \"outputs\": {\"target\": \"If Seattle has 20 sheep, Charleston has 4 * 20 sheep = <<20*4=80>>80 sheep\\\\nToulouse has twice as many sheep as Charleston, which is 2 * 80 sheep = <<2*80=160>>160 sheep\\\\nTogether, the three has 20 sheep + 160 sheep + 80 sheep = <<20+160+80=260>>260 sheep\\\\n#### 260\"}, \"original_object\": null}], \"model_params\": {}}, \"inputs\": \"{\\\\\"question\\\\\": \\\\\"Julie is reading a 120-page book. Yesterday, she was able to read 12 pages and today, she read twice as many pages as yesterday. If she wants to read half of the remaining pages tomorrow, how many pages should she read?\\\\\"}\", \"id\": \"request_2inydK4V4itHH0dZVVZB2fjN1Nn\"}'}, output='Julie read twice as many pages today as she did yesterday, which is 2 * 12 pages = <<2*12=24>>24 pages.\\nJulie has read a total of 12 pages + 24 pages = <<12+24=36>>36 pages so far.\\nThe remaining pages are 120 pages - 36 pages = <<120-36=84>>84 pages.\\nJulie wants to read half of the remaining pages tomorrow, which is 84 pages / 2 = <<84/2=42>>42 pages.\\n#### 42', target='Maila read 12 x 2 = <<12*2=24>>24 pages today.\\nSo she was able to read a total of 12 + 24 = <<12+24=36>>36 pages since yesterday.\\nThere are 120 - 36 = <<120-36=84>>84 pages left to be read.\\nSince she wants to read half of the remaining pages tomorrow, then she should read 84/2 = <<84/2=42>>42 pages.\\n#### 42', latency=1.690267, time_to_first_token=None, input_tokens=0, output_tokens=0, total_tokens=0, cost=0.0, scores=[], trace_id='8bdc17d9-68bd-49bf-9716-c6f813efbe48', parent_trace_id='8bdc17d9-68bd-49bf-9716-c6f813efbe48', root_trace_id='8bdc17d9-68bd-49bf-9716-c6f813efbe48', start_timestamp='2024-07-05T00:52:01.878778+00:00', organization_id=None, project_uuid=None, error=None, status='success', deployment_id=None, cache_hit=False, output_for_eval_metrics='Julie read twice as many pages today as she did yesterday, which is 2 * 12 pages = <<2*12=24>>24 pages.\\nJulie has read a total of 12 pages + 24 pages = <<12+24=36>>36 pages so far.\\nThe remaining pages are 120 pages - 36 pages = <<120-36=84>>84 pages.\\nJulie wants to read half of the remaining pages tomorrow, which is 84 pages / 2 = <<84/2=42>>42 pages.\\n#### 42', evaluation_metric_names=None, apply_eval_frac=1.0, feedback_score=None, trace_name='zen_chain', children=[], end_timestamp='2024-07-05T00:52:03.569045+00:00', end_user_identifier=None, session_id=None, metadata=None, tags=None, experiment_uuid='e6bb2b6a-2673-4eea-b712-64c4fdcb33d1', images=[], comments=None, annotations=None, depth=0, execution_order=0)\n"
     ]
    },
    {
     "name": "stderr",
     "output_type": "stream",
     "text": [
      "100%|██████████| 5/5 [00:06<00:00,  1.34s/it]"
     ]
    },
    {
     "name": "stdout",
     "output_type": "stream",
     "text": [
      "TraceLog(configuration=LLMInputs(model=None, provider=None, model_params=None, messages=None, functions=None, function_call=None), inputs={'request': '{\"zenbase\": {\"task_demos\": [{\"inputs\": {\"inputs\": \"{\\\\\"question\\\\\": \\\\\"Toulouse has twice as many sheep as Charleston. Charleston has 4 times as many sheep as Seattle. How many sheep do Toulouse, Charleston, and Seattle have together if Seattle has 20 sheep?\\\\\"}\"}, \"outputs\": {\"target\": \"If Seattle has 20 sheep, Charleston has 4 * 20 sheep = <<20*4=80>>80 sheep\\\\nToulouse has twice as many sheep as Charleston, which is 2 * 80 sheep = <<2*80=160>>160 sheep\\\\nTogether, the three has 20 sheep + 160 sheep + 80 sheep = <<20+160+80=260>>260 sheep\\\\n#### 260\"}, \"original_object\": null}], \"model_params\": {}}, \"inputs\": \"{\\\\\"question\\\\\": \\\\\"James writes a 3-page letter to 2 different friends twice a week.  How many pages does he write a year?\\\\\"}\", \"id\": \"request_2inyddBDMk4RbgMhHaiIbKKOHTx\"}'}, output='James writes 3 pages to 2 friends, twice a week, so in total he writes 3 * 2 * 2 = <<3*2*2=12>>12 pages per week\\nIn a year, he writes 12 pages/week * 52 weeks/year = <<12*52=624>>624 pages\\n#### 624', target='He writes each friend 3*2=<<3*2=6>>6 pages a week\\nSo he writes 6*2=<<6*2=12>>12 pages every week\\nThat means he writes 12*52=<<12*52=624>>624 pages a year\\n#### 624', latency=1.174897, time_to_first_token=None, input_tokens=0, output_tokens=0, total_tokens=0, cost=0.0, scores=[], trace_id='a74b2f67-ebe9-4d2e-9928-6f14712ba286', parent_trace_id='a74b2f67-ebe9-4d2e-9928-6f14712ba286', root_trace_id='a74b2f67-ebe9-4d2e-9928-6f14712ba286', start_timestamp='2024-07-05T00:52:03.570289+00:00', organization_id=None, project_uuid=None, error=None, status='success', deployment_id=None, cache_hit=False, output_for_eval_metrics='James writes 3 pages to 2 friends, twice a week, so in total he writes 3 * 2 * 2 = <<3*2*2=12>>12 pages per week\\nIn a year, he writes 12 pages/week * 52 weeks/year = <<12*52=624>>624 pages\\n#### 624', evaluation_metric_names=None, apply_eval_frac=1.0, feedback_score=None, trace_name='zen_chain', children=[], end_timestamp='2024-07-05T00:52:04.745186+00:00', end_user_identifier=None, session_id=None, metadata=None, tags=None, experiment_uuid='e6bb2b6a-2673-4eea-b712-64c4fdcb33d1', images=[], comments=None, annotations=None, depth=0, execution_order=0)\n"
     ]
    },
    {
     "name": "stderr",
     "output_type": "stream",
     "text": [
      "\n",
      "0it [00:04, ?it/s]\n"
     ]
    },
    {
     "name": "stdout",
     "output_type": "stream",
     "text": [
      "Experiment zenbase-balanced-methodical Run sedgy-huia stats:\n",
      "{\n",
      "  \"latency\": \"1.34\",\n",
      "  \"input_tokens\": \"0.00\",\n",
      "  \"output_tokens\": \"0.00\",\n",
      "  \"total_tokens\": \"0.00\",\n",
      "  \"cost\": \"0.00000\",\n",
      "  \"correctness\": \"1.00\"\n",
      "}\n",
      "\n",
      "\n",
      "View experiment & traces at: https://app.parea.ai/experiments/zenbase-balanced-methodical/e6bb2b6a-2673-4eea-b712-64c4fdcb33d1\n"
     ]
    }
   ],
   "source": [
    "from zenbase.optim.metric.labeled_few_shot import LabeledFewShot\n",
    "from zenbase.adaptors.parea import ZenParea\n",
    "\n",
    "zen_parea_helper = ZenParea(parea)\n",
    "\n",
    "demoset = zen_parea_helper.fetch_dataset_demos(\"GSM8K_validation_set_parea_dataset_2inu4oPWWEZYS4eBsWLJ3ZR4P1f\")\n",
    "optimizer = LabeledFewShot(demoset=demoset, shots=1)"
   ]
  },
  {
   "cell_type": "markdown",
   "id": "896e68edebf0c3e3",
   "metadata": {
    "collapsed": false
   },
   "source": [
    "### Perform the optimization"
   ]
  },
  {
   "cell_type": "code",
   "execution_count": null,
   "id": "46da509306b86c6a",
   "metadata": {
    "collapsed": false
   },
   "outputs": [],
   "source": [
    "best_fn, candidate_results, _= optimizer.perform(\n",
    "    zen_chain,\n",
    "    evaluator=ZenParea.metric_evaluator(**experiment_kwargs),\n",
    "    samples=2,\n",
    "    rounds=1,\n",
    ")"
   ]
  },
  {
   "cell_type": "markdown",
   "id": "9e13f78df8c5883d",
   "metadata": {
    "collapsed": false
   },
   "source": [
    "### Use the best function"
   ]
  },
  {
   "cell_type": "code",
   "execution_count": 9,
   "id": "7d03caab067b16ce",
   "metadata": {
    "ExecuteTime": {
     "end_time": "2024-07-05T00:52:09.937192Z",
     "start_time": "2024-07-05T00:52:09.296941Z"
    }
   },
   "outputs": [
    {
     "name": "stdout",
     "output_type": "stream",
     "text": [
      "TraceLog(configuration=LLMInputs(model=None, provider=None, model_params=None, messages=None, functions=None, function_call=None), inputs={'request': '{\"zenbase\": {\"task_demos\": [{\"inputs\": {\"inputs\": \"{\\\\\"question\\\\\": \\\\\"Toulouse has twice as many sheep as Charleston. Charleston has 4 times as many sheep as Seattle. How many sheep do Toulouse, Charleston, and Seattle have together if Seattle has 20 sheep?\\\\\"}\"}, \"outputs\": {\"target\": \"If Seattle has 20 sheep, Charleston has 4 * 20 sheep = <<20*4=80>>80 sheep\\\\nToulouse has twice as many sheep as Charleston, which is 2 * 80 sheep = <<2*80=160>>160 sheep\\\\nTogether, the three has 20 sheep + 160 sheep + 80 sheep = <<20+160+80=260>>260 sheep\\\\n#### 260\"}, \"original_object\": null}], \"model_params\": {}}, \"inputs\": {\"question\": \"What is 2+2?\"}, \"id\": \"request_2inyeOhT2stVxhoszw9ygae3vVE\"}'}, output='4', target=None, latency=0.570808, time_to_first_token=None, input_tokens=0, output_tokens=0, total_tokens=0, cost=0.0, scores=[], trace_id='81496c8d-df2a-4339-9406-1cf81161b5e7', parent_trace_id='81496c8d-df2a-4339-9406-1cf81161b5e7', root_trace_id='81496c8d-df2a-4339-9406-1cf81161b5e7', start_timestamp='2024-07-05T00:52:09.298892+00:00', organization_id=None, project_uuid=None, error=None, status='success', deployment_id=None, cache_hit=False, output_for_eval_metrics='4', evaluation_metric_names=None, apply_eval_frac=1.0, feedback_score=None, trace_name='zen_chain', children=[], end_timestamp='2024-07-05T00:52:09.869700+00:00', end_user_identifier=None, session_id=None, metadata=None, tags=None, experiment_uuid=None, images=[], comments=None, annotations=None, depth=0, execution_order=0)\n"
     ]
    },
    {
     "data": {
      "text/plain": [
       "'4'"
      ]
     },
     "execution_count": 9,
     "metadata": {},
     "output_type": "execute_result"
    }
   ],
   "source": [
    "output = best_fn({\"question\": \"What is 2+2?\"})\n",
    "output"
   ]
  },
  {
   "cell_type": "markdown",
   "id": "631a7efae7d7717c",
   "metadata": {
    "collapsed": false
   },
   "source": [
    "### Save the best function"
   ]
  },
  {
   "cell_type": "code",
   "execution_count": 11,
   "id": "273ba2abfd65d89d",
   "metadata": {
    "ExecuteTime": {
     "end_time": "2024-07-05T00:52:44.967200Z",
     "start_time": "2024-07-05T00:52:44.441506Z"
    }
   },
   "outputs": [
    {
     "name": "stdout",
     "output_type": "stream",
     "text": [
      "TraceLog(configuration=LLMInputs(model=None, provider=None, model_params=None, messages=None, functions=None, function_call=None), inputs={'request': '{\"zenbase\": {\"task_demos\": [{\"inputs\": {\"inputs\": \"{\\\\\"question\\\\\": \\\\\"Toulouse has twice as many sheep as Charleston. Charleston has 4 times as many sheep as Seattle. How many sheep do Toulouse, Charleston, and Seattle have together if Seattle has 20 sheep?\\\\\"}\"}, \"outputs\": {\"target\": \"If Seattle has 20 sheep, Charleston has 4 * 20 sheep = <<20*4=80>>80 sheep\\\\nToulouse has twice as many sheep as Charleston, which is 2 * 80 sheep = <<2*80=160>>160 sheep\\\\nTogether, the three has 20 sheep + 160 sheep + 80 sheep = <<20+160+80=260>>260 sheep\\\\n#### 260\"}, \"original_object\": null}], \"model_params\": {}}, \"inputs\": {\"question\": \"What is 2 + 2?\"}, \"id\": \"request_2inyijg5rjE6KfwqZUbKUnRGLof\"}'}, output='4', target=None, latency=0.519367, time_to_first_token=None, input_tokens=0, output_tokens=0, total_tokens=0, cost=0.0, scores=[], trace_id='02bddac0-62a0-46e9-8aa2-16aad96d3e66', parent_trace_id='02bddac0-62a0-46e9-8aa2-16aad96d3e66', root_trace_id='02bddac0-62a0-46e9-8aa2-16aad96d3e66', start_timestamp='2024-07-05T00:52:44.442995+00:00', organization_id=None, project_uuid=None, error=None, status='success', deployment_id=None, cache_hit=False, output_for_eval_metrics='4', evaluation_metric_names=None, apply_eval_frac=1.0, feedback_score=None, trace_name='zen_chain', children=[], end_timestamp='2024-07-05T00:52:44.962362+00:00', end_user_identifier=None, session_id=None, metadata=None, tags=None, experiment_uuid=None, images=[], comments=None, annotations=None, depth=0, execution_order=0)\n"
     ]
    },
    {
     "data": {
      "text/plain": [
       "'4'"
      ]
     },
     "execution_count": 11,
     "metadata": {},
     "output_type": "execute_result"
    }
   ],
   "source": [
    "# You can also save the zenbase params for re-use\n",
    "import pickle\n",
    "\n",
    "pickled_zenbase = pickle.dumps(best_fn.zenbase)\n",
    "zen_chain.zenbase = pickle.loads(pickled_zenbase)\n",
    "\n",
    "zen_chain({\"question\": \"What is 2 + 2?\"}) # uses the best few-shot demos"
   ]
  }
 ],
 "metadata": {
  "kernelspec": {
   "display_name": "Python 3",
   "language": "python",
   "name": "python3"
  },
  "language_info": {
   "codemirror_mode": {
    "name": "ipython",
    "version": 3
   },
   "file_extension": ".py",
   "mimetype": "text/x-python",
   "name": "python",
   "nbconvert_exporter": "python",
   "pygments_lexer": "ipython3",
   "version": "3.10.13"
  }
 },
 "nbformat": 4,
 "nbformat_minor": 5
}
