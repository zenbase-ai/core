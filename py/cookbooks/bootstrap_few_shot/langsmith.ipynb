{
 "cells": [
  {
   "cell_type": "markdown",
   "source": [
    "Install packages:"
   ],
   "metadata": {
    "collapsed": false
   },
   "id": "297ac2e185a1ec3b"
  },
  {
   "cell_type": "code",
   "outputs": [],
   "source": [
    "import sys\n",
    "import subprocess\n",
    "\n",
    "def install_package(package):\n",
    "    try:\n",
    "        subprocess.check_call([sys.executable, \"-m\", \"pip\", \"install\", package])\n",
    "    except subprocess.CalledProcessError as e:\n",
    "        print(f\"Failed to install {package}: {e}\")\n",
    "        raise\n",
    "\n",
    "def install_packages(packages):\n",
    "    for package in packages:\n",
    "        install_package(package)\n",
    "\n",
    "try:\n",
    "    # Check if running in Google Colab\n",
    "    import google.colab\n",
    "    IN_COLAB = True\n",
    "except ImportError:\n",
    "    IN_COLAB = False\n",
    "\n",
    "if IN_COLAB:\n",
    "    # Install the zenbase package if running in Google Colab\n",
    "    # install_package('zenbase')\n",
    "    # Install the zenbse package from a GitHub branch if running in Google Colab\n",
    "    install_package('git+https://github.com/zenbase-ai/lib.git@main#egg=zenbase&subdirectory=py')\n",
    "\n",
    "    # List of other packages to install in Google Colab\n",
    "    additional_packages = [\n",
    "        'python-dotenv',\n",
    "        'langsmith[vcr]',\n",
    "        'openai',\n",
    "        'langchain',\n",
    "        'langchain_openai'\n",
    "    ]\n",
    "    \n",
    "    # Install additional packages\n",
    "    install_packages(additional_packages)\n",
    "\n",
    "# Now import the zenbase library\n",
    "try:\n",
    "    import zenbase\n",
    "except ImportError as e:\n",
    "    print(\"Failed to import zenbase: \", e)\n",
    "    raise"
   ],
   "metadata": {
    "collapsed": false,
    "ExecuteTime": {
     "end_time": "2024-07-03T18:43:21.973386Z",
     "start_time": "2024-07-03T18:43:21.919907Z"
    }
   },
   "id": "90cbce6f536bbc1d",
   "execution_count": 28
  },
  {
   "cell_type": "code",
   "execution_count": 23,
   "id": "1377617ec4c1781f",
   "metadata": {
    "ExecuteTime": {
     "end_time": "2024-07-03T18:32:49.424955Z",
     "start_time": "2024-07-03T18:32:49.372023Z"
    }
   },
   "outputs": [
    {
     "data": {
      "text/plain": "True"
     },
     "execution_count": 23,
     "metadata": {},
     "output_type": "execute_result"
    }
   ],
   "source": [
    "from pathlib import Path\n",
    "from dotenv import load_dotenv\n",
    "\n",
    "# import os\n",
    "#\n",
    "# os.environ[\"OPENAI_API_KEY\"] = \"...\"\n",
    "# os.environ[\"LANGCHAIN_API_KEY\"] = \"...\"\n",
    "# os.environ[\"LANGCHAIN_TRACING_V2\"] = \"true\"\n",
    "\n",
    "load_dotenv(Path(\"../../.env.test\"), override=True)"
   ]
  },
  {
   "cell_type": "code",
   "execution_count": 24,
   "id": "808bae4c98be5c94",
   "metadata": {
    "ExecuteTime": {
     "end_time": "2024-07-03T18:32:50.725328Z",
     "start_time": "2024-07-03T18:32:50.714419Z"
    }
   },
   "outputs": [],
   "source": [
    "import nest_asyncio\n",
    "\n",
    "nest_asyncio.apply()"
   ]
  },
  {
   "cell_type": "code",
   "execution_count": 25,
   "id": "c49d5afd7ed94163",
   "metadata": {
    "ExecuteTime": {
     "end_time": "2024-07-03T18:32:51.709074Z",
     "start_time": "2024-07-03T18:32:51.561569Z"
    }
   },
   "outputs": [],
   "source": [
    "import json\n",
    "\n",
    "from langsmith import traceable\n",
    "from langsmith.schemas import Run, Example\n",
    "from langsmith.wrappers import wrap_openai\n",
    "from openai import OpenAI\n",
    "\n",
    "openai = wrap_openai(OpenAI())\n",
    "\n",
    "# Define your LLM function\n",
    "@traceable\n",
    "def openai_json_response(inputs: dict) -> dict:\n",
    "    messages = [\n",
    "        {\n",
    "            \"role\": \"system\",\n",
    "            \"content\": \"You are an expert math solver. Your answer must be just the number with no separators, and nothing else. Follow the format of the examples. Think step by step. Respond with a JSON object with a key of 'answer'.\",\n",
    "        },\n",
    "        {\"role\": \"user\", \"content\": json.dumps(inputs)}\n",
    "    ]\n",
    "\n",
    "    response = openai.chat.completions.create(\n",
    "        model=\"gpt-3.5-turbo\",\n",
    "        messages=messages,\n",
    "        response_format={\"type\": \"json_object\"},\n",
    "    )\n",
    "\n",
    "    return json.loads(response.choices[0].message.content)\n",
    "\n",
    "# Define your Langsmith evaluator\n",
    "def score_answer(run: Run, example: Example):\n",
    "    print(run.outputs)\n",
    "    match (answer := run.outputs[\"answer\"]):\n",
    "        case int():\n",
    "            output = str(answer).strip()\n",
    "        case str():\n",
    "            output = answer.split(\"#### \")[-1].strip()\n",
    "    target = example.outputs[\"answer\"].split(\"#### \")[-1].strip()\n",
    "    return {\n",
    "        \"key\": \"correctness\",\n",
    "        \"score\": int(output == target),\n",
    "    }"
   ]
  },
  {
   "cell_type": "code",
   "execution_count": 26,
   "id": "269ce9c328f8e5e6",
   "metadata": {
    "ExecuteTime": {
     "end_time": "2024-07-03T18:32:55.108857Z",
     "start_time": "2024-07-03T18:32:52.447439Z"
    }
   },
   "outputs": [
    {
     "name": "stdout",
     "output_type": "stream",
     "text": [
      "View the evaluation results for experiment: 'worthwhile-limit-24' at:\n",
      "https://smith.langchain.com/o/f145e0fe-631c-5153-984d-08acb624f83e/datasets/ab14f6ad-3e00-43b8-9ad6-3ce6bdb510f0/compare?selectedSessions=ef7b63cd-058c-4556-8b21-54425c00dd8a\n"
     ]
    },
    {
     "data": {
      "text/plain": "0it [00:00, ?it/s]",
      "application/vnd.jupyter.widget-view+json": {
       "version_major": 2,
       "version_minor": 0,
       "model_id": "fbe0412a0d234af598ff5c5687a35c8b"
      }
     },
     "metadata": {},
     "output_type": "display_data"
    },
    {
     "name": "stdout",
     "output_type": "stream",
     "text": [
      "{'answer': 16}{'answer': '3'}\n"
     ]
    },
    {
     "data": {
      "text/plain": "<ExperimentResults worthwhile-limit-24>"
     },
     "execution_count": 26,
     "metadata": {},
     "output_type": "execute_result"
    }
   ],
   "source": [
    "# Evaluate using LangSmith\n",
    "from langsmith import Client, evaluate\n",
    "\n",
    "langsmith = Client()\n",
    "evalset = list(langsmith.list_examples(dataset_name=\"GSM8K_test_set_langsmith_dataset_2ii5SKBzVHu3UVUmiFIxFxSvsFm\"))\n",
    "\n",
    "evaluate_kwargs = dict(\n",
    "    data=evalset,\n",
    "    evaluators=[score_answer],\n",
    "    client=langsmith,\n",
    "    max_concurrency=2,\n",
    ")\n",
    "\n",
    "evaluate(openai_json_response, **evaluate_kwargs)"
   ]
  },
  {
   "cell_type": "code",
   "outputs": [],
   "source": [
    "from zenbase.core.managers import TraceManager\n",
    "trace_manager = TraceManager()\n",
    "\n",
    "# Define trace manager for Zenbase\n",
    "from zenbase.adaptors.langchain import ZenLangSmith\n",
    "\n",
    "zen_langsmith = ZenLangSmith(langsmith)"
   ],
   "metadata": {
    "collapsed": false,
    "ExecuteTime": {
     "end_time": "2024-07-03T18:32:55.118954Z",
     "start_time": "2024-07-03T18:32:55.113650Z"
    }
   },
   "id": "e7edd4903633743a",
   "execution_count": 27
  },
  {
   "cell_type": "code",
   "execution_count": 7,
   "id": "9592f3913f694364",
   "metadata": {
    "ExecuteTime": {
     "end_time": "2024-07-03T17:59:31.156263Z",
     "start_time": "2024-07-03T17:59:31.148621Z"
    }
   },
   "outputs": [],
   "source": [
    "from zenbase.types import LMRequest, deflm\n",
    "\n",
    "# Wrap your existing chain with @deflm and take in a `LMRequest` object\n",
    "# An LMRequest has the inputs for your chain and has a `zenbase` attribute.\n",
    "# This `zenbase` attribute includes the fields that Zenbase optimises.\n",
    "\n",
    "# LMRequest.inputs => LM function inputs\n",
    "# LMRequest.zenbase => optimized LLM params\n",
    "\n",
    "\n",
    "# @trace_manager.trace_function\n",
    "# @traceable\n",
    "# def planner_openai_call(request: LMRequest) -> dict:\n",
    "#     messages = [\n",
    "#         {\n",
    "#             \"role\": \"system\",\n",
    "#             \"content\": \"You are an expert math solver. Your answer must be just the number with no separators, and nothing else. Follow the format of the examples. Think step by step. Respond with a JSON object. return it with the \\{\\\"plan\\\": \\\"...\\\"\\} format.\",\n",
    "#         },\n",
    "#     ]\n",
    "# \n",
    "#     for demo in request.zenbase.task_demos:\n",
    "#         messages += [\n",
    "#             {\"role\": \"user\", \"content\": json.dumps(demo.inputs)},\n",
    "#             {\"role\": \"assistant\", \"content\": json.dumps(demo.outputs)},\n",
    "#         ]\n",
    "#     messages.append({\"role\": \"user\", \"content\": json.dumps(request.inputs)})\n",
    "#     \n",
    "#     response = openai.chat.completions.create(\n",
    "#         model=\"gpt-3.5-turbo\",\n",
    "#         messages=messages,\n",
    "#         response_format={\"type\": \"json_object\"},\n",
    "#     )\n",
    "#     print(response)\n",
    "#     return json.loads(response.choices[0].message.content)\n",
    "\n",
    "@trace_manager.trace_function\n",
    "@traceable\n",
    "def openai_json_response_2(request: LMRequest) -> dict:\n",
    "    messages = [\n",
    "        {\n",
    "            \"role\": \"system\",\n",
    "            \"content\": \"You are an expert math solver. Your answer must be just the number with no separators, and nothing else. Follow the format of the examples. Think step by step. Respond with a JSON object.\",\n",
    "        },\n",
    "    ]\n",
    "\n",
    "    for demo in request.zenbase.task_demos:\n",
    "        messages += [\n",
    "            {\"role\": \"user\", \"content\": json.dumps(demo.inputs)},\n",
    "            {\"role\": \"assistant\", \"content\": json.dumps(demo.outputs)},\n",
    "        ]\n",
    "    messages.append({\"role\": \"user\", \"content\": json.dumps(request.inputs)})\n",
    "\n",
    "    response = openai.chat.completions.create(\n",
    "        model=\"gpt-3.5-turbo\",\n",
    "        messages=messages,\n",
    "        response_format={\"type\": \"json_object\"},\n",
    "    )\n",
    "\n",
    "    return json.loads(response.choices[0].message.content)\n",
    "\n",
    "\n",
    "@trace_manager.trace_function\n",
    "@traceable\n",
    "def openai_json_response(request: LMRequest) -> dict:\n",
    "    openai_json_response_2(request.inputs)\n",
    "    messages = [\n",
    "        {\n",
    "            \"role\": \"system\",\n",
    "            \"content\": \"You are an expert math solver. Your answer must be just the number with no separators, and nothing else. Follow the format of the examples. Think step by step. Respond with a JSON object.\",\n",
    "        },\n",
    "    ]\n",
    "\n",
    "    for demo in request.zenbase.task_demos:\n",
    "        messages += [\n",
    "            {\"role\": \"user\", \"content\": json.dumps(demo.inputs)},\n",
    "            {\"role\": \"assistant\", \"content\": json.dumps(demo.outputs)},\n",
    "        ]\n",
    "    messages.append({\"role\": \"user\", \"content\": json.dumps(request.inputs)})\n",
    "\n",
    "    response = openai.chat.completions.create(\n",
    "        model=\"gpt-3.5-turbo\",\n",
    "        messages=messages,\n",
    "        response_format={\"type\": \"json_object\"},\n",
    "    )\n",
    "\n",
    "    return json.loads(response.choices[0].message.content)\n",
    "\n"
   ]
  },
  {
   "cell_type": "code",
   "execution_count": 8,
   "id": "9c996174108b0981",
   "metadata": {
    "ExecuteTime": {
     "end_time": "2024-07-03T17:59:51.454774Z",
     "start_time": "2024-07-03T17:59:32.173423Z"
    }
   },
   "outputs": [
    {
     "name": "stdout",
     "output_type": "stream",
     "text": [
      "View the evaluation results for experiment: 'zenbase-focused-leadingedge-a935c30c' at:\n",
      "https://smith.langchain.com/o/f145e0fe-631c-5153-984d-08acb624f83e/datasets/ab14f6ad-3e00-43b8-9ad6-3ce6bdb510f0/compare?selectedSessions=b110cf5c-1ebf-4bb2-b811-75e8cb26c25d\n"
     ]
    },
    {
     "data": {
      "text/plain": "0it [00:00, ?it/s]",
      "application/vnd.jupyter.widget-view+json": {
       "version_major": 2,
       "version_minor": 0,
       "model_id": "91c2d6e8b3de45dab5348868bafde294"
      }
     },
     "metadata": {},
     "output_type": "display_data"
    },
    {
     "name": "stdout",
     "output_type": "stream",
     "text": [
      "{'answer': 'The robe takes 2 / 2 = 1 bolt of white fiber.\\nIn total, the robe takes 2 + 1 = 3 bolts.\\n#### 3'}{'answer': \"Janet uses 3+4=<<3+4=7>>7 eggs for breakfast and baking each day.\\nThat means she has 16-7=<<16-7=9>>9 eggs left to sell daily.\\nIf she sells the remaining eggs at $2 each, she makes 9*2=$<<9*2=18>>18 every day at the farmers' market.\\n#### 18\"}\n",
      "View the evaluation results for experiment: 'zenbase-mandatory-next-f732ce7e' at:\n",
      "https://smith.langchain.com/o/f145e0fe-631c-5153-984d-08acb624f83e/datasets/ab14f6ad-3e00-43b8-9ad6-3ce6bdb510f0/compare?selectedSessions=9e03ad55-8f17-4f7e-bc47-998ceda05828\n"
     ]
    },
    {
     "data": {
      "text/plain": "0it [00:00, ?it/s]",
      "application/vnd.jupyter.widget-view+json": {
       "version_major": 2,
       "version_minor": 0,
       "model_id": "bcf210e3c374479b84e7b05983010d12"
      }
     },
     "metadata": {},
     "output_type": "display_data"
    },
    {
     "name": "stdout",
     "output_type": "stream",
     "text": [
      "{'answer': 'Janet has 16 - 3 - 4 = <<16-3-4=9>>9 eggs left for selling.\\nSelling them at $2 per egg she makes 9 x $2 = $<<9*2=18>>18 every day.\\n#### 18'}{'answer': 'The robe takes 2/2 = <<2/2=1>>1 bolt of white fiber.\\nThe total number of bolts needed is 2 + 1 = <<2+1=3>>3.\\n#### 3'}\n",
      "View the evaluation results for experiment: 'zenbase-horizontal-context-sensitive-4ec3f21c' at:\n",
      "https://smith.langchain.com/o/f145e0fe-631c-5153-984d-08acb624f83e/datasets/ab14f6ad-3e00-43b8-9ad6-3ce6bdb510f0/compare?selectedSessions=c0c6d1c2-e9c1-4317-aacf-210850692d0e\n"
     ]
    },
    {
     "data": {
      "text/plain": "0it [00:00, ?it/s]",
      "application/vnd.jupyter.widget-view+json": {
       "version_major": 2,
       "version_minor": 0,
       "model_id": "443b0bee54644ed3ba312cd7e628f1f1"
      }
     },
     "metadata": {},
     "output_type": "display_data"
    },
    {
     "name": "stdout",
     "output_type": "stream",
     "text": [
      "{'answer': 'A robe takes 2 bolts of blue fiber and 2 / 2 = 1 bolt of white fiber.\\nIn total, a robe takes 2 + 1 = <<2+1=3>>3 bolts.\\n#### 3'}{'answer': \"Janet uses 3 + 4 = <<3+4=7>>7 eggs every day.\\nShe has 16 - 7 = <<16-7=9>>9 eggs left to sell.\\nShe makes 9 x 2 = $<<9*2=18>>18 every day at the farmers' market.\\n#### 18\"}\n",
      "View the evaluation results for experiment: 'zenbase-integrated-empowering-1f2afc8a' at:\n",
      "https://smith.langchain.com/o/f145e0fe-631c-5153-984d-08acb624f83e/datasets/ab14f6ad-3e00-43b8-9ad6-3ce6bdb510f0/compare?selectedSessions=890ad3e1-45cf-4347-b1f1-208159e41cfc\n"
     ]
    },
    {
     "data": {
      "text/plain": "0it [00:00, ?it/s]",
      "application/vnd.jupyter.widget-view+json": {
       "version_major": 2,
       "version_minor": 0,
       "model_id": "d868504949dd400582003ace4ff329e0"
      }
     },
     "metadata": {},
     "output_type": "display_data"
    },
    {
     "name": "stdout",
     "output_type": "stream",
     "text": [
      "{'answer': 'A robe takes 2 bolts of blue fiber and 2/2 = 1 bolt of white fiber.\\nSo in total, it takes 2 + 1 = <<2+1=3>>3 bolts.\\n#### 3'}{'answer': \"Janet uses 3+4 = <<3+4=7>>7 eggs every day for breakfast and baking muffins.\\nThe number of eggs left for selling is 16-7 = <<16-7=9>>9 eggs.\\nSo, Janet makes 9 * 2 = $<<9*2=18>>18 every day at the farmers' market.\\n#### 18\"}\n",
      "View the evaluation results for experiment: 'zenbase-integrated-3rdgeneration-4a9242d8' at:\n",
      "https://smith.langchain.com/o/f145e0fe-631c-5153-984d-08acb624f83e/datasets/ab14f6ad-3e00-43b8-9ad6-3ce6bdb510f0/compare?selectedSessions=dae2283d-e808-4424-8e4e-90813a612609\n"
     ]
    },
    {
     "data": {
      "text/plain": "0it [00:00, ?it/s]",
      "application/vnd.jupyter.widget-view+json": {
       "version_major": 2,
       "version_minor": 0,
       "model_id": "5377bd6a8eba47a79f3b50df1aff7e1d"
      }
     },
     "metadata": {},
     "output_type": "display_data"
    },
    {
     "name": "stdout",
     "output_type": "stream",
     "text": [
      "{'answer': \"Janet has 16-3-4=<<16-3-4=9>>9 eggs left to sell each day.\\nShe makes 9 x $2 = $<<9*2=18>>18 every day at the farmers' market.\\n#### 18\"}\n",
      "{'answer': 'It takes 2/2=<<2/2=1>>1 bolt of white fiber\\nSo it takes 2+1=<<2+1=3>>3 bolts in total\\n#### 3'}\n"
     ]
    }
   ],
   "source": [
    "from zenbase.adaptors.langchain import ZenLangSmith\n",
    "from zenbase.optim.metric.labeled_few_shot import LabeledFewShot\n",
    "\n",
    "demoset = ZenLangSmith.examples_to_demos(\n",
    "    langsmith.list_examples(dataset_name=\"GSM8K_train_set_langsmith_dataset_2ii5SPh2qGRjlCzFIkp8d8qcKhH\")\n",
    ")\n",
    "optimizer = LabeledFewShot(demoset=demoset, shots=3)\n",
    "\n",
    "best_fn, candidates, _ = optimizer.perform(\n",
    "    # Pass deflm decorated function\n",
    "    openai_json_response,\n",
    "    # Exactly the same as what you are passing to your evaluate function\n",
    "    evaluator=ZenLangSmith.metric_evaluator(**evaluate_kwargs),\n",
    "    samples=5,\n",
    "    rounds=1,\n",
    ")"
   ]
  },
  {
   "cell_type": "code",
   "outputs": [
    {
     "name": "stdout",
     "output_type": "stream",
     "text": [
      "View the evaluation results for experiment: 'zenbase-re-engineered-asynchronous-a3e123a2' at:\n",
      "https://smith.langchain.com/o/f145e0fe-631c-5153-984d-08acb624f83e/datasets/10fd5ab6-4eb1-43a3-9a82-1b7d1c40300a/compare?selectedSessions=2e353811-914f-4baa-87f6-1b1fba363643\n"
     ]
    },
    {
     "data": {
      "text/plain": "0it [00:00, ?it/s]",
      "application/vnd.jupyter.widget-view+json": {
       "version_major": 2,
       "version_minor": 0,
       "model_id": "b83ec088388d4776ad8b4d76bac1759e"
      }
     },
     "metadata": {},
     "output_type": "display_data"
    },
    {
     "name": "stdout",
     "output_type": "stream",
     "text": [
      "{'answer': 46}\n",
      "{'answer': 3}\n",
      "View the evaluation results for experiment: 'zenbase-progressive-fresh-thinking-559b9428' at:\n",
      "https://smith.langchain.com/o/f145e0fe-631c-5153-984d-08acb624f83e/datasets/d8e98c14-0b6d-4380-bb1e-05a8f3b1bf34/compare?selectedSessions=dedb3ab1-8979-4c20-af9e-79edd837f3d8\n"
     ]
    },
    {
     "data": {
      "text/plain": "0it [00:00, ?it/s]",
      "application/vnd.jupyter.widget-view+json": {
       "version_major": 2,
       "version_minor": 0,
       "model_id": "5521f437f1ae48169329b5a827a7ff1b"
      }
     },
     "metadata": {},
     "output_type": "display_data"
    },
    {
     "name": "stdout",
     "output_type": "stream",
     "text": [
      "{'answer': 'He buys 2 large pizzas * 16 slices per large pizza = <<2*16=32>>32 slices from the large pizzas\\nHe buys 2 small pizzas * 8 slices per small pizza = <<2*8=16>>16 slices from the small pizzas\\nSo, he eats 32+16 = <<32+16=48>>48 slices that day\\n#### 48'}\n",
      "{'answer': 'Initial weight of the box + jelly beans = 2\\nTriple the weight after adding brownies = 2*3 = <<2*3=6>>6\\nAdd another 2 pounds of jelly beans = 6+2 = <<6+2=8>>8\\nDouble the weight after adding gummy worms = 8*2 = <<8*2=16>>16\\n#### 16'}\n",
      "View the evaluation results for experiment: 'zenbase-advanced-didactic-0e817654' at:\n",
      "https://smith.langchain.com/o/f145e0fe-631c-5153-984d-08acb624f83e/datasets/d8e98c14-0b6d-4380-bb1e-05a8f3b1bf34/compare?selectedSessions=fb4bc277-f801-47ee-9d75-a1a6e7063990\n"
     ]
    },
    {
     "data": {
      "text/plain": "0it [00:00, ?it/s]",
      "application/vnd.jupyter.widget-view+json": {
       "version_major": 2,
       "version_minor": 0,
       "model_id": "0fe0419c17114792800924c2274bbe4b"
      }
     },
     "metadata": {},
     "output_type": "display_data"
    },
    {
     "name": "stdout",
     "output_type": "stream",
     "text": [
      "{'answer': 'Two large pizzas have 2 x 16 = <<2*16=32>>32 slices.\\nTwo small pizzas have 2 x 8 = <<2*8=16>>16 slices.\\nIn total, he eats 32 + 16 = <<32+16=48>>48 slices.\\n#### 48'}\n",
      "{'answer': 'Initially, the box weighed 2 pounds.\\nAfter adding brownies, the weight tripled to 2 x 3 = 6 pounds.\\nThen 2 more pounds of jelly beans were added, making the weight 6 + 2 = 8 pounds.\\nFinally, gummy worms are added to double the weight to 8 x 2 = 16 pounds.\\n#### 16'}\n",
      "View the evaluation results for experiment: 'zenbase-fully-configurable-content-based-9e65ed69' at:\n",
      "https://smith.langchain.com/o/f145e0fe-631c-5153-984d-08acb624f83e/datasets/571de8fd-a35b-4524-b03f-6463f3362552/compare?selectedSessions=b1e021b6-376b-482c-bc83-41c2f1e063c4\n"
     ]
    },
    {
     "data": {
      "text/plain": "0it [00:00, ?it/s]",
      "application/vnd.jupyter.widget-view+json": {
       "version_major": 2,
       "version_minor": 0,
       "model_id": "82a75b6fb7af43b5ae105b2941ca6482"
      }
     },
     "metadata": {},
     "output_type": "display_data"
    },
    {
     "name": "stdout",
     "output_type": "stream",
     "text": [
      "{'answer': '72'}\n",
      "{'answer': 'Weng earns $12/60 = $<<12/60=0.2>>0.2 per minute.\\nFor 50 minutes, she earned 50*0.2 = <<50*0.2=10>>10\\n#### 10'}\n",
      "{'answer': 'Betty needs 100/2 = <<100/2=50>>50 dollars for the wallet.\\nHer grandparents give her 15*2 = <<15*2=30>>30 dollars.\\nIn total, Betty will have 50+15+30 = <<50+15+30=95>>95 dollars.\\nSo, she still needs 100-95 = <<100-95=5>>5 dollars to buy the wallet.\\n#### 5'}\n",
      "{'answer': 'Today she read 12*2=<<12*2=24>>24 pages.\\nJulie has read 12+24=<<12+24=36>>36 pages so far.\\nShe still needs to read 120-36=<<120-36=84>>84 pages.\\nTo read half of the remaining pages, she needs to read 84/2=<<84/2=42>>42 pages tomorrow.\\n#### 42'}\n",
      "{'answer': '624'}\n",
      "View the evaluation results for experiment: 'zenbase-progressive-24/7-d5c353bf' at:\n",
      "https://smith.langchain.com/o/f145e0fe-631c-5153-984d-08acb624f83e/datasets/10fd5ab6-4eb1-43a3-9a82-1b7d1c40300a/compare?selectedSessions=166d4c01-5320-420e-9d3a-94f3797a548e\n"
     ]
    },
    {
     "data": {
      "text/plain": "0it [00:00, ?it/s]",
      "application/vnd.jupyter.widget-view+json": {
       "version_major": 2,
       "version_minor": 0,
       "model_id": "7df8420a4b2944acb5264527e0838d4a"
      }
     },
     "metadata": {},
     "output_type": "display_data"
    },
    {
     "name": "stdout",
     "output_type": "stream",
     "text": [
      "{'answer': \"Janet has 16-3-4 = 9 eggs left to sell.\\nShe makes 9*$2 = $18 every day at the farmers' market.\\n#### 18\"}\n",
      "{'answer': '3'}\n"
     ]
    }
   ],
   "source": [
    "from zenbase.optim.metric.bootstrap_few_shot import BootstrapFewShot\n",
    "\n",
    "# Define your Langsmith and helper\n",
    "langsmith = Client()\n",
    "langsmith_helper = ZenLangSmith(client=langsmith)\n",
    "\n",
    "TRAIN_SET = \"GSM8K_train_set_langsmith_dataset_2iiXubwwzCNQo4yokckJiUn98UG\"\n",
    "TEST_SET = \"GSM8K_test_set_langsmith_dataset_2iiXuiuySmWoINORDrPuvWHgbaT\"\n",
    "VALIDATION_SET = \"GSM8K_validation_set_langsmith_dataset_2iiXukhQxsrsHiwRdOh3O9j43wQ\"\n",
    "SHOTS = 2\n",
    "SAMPLES = 2\n",
    "\n",
    "train_set = langsmith_helper.fetch_dataset(dataset_name=TRAIN_SET)\n",
    "test_set = langsmith_helper.fetch_dataset(dataset_name=TEST_SET)\n",
    "validation_set = langsmith_helper.fetch_dataset(dataset_name=VALIDATION_SET)\n",
    "\n",
    "evaluator_kwargs = dict(\n",
    "    evaluators=[score_answer],\n",
    "    client=langsmith,\n",
    "    max_concurrency=1,\n",
    ")\n",
    "\n",
    "bootstrap_few_shot = BootstrapFewShot(\n",
    "    shots=SHOTS,\n",
    "    training_set_original=train_set,\n",
    "    test_set_original=test_set,\n",
    "    validation_set_original=validation_set,\n",
    "    evaluator_kwargs=evaluator_kwargs,\n",
    "    zen_adaptor=langsmith_helper,\n",
    ")\n",
    "\n",
    "teacher_lm, candidates = bootstrap_few_shot.perform(\n",
    "    openai_json_response,\n",
    "    samples=SAMPLES,\n",
    "    rounds=1,\n",
    "    trace_manager=trace_manager,\n",
    ")\n"
   ],
   "metadata": {
    "collapsed": false,
    "ExecuteTime": {
     "end_time": "2024-07-03T18:00:41.188976Z",
     "start_time": "2024-07-03T17:59:56.509068Z"
    }
   },
   "id": "9c7008ff5c73da1c",
   "execution_count": 9
  },
  {
   "cell_type": "code",
   "execution_count": 10,
   "id": "da6e5476084d83fa",
   "metadata": {
    "ExecuteTime": {
     "end_time": "2024-07-03T18:07:59.305554Z",
     "start_time": "2024-07-03T18:07:57.869196Z"
    }
   },
   "outputs": [
    {
     "data": {
      "text/plain": "{'answer': '45'}"
     },
     "execution_count": 10,
     "metadata": {},
     "output_type": "execute_result"
    }
   ],
   "source": [
    "# Now you can use your zenbase fn\n",
    "teacher_lm({\"question\": \"If I have 30% of shares, and Mo has 24.5% of shares, how many of our 10M shares are unassigned?\"})"
   ]
  },
  {
   "cell_type": "code",
   "outputs": [],
   "source": [
    "trace_manager.all_traces = {}"
   ],
   "metadata": {
    "collapsed": false,
    "ExecuteTime": {
     "end_time": "2024-07-03T18:07:59.310322Z",
     "start_time": "2024-07-03T18:07:59.307404Z"
    }
   },
   "id": "b4e4c76c71b4d5cf",
   "execution_count": 11
  },
  {
   "cell_type": "code",
   "outputs": [
    {
     "data": {
      "text/plain": "{'answer': '31.5%'}"
     },
     "execution_count": 12,
     "metadata": {},
     "output_type": "execute_result"
    }
   ],
   "source": [
    "# Now you can use your zenbase fn\n",
    "teacher_lm({\"question\": \"If I have 30% of shares, and Mo has 24.5% of shares, how many of our 10M shares are unassigned?\"})"
   ],
   "metadata": {
    "collapsed": false,
    "ExecuteTime": {
     "end_time": "2024-07-03T18:08:01.118396Z",
     "start_time": "2024-07-03T18:07:59.779829Z"
    }
   },
   "id": "673698a3ac4d9706",
   "execution_count": 12
  },
  {
   "cell_type": "code",
   "outputs": [],
   "source": [
    "function_traces = [v for k, v in trace_manager.all_traces.items()][0][\"optimized\"]"
   ],
   "metadata": {
    "collapsed": false,
    "ExecuteTime": {
     "end_time": "2024-07-03T18:08:09.012203Z",
     "start_time": "2024-07-03T18:08:09.009498Z"
    }
   },
   "id": "3a89e03362a776bc",
   "execution_count": 13
  },
  {
   "cell_type": "code",
   "execution_count": 14,
   "id": "280bbbc5",
   "metadata": {
    "ExecuteTime": {
     "end_time": "2024-07-03T18:08:11.994629Z",
     "start_time": "2024-07-03T18:08:11.990539Z"
    }
   },
   "outputs": [
    {
     "name": "stdout",
     "output_type": "stream",
     "text": [
      "[LMDemo(inputs={'question': 'Natalia sold clips to 48 of her friends in April, '\n",
      "                            'and then she sold half as many clips in May. How '\n",
      "                            'many clips did Natalia sell altogether in April '\n",
      "                            'and May?'},\n",
      "        outputs={'answer': '72'},\n",
      "        original_object=None),\n",
      " LMDemo(inputs={'question': 'Weng earns $12 an hour for babysitting. '\n",
      "                            'Yesterday, she just did 50 minutes of '\n",
      "                            'babysitting. How much did she earn?'},\n",
      "        outputs={'answer': '10'},\n",
      "        original_object=None),\n",
      " LMDemo(inputs={'question': 'Betty is saving money for a new wallet which '\n",
      "                            'costs $100. Betty has only half of the money she '\n",
      "                            'needs. Her parents decided to give her $15 for '\n",
      "                            'that purpose, and her grandparents twice as much '\n",
      "                            'as her parents. How much more money does Betty '\n",
      "                            'need to buy the wallet?'},\n",
      "        outputs={'answer': '20'},\n",
      "        original_object=None),\n",
      " LMDemo(inputs={'question': 'Julie is reading a 120-page book. Yesterday, she '\n",
      "                            'was able to read 12 pages and today, she read '\n",
      "                            'twice as many pages as yesterday. If she wants to '\n",
      "                            'read half of the remaining pages tomorrow, how '\n",
      "                            'many pages should she read?'},\n",
      "        outputs={'answer': '36'},\n",
      "        original_object=None),\n",
      " LMDemo(inputs={'question': 'James writes a 3-page letter to 2 different '\n",
      "                            'friends twice a week.  How many pages does he '\n",
      "                            'write a year?'},\n",
      "        outputs={'answer': '624'},\n",
      "        original_object=None)]\n"
     ]
    }
   ],
   "source": [
    "from pprint import pprint\n",
    "\n",
    "pprint(function_traces[\"openai_json_response_2\"][\"args\"][\"request\"].zenbase.task_demos)\n"
   ]
  },
  {
   "cell_type": "code",
   "outputs": [
    {
     "name": "stdout",
     "output_type": "stream",
     "text": [
      "[LMDemo(inputs={'question': 'Natalia sold clips to 48 of her friends in April, '\n",
      "                            'and then she sold half as many clips in May. How '\n",
      "                            'many clips did Natalia sell altogether in April '\n",
      "                            'and May?'},\n",
      "        outputs={'answer': '72'},\n",
      "        original_object=None),\n",
      " LMDemo(inputs={'question': 'Weng earns $12 an hour for babysitting. '\n",
      "                            'Yesterday, she just did 50 minutes of '\n",
      "                            'babysitting. How much did she earn?'},\n",
      "        outputs={'answer': 'She earns $12/60 = $0.2 per minute\\n'\n",
      "                           'Therefore, for 50 minutes, she earns 50*$0.2 = $10 '\n",
      "                           'yesterday.\\n'\n",
      "                           '#### 10'},\n",
      "        original_object=None),\n",
      " LMDemo(inputs={'question': 'Betty is saving money for a new wallet which '\n",
      "                            'costs $100. Betty has only half of the money she '\n",
      "                            'needs. Her parents decided to give her $15 for '\n",
      "                            'that purpose, and her grandparents twice as much '\n",
      "                            'as her parents. How much more money does Betty '\n",
      "                            'need to buy the wallet?'},\n",
      "        outputs={'answer': 'Betty has 100/2 = <<100/2=50>>50 dollars.\\n'\n",
      "                           'Her grandparents gave her 15*2 = <<15*2=30>>30 '\n",
      "                           'dollars.\\n'\n",
      "                           'In total, Betty has 50+15+30 = <<50+15+30=95>>95 '\n",
      "                           'dollars.\\n'\n",
      "                           'Betty needs 100-95 = <<100-95=5>>5 dollars more.\\n'\n",
      "                           '#### 5'},\n",
      "        original_object=None),\n",
      " LMDemo(inputs={'question': 'Julie is reading a 120-page book. Yesterday, she '\n",
      "                            'was able to read 12 pages and today, she read '\n",
      "                            'twice as many pages as yesterday. If she wants to '\n",
      "                            'read half of the remaining pages tomorrow, how '\n",
      "                            'many pages should she read?'},\n",
      "        outputs={'answer': 'Julie read 12*2 = <<12*2=24>>24 pages today.\\n'\n",
      "                           'She has 120-12-24 = <<120-12-24=84>>84 pages left '\n",
      "                           'to read.\\n'\n",
      "                           'Julie should read 84/2 = <<84/2=42>>42 pages '\n",
      "                           'tomorrow.\\n'\n",
      "                           '#### 42'},\n",
      "        original_object=None),\n",
      " LMDemo(inputs={'question': 'James writes a 3-page letter to 2 different '\n",
      "                            'friends twice a week.  How many pages does he '\n",
      "                            'write a year?'},\n",
      "        outputs={'answer': '624'},\n",
      "        original_object=None)]\n"
     ]
    }
   ],
   "source": [
    "from pprint import pprint\n",
    "\n",
    "pprint(function_traces[\"openai_json_response\"][\"args\"][\"request\"].zenbase.task_demos)"
   ],
   "metadata": {
    "collapsed": false,
    "ExecuteTime": {
     "end_time": "2024-07-03T18:11:46.572764Z",
     "start_time": "2024-07-03T18:11:46.568273Z"
    }
   },
   "id": "fc02d3eb7132f76d",
   "execution_count": 17
  },
  {
   "cell_type": "code",
   "execution_count": 19,
   "id": "622d32eb538487a4",
   "metadata": {
    "ExecuteTime": {
     "end_time": "2024-07-03T18:12:55.023640Z",
     "start_time": "2024-07-03T18:12:55.020184Z"
    }
   },
   "outputs": [],
   "source": [
    "bootstrap_few_shot.save_optimizer_args(\"bootstrap_few_shot_args.zenbase\")\n",
    "\n",
    "optimized_function = bootstrap_few_shot.load_optimizer_and_function(\"bootstrap_few_shot_args.zenbase\", openai_json_response, trace_manager)"
   ]
  },
  {
   "cell_type": "code",
   "execution_count": 20,
   "id": "62d795c9",
   "metadata": {
    "ExecuteTime": {
     "end_time": "2024-07-03T18:12:57.128119Z",
     "start_time": "2024-07-03T18:12:55.803265Z"
    }
   },
   "outputs": [
    {
     "name": "stdout",
     "output_type": "stream",
     "text": [
      "[LMDemo(inputs={'question': 'Natalia sold clips to 48 of her friends in April, '\n",
      "                            'and then she sold half as many clips in May. How '\n",
      "                            'many clips did Natalia sell altogether in April '\n",
      "                            'and May?'},\n",
      "        outputs={'answer': '72'},\n",
      "        original_object=None),\n",
      " LMDemo(inputs={'question': 'Weng earns $12 an hour for babysitting. '\n",
      "                            'Yesterday, she just did 50 minutes of '\n",
      "                            'babysitting. How much did she earn?'},\n",
      "        outputs={'answer': 'She earns $12/60 = $0.2 per minute\\n'\n",
      "                           'Therefore, for 50 minutes, she earns 50*$0.2 = $10 '\n",
      "                           'yesterday.\\n'\n",
      "                           '#### 10'},\n",
      "        original_object=None),\n",
      " LMDemo(inputs={'question': 'Betty is saving money for a new wallet which '\n",
      "                            'costs $100. Betty has only half of the money she '\n",
      "                            'needs. Her parents decided to give her $15 for '\n",
      "                            'that purpose, and her grandparents twice as much '\n",
      "                            'as her parents. How much more money does Betty '\n",
      "                            'need to buy the wallet?'},\n",
      "        outputs={'answer': 'Betty has 100/2 = <<100/2=50>>50 dollars.\\n'\n",
      "                           'Her grandparents gave her 15*2 = <<15*2=30>>30 '\n",
      "                           'dollars.\\n'\n",
      "                           'In total, Betty has 50+15+30 = <<50+15+30=95>>95 '\n",
      "                           'dollars.\\n'\n",
      "                           'Betty needs 100-95 = <<100-95=5>>5 dollars more.\\n'\n",
      "                           '#### 5'},\n",
      "        original_object=None),\n",
      " LMDemo(inputs={'question': 'Julie is reading a 120-page book. Yesterday, she '\n",
      "                            'was able to read 12 pages and today, she read '\n",
      "                            'twice as many pages as yesterday. If she wants to '\n",
      "                            'read half of the remaining pages tomorrow, how '\n",
      "                            'many pages should she read?'},\n",
      "        outputs={'answer': 'Julie read 12*2 = <<12*2=24>>24 pages today.\\n'\n",
      "                           'She has 120-12-24 = <<120-12-24=84>>84 pages left '\n",
      "                           'to read.\\n'\n",
      "                           'Julie should read 84/2 = <<84/2=42>>42 pages '\n",
      "                           'tomorrow.\\n'\n",
      "                           '#### 42'},\n",
      "        original_object=None),\n",
      " LMDemo(inputs={'question': 'James writes a 3-page letter to 2 different '\n",
      "                            'friends twice a week.  How many pages does he '\n",
      "                            'write a year?'},\n",
      "        outputs={'answer': '624'},\n",
      "        original_object=None)]\n",
      "[LMDemo(inputs={'question': 'Natalia sold clips to 48 of her friends in April, '\n",
      "                            'and then she sold half as many clips in May. How '\n",
      "                            'many clips did Natalia sell altogether in April '\n",
      "                            'and May?'},\n",
      "        outputs={'answer': '72'},\n",
      "        original_object=None),\n",
      " LMDemo(inputs={'question': 'Weng earns $12 an hour for babysitting. '\n",
      "                            'Yesterday, she just did 50 minutes of '\n",
      "                            'babysitting. How much did she earn?'},\n",
      "        outputs={'answer': '10'},\n",
      "        original_object=None),\n",
      " LMDemo(inputs={'question': 'Betty is saving money for a new wallet which '\n",
      "                            'costs $100. Betty has only half of the money she '\n",
      "                            'needs. Her parents decided to give her $15 for '\n",
      "                            'that purpose, and her grandparents twice as much '\n",
      "                            'as her parents. How much more money does Betty '\n",
      "                            'need to buy the wallet?'},\n",
      "        outputs={'answer': '20'},\n",
      "        original_object=None),\n",
      " LMDemo(inputs={'question': 'Julie is reading a 120-page book. Yesterday, she '\n",
      "                            'was able to read 12 pages and today, she read '\n",
      "                            'twice as many pages as yesterday. If she wants to '\n",
      "                            'read half of the remaining pages tomorrow, how '\n",
      "                            'many pages should she read?'},\n",
      "        outputs={'answer': '36'},\n",
      "        original_object=None),\n",
      " LMDemo(inputs={'question': 'James writes a 3-page letter to 2 different '\n",
      "                            'friends twice a week.  How many pages does he '\n",
      "                            'write a year?'},\n",
      "        outputs={'answer': '624'},\n",
      "        original_object=None)]\n"
     ]
    }
   ],
   "source": [
    "trace_manager.all_traces = {}\n",
    "teacher_lm({\"question\": \"If I have 30% of shares, and Mo has 24.5% of shares, how many of our 10M shares are unassigned?\"})\n",
    "function_traces = [v for k, v in trace_manager.all_traces.items()][0][\"optimized\"]\n",
    "from pprint import pprint\n",
    "\n",
    "pprint(function_traces[\"openai_json_response\"][\"args\"][\"request\"].zenbase.task_demos)\n",
    "pprint(function_traces[\"openai_json_response_2\"][\"args\"][\"request\"].zenbase.task_demos)\n"
   ]
  },
  {
   "cell_type": "code",
   "outputs": [],
   "source": [],
   "metadata": {
    "collapsed": false
   },
   "id": "729aa116478110ad"
  }
 ],
 "metadata": {
  "kernelspec": {
   "display_name": "Python 3",
   "language": "python",
   "name": "python3"
  },
  "language_info": {
   "codemirror_mode": {
    "name": "ipython",
    "version": 3
   },
   "file_extension": ".py",
   "mimetype": "text/x-python",
   "name": "python",
   "nbconvert_exporter": "python",
   "pygments_lexer": "ipython3",
   "version": "3.10.13"
  }
 },
 "nbformat": 4,
 "nbformat_minor": 5
}
