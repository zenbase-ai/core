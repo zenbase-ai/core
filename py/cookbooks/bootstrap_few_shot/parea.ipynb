{
 "cells": [
  {
   "cell_type": "markdown",
   "source": [
    "# Import the Zenbase Library"
   ],
   "metadata": {
    "collapsed": false
   },
   "id": "fe0fef1f3269ab9d"
  },
  {
   "cell_type": "code",
   "outputs": [],
   "source": [
    "import sys\n",
    "import subprocess\n",
    "\n",
    "def install_package(package):\n",
    "    try:\n",
    "        subprocess.check_call([sys.executable, \"-m\", \"pip\", \"install\", package])\n",
    "    except subprocess.CalledProcessError as e:\n",
    "        print(f\"Failed to install {package}: {e}\")\n",
    "        raise\n",
    "\n",
    "def install_packages(packages):\n",
    "    for package in packages:\n",
    "        install_package(package)\n",
    "\n",
    "try:\n",
    "    # Check if running in Google Colab\n",
    "    import google.colab\n",
    "    IN_COLAB = True\n",
    "except ImportError:\n",
    "    IN_COLAB = False\n",
    "\n",
    "if IN_COLAB:\n",
    "    # Install the zenbase package if running in Google Colab\n",
    "    # install_package('zenbase')\n",
    "    # Install the zenbse package from a GitHub branch if running in Google Colab\n",
    "    install_package('git+https://github.com/zenbase-ai/lib.git@main#egg=zenbase&subdirectory=py')\n",
    "\n",
    "    # List of other packages to install in Google Colab\n",
    "    additional_packages = [\n",
    "        'python-dotenv',\n",
    "        'parea-ai==0.2.164',\n",
    "        'openai',\n",
    "        'langchain',\n",
    "        'langchain_openai'\n",
    "    ]\n",
    "    \n",
    "    # Install additional packages\n",
    "    install_packages(additional_packages)\n",
    "\n",
    "# Now import the zenbase library\n",
    "try:\n",
    "    import zenbase\n",
    "except ImportError as e:\n",
    "    print(\"Failed to import zenbase: \", e)\n",
    "    raise"
   ],
   "metadata": {
    "collapsed": false,
    "ExecuteTime": {
     "end_time": "2024-07-10T02:17:30.308468Z",
     "start_time": "2024-07-10T02:17:30.296325Z"
    }
   },
   "id": "33ce565be4f08da1",
   "execution_count": 1
  },
  {
   "cell_type": "markdown",
   "source": [
    "# Configure the Environment"
   ],
   "metadata": {
    "collapsed": false
   },
   "id": "d0c63173923a6209"
  },
  {
   "cell_type": "code",
   "execution_count": 2,
   "id": "initial_id",
   "metadata": {
    "ExecuteTime": {
     "end_time": "2024-07-10T02:17:31.267444Z",
     "start_time": "2024-07-10T02:17:31.255169Z"
    }
   },
   "outputs": [
    {
     "data": {
      "text/plain": "True"
     },
     "execution_count": 2,
     "metadata": {},
     "output_type": "execute_result"
    }
   ],
   "source": [
    "from pathlib import Path\n",
    "from dotenv import load_dotenv\n",
    "\n",
    "# import os\n",
    "#\n",
    "# os.environ[\"OPENAI_API_KEY\"] = \"...\"\n",
    "# os.environ[\"PAREA_API_KEY\"] = \"...\"\n",
    "\n",
    "load_dotenv(Path(\"../../.env.test\"), override=True)"
   ]
  },
  {
   "cell_type": "markdown",
   "source": [
    "# Initial Setup"
   ],
   "metadata": {
    "collapsed": false
   },
   "id": "6cdc2001d5d4cf98"
  },
  {
   "cell_type": "code",
   "outputs": [],
   "source": [
    "import nest_asyncio\n",
    "\n",
    "nest_asyncio.apply()"
   ],
   "metadata": {
    "ExecuteTime": {
     "end_time": "2024-07-10T02:17:32.398395Z",
     "start_time": "2024-07-10T02:17:32.394151Z"
    }
   },
   "id": "dfb3ed902652dfd6",
   "execution_count": 3
  },
  {
   "cell_type": "markdown",
   "source": [
    "# Initial Setup\n"
   ],
   "metadata": {
    "collapsed": false
   },
   "id": "d6b39159e4fe92c6"
  },
  {
   "cell_type": "code",
   "outputs": [],
   "source": [
    "from openai import OpenAI\n",
    "from parea import Parea, trace\n",
    "\n",
    "parea = Parea()\n",
    "openai = OpenAI()\n",
    "\n",
    "parea.wrap_openai_client(openai)"
   ],
   "metadata": {
    "ExecuteTime": {
     "end_time": "2024-07-10T02:17:35.609374Z",
     "start_time": "2024-07-10T02:17:33.553995Z"
    }
   },
   "id": "c6f32dc5445e19c0",
   "execution_count": 4
  },
  {
   "cell_type": "markdown",
   "source": [
    "# Now, you probably already have some LLM code."
   ],
   "metadata": {
    "collapsed": false
   },
   "id": "170d4f2603406a40"
  },
  {
   "cell_type": "markdown",
   "source": [
    "## And let's say you have an eval function like this"
   ],
   "metadata": {
    "collapsed": false
   },
   "id": "d3d9aa1c663f327c"
  },
  {
   "cell_type": "code",
   "outputs": [],
   "source": [
    "from parea.schemas import Log, EvaluationResult\n",
    "\n",
    "def score_answer_with_json(log: Log) -> EvaluationResult:\n",
    "    if log.target:\n",
    "        output = str(expand_nested_json(log.output)[\"answer\"])\n",
    "        target = log.target.split(\"#### \")[-1]\n",
    "        return EvaluationResult(\"correctness\", int(output == target))\n"
   ],
   "metadata": {
    "collapsed": false,
    "ExecuteTime": {
     "end_time": "2024-07-10T02:25:49.865883Z",
     "start_time": "2024-07-10T02:25:49.862318Z"
    }
   },
   "id": "88427413505a7e69",
   "execution_count": 17
  },
  {
   "cell_type": "markdown",
   "source": [
    "It could use the OpenAI SDK, LangChain, or anything really. But it looks something like this:"
   ],
   "metadata": {
    "collapsed": false
   },
   "id": "e945d61bfdec68e0"
  },
  {
   "cell_type": "code",
   "outputs": [],
   "source": [
    "@trace(eval_funcs=[score_answer_with_json])\n",
    "def solver(inputs):\n",
    "    if isinstance(inputs, str):\n",
    "        inputs = expand_nested_json(inputs)\n",
    "    \n",
    "    plan = planner_chain(inputs)\n",
    "    operation = operation_finder({\n",
    "        \"plan\": plan[\"plan\"],\n",
    "        \"question\": inputs[\"question\"],\n",
    "    })\n",
    "\n",
    "    messages = [\n",
    "        {\n",
    "            \"role\": \"system\",\n",
    "            \"content\": \"You are an expert math solver. Solve the given problem using the provided plan and operation. Return only the final numerical answer in JSON format.\"\n",
    "        },\n",
    "        {\"role\": \"user\", \"content\": f\"Question: {inputs['question']}\"},\n",
    "        {\"role\": \"user\", \"content\": f\"Plan: {plan['plan']}\"},\n",
    "        {\"role\": \"user\", \"content\": f\"Required mathematical operation: {operation['operation']}\"},\n",
    "        {\"role\": \"user\", \"content\": \"Provide the final answer as a number in JSON format: {\\\"answer\\\": YOUR_NUMERICAL_ANSWER}\"},\n",
    "    ]\n",
    "\n",
    "    response = openai.chat.completions.create(\n",
    "        model=\"gpt-3.5-turbo\",\n",
    "        messages=messages,\n",
    "        response_format={\"type\": \"json_object\"},\n",
    "    )\n",
    "\n",
    "    answer = json.loads(response.choices[0].message.content)\n",
    "    return {\"answer\": answer[\"answer\"]}\n",
    "\n",
    "@trace\n",
    "def planner_chain(inputs):\n",
    "    if isinstance(inputs, str):\n",
    "        inputs = expand_nested_json(inputs)\n",
    "    \n",
    "    messages = [\n",
    "        {\n",
    "            \"role\": \"system\",\n",
    "            \"content\": \"You are an expert math solver. Create a step-by-step plan to solve the given math problem. Return the plan as a JSON object with a 'plan' key.\"\n",
    "        },\n",
    "        {\"role\": \"user\", \"content\": inputs[\"question\"]},\n",
    "    ]\n",
    "\n",
    "    response = openai.chat.completions.create(\n",
    "        model=\"gpt-3.5-turbo\",\n",
    "        messages=messages,\n",
    "        response_format={\"type\": \"json_object\"},\n",
    "    )\n",
    "\n",
    "    answer = json.loads(response.choices[0].message.content)\n",
    "    return {\"plan\": answer[\"plan\"]}\n",
    "\n",
    "@trace\n",
    "def operation_finder(inputs):\n",
    "    if isinstance(inputs, str):\n",
    "        inputs = expand_nested_json(inputs)\n",
    "        \n",
    "    messages = [\n",
    "        {\n",
    "            \"role\": \"system\",\n",
    "            \"content\": \"You are an expert math solver. Identify the primary mathematical operation needed to solve the problem based on the given question and plan. Use simple operations like addition, subtraction, multiplication, or division. Return the operation as a JSON object with an 'operation' key.\"\n",
    "        },\n",
    "        {\"role\": \"user\", \"content\": f\"Question: {inputs['question']}\"},\n",
    "        {\"role\": \"user\", \"content\": f\"Plan: {inputs['plan']}\"},\n",
    "    ]\n",
    "\n",
    "    response = openai.chat.completions.create(\n",
    "        model=\"gpt-3.5-turbo\",\n",
    "        messages=messages,\n",
    "        response_format={\"type\": \"json_object\"},\n",
    "    )\n",
    "\n",
    "    answer = json.loads(response.choices[0].message.content)\n",
    "    return {\"operation\": answer[\"operation\"]}"
   ],
   "metadata": {
    "collapsed": false,
    "ExecuteTime": {
     "end_time": "2024-07-10T02:34:21.552991Z",
     "start_time": "2024-07-10T02:34:21.522709Z"
    }
   },
   "id": "ad6b60c47eb2b2a",
   "execution_count": 39
  },
  {
   "cell_type": "markdown",
   "source": [
    "Test your function:"
   ],
   "metadata": {
    "collapsed": false
   },
   "id": "3e1cb0deaec6c657"
  },
  {
   "cell_type": "code",
   "outputs": [
    {
     "data": {
      "text/plain": "{'answer': 4}"
     },
     "execution_count": 40,
     "metadata": {},
     "output_type": "execute_result"
    }
   ],
   "source": [
    "solver({\"question\": \"What is 2+2?\"})"
   ],
   "metadata": {
    "collapsed": false,
    "ExecuteTime": {
     "end_time": "2024-07-10T02:34:23.966911Z",
     "start_time": "2024-07-10T02:34:21.554963Z"
    }
   },
   "id": "86e6aff46721d494",
   "execution_count": 40
  },
  {
   "cell_type": "markdown",
   "source": [
    "## Then you're probably evaluating like this"
   ],
   "metadata": {
    "collapsed": false
   },
   "id": "b5f6f06c65d6014"
  },
  {
   "cell_type": "code",
   "outputs": [
    {
     "name": "stdout",
     "output_type": "stream",
     "text": [
      "Run name set to: funny-hard, since a name was not provided.\n",
      "Fetching test collection: GSM8K_test_set_parea_dataset_2iyvfWLaZFAhZ6V6NGa8gp3WKBx\n",
      "Fetched 5 test cases from collection: GSM8K_test_set_parea_dataset_2iyvfWLaZFAhZ6V6NGa8gp3WKBx \n"
     ]
    },
    {
     "name": "stderr",
     "output_type": "stream",
     "text": [
      " 20%|██        | 1/5 [00:02<00:09,  2.42s/it]Future exception was never retrieved\n",
      "future: <Future finished exception=TypeError('string indices must be integers')>\n",
      "Traceback (most recent call last):\n",
      "  File \"/Users/amir/.rye/py/cpython@3.10.13/lib/python3.10/concurrent/futures/thread.py\", line 58, in run\n",
      "    result = self.fn(*self.args, **self.kwargs)\n",
      "  File \"/Users/amir/workspace/zenbase-lib/py/.venv/lib/python3.10/site-packages/parea/experiment/experiment.py\", line 140, in limit_concurrency_sync\n",
      "    return func(_parea_target_field=target, **sample_copy)\n",
      "  File \"/Users/amir/workspace/zenbase-lib/py/.venv/lib/python3.10/site-packages/parea/utils/trace_utils.py\", line 278, in wrapper\n",
      "    raise e\n",
      "  File \"/Users/amir/workspace/zenbase-lib/py/.venv/lib/python3.10/site-packages/parea/utils/trace_utils.py\", line 271, in wrapper\n",
      "    result = func(*args, **kwargs)\n",
      "  File \"/var/folders/47/_rbxm97j0kl5nm_6vv2m8h540000gn/T/ipykernel_39150/751121847.py\", line 6, in solver\n",
      "    \"question\": inputs[\"question\"],\n",
      "TypeError: string indices must be integers\n",
      "Future exception was never retrieved\n",
      "future: <Future finished exception=TypeError('string indices must be integers')>\n",
      "Traceback (most recent call last):\n",
      "  File \"/Users/amir/.rye/py/cpython@3.10.13/lib/python3.10/concurrent/futures/thread.py\", line 58, in run\n",
      "    result = self.fn(*self.args, **self.kwargs)\n",
      "  File \"/Users/amir/workspace/zenbase-lib/py/.venv/lib/python3.10/site-packages/parea/experiment/experiment.py\", line 140, in limit_concurrency_sync\n",
      "    return func(_parea_target_field=target, **sample_copy)\n",
      "  File \"/Users/amir/workspace/zenbase-lib/py/.venv/lib/python3.10/site-packages/parea/utils/trace_utils.py\", line 278, in wrapper\n",
      "    raise e\n",
      "  File \"/Users/amir/workspace/zenbase-lib/py/.venv/lib/python3.10/site-packages/parea/utils/trace_utils.py\", line 271, in wrapper\n",
      "    result = func(*args, **kwargs)\n",
      "  File \"/var/folders/47/_rbxm97j0kl5nm_6vv2m8h540000gn/T/ipykernel_39150/751121847.py\", line 6, in solver\n",
      "    \"question\": inputs[\"question\"],\n",
      "TypeError: string indices must be integers\n",
      "Future exception was never retrieved\n",
      "future: <Future finished exception=TypeError('string indices must be integers')>\n",
      "Traceback (most recent call last):\n",
      "  File \"/Users/amir/.rye/py/cpython@3.10.13/lib/python3.10/concurrent/futures/thread.py\", line 58, in run\n",
      "    result = self.fn(*self.args, **self.kwargs)\n",
      "  File \"/Users/amir/workspace/zenbase-lib/py/.venv/lib/python3.10/site-packages/parea/experiment/experiment.py\", line 140, in limit_concurrency_sync\n",
      "    return func(_parea_target_field=target, **sample_copy)\n",
      "  File \"/Users/amir/workspace/zenbase-lib/py/.venv/lib/python3.10/site-packages/parea/utils/trace_utils.py\", line 278, in wrapper\n",
      "    raise e\n",
      "  File \"/Users/amir/workspace/zenbase-lib/py/.venv/lib/python3.10/site-packages/parea/utils/trace_utils.py\", line 271, in wrapper\n",
      "    result = func(*args, **kwargs)\n",
      "  File \"/var/folders/47/_rbxm97j0kl5nm_6vv2m8h540000gn/T/ipykernel_39150/751121847.py\", line 6, in solver\n",
      "    \"question\": inputs[\"question\"],\n",
      "TypeError: string indices must be integers\n",
      "Future exception was never retrieved\n",
      "future: <Future finished exception=TypeError('string indices must be integers')>\n",
      "Traceback (most recent call last):\n",
      "  File \"/Users/amir/.rye/py/cpython@3.10.13/lib/python3.10/concurrent/futures/thread.py\", line 58, in run\n",
      "    result = self.fn(*self.args, **self.kwargs)\n",
      "  File \"/Users/amir/workspace/zenbase-lib/py/.venv/lib/python3.10/site-packages/parea/experiment/experiment.py\", line 140, in limit_concurrency_sync\n",
      "    return func(_parea_target_field=target, **sample_copy)\n",
      "  File \"/Users/amir/workspace/zenbase-lib/py/.venv/lib/python3.10/site-packages/parea/utils/trace_utils.py\", line 278, in wrapper\n",
      "    raise e\n",
      "  File \"/Users/amir/workspace/zenbase-lib/py/.venv/lib/python3.10/site-packages/parea/utils/trace_utils.py\", line 271, in wrapper\n",
      "    result = func(*args, **kwargs)\n",
      "  File \"/var/folders/47/_rbxm97j0kl5nm_6vv2m8h540000gn/T/ipykernel_39150/751121847.py\", line 6, in solver\n",
      "    \"question\": inputs[\"question\"],\n",
      "TypeError: string indices must be integers\n",
      "100%|██████████| 5/5 [00:15<00:00,  3.13s/it]\n",
      "0it [00:04, ?it/s]\n"
     ]
    },
    {
     "name": "stdout",
     "output_type": "stream",
     "text": [
      "Experiment wibbly-wobbly Run funny-hard stats:\n",
      "{\n",
      "  \"latency\": \"3.13\",\n",
      "  \"input_tokens\": \"0.00\",\n",
      "  \"output_tokens\": \"0.00\",\n",
      "  \"total_tokens\": \"0.00\",\n",
      "  \"cost\": \"0.00000\",\n",
      "  \"correctness\": \"0.60\"\n",
      "}\n",
      "\n",
      "\n",
      "View experiment & traces at: https://app.parea.ai/experiments/wibbly-wobbly/9c2a54e4-ae0d-4195-ac9e-03e4cee92153\n"
     ]
    }
   ],
   "source": [
    "experiment_kwargs = dict(\n",
    "    data=\"GSM8K_test_set_parea_dataset_2iyvfWLaZFAhZ6V6NGa8gp3WKBx\",\n",
    "    n_workers=1,\n",
    ")\n",
    "\n",
    "parea.experiment(\n",
    "    name=\"wibbly-wobbly\",\n",
    "    func=solver,\n",
    "    **experiment_kwargs\n",
    ").run()"
   ],
   "metadata": {
    "collapsed": false,
    "ExecuteTime": {
     "end_time": "2024-07-10T02:34:50.175551Z",
     "start_time": "2024-07-10T02:34:29.349480Z"
    }
   },
   "id": "ea722547c504c49f",
   "execution_count": 41
  },
  {
   "cell_type": "markdown",
   "source": [
    " # Now, how can we optimize this score?"
   ],
   "metadata": {
    "collapsed": false
   },
   "id": "b73a73ea95aabe4d"
  },
  {
   "cell_type": "markdown",
   "source": [
    "## First, initialize the Zenbase ZenbaseTracer"
   ],
   "metadata": {
    "collapsed": false
   },
   "id": "d16c6e3bde502cd9"
  },
  {
   "cell_type": "code",
   "outputs": [],
   "source": [
    "from zenbase.core.managers import ZenbaseTracer\n",
    "\n",
    "zenbase_tracer = ZenbaseTracer()"
   ],
   "metadata": {
    "collapsed": false,
    "ExecuteTime": {
     "end_time": "2024-07-10T02:36:53.406058Z",
     "start_time": "2024-07-10T02:36:53.400033Z"
    }
   },
   "id": "c8a86f1b472777ee",
   "execution_count": 43
  },
  {
   "cell_type": "markdown",
   "source": [
    "## For Lunary, we have to update our eval function a little bit"
   ],
   "metadata": {
    "collapsed": false
   },
   "id": "874849f1818a1fb2"
  },
  {
   "cell_type": "code",
   "outputs": [],
   "source": [
    "def score_answer_with_json(log: Log) -> EvaluationResult:\n",
    "    if log.target:\n",
    "        output = str(expand_nested_json(log.output)[\"answer\"])\n",
    "        target = log.target.split(\"#### \")[-1]\n",
    "        return EvaluationResult(\"correctness\", int(output == target))\n"
   ],
   "metadata": {
    "collapsed": false,
    "ExecuteTime": {
     "end_time": "2024-07-10T02:40:23.291295Z",
     "start_time": "2024-07-10T02:40:23.286488Z"
    }
   },
   "id": "f4c92f75ca32af0d",
   "execution_count": 48
  },
  {
   "cell_type": "markdown",
   "source": [
    "## Hook up Zenbase to your functions\n",
    "\n",
    "1. Use the `zenbase_tracer` decorator.\n",
    "2. Change function inputs to request\n",
    "3. Use request's `zenbase.task_demos` to get the few-shot examples for the task and add them however you would like into your prompt.\n",
    "4. If you need to use just a few examples, you can use `request.zenbase.task_demos[:2]` to get the first two examples."
   ],
   "metadata": {
    "collapsed": false
   },
   "id": "22e00261655b612d"
  },
  {
   "cell_type": "code",
   "outputs": [],
   "source": [
    "from zenbase.types import LMRequest\n",
    "import json\n",
    "from zenbase.utils import expand_nested_json\n",
    "from parea.schemas import EvaluationResult\n",
    "import openai\n",
    "\n",
    "@zenbase_tracer # it is 1\n",
    "@trace(eval_funcs=[score_answer_with_json])\n",
    "def solver(request: LMRequest): # it is 2\n",
    "    messages = [\n",
    "        {\n",
    "            \"role\": \"system\",\n",
    "            \"content\": \"You are an expert math solver. Solve the given problem using the provided plan and operation. Return only the final numerical answer in JSON format and the key of answer.\"\n",
    "        },\n",
    "    ]\n",
    "\n",
    "    for demo in request.zenbase.task_demos: # it is 3\n",
    "        messages += [\n",
    "            {\"role\": \"user\", \"content\": f\"Example Question: {str(demo.inputs)}\"},\n",
    "            {\"role\": \"assistant\", \"content\": f\"Example Answer: {str(demo.outputs)}\"},\n",
    "        ]\n",
    "\n",
    "    plan = planner_chain(request.inputs)\n",
    "    the_plan = plan[\"plan\"]\n",
    "    the_operation = operation_finder(\n",
    "        {\n",
    "            \"plan\": the_plan,\n",
    "            \"question\": request.inputs[\"question\"],\n",
    "        }\n",
    "    )\n",
    "\n",
    "    messages.append({\"role\": \"user\", \"content\": f\"Question: {request.inputs['question']}\"})\n",
    "    messages.append({\"role\": \"user\", \"content\": f\"Plan: {the_plan}\"})\n",
    "    messages.append(\n",
    "        {\"role\": \"user\", \"content\": f\"Mathematical Operation needed: {the_operation['operation']}\"}\n",
    "    )\n",
    "    messages.append(\n",
    "        {\"role\": \"user\", \"content\": \"Provide the answer as a number in JSON format.\"}\n",
    "    )\n",
    "\n",
    "    response = openai.chat.completions.create(\n",
    "        model=\"gpt-3.5-turbo\",\n",
    "        messages=messages,\n",
    "        response_format={\"type\": \"json_object\"},\n",
    "    )\n",
    "\n",
    "    answer = json.loads(response.choices[0].message.content)\n",
    "    return {\"answer\": answer[\"answer\"]}\n",
    "\n",
    "@zenbase_tracer # it is 1\n",
    "@trace\n",
    "def planner_chain(request: LMRequest): # it is 2\n",
    "    messages = [\n",
    "        {\n",
    "            \"role\": \"system\",\n",
    "            \"content\": \"You are an expert math solver. Create a step-by-step plan to solve the given math problem. Return the plan as a JSON object with a 'plan' key.\"\n",
    "        },\n",
    "    ]\n",
    "\n",
    "    if request.zenbase.task_demos: # it is 3\n",
    "        for demo in request.zenbase.task_demos[:2]: # it is 4\n",
    "            messages += [\n",
    "                {\"role\": \"user\", \"content\": str(demo.inputs)},\n",
    "                {\"role\": \"assistant\", \"content\": str(demo.outputs)},\n",
    "            ]\n",
    "\n",
    "    messages.append({\"role\": \"user\", \"content\": request.inputs.get(\"question\", \"What is 2 + 2?\")})\n",
    "\n",
    "    response = openai.chat.completions.create(\n",
    "        model=\"gpt-3.5-turbo\",\n",
    "        messages=messages,\n",
    "        response_format={\"type\": \"json_object\"},\n",
    "    )\n",
    "\n",
    "    answer = json.loads(response.choices[0].message.content)\n",
    "    return {\"plan\": \" \".join(answer[\"plan\"])}\n",
    "\n",
    "@zenbase_tracer # it is 1\n",
    "@trace\n",
    "def operation_finder(request: LMRequest): # it is 2\n",
    "    messages = [\n",
    "        {\n",
    "            \"role\": \"system\",\n",
    "            \"content\": \"You are an expert math solver. Identify the primary mathematical operation needed to solve the problem based on the given question and plan. Use simple operations like addition, subtraction, multiplication, or division. Return the operation as a JSON object with an 'operation' key.\"\n",
    "        },\n",
    "    ]\n",
    "\n",
    "    if request.zenbase.task_demos: # it is 3\n",
    "        for demo in request.zenbase.task_demos[:2]: # it is 4\n",
    "            messages += [\n",
    "                {\"role\": \"user\", \"content\": f\"Input: {str(demo.inputs)}\"},\n",
    "                {\"role\": \"assistant\", \"content\": str(demo.outputs)},\n",
    "            ]\n",
    "\n",
    "    messages.append({\"role\": \"user\", \"content\": f\"Question: {request.inputs['question']}\"})\n",
    "    messages.append({\"role\": \"user\", \"content\": f\"Plan: {request.inputs['plan']}\"})\n",
    "\n",
    "    response = openai.chat.completions.create(\n",
    "        model=\"gpt-3.5-turbo\",\n",
    "        messages=messages,\n",
    "        response_format={\"type\": \"json_object\"},\n",
    "    )\n",
    "\n",
    "    answer = json.loads(response.choices[0].message.content)\n",
    "    return {\"operation\": answer[\"operation\"]}"
   ],
   "metadata": {
    "ExecuteTime": {
     "end_time": "2024-07-10T02:50:25.263477Z",
     "start_time": "2024-07-10T02:50:25.243186Z"
    }
   },
   "id": "75125e8ad065532",
   "execution_count": 64
  },
  {
   "cell_type": "markdown",
   "source": [
    "## Now we can optimize!"
   ],
   "metadata": {
    "collapsed": false
   },
   "id": "850e7c107059cbdc"
  },
  {
   "cell_type": "markdown",
   "source": [
    "### Set up your optimizer:"
   ],
   "metadata": {
    "collapsed": false
   },
   "id": "27acc47fa9f26e62"
  },
  {
   "cell_type": "code",
   "execution_count": 65,
   "id": "e935c1126e7e18be",
   "metadata": {
    "ExecuteTime": {
     "end_time": "2024-07-10T02:50:27.849063Z",
     "start_time": "2024-07-10T02:50:27.579995Z"
    }
   },
   "outputs": [],
   "source": [
    "from zenbase.optim.metric.bootstrap_few_shot import BootstrapFewShot\n",
    "from zenbase.adaptors.parea import ZenParea\n",
    "\n",
    "zen_parea_adaptor = ZenParea(parea)\n",
    "\n",
    "TRAIN_SET = \"GSM8K_train_set_parea_dataset_2inu4fpM2Q5zIo0JDbtXZOeaG9Y\"\n",
    "TEST_SET = \"GSM8K_test_set_parea_dataset_2inu4fT1X5IZKj361H21BbD2Mc4\"\n",
    "VALIDATION_SET = \"GSM8K_validation_set_parea_dataset_2inu3r5jX6ruauOovt2rf5L5LHG\"\n",
    "SHOTS = 2\n",
    "SAMPLES = 2\n",
    "\n",
    "evaluator_kwargs = dict(\n",
    "    p=parea,\n",
    "    n_workers=1,\n",
    ")\n",
    "\n",
    "bootstrap_few_shot = BootstrapFewShot(\n",
    "    shots=SHOTS,\n",
    "    training_set=TRAIN_SET,\n",
    "    test_set=TEST_SET,\n",
    "    validation_set=VALIDATION_SET,\n",
    "    evaluator_kwargs=evaluator_kwargs,\n",
    "    zen_adaptor=zen_parea_adaptor,\n",
    ")\n"
   ]
  },
  {
   "cell_type": "markdown",
   "source": [
    "### Do the optimization"
   ],
   "metadata": {
    "collapsed": false
   },
   "id": "71255e2b5ef16a58"
  },
  {
   "cell_type": "code",
   "outputs": [
    {
     "name": "stdout",
     "output_type": "stream",
     "text": [
      "Run name set to: hilly-soya, since a name was not provided.\n"
     ]
    },
    {
     "name": "stderr",
     "output_type": "stream",
     "text": [
      "100%|██████████| 5/5 [00:13<00:00,  2.68s/it]\n",
      "0it [00:04, ?it/s]\n"
     ]
    },
    {
     "name": "stdout",
     "output_type": "stream",
     "text": [
      "Experiment zenbase-triple-buffered-needs-based Run hilly-soya stats:\n",
      "{\n",
      "  \"latency\": \"2.68\",\n",
      "  \"input_tokens\": \"0.00\",\n",
      "  \"output_tokens\": \"0.00\",\n",
      "  \"total_tokens\": \"0.00\",\n",
      "  \"cost\": \"0.00000\",\n",
      "  \"correctness\": \"0.60\"\n",
      "}\n",
      "\n",
      "\n",
      "View experiment & traces at: https://app.parea.ai/experiments/zenbase-triple-buffered-needs-based/3f017db0-b941-4915-889a-f53b4b5ecaab\n",
      "Num. experiments: 1\n",
      "Run name set to: jazzy-tamp, since a name was not provided.\n"
     ]
    },
    {
     "name": "stderr",
     "output_type": "stream",
     "text": [
      "100%|██████████| 2/2 [00:11<00:00,  5.56s/it]\n",
      "0it [00:04, ?it/s]\n"
     ]
    },
    {
     "name": "stdout",
     "output_type": "stream",
     "text": [
      "Experiment zenbase-sharable-5thgeneration Run jazzy-tamp stats:\n",
      "{\n",
      "  \"latency\": \"5.57\",\n",
      "  \"input_tokens\": \"0.00\",\n",
      "  \"output_tokens\": \"0.00\",\n",
      "  \"total_tokens\": \"0.00\",\n",
      "  \"cost\": \"0.00000\",\n",
      "  \"correctness\": \"0.50\"\n",
      "}\n",
      "\n",
      "\n",
      "View experiment & traces at: https://app.parea.ai/experiments/zenbase-sharable-5thgeneration/86c1596b-e8c2-499c-99d1-a6fd6440972c\n",
      "Num. experiments: 1\n",
      "Run name set to: snuff-loot, since a name was not provided.\n"
     ]
    },
    {
     "name": "stderr",
     "output_type": "stream",
     "text": [
      "100%|██████████| 2/2 [00:08<00:00,  4.05s/it]\n",
      "0it [00:04, ?it/s]\n"
     ]
    },
    {
     "name": "stdout",
     "output_type": "stream",
     "text": [
      "Experiment zenbase-profound-composite Run snuff-loot stats:\n",
      "{\n",
      "  \"latency\": \"4.11\",\n",
      "  \"input_tokens\": \"0.00\",\n",
      "  \"output_tokens\": \"0.00\",\n",
      "  \"total_tokens\": \"0.00\",\n",
      "  \"cost\": \"0.00000\",\n",
      "  \"correctness\": \"0.50\"\n",
      "}\n",
      "\n",
      "\n",
      "View experiment & traces at: https://app.parea.ai/experiments/zenbase-profound-composite/7fbe7752-0f7f-4161-9d3f-f93d37eade11\n",
      "Num. experiments: 1\n",
      "Run name set to: girly-kale, since a name was not provided.\n"
     ]
    },
    {
     "name": "stderr",
     "output_type": "stream",
     "text": [
      "100%|██████████| 5/5 [00:16<00:00,  3.36s/it]\n",
      "0it [00:04, ?it/s]\n"
     ]
    },
    {
     "name": "stdout",
     "output_type": "stream",
     "text": [
      "Experiment zenbase-integrated-encompassing Run girly-kale stats:\n",
      "{\n",
      "  \"latency\": \"3.37\",\n",
      "  \"input_tokens\": \"0.00\",\n",
      "  \"output_tokens\": \"0.00\",\n",
      "  \"total_tokens\": \"0.00\",\n",
      "  \"cost\": \"0.00000\",\n",
      "  \"correctness\": \"1.00\"\n",
      "}\n",
      "\n",
      "\n",
      "View experiment & traces at: https://app.parea.ai/experiments/zenbase-integrated-encompassing/a3b4de9d-601d-44f0-8248-0cb0444bb01c\n",
      "Num. experiments: 1\n",
      "Run name set to: boned-reef, since a name was not provided.\n"
     ]
    },
    {
     "name": "stderr",
     "output_type": "stream",
     "text": [
      "100%|██████████| 5/5 [00:14<00:00,  3.00s/it]\n",
      "0it [00:04, ?it/s]\n"
     ]
    },
    {
     "name": "stdout",
     "output_type": "stream",
     "text": [
      "Experiment zenbase-profound-static Run boned-reef stats:\n",
      "{\n",
      "  \"latency\": \"3.00\",\n",
      "  \"input_tokens\": \"0.00\",\n",
      "  \"output_tokens\": \"0.00\",\n",
      "  \"total_tokens\": \"0.00\",\n",
      "  \"cost\": \"0.00000\",\n",
      "  \"correctness\": \"1.00\"\n",
      "}\n",
      "\n",
      "\n",
      "View experiment & traces at: https://app.parea.ai/experiments/zenbase-profound-static/7a50a5b9-8122-4915-bc6d-c4392e71af24\n",
      "Num. experiments: 1\n"
     ]
    }
   ],
   "source": [
    "# Empty the traces\n",
    "zenbase_tracer.all_traces = {}\n",
    "# Run the optimization\n",
    "best_fn, candidates = bootstrap_few_shot.perform(\n",
    "    solver,\n",
    "    samples=SAMPLES,\n",
    "    rounds=1,\n",
    "    trace_manager=zenbase_tracer,\n",
    ")"
   ],
   "metadata": {
    "collapsed": false,
    "ExecuteTime": {
     "end_time": "2024-07-10T02:52:18.497850Z",
     "start_time": "2024-07-10T02:50:28.539109Z"
    }
   },
   "id": "a1d309dfbb96cfd0",
   "execution_count": 66
  },
  {
   "cell_type": "markdown",
   "source": [
    "### Use your optimized function"
   ],
   "metadata": {
    "collapsed": false
   },
   "id": "2782c6151deacb65"
  },
  {
   "cell_type": "code",
   "execution_count": 68,
   "id": "7d03caab067b16ce",
   "metadata": {
    "ExecuteTime": {
     "end_time": "2024-07-10T02:54:32.784342Z",
     "start_time": "2024-07-10T02:54:31.007047Z"
    }
   },
   "outputs": [
    {
     "data": {
      "text/plain": "{'answer': 4}"
     },
     "execution_count": 68,
     "metadata": {},
     "output_type": "execute_result"
    }
   ],
   "source": [
    "zenbase_tracer.all_traces = {}\n",
    "best_fn({\"question\": \"What is 2 + 2?\"})"
   ]
  },
  {
   "cell_type": "markdown",
   "source": [
    "### Introspect function traces\n"
   ],
   "metadata": {
    "collapsed": false
   },
   "id": "ede6295bdd0795a9"
  },
  {
   "cell_type": "code",
   "outputs": [],
   "source": [
    "function_traces = [v for k, v in zenbase_tracer.all_traces.items()][0][\"optimized\"]"
   ],
   "metadata": {
    "collapsed": false,
    "ExecuteTime": {
     "end_time": "2024-07-10T02:54:35.918414Z",
     "start_time": "2024-07-10T02:54:35.910881Z"
    }
   },
   "id": "d920366cf248a74c",
   "execution_count": 69
  },
  {
   "cell_type": "markdown",
   "source": [
    "### Check the optimized parameters for solver\n"
   ],
   "metadata": {
    "collapsed": false
   },
   "id": "c78460ac70c02e67"
  },
  {
   "cell_type": "code",
   "outputs": [
    {
     "name": "stdout",
     "output_type": "stream",
     "text": [
      "[LMDemo(inputs={'question': 'Weng earns $12 an hour for babysitting. '\n",
      "                            'Yesterday, she just did 50 minutes of '\n",
      "                            'babysitting. How much did she earn?'},\n",
      "        outputs={'answer': '10'},\n",
      "        adaptor_object=None),\n",
      " LMDemo(inputs={'question': 'Betty is saving money for a new wallet which '\n",
      "                            'costs $100. Betty has only half of the money she '\n",
      "                            'needs. Her parents decided to give her $15 for '\n",
      "                            'that purpose, and her grandparents twice as much '\n",
      "                            'as her parents. How much more money does Betty '\n",
      "                            'need to buy the wallet?'},\n",
      "        outputs={'answer': '5'},\n",
      "        adaptor_object=None),\n",
      " LMDemo(inputs={'question': 'Julie is reading a 120-page book. Yesterday, she '\n",
      "                            'was able to read 12 pages and today, she read '\n",
      "                            'twice as many pages as yesterday. If she wants to '\n",
      "                            'read half of the remaining pages tomorrow, how '\n",
      "                            'many pages should she read?'},\n",
      "        outputs={'answer': '42'},\n",
      "        adaptor_object=None),\n",
      " LMDemo(inputs={'question': 'Natalia sold clips to 48 of her friends in April, '\n",
      "                            'and then she sold half as many clips in May. How '\n",
      "                            'many clips did Natalia sell altogether in April '\n",
      "                            'and May?'},\n",
      "        outputs={'answer': '72'},\n",
      "        adaptor_object=None),\n",
      " LMDemo(inputs={'question': 'James writes a 3-page letter to 2 different '\n",
      "                            'friends twice a week.  How many pages does he '\n",
      "                            'write a year?'},\n",
      "        outputs={'answer': '624'},\n",
      "        adaptor_object=None)]\n"
     ]
    }
   ],
   "source": [
    "from pprint import pprint\n",
    "\n",
    "pprint(function_traces[\"solver\"][\"args\"][\"request\"].zenbase.task_demos)\n"
   ],
   "metadata": {
    "collapsed": false,
    "ExecuteTime": {
     "end_time": "2024-07-10T02:54:37.950469Z",
     "start_time": "2024-07-10T02:54:37.933082Z"
    }
   },
   "id": "6b1238b2f9348cc5",
   "execution_count": 70
  },
  {
   "cell_type": "markdown",
   "source": [
    "### Check the optimized parameters for planner_chain\n"
   ],
   "metadata": {
    "collapsed": false
   },
   "id": "96db4456a0be1991"
  },
  {
   "cell_type": "code",
   "outputs": [
    {
     "name": "stdout",
     "output_type": "stream",
     "text": [
      "[LMDemo(inputs={'question': 'Weng earns $12 an hour for babysitting. '\n",
      "                            'Yesterday, she just did 50 minutes of '\n",
      "                            'babysitting. How much did she earn?'},\n",
      "        outputs={'plan': 'First, convert 50 minutes to hours by dividing by 60 '\n",
      "                         'minutes/hour to get 50/60 = 5/6 hour. Next, multiply '\n",
      "                         'the hours babysat by the hourly rate to find the '\n",
      "                         'total earnings: (5/6) * $12 = $10.'},\n",
      "        adaptor_object=None),\n",
      " LMDemo(inputs={'question': 'Betty is saving money for a new wallet which '\n",
      "                            'costs $100. Betty has only half of the money she '\n",
      "                            'needs. Her parents decided to give her $15 for '\n",
      "                            'that purpose, and her grandparents twice as much '\n",
      "                            'as her parents. How much more money does Betty '\n",
      "                            'need to buy the wallet?'},\n",
      "        outputs={'plan': 'The cost of the wallet is $100 Betty has only half '\n",
      "                         'of the money she needs, which is $100/2 = $50 Her '\n",
      "                         'parents gave her $15 Her grandparents gave her twice '\n",
      "                         'as much as her parents, which is 2 * $15 = $30 The '\n",
      "                         'total amount of money she has now is $50 + $15 + $30 '\n",
      "                         '= $95 Betty still needs $100 - $95 = $5 more to buy '\n",
      "                         'the wallet'},\n",
      "        adaptor_object=None),\n",
      " LMDemo(inputs={'question': 'Julie is reading a 120-page book. Yesterday, she '\n",
      "                            'was able to read 12 pages and today, she read '\n",
      "                            'twice as many pages as yesterday. If she wants to '\n",
      "                            'read half of the remaining pages tomorrow, how '\n",
      "                            'many pages should she read?'},\n",
      "        outputs={'plan': \"Let's first calculate how many pages Julie read \"\n",
      "                         'today. Since she read twice as many pages as '\n",
      "                         'yesterday (12 pages), the number of pages she read '\n",
      "                         'today is 2 * 12 = 24 pages. Julie has read a total '\n",
      "                         'of 12 + 24 = 36 pages in the first two days. The '\n",
      "                         'remaining pages to read in the book is 120 - 36 = 84 '\n",
      "                         'pages. If Julie wants to read half of the remaining '\n",
      "                         'pages tomorrow, she should read 84 / 2 = 42 pages.'},\n",
      "        adaptor_object=None),\n",
      " LMDemo(inputs={'question': 'Natalia sold clips to 48 of her friends in April, '\n",
      "                            'and then she sold half as many clips in May. How '\n",
      "                            'many clips did Natalia sell altogether in April '\n",
      "                            'and May?'},\n",
      "        outputs={'plan': 'Calculate the number of clips sold in April: 48 '\n",
      "                         'Calculate the number of clips sold in May: 48 / 2 '\n",
      "                         'Add the number of clips sold in April and May to get '\n",
      "                         'the total number of clips sold'},\n",
      "        adaptor_object=None),\n",
      " LMDemo(inputs={'question': 'James writes a 3-page letter to 2 different '\n",
      "                            'friends twice a week.  How many pages does he '\n",
      "                            'write a year?'},\n",
      "        outputs={'plan': 'James writes a 3-page letter to 2 different friends, '\n",
      "                         'so he writes a total of 3 x 2 = 6 pages per day. '\n",
      "                         'James writes these letters twice a week, so he '\n",
      "                         'writes a total of 6 x 2 = 12 pages per week. There '\n",
      "                         'are 52 weeks in a year, so James writes a total of '\n",
      "                         '12 x 52 = 624 pages in a year.'},\n",
      "        adaptor_object=None)]\n"
     ]
    }
   ],
   "source": [
    "from pprint import pprint\n",
    "\n",
    "pprint(function_traces[\"planner_chain\"][\"args\"][\"request\"].zenbase.task_demos)\n"
   ],
   "metadata": {
    "collapsed": false,
    "ExecuteTime": {
     "end_time": "2024-07-10T02:54:39.049358Z",
     "start_time": "2024-07-10T02:54:39.043720Z"
    }
   },
   "id": "eba62b852467ab96",
   "execution_count": 71
  },
  {
   "cell_type": "markdown",
   "source": [
    "### Check the optimized parameters for operation_finder\n"
   ],
   "metadata": {
    "collapsed": false
   },
   "id": "6a8c579a40d3e079"
  },
  {
   "cell_type": "code",
   "outputs": [
    {
     "name": "stdout",
     "output_type": "stream",
     "text": [
      "[LMDemo(inputs={'plan': 'First, convert 50 minutes to hours by dividing by 60 '\n",
      "                        'minutes/hour to get 50/60 = 5/6 hour. Next, multiply '\n",
      "                        'the hours babysat by the hourly rate to find the '\n",
      "                        'total earnings: (5/6) * $12 = $10.',\n",
      "                'question': 'Weng earns $12 an hour for babysitting. '\n",
      "                            'Yesterday, she just did 50 minutes of '\n",
      "                            'babysitting. How much did she earn?'},\n",
      "        outputs={'operation': 'multiplication'},\n",
      "        adaptor_object=None),\n",
      " LMDemo(inputs={'plan': 'The cost of the wallet is $100 Betty has only half of '\n",
      "                        'the money she needs, which is $100/2 = $50 Her '\n",
      "                        'parents gave her $15 Her grandparents gave her twice '\n",
      "                        'as much as her parents, which is 2 * $15 = $30 The '\n",
      "                        'total amount of money she has now is $50 + $15 + $30 '\n",
      "                        '= $95 Betty still needs $100 - $95 = $5 more to buy '\n",
      "                        'the wallet',\n",
      "                'question': 'Betty is saving money for a new wallet which '\n",
      "                            'costs $100. Betty has only half of the money she '\n",
      "                            'needs. Her parents decided to give her $15 for '\n",
      "                            'that purpose, and her grandparents twice as much '\n",
      "                            'as her parents. How much more money does Betty '\n",
      "                            'need to buy the wallet?'},\n",
      "        outputs={'operation': 'subtraction'},\n",
      "        adaptor_object=None),\n",
      " LMDemo(inputs={'plan': \"Let's first calculate how many pages Julie read \"\n",
      "                        'today. Since she read twice as many pages as '\n",
      "                        'yesterday (12 pages), the number of pages she read '\n",
      "                        'today is 2 * 12 = 24 pages. Julie has read a total of '\n",
      "                        '12 + 24 = 36 pages in the first two days. The '\n",
      "                        'remaining pages to read in the book is 120 - 36 = 84 '\n",
      "                        'pages. If Julie wants to read half of the remaining '\n",
      "                        'pages tomorrow, she should read 84 / 2 = 42 pages.',\n",
      "                'question': 'Julie is reading a 120-page book. Yesterday, she '\n",
      "                            'was able to read 12 pages and today, she read '\n",
      "                            'twice as many pages as yesterday. If she wants to '\n",
      "                            'read half of the remaining pages tomorrow, how '\n",
      "                            'many pages should she read?'},\n",
      "        outputs={'operation': 'division'},\n",
      "        adaptor_object=None),\n",
      " LMDemo(inputs={'plan': 'Calculate the number of clips sold in April: 48 '\n",
      "                        'Calculate the number of clips sold in May: 48 / 2 Add '\n",
      "                        'the number of clips sold in April and May to get the '\n",
      "                        'total number of clips sold',\n",
      "                'question': 'Natalia sold clips to 48 of her friends in April, '\n",
      "                            'and then she sold half as many clips in May. How '\n",
      "                            'many clips did Natalia sell altogether in April '\n",
      "                            'and May?'},\n",
      "        outputs={'operation': 'addition'},\n",
      "        adaptor_object=None),\n",
      " LMDemo(inputs={'plan': 'James writes a 3-page letter to 2 different friends, '\n",
      "                        'so he writes a total of 3 x 2 = 6 pages per day. '\n",
      "                        'James writes these letters twice a week, so he writes '\n",
      "                        'a total of 6 x 2 = 12 pages per week. There are 52 '\n",
      "                        'weeks in a year, so James writes a total of 12 x 52 = '\n",
      "                        '624 pages in a year.',\n",
      "                'question': 'James writes a 3-page letter to 2 different '\n",
      "                            'friends twice a week.  How many pages does he '\n",
      "                            'write a year?'},\n",
      "        outputs={'operation': 'multiplication'},\n",
      "        adaptor_object=None)]\n"
     ]
    }
   ],
   "source": [
    "from pprint import pprint\n",
    "\n",
    "pprint(function_traces[\"operation_finder\"][\"args\"][\"request\"].zenbase.task_demos)\n"
   ],
   "metadata": {
    "ExecuteTime": {
     "end_time": "2024-07-10T02:54:40.004522Z",
     "start_time": "2024-07-10T02:54:39.999866Z"
    }
   },
   "id": "273ba2abfd65d89d",
   "execution_count": 72
  },
  {
   "cell_type": "markdown",
   "source": [
    "## How to save the function and load it later\n"
   ],
   "metadata": {
    "collapsed": false
   },
   "id": "73fd52b6486c075b"
  },
  {
   "cell_type": "markdown",
   "source": [
    "### Save the optimized function args to a file\n"
   ],
   "metadata": {
    "collapsed": false
   },
   "id": "5f0cc848da4d9dbb"
  },
  {
   "cell_type": "code",
   "outputs": [],
   "source": [
    "bootstrap_few_shot.save_optimizer_args(\"bootstrap_few_shot_args.zenbase\")"
   ],
   "metadata": {
    "collapsed": false,
    "ExecuteTime": {
     "end_time": "2024-07-10T02:54:42.913495Z",
     "start_time": "2024-07-10T02:54:42.902391Z"
    }
   },
   "id": "c946162598f36aaf",
   "execution_count": 73
  },
  {
   "cell_type": "markdown",
   "source": [
    "### Load the optimized function args with the function\n"
   ],
   "metadata": {
    "collapsed": false
   },
   "id": "fe41d4ce2ea2188f"
  },
  {
   "cell_type": "code",
   "outputs": [],
   "source": [
    "bootstrap_few_shot.save_optimizer_args(\"bootstrap_few_shot_args.zenbase\")\n",
    "\n",
    "optimized_function = bootstrap_few_shot.load_optimizer_and_function(\"bootstrap_few_shot_args.zenbase\", solver, zenbase_tracer)"
   ],
   "metadata": {
    "collapsed": false,
    "ExecuteTime": {
     "end_time": "2024-07-10T02:54:44.055467Z",
     "start_time": "2024-07-10T02:54:44.047349Z"
    }
   },
   "id": "be759cb31c41c35f",
   "execution_count": 74
  },
  {
   "cell_type": "markdown",
   "source": [
    "### Use the loaded function and make sure it loaded the demos.\n"
   ],
   "metadata": {
    "collapsed": false
   },
   "id": "92ad009e26d106c8"
  },
  {
   "cell_type": "code",
   "outputs": [
    {
     "name": "stdout",
     "output_type": "stream",
     "text": [
      "[LMDemo(inputs={'question': 'Weng earns $12 an hour for babysitting. '\n",
      "                            'Yesterday, she just did 50 minutes of '\n",
      "                            'babysitting. How much did she earn?'},\n",
      "        outputs={'answer': '10'},\n",
      "        adaptor_object=None),\n",
      " LMDemo(inputs={'question': 'Betty is saving money for a new wallet which '\n",
      "                            'costs $100. Betty has only half of the money she '\n",
      "                            'needs. Her parents decided to give her $15 for '\n",
      "                            'that purpose, and her grandparents twice as much '\n",
      "                            'as her parents. How much more money does Betty '\n",
      "                            'need to buy the wallet?'},\n",
      "        outputs={'answer': '5'},\n",
      "        adaptor_object=None),\n",
      " LMDemo(inputs={'question': 'Julie is reading a 120-page book. Yesterday, she '\n",
      "                            'was able to read 12 pages and today, she read '\n",
      "                            'twice as many pages as yesterday. If she wants to '\n",
      "                            'read half of the remaining pages tomorrow, how '\n",
      "                            'many pages should she read?'},\n",
      "        outputs={'answer': '42'},\n",
      "        adaptor_object=None),\n",
      " LMDemo(inputs={'question': 'Natalia sold clips to 48 of her friends in April, '\n",
      "                            'and then she sold half as many clips in May. How '\n",
      "                            'many clips did Natalia sell altogether in April '\n",
      "                            'and May?'},\n",
      "        outputs={'answer': '72'},\n",
      "        adaptor_object=None),\n",
      " LMDemo(inputs={'question': 'James writes a 3-page letter to 2 different '\n",
      "                            'friends twice a week.  How many pages does he '\n",
      "                            'write a year?'},\n",
      "        outputs={'answer': '624'},\n",
      "        adaptor_object=None)]\n",
      "[LMDemo(inputs={'question': 'Weng earns $12 an hour for babysitting. '\n",
      "                            'Yesterday, she just did 50 minutes of '\n",
      "                            'babysitting. How much did she earn?'},\n",
      "        outputs={'plan': 'First, convert 50 minutes to hours by dividing by 60 '\n",
      "                         'minutes/hour to get 50/60 = 5/6 hour. Next, multiply '\n",
      "                         'the hours babysat by the hourly rate to find the '\n",
      "                         'total earnings: (5/6) * $12 = $10.'},\n",
      "        adaptor_object=None),\n",
      " LMDemo(inputs={'question': 'Betty is saving money for a new wallet which '\n",
      "                            'costs $100. Betty has only half of the money she '\n",
      "                            'needs. Her parents decided to give her $15 for '\n",
      "                            'that purpose, and her grandparents twice as much '\n",
      "                            'as her parents. How much more money does Betty '\n",
      "                            'need to buy the wallet?'},\n",
      "        outputs={'plan': 'The cost of the wallet is $100 Betty has only half '\n",
      "                         'of the money she needs, which is $100/2 = $50 Her '\n",
      "                         'parents gave her $15 Her grandparents gave her twice '\n",
      "                         'as much as her parents, which is 2 * $15 = $30 The '\n",
      "                         'total amount of money she has now is $50 + $15 + $30 '\n",
      "                         '= $95 Betty still needs $100 - $95 = $5 more to buy '\n",
      "                         'the wallet'},\n",
      "        adaptor_object=None),\n",
      " LMDemo(inputs={'question': 'Julie is reading a 120-page book. Yesterday, she '\n",
      "                            'was able to read 12 pages and today, she read '\n",
      "                            'twice as many pages as yesterday. If she wants to '\n",
      "                            'read half of the remaining pages tomorrow, how '\n",
      "                            'many pages should she read?'},\n",
      "        outputs={'plan': \"Let's first calculate how many pages Julie read \"\n",
      "                         'today. Since she read twice as many pages as '\n",
      "                         'yesterday (12 pages), the number of pages she read '\n",
      "                         'today is 2 * 12 = 24 pages. Julie has read a total '\n",
      "                         'of 12 + 24 = 36 pages in the first two days. The '\n",
      "                         'remaining pages to read in the book is 120 - 36 = 84 '\n",
      "                         'pages. If Julie wants to read half of the remaining '\n",
      "                         'pages tomorrow, she should read 84 / 2 = 42 pages.'},\n",
      "        adaptor_object=None),\n",
      " LMDemo(inputs={'question': 'Natalia sold clips to 48 of her friends in April, '\n",
      "                            'and then she sold half as many clips in May. How '\n",
      "                            'many clips did Natalia sell altogether in April '\n",
      "                            'and May?'},\n",
      "        outputs={'plan': 'Calculate the number of clips sold in April: 48 '\n",
      "                         'Calculate the number of clips sold in May: 48 / 2 '\n",
      "                         'Add the number of clips sold in April and May to get '\n",
      "                         'the total number of clips sold'},\n",
      "        adaptor_object=None),\n",
      " LMDemo(inputs={'question': 'James writes a 3-page letter to 2 different '\n",
      "                            'friends twice a week.  How many pages does he '\n",
      "                            'write a year?'},\n",
      "        outputs={'plan': 'James writes a 3-page letter to 2 different friends, '\n",
      "                         'so he writes a total of 3 x 2 = 6 pages per day. '\n",
      "                         'James writes these letters twice a week, so he '\n",
      "                         'writes a total of 6 x 2 = 12 pages per week. There '\n",
      "                         'are 52 weeks in a year, so James writes a total of '\n",
      "                         '12 x 52 = 624 pages in a year.'},\n",
      "        adaptor_object=None)]\n",
      "[LMDemo(inputs={'plan': 'First, convert 50 minutes to hours by dividing by 60 '\n",
      "                        'minutes/hour to get 50/60 = 5/6 hour. Next, multiply '\n",
      "                        'the hours babysat by the hourly rate to find the '\n",
      "                        'total earnings: (5/6) * $12 = $10.',\n",
      "                'question': 'Weng earns $12 an hour for babysitting. '\n",
      "                            'Yesterday, she just did 50 minutes of '\n",
      "                            'babysitting. How much did she earn?'},\n",
      "        outputs={'operation': 'multiplication'},\n",
      "        adaptor_object=None),\n",
      " LMDemo(inputs={'plan': 'The cost of the wallet is $100 Betty has only half of '\n",
      "                        'the money she needs, which is $100/2 = $50 Her '\n",
      "                        'parents gave her $15 Her grandparents gave her twice '\n",
      "                        'as much as her parents, which is 2 * $15 = $30 The '\n",
      "                        'total amount of money she has now is $50 + $15 + $30 '\n",
      "                        '= $95 Betty still needs $100 - $95 = $5 more to buy '\n",
      "                        'the wallet',\n",
      "                'question': 'Betty is saving money for a new wallet which '\n",
      "                            'costs $100. Betty has only half of the money she '\n",
      "                            'needs. Her parents decided to give her $15 for '\n",
      "                            'that purpose, and her grandparents twice as much '\n",
      "                            'as her parents. How much more money does Betty '\n",
      "                            'need to buy the wallet?'},\n",
      "        outputs={'operation': 'subtraction'},\n",
      "        adaptor_object=None),\n",
      " LMDemo(inputs={'plan': \"Let's first calculate how many pages Julie read \"\n",
      "                        'today. Since she read twice as many pages as '\n",
      "                        'yesterday (12 pages), the number of pages she read '\n",
      "                        'today is 2 * 12 = 24 pages. Julie has read a total of '\n",
      "                        '12 + 24 = 36 pages in the first two days. The '\n",
      "                        'remaining pages to read in the book is 120 - 36 = 84 '\n",
      "                        'pages. If Julie wants to read half of the remaining '\n",
      "                        'pages tomorrow, she should read 84 / 2 = 42 pages.',\n",
      "                'question': 'Julie is reading a 120-page book. Yesterday, she '\n",
      "                            'was able to read 12 pages and today, she read '\n",
      "                            'twice as many pages as yesterday. If she wants to '\n",
      "                            'read half of the remaining pages tomorrow, how '\n",
      "                            'many pages should she read?'},\n",
      "        outputs={'operation': 'division'},\n",
      "        adaptor_object=None),\n",
      " LMDemo(inputs={'plan': 'Calculate the number of clips sold in April: 48 '\n",
      "                        'Calculate the number of clips sold in May: 48 / 2 Add '\n",
      "                        'the number of clips sold in April and May to get the '\n",
      "                        'total number of clips sold',\n",
      "                'question': 'Natalia sold clips to 48 of her friends in April, '\n",
      "                            'and then she sold half as many clips in May. How '\n",
      "                            'many clips did Natalia sell altogether in April '\n",
      "                            'and May?'},\n",
      "        outputs={'operation': 'addition'},\n",
      "        adaptor_object=None),\n",
      " LMDemo(inputs={'plan': 'James writes a 3-page letter to 2 different friends, '\n",
      "                        'so he writes a total of 3 x 2 = 6 pages per day. '\n",
      "                        'James writes these letters twice a week, so he writes '\n",
      "                        'a total of 6 x 2 = 12 pages per week. There are 52 '\n",
      "                        'weeks in a year, so James writes a total of 12 x 52 = '\n",
      "                        '624 pages in a year.',\n",
      "                'question': 'James writes a 3-page letter to 2 different '\n",
      "                            'friends twice a week.  How many pages does he '\n",
      "                            'write a year?'},\n",
      "        outputs={'operation': 'multiplication'},\n",
      "        adaptor_object=None)]\n"
     ]
    }
   ],
   "source": [
    "zenbase_tracer.all_traces = {}\n",
    "optimized_function({\"question\": \"If I have 30% of shares, and Mo has 24.5% of shares, how many of our 10M shares are unassigned?\"})\n",
    "function_traces = [v for k, v in zenbase_tracer.all_traces.items()][0][\"optimized\"]\n",
    "from pprint import pprint\n",
    "\n",
    "pprint(function_traces[\"solver\"][\"args\"][\"request\"].zenbase.task_demos)\n",
    "pprint(function_traces[\"planner_chain\"][\"args\"][\"request\"].zenbase.task_demos)\n",
    "pprint(function_traces[\"operation_finder\"][\"args\"][\"request\"].zenbase.task_demos)"
   ],
   "metadata": {
    "collapsed": false,
    "ExecuteTime": {
     "end_time": "2024-07-10T02:54:48.066035Z",
     "start_time": "2024-07-10T02:54:45.176466Z"
    }
   },
   "id": "9f15c14a9d31ef17",
   "execution_count": 75
  }
 ],
 "metadata": {
  "kernelspec": {
   "display_name": "Python 3",
   "language": "python",
   "name": "python3"
  },
  "language_info": {
   "codemirror_mode": {
    "name": "ipython",
    "version": 3
   },
   "file_extension": ".py",
   "mimetype": "text/x-python",
   "name": "python",
   "nbconvert_exporter": "python",
   "pygments_lexer": "ipython3",
   "version": "3.10.13"
  }
 },
 "nbformat": 4,
 "nbformat_minor": 5
}
