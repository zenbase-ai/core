{
 "cells": [
  {
   "cell_type": "code",
   "outputs": [],
   "source": [
    "import sys\n",
    "import subprocess\n",
    "\n",
    "def install_package(package):\n",
    "    try:\n",
    "        subprocess.check_call([sys.executable, \"-m\", \"pip\", \"install\", package])\n",
    "    except subprocess.CalledProcessError as e:\n",
    "        print(f\"Failed to install {package}: {e}\")\n",
    "        raise\n",
    "\n",
    "def install_packages(packages):\n",
    "    for package in packages:\n",
    "        install_package(package)\n",
    "\n",
    "try:\n",
    "    # Check if running in Google Colab\n",
    "    import google.colab\n",
    "    IN_COLAB = True\n",
    "except ImportError:\n",
    "    IN_COLAB = False\n",
    "\n",
    "if IN_COLAB:\n",
    "    # Install the zenbase package if running in Google Colab\n",
    "    # install_package('zenbase')\n",
    "    # Install the zenbse package from a GitHub branch if running in Google Colab\n",
    "    install_package('git+https://github.com/zenbase-ai/lib.git@main#egg=zenbase&subdirectory=py')\n",
    "\n",
    "    # List of other packages to install in Google Colab\n",
    "    additional_packages = [\n",
    "        'python-dotenv',\n",
    "        'lunary',\n",
    "        'openai',\n",
    "        'langchain',\n",
    "        'langchain_openai'\n",
    "    ]\n",
    "    \n",
    "    # Install additional packages\n",
    "    install_packages(additional_packages)\n",
    "\n",
    "# Now import the zenbase library\n",
    "try:\n",
    "    import zenbase\n",
    "except ImportError as e:\n",
    "    print(\"Failed to import zenbase: \", e)\n",
    "    raise"
   ],
   "metadata": {
    "collapsed": false,
    "ExecuteTime": {
     "end_time": "2024-07-05T19:46:38.182428Z",
     "start_time": "2024-07-05T19:46:38.168050Z"
    }
   },
   "execution_count": 1
  },
  {
   "cell_type": "code",
   "execution_count": 2,
   "metadata": {
    "ExecuteTime": {
     "end_time": "2024-07-05T19:46:38.201931Z",
     "start_time": "2024-07-05T19:46:38.185011Z"
    }
   },
   "outputs": [
    {
     "data": {
      "text/plain": "True"
     },
     "execution_count": 2,
     "metadata": {},
     "output_type": "execute_result"
    }
   ],
   "source": [
    "from pathlib import Path\n",
    "from dotenv import load_dotenv\n",
    "\n",
    "# import os\n",
    "#\n",
    "# os.environ[\"OPENAI_API_KEY\"] = \"...\"\n",
    "# os.environ[\"LUNARY_PUBLIC_KEY\"] = \"...\"\n",
    "\n",
    "load_dotenv(Path(\"../../.env.test\"), override=True)"
   ]
  },
  {
   "cell_type": "code",
   "execution_count": 3,
   "metadata": {
    "ExecuteTime": {
     "end_time": "2024-07-05T19:46:38.920185Z",
     "start_time": "2024-07-05T19:46:38.915423Z"
    }
   },
   "outputs": [],
   "source": [
    "import nest_asyncio\n",
    "\n",
    "nest_asyncio.apply()"
   ]
  },
  {
   "cell_type": "code",
   "execution_count": 4,
   "metadata": {
    "ExecuteTime": {
     "end_time": "2024-07-05T19:46:42.718434Z",
     "start_time": "2024-07-05T19:46:39.632950Z"
    }
   },
   "outputs": [],
   "source": [
    "from openai import OpenAI\n",
    "import lunary\n",
    "\n",
    "openai = OpenAI()\n",
    "lunary.monitor(openai)"
   ]
  },
  {
   "cell_type": "code",
   "outputs": [],
   "source": [
    "from zenbase.core.managers import TraceManager\n",
    "zenbase_manager = TraceManager()"
   ],
   "metadata": {
    "collapsed": false,
    "ExecuteTime": {
     "end_time": "2024-07-05T19:46:43.063695Z",
     "start_time": "2024-07-05T19:46:42.721037Z"
    }
   },
   "execution_count": 5
  },
  {
   "cell_type": "code",
   "execution_count": 6,
   "metadata": {
    "ExecuteTime": {
     "end_time": "2024-07-05T19:46:44.021157Z",
     "start_time": "2024-07-05T19:46:44.005995Z"
    }
   },
   "outputs": [],
   "source": [
    "\n",
    "import json\n",
    "from zenbase.types import LMRequest\n",
    "\n",
    "\n",
    "@zenbase_manager.trace_function\n",
    "# @retry(\n",
    "#     stop=stop_after_attempt(3),\n",
    "#     wait=wait_exponential_jitter(max=8),\n",
    "#     before_sleep=before_sleep_log(log, logging.WARN),\n",
    "# )\n",
    "def solver(request: LMRequest):\n",
    "    messages = [\n",
    "        {\n",
    "            \"role\": \"system\",\n",
    "            \"content\": \"You are an expert math solver. You have a question that you should answer. You have step by step actions that you should take to solve the problem. You have the operations that you should do to solve the problem. You should come just with the number for the answer, just the actual number like examples that you have. Follow the format of the examples as they have the final answer, you need to come up with the plan for solving them.\"  # noqa\n",
    "            'return it with json like return it in the {\"answer\": \" the answer \"}',\n",
    "        }\n",
    "    ]\n",
    "\n",
    "    for demo in request.zenbase.task_demos:\n",
    "        messages += [\n",
    "            {\"role\": \"user\", \"content\": f\"Example Question: {demo.inputs}\"},\n",
    "            {\"role\": \"assistant\", \"content\": f\"Example Answer: {demo.outputs}\"},\n",
    "        ]\n",
    "\n",
    "    plan = planner_chain(request.inputs)\n",
    "    the_plan = plan[\"plan\"]\n",
    "    # the_plan = 'plan[\"plan\"]'\n",
    "    the_operation = operation_finder(\n",
    "        {\n",
    "            \"plan\": the_plan,\n",
    "            \"question\": request.inputs,\n",
    "        }\n",
    "    )\n",
    "    # the_operation = {\"operation\": \"operation_finder\"}\n",
    "\n",
    "    messages.append({\"role\": \"user\", \"content\": f\"Question: {request.inputs}\"})\n",
    "    messages.append({\"role\": \"user\", \"content\": f\"Plan: {the_plan}\"})\n",
    "    messages.append(\n",
    "        {\"role\": \"user\", \"content\": f\"Mathematical Operation that needed: {the_operation['operation']}\"}\n",
    "    )\n",
    "    messages.append(\n",
    "        {\n",
    "            \"role\": \"user\",\n",
    "            \"content\": \"Now come with the answer as number, just return the number, nothing else, just NUMBERS.\",\n",
    "        }\n",
    "    )\n",
    "\n",
    "    response = openai.chat.completions.create(\n",
    "        model=\"gpt-3.5-turbo\",\n",
    "        messages=messages,\n",
    "        response_format={\"type\": \"json_object\"},\n",
    "    )\n",
    "\n",
    "    print(\"Mathing...\")\n",
    "    answer = json.loads(response.choices[0].message.content)\n",
    "    return answer[\"answer\"]\n",
    "\n",
    "@zenbase_manager.trace_function\n",
    "# @retry(\n",
    "#     stop=stop_after_attempt(3),\n",
    "#     wait=wait_exponential_jitter(max=8),\n",
    "#     before_sleep=before_sleep_log(log, logging.WARN),\n",
    "# )\n",
    "def planner_chain(request: LMRequest):\n",
    "    messages = [\n",
    "        {\n",
    "            \"role\": \"system\",\n",
    "            \"content\": \"You are an expert math solver. You have a question that you should create a step-by-step plan to solve it. Follow the format of the examples and return JSON object.\"  # noqa\n",
    "            'return it in the {\"plan\": \" the plan \"}',\n",
    "        }\n",
    "    ]\n",
    "\n",
    "    if request.zenbase.task_demos:\n",
    "        for demo in request.zenbase.task_demos[:2]:\n",
    "            messages += [\n",
    "                {\"role\": \"user\", \"content\": demo.inputs},\n",
    "                {\"role\": \"assistant\", \"content\": demo.outputs[\"plan\"]},\n",
    "            ]\n",
    "    messages.append({\"role\": \"user\", \"content\": request.inputs})\n",
    "\n",
    "    response = openai.chat.completions.create(\n",
    "        model=\"gpt-3.5-turbo\",\n",
    "        messages=messages,\n",
    "        response_format={\"type\": \"json_object\"},\n",
    "    )\n",
    "\n",
    "    print(\"Planning...\")\n",
    "    answer = json.loads(response.choices[0].message.content)\n",
    "    return {\"plan\": \" \".join(i for i in answer[\"plan\"])}\n",
    "\n",
    "@zenbase_manager.trace_function\n",
    "# @retry(\n",
    "#     stop=stop_after_attempt(3),\n",
    "#     wait=wait_exponential_jitter(max=8),\n",
    "#     before_sleep=before_sleep_log(log, logging.WARN),\n",
    "# )\n",
    "def operation_finder(request: LMRequest):\n",
    "    messages = [\n",
    "        {\n",
    "            \"role\": \"system\",\n",
    "            \"content\": \"You are an expert math solver. You have a plan for solving a problem that is step-by-step, you need to find the overall operation in the math to solve it. Just come up with math operation with simple math operations like sum, multiply, division and minus. Follow the format of the examples.\"  # noqa\n",
    "            'return it with json like return it in the {\"operation\": \" the operation \"}',\n",
    "        }\n",
    "    ]\n",
    "\n",
    "    if request.zenbase.task_demos:\n",
    "        for demo in request.zenbase.task_demos[:2]:\n",
    "            messages += [\n",
    "                {\"role\": \"user\", \"content\": f\"Question: {demo.inputs['question']}\"},\n",
    "                {\"role\": \"user\", \"content\": f\"Plan: {demo.inputs['plan']}\"},\n",
    "                {\"role\": \"assistant\", \"content\": demo.outputs[\"operation\"]},\n",
    "            ]\n",
    "\n",
    "    messages.append({\"role\": \"user\", \"content\": f\"Question: {request.inputs['question']}\"})\n",
    "    messages.append({\"role\": \"user\", \"content\": f\"Plan: {request.inputs['plan']}\"})\n",
    "\n",
    "    response = openai.chat.completions.create(\n",
    "        model=\"gpt-3.5-turbo\",\n",
    "        messages=messages,\n",
    "        response_format={\"type\": \"json_object\"},\n",
    "    )\n",
    "\n",
    "    print(\"Finding operation...\")\n",
    "    answer = json.loads(response.choices[0].message.content)\n",
    "    return {\"operation\": answer[\"operation\"]}\n"
   ]
  },
  {
   "cell_type": "code",
   "outputs": [],
   "source": [
    "from zenbase.adaptors.lunary import ZenLunary\n",
    "\n",
    "lunary_helper = ZenLunary(client=lunary)"
   ],
   "metadata": {
    "collapsed": false,
    "ExecuteTime": {
     "end_time": "2024-07-05T19:46:46.062049Z",
     "start_time": "2024-07-05T19:46:46.043725Z"
    }
   },
   "execution_count": 7
  },
  {
   "cell_type": "code",
   "outputs": [
    {
     "name": "stdout",
     "output_type": "stream",
     "text": [
      "Planning...\n",
      "Finding operation...\n",
      "Mathing...\n"
     ]
    },
    {
     "data": {
      "text/plain": "'4'"
     },
     "execution_count": 8,
     "metadata": {},
     "output_type": "execute_result"
    }
   ],
   "source": [
    "solver(\"What is 2 + 2?\")"
   ],
   "metadata": {
    "collapsed": false,
    "ExecuteTime": {
     "end_time": "2024-07-05T19:46:48.983664Z",
     "start_time": "2024-07-05T19:46:47.180304Z"
    }
   },
   "execution_count": 8
  },
  {
   "cell_type": "code",
   "execution_count": 9,
   "metadata": {
    "ExecuteTime": {
     "end_time": "2024-07-05T19:47:05.482212Z",
     "start_time": "2024-07-05T19:46:50.157207Z"
    }
   },
   "outputs": [
    {
     "name": "stdout",
     "output_type": "stream",
     "text": [
      "Planning...\n",
      "Finding operation...\n",
      "Mathing...\n",
      "Planning...\n",
      "Finding operation...\n",
      "Mathing...\n",
      "Planning...\n",
      "Finding operation...\n",
      "Mathing...\n",
      "Planning...\n",
      "Finding operation...\n",
      "Mathing...\n",
      "Planning...\n",
      "Finding operation...\n",
      "Mathing...\n",
      "Average score 0.6\n"
     ]
    }
   ],
   "source": [
    "evalset = lunary.get_dataset(\"gsm8k-evalset\")\n",
    "\n",
    "scores = []\n",
    "for item in evalset:\n",
    "    answer = solver(item.input)\n",
    "    passed, results = lunary.evaluate(\n",
    "        \"exact-match\",\n",
    "        input=item.input,\n",
    "        output=answer,\n",
    "        ideal_output=item.ideal_output.split(\"#### \")[-1],\n",
    "    )\n",
    "    scores.append(int(passed))\n",
    "\n",
    "print(\"Average score\", sum(scores) / len(scores))"
   ]
  },
  {
   "cell_type": "code",
   "outputs": [],
   "source": [
    "evaluator_kwargs = dict(\n",
    "    checklist=\"exact-match\",\n",
    "    concurrency=2,\n",
    ")"
   ],
   "metadata": {
    "collapsed": false,
    "ExecuteTime": {
     "end_time": "2024-07-05T19:47:26.082042Z",
     "start_time": "2024-07-05T19:47:26.079157Z"
    }
   },
   "execution_count": 10
  },
  {
   "cell_type": "code",
   "outputs": [],
   "source": [
    "# for lunary there is not feature to create dataset with code, so dataset are created\n",
    "# manually with UI, if you want to replicate the test on your own, you should put\n",
    "# GSM8K examples to dataset name like below:\n",
    "TRAIN_SET = \"gsmk8k-train-set\"\n",
    "TEST_SET = \"gsm8k-test-set\"\n",
    "VALIDATION_SET = \"gsm8k-validation-set\"\n",
    "\n",
    "assert lunary_helper.fetch_dataset_demos(TRAIN_SET) is not None\n",
    "assert lunary_helper.fetch_dataset_demos(TEST_SET) is not None\n",
    "assert lunary_helper.fetch_dataset_demos(VALIDATION_SET) is not None"
   ],
   "metadata": {
    "collapsed": false,
    "ExecuteTime": {
     "end_time": "2024-07-05T19:47:28.313699Z",
     "start_time": "2024-07-05T19:47:27.469061Z"
    }
   },
   "execution_count": 11
  },
  {
   "cell_type": "code",
   "outputs": [],
   "source": [
    "SAMPLES = 2\n",
    "SHOTS = 3"
   ],
   "metadata": {
    "collapsed": false,
    "ExecuteTime": {
     "end_time": "2024-07-05T19:47:29.279115Z",
     "start_time": "2024-07-05T19:47:29.276157Z"
    }
   },
   "execution_count": 12
  },
  {
   "cell_type": "code",
   "execution_count": 13,
   "metadata": {
    "ExecuteTime": {
     "end_time": "2024-07-05T19:48:21.090596Z",
     "start_time": "2024-07-05T19:47:30.334264Z"
    }
   },
   "outputs": [
    {
     "name": "stdout",
     "output_type": "stream",
     "text": [
      "Planning...\n",
      "Finding operation...\n",
      "Mathing...\n",
      "Planning...\n",
      "Finding operation...\n",
      "Mathing...\n",
      "Planning...\n",
      "Finding operation...\n",
      "Mathing...\n",
      "Planning...\n",
      "Finding operation...\n",
      "Mathing...\n",
      "Planning...\n",
      "Finding operation...\n",
      "Mathing...\n",
      "Planning...\n",
      "Finding operation...\n",
      "Mathing...\n",
      "Planning...\n",
      "Finding operation...\n",
      "Mathing...\n",
      "Planning...\n",
      "Finding operation...\n",
      "Mathing...\n",
      "Planning...\n",
      "Finding operation...\n",
      "Mathing...\n",
      "Planning...\n",
      "Finding operation...\n",
      "Mathing...\n",
      "Planning...\n",
      "Finding operation...\n",
      "Mathing...\n",
      "Planning...\n",
      "Finding operation...\n",
      "Mathing...\n",
      "Planning...\n",
      "Finding operation...\n",
      "Mathing...\n",
      "Planning...\n",
      "Finding operation...\n",
      "Mathing...\n",
      "Planning...\n",
      "Finding operation...\n",
      "Mathing...\n",
      "Planning...\n",
      "Finding operation...\n",
      "Mathing...\n"
     ]
    }
   ],
   "source": [
    "from zenbase.optim.metric.bootstrap_few_shot import BootstrapFewShot\n",
    "\n",
    "bootstrap_few_shot = BootstrapFewShot(\n",
    "    shots=SHOTS,\n",
    "    training_set=TRAIN_SET,\n",
    "    test_set=TEST_SET,\n",
    "    validation_set=VALIDATION_SET,\n",
    "    evaluator_kwargs=evaluator_kwargs,\n",
    "    zen_adaptor=lunary_helper,\n",
    ")\n",
    "\n",
    "teacher_lm = bootstrap_few_shot.perform(\n",
    "    solver,\n",
    "    samples=SAMPLES,\n",
    "    rounds=1,\n",
    "    trace_manager=zenbase_manager,\n",
    ")"
   ]
  },
  {
   "cell_type": "code",
   "outputs": [
    {
     "data": {
      "text/plain": "{'score': 1.0}"
     },
     "execution_count": 17,
     "metadata": {},
     "output_type": "execute_result"
    }
   ],
   "source": [
    "bootstrap_few_shot.base_evaluation.evals"
   ],
   "metadata": {
    "collapsed": false,
    "ExecuteTime": {
     "end_time": "2024-07-05T19:50:06.928084Z",
     "start_time": "2024-07-05T19:50:06.922224Z"
    }
   },
   "execution_count": 17
  },
  {
   "cell_type": "code",
   "outputs": [
    {
     "data": {
      "text/plain": "{'score': 0.5}"
     },
     "execution_count": 16,
     "metadata": {},
     "output_type": "execute_result"
    }
   ],
   "source": [
    "bootstrap_few_shot.best_evaluation.evals"
   ],
   "metadata": {
    "collapsed": false,
    "ExecuteTime": {
     "end_time": "2024-07-05T19:50:01.610915Z",
     "start_time": "2024-07-05T19:50:01.600576Z"
    }
   },
   "execution_count": 16
  },
  {
   "cell_type": "code",
   "execution_count": 19,
   "metadata": {
    "ExecuteTime": {
     "end_time": "2024-07-05T19:50:26.714130Z",
     "start_time": "2024-07-05T19:50:24.110058Z"
    }
   },
   "outputs": [
    {
     "name": "stdout",
     "output_type": "stream",
     "text": [
      "Planning...\n",
      "Finding operation...\n",
      "Mathing...\n"
     ]
    },
    {
     "data": {
      "text/plain": "'4550000'"
     },
     "execution_count": 19,
     "metadata": {},
     "output_type": "execute_result"
    }
   ],
   "source": [
    "# Now you can use your zenbase fn\n",
    "teacher_lm.best_function(\"If I have 30% of shares, and Mo has 24.5% of shares, how many of our 10M shares are unassigned?\")"
   ]
  },
  {
   "cell_type": "code",
   "execution_count": 28,
   "metadata": {
    "ExecuteTime": {
     "end_time": "2024-07-05T19:51:53.577679Z",
     "start_time": "2024-07-05T19:51:53.574941Z"
    }
   },
   "outputs": [],
   "source": [
    "zenbase_manager.all_traces = {}\n"
   ]
  },
  {
   "cell_type": "code",
   "execution_count": 30,
   "metadata": {
    "ExecuteTime": {
     "end_time": "2024-07-05T19:52:00.886953Z",
     "start_time": "2024-07-05T19:51:58.110770Z"
    }
   },
   "outputs": [
    {
     "name": "stdout",
     "output_type": "stream",
     "text": [
      "Planning...\n",
      "Finding operation...\n",
      "Mathing...\n"
     ]
    },
    {
     "data": {
      "text/plain": "'45.5'"
     },
     "execution_count": 30,
     "metadata": {},
     "output_type": "execute_result"
    }
   ],
   "source": [
    "# Now you can use your zenbase fn\n",
    "teacher_lm.best_function(\"If I have 30% of shares, and Mo has 24.5% of shares, how many of our 10M shares are unassigned?\")"
   ]
  },
  {
   "cell_type": "code",
   "execution_count": 33,
   "metadata": {
    "ExecuteTime": {
     "end_time": "2024-07-05T19:52:30.498386Z",
     "start_time": "2024-07-05T19:52:30.494734Z"
    }
   },
   "outputs": [],
   "source": [
    "function_traces = [v for k, v in zenbase_manager.all_traces.items()][0][\"optimized\"]"
   ]
  },
  {
   "cell_type": "code",
   "outputs": [
    {
     "data": {
      "text/plain": "{'planner_chain': {'args': {'request': LMRequest(zenbase=LMZenbase(task_demos=[LMDemo(inputs='Natalia sold clips to 48 of her friends in April, and then she sold half as many clips in May. How many clips did Natalia sell altogether in April and May?', outputs={'plan': '1 .   C a l c u l a t e   h a l f   t h e   n u m b e r   o f   c l i p s   s o l d   i n   A p r i l :   4 8   /   2   =   2 4   c l i p s   s o l d   i n   M a y .   2 .   A d d   t h e   n u m b e r   o f   c l i p s   s o l d   i n   A p r i l   a n d   M a y :   4 8   ( A p r i l )   +   2 4   ( M a y )   =   7 2   c l i p s   s o l d   a l t o g e t h e r   i n   A p r i l   a n d   M a y .'}, original_object=None), LMDemo(inputs='Weng earns $12 an hour for babysitting. Yesterday, she just did 50 minutes of babysitting. How much did she earn?', outputs={'plan': \"T o   f i n d   o u t   h o w   m u c h   W e n g   e a r n e d   f o r   b a b y s i t t i n g   5 0   m i n u t e s ,   f i r s t   c o n v e r t   5 0   m i n u t e s   t o   h o u r s   b y   d i v i d i n g   b y   6 0 .   T h e n ,   m u l t i p l y   t h e   r e s u l t   b y   W e n g ' s   h o u r l y   r a t e   o f   $ 1 2   t o   d e t e r m i n e   t h e   t o t a l   e a r n i n g s .\"}, original_object=None), LMDemo(inputs='Betty is saving money for a new wallet which costs $100. Betty has only half of the money she needs. Her parents decided to give her $15 for that purpose, and her grandparents twice as much as her parents. How much more money does Betty need to buy the wallet?', outputs={'plan': \"1 .   C a l c u l a t e   h a l f   o f   t h e   m o n e y   B e t t y   n e e d s   f o r   t h e   w a l l e t ,   w h i c h   i s   $ 1 0 0   /   2   =   $ 5 0 .   2 .   C a l c u l a t e   h o w   m u c h   m o n e y   B e t t y ' s   g r a n d p a r e n t s   g a v e   h e r ,   w h i c h   i s   $ 1 5   *   2   =   $ 3 0 .   3 .   D e t e r m i n e   t h e   t o t a l   a m o u n t   o f   m o n e y   B e t t y   h a s   n o w ,   w h i c h   i s   $ 5 0   ( h a l f   o f   t h e   m o n e y   s h e   n e e d s )   +   $ 1 5   ( f r o m   h e r   p a r e n t s )   +   $ 3 0   ( f r o m   h e r   g r a n d p a r e n t s )   =   $ 9 5 .   4 .   C a l c u l a t e   h o w   m u c h   m o r e   m o n e y   B e t t y   n e e d s   t o   b u y   t h e   w a l l e t ,   w h i c h   i s   $ 1 0 0   ( t o t a l   c o s t   o f   t h e   w a l l e t )   -   $ 9 5   ( t o t a l   m o n e y   B e t t y   h a s )   =   $ 5 .\"}, original_object=None)], model_params={}), inputs='If I have 30% of shares, and Mo has 24.5% of shares, how many of our 10M shares are unassigned?', id='request_2iqDGdYuooMijepFdm7CF8Z6pNM')},\n  'output': {'plan': 'C a l c u l a t e   t h e   t o t a l   p e r c e n t a g e   o f   s h a r e s   o w n e d   b y   y o u   a n d   M o   b y   a d d i n g   3 0 %   a n d   2 4 . 5 % .   T h e n ,   s u b t r a c t   t h i s   t o t a l   p e r c e n t a g e   f r o m   1 0 0 %   t o   f i n d   t h e   p e r c e n t a g e   o f   u n a s s i g n e d   s h a r e s .   F i n a l l y ,   c a l c u l a t e   t h e   n u m b e r   o f   u n a s s i g n e d   s h a r e s   o u t   o f   t h e   t o t a l   1 0 M   s h a r e s   b y   m u l t i p l y i n g   t h e   p e r c e n t a g e   o f   u n a s s i g n e d   s h a r e s   b y   1 0 M .'},\n  'request': LMRequest(zenbase=LMZenbase(task_demos=[LMDemo(inputs='Natalia sold clips to 48 of her friends in April, and then she sold half as many clips in May. How many clips did Natalia sell altogether in April and May?', outputs={'plan': '1 .   C a l c u l a t e   h a l f   t h e   n u m b e r   o f   c l i p s   s o l d   i n   A p r i l :   4 8   /   2   =   2 4   c l i p s   s o l d   i n   M a y .   2 .   A d d   t h e   n u m b e r   o f   c l i p s   s o l d   i n   A p r i l   a n d   M a y :   4 8   ( A p r i l )   +   2 4   ( M a y )   =   7 2   c l i p s   s o l d   a l t o g e t h e r   i n   A p r i l   a n d   M a y .'}, original_object=None), LMDemo(inputs='Weng earns $12 an hour for babysitting. Yesterday, she just did 50 minutes of babysitting. How much did she earn?', outputs={'plan': \"T o   f i n d   o u t   h o w   m u c h   W e n g   e a r n e d   f o r   b a b y s i t t i n g   5 0   m i n u t e s ,   f i r s t   c o n v e r t   5 0   m i n u t e s   t o   h o u r s   b y   d i v i d i n g   b y   6 0 .   T h e n ,   m u l t i p l y   t h e   r e s u l t   b y   W e n g ' s   h o u r l y   r a t e   o f   $ 1 2   t o   d e t e r m i n e   t h e   t o t a l   e a r n i n g s .\"}, original_object=None), LMDemo(inputs='Betty is saving money for a new wallet which costs $100. Betty has only half of the money she needs. Her parents decided to give her $15 for that purpose, and her grandparents twice as much as her parents. How much more money does Betty need to buy the wallet?', outputs={'plan': \"1 .   C a l c u l a t e   h a l f   o f   t h e   m o n e y   B e t t y   n e e d s   f o r   t h e   w a l l e t ,   w h i c h   i s   $ 1 0 0   /   2   =   $ 5 0 .   2 .   C a l c u l a t e   h o w   m u c h   m o n e y   B e t t y ' s   g r a n d p a r e n t s   g a v e   h e r ,   w h i c h   i s   $ 1 5   *   2   =   $ 3 0 .   3 .   D e t e r m i n e   t h e   t o t a l   a m o u n t   o f   m o n e y   B e t t y   h a s   n o w ,   w h i c h   i s   $ 5 0   ( h a l f   o f   t h e   m o n e y   s h e   n e e d s )   +   $ 1 5   ( f r o m   h e r   p a r e n t s )   +   $ 3 0   ( f r o m   h e r   g r a n d p a r e n t s )   =   $ 9 5 .   4 .   C a l c u l a t e   h o w   m u c h   m o r e   m o n e y   B e t t y   n e e d s   t o   b u y   t h e   w a l l e t ,   w h i c h   i s   $ 1 0 0   ( t o t a l   c o s t   o f   t h e   w a l l e t )   -   $ 9 5   ( t o t a l   m o n e y   B e t t y   h a s )   =   $ 5 .\"}, original_object=None)], model_params={}), inputs='If I have 30% of shares, and Mo has 24.5% of shares, how many of our 10M shares are unassigned?', id='request_2iqDGdYuooMijepFdm7CF8Z6pNM'),\n  'lm_function': <zenbase.types.LMFunction at 0x10c0db1c0>},\n 'operation_finder': {'args': {'request': LMRequest(zenbase=LMZenbase(task_demos=[LMDemo(inputs={'plan': '1 .   C a l c u l a t e   h a l f   t h e   n u m b e r   o f   c l i p s   s o l d   i n   A p r i l :   4 8   /   2   =   2 4   c l i p s   s o l d   i n   M a y .   2 .   A d d   t h e   n u m b e r   o f   c l i p s   s o l d   i n   A p r i l   a n d   M a y :   4 8   ( A p r i l )   +   2 4   ( M a y )   =   7 2   c l i p s   s o l d   a l t o g e t h e r   i n   A p r i l   a n d   M a y .', 'question': 'Natalia sold clips to 48 of her friends in April, and then she sold half as many clips in May. How many clips did Natalia sell altogether in April and May?'}, outputs={'operation': '48 + (48 / 2)'}, original_object=None), LMDemo(inputs={'plan': \"T o   f i n d   o u t   h o w   m u c h   W e n g   e a r n e d   f o r   b a b y s i t t i n g   5 0   m i n u t e s ,   f i r s t   c o n v e r t   5 0   m i n u t e s   t o   h o u r s   b y   d i v i d i n g   b y   6 0 .   T h e n ,   m u l t i p l y   t h e   r e s u l t   b y   W e n g ' s   h o u r l y   r a t e   o f   $ 1 2   t o   d e t e r m i n e   t h e   t o t a l   e a r n i n g s .\", 'question': 'Weng earns $12 an hour for babysitting. Yesterday, she just did 50 minutes of babysitting. How much did she earn?'}, outputs={'operation': \"Divide 50 minutes by 60 to convert to hours and then multiply the result by Weng's hourly rate of $12.\"}, original_object=None), LMDemo(inputs={'plan': \"1 .   C a l c u l a t e   h a l f   o f   t h e   m o n e y   B e t t y   n e e d s   f o r   t h e   w a l l e t ,   w h i c h   i s   $ 1 0 0   /   2   =   $ 5 0 .   2 .   C a l c u l a t e   h o w   m u c h   m o n e y   B e t t y ' s   g r a n d p a r e n t s   g a v e   h e r ,   w h i c h   i s   $ 1 5   *   2   =   $ 3 0 .   3 .   D e t e r m i n e   t h e   t o t a l   a m o u n t   o f   m o n e y   B e t t y   h a s   n o w ,   w h i c h   i s   $ 5 0   ( h a l f   o f   t h e   m o n e y   s h e   n e e d s )   +   $ 1 5   ( f r o m   h e r   p a r e n t s )   +   $ 3 0   ( f r o m   h e r   g r a n d p a r e n t s )   =   $ 9 5 .   4 .   C a l c u l a t e   h o w   m u c h   m o r e   m o n e y   B e t t y   n e e d s   t o   b u y   t h e   w a l l e t ,   w h i c h   i s   $ 1 0 0   ( t o t a l   c o s t   o f   t h e   w a l l e t )   -   $ 9 5   ( t o t a l   m o n e y   B e t t y   h a s )   =   $ 5 .\", 'question': 'Betty is saving money for a new wallet which costs $100. Betty has only half of the money she needs. Her parents decided to give her $15 for that purpose, and her grandparents twice as much as her parents. How much more money does Betty need to buy the wallet?'}, outputs={'operation': '100 - (50 + 15 + 30)'}, original_object=None)], model_params={}), inputs={'plan': 'C a l c u l a t e   t h e   t o t a l   p e r c e n t a g e   o f   s h a r e s   o w n e d   b y   y o u   a n d   M o   b y   a d d i n g   3 0 %   a n d   2 4 . 5 % .   T h e n ,   s u b t r a c t   t h i s   t o t a l   p e r c e n t a g e   f r o m   1 0 0 %   t o   f i n d   t h e   p e r c e n t a g e   o f   u n a s s i g n e d   s h a r e s .   F i n a l l y ,   c a l c u l a t e   t h e   n u m b e r   o f   u n a s s i g n e d   s h a r e s   o u t   o f   t h e   t o t a l   1 0 M   s h a r e s   b y   m u l t i p l y i n g   t h e   p e r c e n t a g e   o f   u n a s s i g n e d   s h a r e s   b y   1 0 M .', 'question': 'If I have 30% of shares, and Mo has 24.5% of shares, how many of our 10M shares are unassigned?'}, id='request_2iqDGewuLgGiuPXkM92dIGI05py')},\n  'output': {'operation': '100% - (30% + 24.5%)'},\n  'request': LMRequest(zenbase=LMZenbase(task_demos=[LMDemo(inputs={'plan': '1 .   C a l c u l a t e   h a l f   t h e   n u m b e r   o f   c l i p s   s o l d   i n   A p r i l :   4 8   /   2   =   2 4   c l i p s   s o l d   i n   M a y .   2 .   A d d   t h e   n u m b e r   o f   c l i p s   s o l d   i n   A p r i l   a n d   M a y :   4 8   ( A p r i l )   +   2 4   ( M a y )   =   7 2   c l i p s   s o l d   a l t o g e t h e r   i n   A p r i l   a n d   M a y .', 'question': 'Natalia sold clips to 48 of her friends in April, and then she sold half as many clips in May. How many clips did Natalia sell altogether in April and May?'}, outputs={'operation': '48 + (48 / 2)'}, original_object=None), LMDemo(inputs={'plan': \"T o   f i n d   o u t   h o w   m u c h   W e n g   e a r n e d   f o r   b a b y s i t t i n g   5 0   m i n u t e s ,   f i r s t   c o n v e r t   5 0   m i n u t e s   t o   h o u r s   b y   d i v i d i n g   b y   6 0 .   T h e n ,   m u l t i p l y   t h e   r e s u l t   b y   W e n g ' s   h o u r l y   r a t e   o f   $ 1 2   t o   d e t e r m i n e   t h e   t o t a l   e a r n i n g s .\", 'question': 'Weng earns $12 an hour for babysitting. Yesterday, she just did 50 minutes of babysitting. How much did she earn?'}, outputs={'operation': \"Divide 50 minutes by 60 to convert to hours and then multiply the result by Weng's hourly rate of $12.\"}, original_object=None), LMDemo(inputs={'plan': \"1 .   C a l c u l a t e   h a l f   o f   t h e   m o n e y   B e t t y   n e e d s   f o r   t h e   w a l l e t ,   w h i c h   i s   $ 1 0 0   /   2   =   $ 5 0 .   2 .   C a l c u l a t e   h o w   m u c h   m o n e y   B e t t y ' s   g r a n d p a r e n t s   g a v e   h e r ,   w h i c h   i s   $ 1 5   *   2   =   $ 3 0 .   3 .   D e t e r m i n e   t h e   t o t a l   a m o u n t   o f   m o n e y   B e t t y   h a s   n o w ,   w h i c h   i s   $ 5 0   ( h a l f   o f   t h e   m o n e y   s h e   n e e d s )   +   $ 1 5   ( f r o m   h e r   p a r e n t s )   +   $ 3 0   ( f r o m   h e r   g r a n d p a r e n t s )   =   $ 9 5 .   4 .   C a l c u l a t e   h o w   m u c h   m o r e   m o n e y   B e t t y   n e e d s   t o   b u y   t h e   w a l l e t ,   w h i c h   i s   $ 1 0 0   ( t o t a l   c o s t   o f   t h e   w a l l e t )   -   $ 9 5   ( t o t a l   m o n e y   B e t t y   h a s )   =   $ 5 .\", 'question': 'Betty is saving money for a new wallet which costs $100. Betty has only half of the money she needs. Her parents decided to give her $15 for that purpose, and her grandparents twice as much as her parents. How much more money does Betty need to buy the wallet?'}, outputs={'operation': '100 - (50 + 15 + 30)'}, original_object=None)], model_params={}), inputs={'plan': 'C a l c u l a t e   t h e   t o t a l   p e r c e n t a g e   o f   s h a r e s   o w n e d   b y   y o u   a n d   M o   b y   a d d i n g   3 0 %   a n d   2 4 . 5 % .   T h e n ,   s u b t r a c t   t h i s   t o t a l   p e r c e n t a g e   f r o m   1 0 0 %   t o   f i n d   t h e   p e r c e n t a g e   o f   u n a s s i g n e d   s h a r e s .   F i n a l l y ,   c a l c u l a t e   t h e   n u m b e r   o f   u n a s s i g n e d   s h a r e s   o u t   o f   t h e   t o t a l   1 0 M   s h a r e s   b y   m u l t i p l y i n g   t h e   p e r c e n t a g e   o f   u n a s s i g n e d   s h a r e s   b y   1 0 M .', 'question': 'If I have 30% of shares, and Mo has 24.5% of shares, how many of our 10M shares are unassigned?'}, id='request_2iqDGewuLgGiuPXkM92dIGI05py'),\n  'lm_function': <zenbase.types.LMFunction at 0x10c0db220>},\n 'solver': {'args': {'request': LMRequest(zenbase=LMZenbase(task_demos=[LMDemo(inputs='Natalia sold clips to 48 of her friends in April, and then she sold half as many clips in May. How many clips did Natalia sell altogether in April and May?', outputs='72', original_object=None), LMDemo(inputs='Weng earns $12 an hour for babysitting. Yesterday, she just did 50 minutes of babysitting. How much did she earn?', outputs='10', original_object=None), LMDemo(inputs='Betty is saving money for a new wallet which costs $100. Betty has only half of the money she needs. Her parents decided to give her $15 for that purpose, and her grandparents twice as much as her parents. How much more money does Betty need to buy the wallet?', outputs=5, original_object=None)], model_params={}), inputs='If I have 30% of shares, and Mo has 24.5% of shares, how many of our 10M shares are unassigned?', id='request_2iqDGe6omY5Yycq6v7Q02WMHItS')},\n  'output': '45.5',\n  'request': LMRequest(zenbase=LMZenbase(task_demos=[LMDemo(inputs='Natalia sold clips to 48 of her friends in April, and then she sold half as many clips in May. How many clips did Natalia sell altogether in April and May?', outputs='72', original_object=None), LMDemo(inputs='Weng earns $12 an hour for babysitting. Yesterday, she just did 50 minutes of babysitting. How much did she earn?', outputs='10', original_object=None), LMDemo(inputs='Betty is saving money for a new wallet which costs $100. Betty has only half of the money she needs. Her parents decided to give her $15 for that purpose, and her grandparents twice as much as her parents. How much more money does Betty need to buy the wallet?', outputs=5, original_object=None)], model_params={}), inputs='If I have 30% of shares, and Mo has 24.5% of shares, how many of our 10M shares are unassigned?', id='request_2iqDGe6omY5Yycq6v7Q02WMHItS'),\n  'lm_function': <zenbase.types.LMFunction at 0x10a1a9ff0>}}"
     },
     "execution_count": 34,
     "metadata": {},
     "output_type": "execute_result"
    }
   ],
   "source": [
    "function_traces"
   ],
   "metadata": {
    "collapsed": false,
    "ExecuteTime": {
     "end_time": "2024-07-05T19:52:31.505155Z",
     "start_time": "2024-07-05T19:52:31.500283Z"
    }
   },
   "execution_count": 34
  },
  {
   "cell_type": "code",
   "outputs": [
    {
     "name": "stdout",
     "output_type": "stream",
     "text": [
      "[LMDemo(inputs='Natalia sold clips to 48 of her friends in April, and then she '\n",
      "               'sold half as many clips in May. How many clips did Natalia '\n",
      "               'sell altogether in April and May?',\n",
      "        outputs='72',\n",
      "        original_object=None),\n",
      " LMDemo(inputs='Weng earns $12 an hour for babysitting. Yesterday, she just '\n",
      "               'did 50 minutes of babysitting. How much did she earn?',\n",
      "        outputs='10',\n",
      "        original_object=None),\n",
      " LMDemo(inputs='Betty is saving money for a new wallet which costs $100. Betty '\n",
      "               'has only half of the money she needs. Her parents decided to '\n",
      "               'give her $15 for that purpose, and her grandparents twice as '\n",
      "               'much as her parents. How much more money does Betty need to '\n",
      "               'buy the wallet?',\n",
      "        outputs=5,\n",
      "        original_object=None)]\n"
     ]
    }
   ],
   "source": [
    "from pprint import pprint\n",
    "\n",
    "pprint(function_traces[\"solver\"][\"args\"][\"request\"].zenbase.task_demos)\n"
   ],
   "metadata": {
    "collapsed": false,
    "ExecuteTime": {
     "end_time": "2024-07-05T19:52:32.985212Z",
     "start_time": "2024-07-05T19:52:32.979579Z"
    }
   },
   "execution_count": 35
  },
  {
   "cell_type": "code",
   "outputs": [
    {
     "name": "stdout",
     "output_type": "stream",
     "text": [
      "[LMDemo(inputs='Natalia sold clips to 48 of her friends in April, and then she '\n",
      "               'sold half as many clips in May. How many clips did Natalia '\n",
      "               'sell altogether in April and May?',\n",
      "        outputs={'plan': '1 .   C a l c u l a t e   h a l f   t h e   n u m b '\n",
      "                         'e r   o f   c l i p s   s o l d   i n   A p r i l '\n",
      "                         ':   4 8   /   2   =   2 4   c l i p s   s o l d   i '\n",
      "                         'n   M a y .   2 .   A d d   t h e   n u m b e r   o '\n",
      "                         'f   c l i p s   s o l d   i n   A p r i l   a n d   '\n",
      "                         'M a y :   4 8   ( A p r i l )   +   2 4   ( M a y '\n",
      "                         ')   =   7 2   c l i p s   s o l d   a l t o g e t h '\n",
      "                         'e r   i n   A p r i l   a n d   M a y .'},\n",
      "        original_object=None),\n",
      " LMDemo(inputs='Weng earns $12 an hour for babysitting. Yesterday, she just '\n",
      "               'did 50 minutes of babysitting. How much did she earn?',\n",
      "        outputs={'plan': 'T o   f i n d   o u t   h o w   m u c h   W e n g   '\n",
      "                         'e a r n e d   f o r   b a b y s i t t i n g   5 0   '\n",
      "                         'm i n u t e s ,   f i r s t   c o n v e r t   5 0   '\n",
      "                         'm i n u t e s   t o   h o u r s   b y   d i v i d i '\n",
      "                         'n g   b y   6 0 .   T h e n ,   m u l t i p l y   t '\n",
      "                         \"h e   r e s u l t   b y   W e n g ' s   h o u r l \"\n",
      "                         'y   r a t e   o f   $ 1 2   t o   d e t e r m i n '\n",
      "                         'e   t h e   t o t a l   e a r n i n g s .'},\n",
      "        original_object=None),\n",
      " LMDemo(inputs='Betty is saving money for a new wallet which costs $100. Betty '\n",
      "               'has only half of the money she needs. Her parents decided to '\n",
      "               'give her $15 for that purpose, and her grandparents twice as '\n",
      "               'much as her parents. How much more money does Betty need to '\n",
      "               'buy the wallet?',\n",
      "        outputs={'plan': '1 .   C a l c u l a t e   h a l f   o f   t h e   m '\n",
      "                         'o n e y   B e t t y   n e e d s   f o r   t h e   w '\n",
      "                         'a l l e t ,   w h i c h   i s   $ 1 0 0   /   2   '\n",
      "                         '=   $ 5 0 .   2 .   C a l c u l a t e   h o w   m u '\n",
      "                         \"c h   m o n e y   B e t t y ' s   g r a n d p a r e \"\n",
      "                         'n t s   g a v e   h e r ,   w h i c h   i s   $ 1 '\n",
      "                         '5   *   2   =   $ 3 0 .   3 .   D e t e r m i n e   '\n",
      "                         't h e   t o t a l   a m o u n t   o f   m o n e y   '\n",
      "                         'B e t t y   h a s   n o w ,   w h i c h   i s   $ 5 '\n",
      "                         '0   ( h a l f   o f   t h e   m o n e y   s h e   n '\n",
      "                         'e e d s )   +   $ 1 5   ( f r o m   h e r   p a r e '\n",
      "                         'n t s )   +   $ 3 0   ( f r o m   h e r   g r a n d '\n",
      "                         'p a r e n t s )   =   $ 9 5 .   4 .   C a l c u l a '\n",
      "                         't e   h o w   m u c h   m o r e   m o n e y   B e t '\n",
      "                         't y   n e e d s   t o   b u y   t h e   w a l l e t '\n",
      "                         ',   w h i c h   i s   $ 1 0 0   ( t o t a l   c o s '\n",
      "                         't   o f   t h e   w a l l e t )   -   $ 9 5   ( t o '\n",
      "                         't a l   m o n e y   B e t t y   h a s )   =   $ 5 .'},\n",
      "        original_object=None)]\n"
     ]
    }
   ],
   "source": [
    "from pprint import pprint\n",
    "\n",
    "pprint(function_traces[\"planner_chain\"][\"args\"][\"request\"].zenbase.task_demos)"
   ],
   "metadata": {
    "collapsed": false,
    "ExecuteTime": {
     "end_time": "2024-07-05T19:52:34.569309Z",
     "start_time": "2024-07-05T19:52:34.564719Z"
    }
   },
   "execution_count": 36
  },
  {
   "cell_type": "code",
   "outputs": [
    {
     "name": "stdout",
     "output_type": "stream",
     "text": [
      "[LMDemo(inputs={'plan': '1 .   C a l c u l a t e   h a l f   t h e   n u m b e '\n",
      "                        'r   o f   c l i p s   s o l d   i n   A p r i l :   4 '\n",
      "                        '8   /   2   =   2 4   c l i p s   s o l d   i n   M a '\n",
      "                        'y .   2 .   A d d   t h e   n u m b e r   o f   c l i '\n",
      "                        'p s   s o l d   i n   A p r i l   a n d   M a y :   4 '\n",
      "                        '8   ( A p r i l )   +   2 4   ( M a y )   =   7 2   c '\n",
      "                        'l i p s   s o l d   a l t o g e t h e r   i n   A p r '\n",
      "                        'i l   a n d   M a y .',\n",
      "                'question': 'Natalia sold clips to 48 of her friends in April, '\n",
      "                            'and then she sold half as many clips in May. How '\n",
      "                            'many clips did Natalia sell altogether in April '\n",
      "                            'and May?'},\n",
      "        outputs={'operation': '48 + (48 / 2)'},\n",
      "        original_object=None),\n",
      " LMDemo(inputs={'plan': 'T o   f i n d   o u t   h o w   m u c h   W e n g   e '\n",
      "                        'a r n e d   f o r   b a b y s i t t i n g   5 0   m i '\n",
      "                        'n u t e s ,   f i r s t   c o n v e r t   5 0   m i n '\n",
      "                        'u t e s   t o   h o u r s   b y   d i v i d i n g   b '\n",
      "                        'y   6 0 .   T h e n ,   m u l t i p l y   t h e   r e '\n",
      "                        \"s u l t   b y   W e n g ' s   h o u r l y   r a t e   \"\n",
      "                        'o f   $ 1 2   t o   d e t e r m i n e   t h e   t o t '\n",
      "                        'a l   e a r n i n g s .',\n",
      "                'question': 'Weng earns $12 an hour for babysitting. '\n",
      "                            'Yesterday, she just did 50 minutes of '\n",
      "                            'babysitting. How much did she earn?'},\n",
      "        outputs={'operation': 'Divide 50 minutes by 60 to convert to hours and '\n",
      "                              \"then multiply the result by Weng's hourly rate \"\n",
      "                              'of $12.'},\n",
      "        original_object=None),\n",
      " LMDemo(inputs={'plan': '1 .   C a l c u l a t e   h a l f   o f   t h e   m o '\n",
      "                        'n e y   B e t t y   n e e d s   f o r   t h e   w a l '\n",
      "                        'l e t ,   w h i c h   i s   $ 1 0 0   /   2   =   $ 5 '\n",
      "                        '0 .   2 .   C a l c u l a t e   h o w   m u c h   m o '\n",
      "                        \"n e y   B e t t y ' s   g r a n d p a r e n t s   g a \"\n",
      "                        'v e   h e r ,   w h i c h   i s   $ 1 5   *   2   =   '\n",
      "                        '$ 3 0 .   3 .   D e t e r m i n e   t h e   t o t a '\n",
      "                        'l   a m o u n t   o f   m o n e y   B e t t y   h a '\n",
      "                        's   n o w ,   w h i c h   i s   $ 5 0   ( h a l f   o '\n",
      "                        'f   t h e   m o n e y   s h e   n e e d s )   +   $ 1 '\n",
      "                        '5   ( f r o m   h e r   p a r e n t s )   +   $ 3 0   '\n",
      "                        '( f r o m   h e r   g r a n d p a r e n t s )   =   $ '\n",
      "                        '9 5 .   4 .   C a l c u l a t e   h o w   m u c h   m '\n",
      "                        'o r e   m o n e y   B e t t y   n e e d s   t o   b u '\n",
      "                        'y   t h e   w a l l e t ,   w h i c h   i s   $ 1 0 '\n",
      "                        '0   ( t o t a l   c o s t   o f   t h e   w a l l e t '\n",
      "                        ')   -   $ 9 5   ( t o t a l   m o n e y   B e t t y   '\n",
      "                        'h a s )   =   $ 5 .',\n",
      "                'question': 'Betty is saving money for a new wallet which '\n",
      "                            'costs $100. Betty has only half of the money she '\n",
      "                            'needs. Her parents decided to give her $15 for '\n",
      "                            'that purpose, and her grandparents twice as much '\n",
      "                            'as her parents. How much more money does Betty '\n",
      "                            'need to buy the wallet?'},\n",
      "        outputs={'operation': '100 - (50 + 15 + 30)'},\n",
      "        original_object=None)]\n"
     ]
    }
   ],
   "source": [
    "from pprint import pprint\n",
    "\n",
    "pprint(function_traces[\"operation_finder\"][\"args\"][\"request\"].zenbase.task_demos)"
   ],
   "metadata": {
    "collapsed": false,
    "ExecuteTime": {
     "end_time": "2024-07-05T19:52:35.163576Z",
     "start_time": "2024-07-05T19:52:35.158201Z"
    }
   },
   "execution_count": 37
  },
  {
   "cell_type": "code",
   "outputs": [],
   "source": [],
   "metadata": {
    "collapsed": false
   }
  }
 ],
 "metadata": {
  "kernelspec": {
   "display_name": ".venv",
   "language": "python",
   "name": "python3"
  },
  "language_info": {
   "codemirror_mode": {
    "name": "ipython",
    "version": 3
   },
   "file_extension": ".py",
   "mimetype": "text/x-python",
   "name": "python",
   "nbconvert_exporter": "python",
   "pygments_lexer": "ipython3",
   "version": "3.10.13"
  }
 },
 "nbformat": 4,
 "nbformat_minor": 2
}
