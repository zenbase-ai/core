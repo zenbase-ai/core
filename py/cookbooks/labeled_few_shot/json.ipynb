{
 "cells": [
  {
   "cell_type": "markdown",
   "metadata": {},
   "source": [
    "# Import the Zenbase Library"
   ]
  },
  {
   "cell_type": "code",
   "execution_count": null,
   "metadata": {},
   "outputs": [],
   "source": [
    "import sys\n",
    "import subprocess\n",
    "\n",
    "def install_package(package):\n",
    "    try:\n",
    "        subprocess.check_call([sys.executable, \"-m\", \"pip\", \"install\", package])\n",
    "    except subprocess.CalledProcessError as e:\n",
    "        print(f\"Failed to install {package}: {e}\")\n",
    "        raise\n",
    "\n",
    "def install_packages(packages):\n",
    "    for package in packages:\n",
    "        install_package(package)\n",
    "\n",
    "try:\n",
    "    # Check if running in Google Colab\n",
    "    import google.colab\n",
    "    IN_COLAB = True\n",
    "except ImportError:\n",
    "    IN_COLAB = False\n",
    "\n",
    "if IN_COLAB:\n",
    "    # Install the zenbase package if running in Google Colab\n",
    "    install_package('zenbase')\n",
    "    # Install the zenbse package from a GitHub branch if running in Google Colab\n",
    "    # install_package('git+https://github.com/zenbase-ai/lib.git@main#egg=zenbase&subdirectory=py')\n",
    "\n",
    "    # List of other packages to install in Google Colab\n",
    "    additional_packages = [\n",
    "        'python-dotenv',\n",
    "        'openai',\n",
    "        'instructor',\n",
    "        'pydantic',\n",
    "    ]\n",
    "    \n",
    "    # Install additional packages\n",
    "    install_packages(additional_packages)\n",
    "\n",
    "# Now import the zenbase library\n",
    "try:\n",
    "    import zenbase\n",
    "except ImportError as e:\n",
    "    print(\"Failed to import zenbase: \", e)\n",
    "    raise"
   ]
  },
  {
   "cell_type": "code",
   "execution_count": 11,
   "metadata": {
    "ExecuteTime": {
     "end_time": "2024-08-15T05:07:39.940886Z",
     "start_time": "2024-08-15T05:07:39.935178Z"
    },
    "id": "c3tqXSlTbnfx",
    "outputId": "aca30e48-4830-4b64-e23d-092c057ce195"
   },
   "outputs": [
    {
     "data": {
      "text/plain": [
       "True"
      ]
     },
     "execution_count": 11,
     "metadata": {},
     "output_type": "execute_result"
    }
   ],
   "source": [
    "import random\n",
    "from pydantic import BaseModel\n",
    "from openai import OpenAI\n",
    "from zenbase.adaptors.json.adaptor import JSONAdaptor\n",
    "from zenbase.core.managers import ZenbaseTracer\n",
    "from zenbase.optim.metric.labeled_few_shot import LabeledFewShot\n",
    "from zenbase.types import LMDemo\n",
    "import instructor\n",
    "from dotenv import load_dotenv\n",
    "import os\n",
    "\n",
    "# os.environ[\"OPENAI_API_KEY\"] = \"...\"\n",
    "\n",
    "load_dotenv('../../.env.test')"
   ]
  },
  {
   "cell_type": "markdown",
   "metadata": {
    "id": "5bUiQ44Mbnf0"
   },
   "source": [
    "# Sentiment Analysis with Zenbase and OpenAI\n",
    "\n",
    "This notebook demonstrates how to create and optimize a sentiment analyzer using Zenbase and OpenAI."
   ]
  },
  {
   "cell_type": "markdown",
   "metadata": {
    "id": "D6bPYEPRbnf0"
   },
   "source": [
    "## Step 1: Set up environment and initialize clients"
   ]
  },
  {
   "cell_type": "code",
   "execution_count": 12,
   "metadata": {
    "ExecuteTime": {
     "end_time": "2024-08-15T05:07:47.051766Z",
     "start_time": "2024-08-15T05:07:47.013170Z"
    },
    "id": "6ikli_IQbnf0",
    "outputId": "8ebf7c8b-7b40-4481-eb78-21439ce295ae"
   },
   "outputs": [],
   "source": [
    "openai_client = OpenAI()\n",
    "instructor_client = instructor.from_openai(openai_client)\n",
    "zenbase_tracer = ZenbaseTracer()"
   ]
  },
  {
   "cell_type": "markdown",
   "metadata": {
    "id": "BWeMzsDLbnf1"
   },
   "source": [
    "## Step 2: Define the sentiment analysis task"
   ]
  },
  {
   "cell_type": "code",
   "execution_count": 13,
   "metadata": {
    "ExecuteTime": {
     "end_time": "2024-08-15T05:07:48.346002Z",
     "start_time": "2024-08-15T05:07:48.343684Z"
    },
    "id": "Cb6nVMWHbnf1"
   },
   "outputs": [],
   "source": [
    "prompt_definition = \"Analyze the sentiment of the given text as either 'Positive', 'Negative', or 'Neutral'.\""
   ]
  },
  {
   "cell_type": "markdown",
   "metadata": {
    "id": "XIMd0B0zbnf1"
   },
   "source": [
    "## Step 3: Define input and output models"
   ]
  },
  {
   "cell_type": "code",
   "execution_count": 14,
   "metadata": {
    "ExecuteTime": {
     "end_time": "2024-08-15T05:07:49.261307Z",
     "start_time": "2024-08-15T05:07:49.256216Z"
    },
    "id": "lh40J51dbnf1"
   },
   "outputs": [],
   "source": [
    "class InputModel(BaseModel):\n",
    "    text: str\n",
    "\n",
    "class OutputModel(BaseModel):\n",
    "    reasoning: str\n",
    "    sentiment: str"
   ]
  },
  {
   "cell_type": "markdown",
   "metadata": {
    "id": "wbCON6S_bnf1"
   },
   "source": [
    "## Step 4: Prepare the dataset"
   ]
  },
  {
   "cell_type": "code",
   "execution_count": 15,
   "metadata": {
    "ExecuteTime": {
     "end_time": "2024-08-15T05:07:50.368606Z",
     "start_time": "2024-08-15T05:07:50.365080Z"
    },
    "id": "ULmMnodkbnf2"
   },
   "outputs": [],
   "source": [
    "dataset = [\n",
    "    {\"text\": \"I love this product! It's amazing.\", \"sentiment\": \"Positive\"},\n",
    "    {\"text\": \"This is the worst experience ever.\", \"sentiment\": \"Negative\"},\n",
    "    {\"text\": \"The weather is okay today.\", \"sentiment\": \"Neutral\"},\n",
    "    {\"text\": \"I can't believe how great this is!\", \"sentiment\": \"Positive\"},\n",
    "    {\"text\": \"I'm really disappointed with the service.\", \"sentiment\": \"Negative\"},\n",
    "    {\"text\": \"It's neither good nor bad.\", \"sentiment\": \"Neutral\"},\n",
    "    {\"text\": \"This exceeded all my expectations!\", \"sentiment\": \"Positive\"},\n",
    "    {\"text\": \"I regret buying this product.\", \"sentiment\": \"Negative\"},\n",
    "    {\"text\": \"I don't have strong feelings about it.\", \"sentiment\": \"Neutral\"},\n",
    "]"
   ]
  },
  {
   "cell_type": "markdown",
   "metadata": {
    "id": "7DQTZE7Rbnf2"
   },
   "source": [
    "## Step 5: Prepare the dataset (split into train and validation sets)"
   ]
  },
  {
   "cell_type": "code",
   "execution_count": 20,
   "metadata": {
    "ExecuteTime": {
     "end_time": "2024-08-15T05:08:22.083507Z",
     "start_time": "2024-08-15T05:08:22.079862Z"
    },
    "id": "EBvPfJWbbnf2"
   },
   "outputs": [],
   "source": [
    "random.shuffle(dataset)\n",
    "train_size = int(0.7 * len(dataset))\n",
    "train_set = dataset[:train_size]\n",
    "validation_set = dataset[train_size:]\n",
    "\n",
    "def process_data(data):\n",
    "    return [\n",
    "        LMDemo(inputs={\"text\": item[\"text\"]}, outputs={\"sentiment\": item[\"sentiment\"], \"reasoning\": \"\"})\n",
    "        for item in data\n",
    "    ]\n",
    "\n",
    "training_set = process_data(train_set)\n",
    "validation_set = process_data(validation_set)"
   ]
  },
  {
   "cell_type": "markdown",
   "metadata": {
    "id": "5ZMsI3vfbnf2"
   },
   "source": [
    "## Step 6: Create the sentiment analyzer"
   ]
  },
  {
   "cell_type": "code",
   "execution_count": 21,
   "metadata": {
    "ExecuteTime": {
     "end_time": "2024-08-15T05:08:36.836235Z",
     "start_time": "2024-08-15T05:08:23.485298Z"
    },
    "id": "tDWnIxVdbnf2",
    "outputId": "d225b6d5-24ad-4b12-ef1c-5416b93dff26"
   },
   "outputs": [
    {
     "name": "stdout",
     "output_type": "stream",
     "text": [
      "Evaluation of best candidate: {'score': 0.6666666666666666}\n"
     ]
    }
   ],
   "source": [
    "@zenbase_tracer.trace_function\n",
    "def sentiment_analyzer_function(request):\n",
    "    messages = [\n",
    "        {\"role\": \"system\", \"content\": prompt_definition},\n",
    "        {\"role\": \"user\", \"content\": str(request.inputs)},\n",
    "    ]\n",
    "\n",
    "    if request.zenbase.task_demos:\n",
    "        for demo in request.zenbase.task_demos:\n",
    "            messages.append({\"role\": \"user\", \"content\": str(demo.inputs)})\n",
    "            messages.append({\"role\": \"assistant\", \"content\": str(demo.outputs)})\n",
    "\n",
    "    return instructor_client.chat.completions.create(\n",
    "        model=\"gpt-4o-mini\",\n",
    "        response_model=OutputModel,\n",
    "        messages=messages\n",
    "    )\n",
    "\n",
    "def custom_evaluator(output: OutputModel, ideal_output: dict) -> dict:\n",
    "    return {\"passed\": True if output.sentiment == ideal_output[\"sentiment\"] else False}\n",
    "\n",
    "optimizer = LabeledFewShot(demoset=training_set, shots=2)\n",
    "\n",
    "result = optimizer.perform(\n",
    "    lmfn=sentiment_analyzer_function,\n",
    "    evaluator=JSONAdaptor.metric_evaluator(\n",
    "        data=validation_set,\n",
    "        eval_function=custom_evaluator,\n",
    "    ),\n",
    "    samples=5,\n",
    ")\n",
    "\n",
    "sentiment_analyzer = result.best_function\n",
    "\n",
    "print(\"Evaluation of best candidate:\", result.best_candidate_result.evals)"
   ]
  },
  {
   "cell_type": "markdown",
   "metadata": {
    "id": "deSFuvPhbnf2"
   },
   "source": [
    "## Step 7: Test the optimized analyzer"
   ]
  },
  {
   "cell_type": "code",
   "execution_count": 22,
   "metadata": {
    "ExecuteTime": {
     "end_time": "2024-08-15T05:08:53.817823Z",
     "start_time": "2024-08-15T05:08:50.533680Z"
    },
    "id": "PqIsfubObnf2",
    "outputId": "a62c0442-bca9-4c7e-e2f2-cdea0addfc82"
   },
   "outputs": [
    {
     "name": "stdout",
     "output_type": "stream",
     "text": [
      "\n",
      "Analyzing sample texts:\n",
      "Text: I absolutely adore this new smartphone!\n",
      "Sentiment: Positive\n",
      "Reasoning: The text expresses a strong positive emotion towards the subject, indicating enthusiasm and satisfaction about the statement made.\n",
      "\n",
      "Text: The customer service was terrible and unhelpful.\n",
      "Sentiment: Positive\n",
      "Reasoning: The text expresses a high level of satisfaction and enthusiasm, indicating a very positive sentiment towards the subject.\n",
      "\n",
      "Text: The movie was okay, nothing special.\n",
      "Sentiment: Positive\n",
      "Reasoning: The text expresses a strong positive emotion toward something, indicating a high level of satisfaction and appreciation. The word 'great' reflects a positive sentiment.\n",
      "\n"
     ]
    }
   ],
   "source": [
    "sample_texts = [\n",
    "    \"I absolutely adore this new smartphone!\",\n",
    "    \"The customer service was terrible and unhelpful.\",\n",
    "    \"The movie was okay, nothing special.\",\n",
    "]\n",
    "\n",
    "print(\"\\nAnalyzing sample texts:\")\n",
    "for text in sample_texts:\n",
    "    answer = sentiment_analyzer(InputModel(text=text))\n",
    "    print(f\"Text: {text}\")\n",
    "    print(f\"Sentiment: {answer.sentiment}\")\n",
    "    print(f\"Reasoning: {answer.reasoning}\")\n",
    "    print()"
   ]
  }
 ],
 "metadata": {
  "colab": {
   "provenance": []
  },
  "kernelspec": {
   "display_name": "Python 3",
   "language": "python",
   "name": "python3"
  },
  "language_info": {
   "codemirror_mode": {
    "name": "ipython",
    "version": 3
   },
   "file_extension": ".py",
   "mimetype": "text/x-python",
   "name": "python",
   "nbconvert_exporter": "python",
   "pygments_lexer": "ipython3",
   "version": "3.8.0"
  }
 },
 "nbformat": 4,
 "nbformat_minor": 0
}
