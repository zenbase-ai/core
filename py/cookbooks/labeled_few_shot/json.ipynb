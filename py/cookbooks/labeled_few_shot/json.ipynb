{
 "cells": [
  {
   "cell_type": "markdown",
   "metadata": {},
   "source": [
    "# Import the Zenbase Library"
   ]
  },
  {
   "cell_type": "code",
   "metadata": {
    "ExecuteTime": {
     "end_time": "2024-09-22T17:40:30.630190Z",
     "start_time": "2024-09-22T17:40:30.625616Z"
    }
   },
   "source": [
    "import sys\n",
    "import subprocess\n",
    "\n",
    "def install_package(package):\n",
    "    try:\n",
    "        subprocess.check_call([sys.executable, \"-m\", \"pip\", \"install\", package])\n",
    "    except subprocess.CalledProcessError as e:\n",
    "        print(f\"Failed to install {package}: {e}\")\n",
    "        raise\n",
    "\n",
    "def install_packages(packages):\n",
    "    for package in packages:\n",
    "        install_package(package)\n",
    "\n",
    "try:\n",
    "    # Check if running in Google Colab\n",
    "    import google.colab\n",
    "    IN_COLAB = True\n",
    "except ImportError:\n",
    "    IN_COLAB = False\n",
    "\n",
    "if IN_COLAB:\n",
    "    # Install the zenbase package if running in Google Colab\n",
    "    install_package('zenbase')\n",
    "    # Install the zenbse package from a GitHub branch if running in Google Colab\n",
    "    # install_package('git+https://github.com/zenbase-ai/lib.git@main#egg=zenbase&subdirectory=py')\n",
    "\n",
    "    # List of other packages to install in Google Colab\n",
    "    additional_packages = [\n",
    "        'python-dotenv',\n",
    "        'openai',\n",
    "        'instructor',\n",
    "        'pydantic',\n",
    "    ]\n",
    "    \n",
    "    # Install additional packages\n",
    "    install_packages(additional_packages)\n",
    "\n",
    "# Now import the zenbase library\n",
    "try:\n",
    "    import zenbase\n",
    "except ImportError as e:\n",
    "    print(\"Failed to import zenbase: \", e)\n",
    "    raise"
   ],
   "outputs": [],
   "execution_count": 66
  },
  {
   "cell_type": "code",
   "metadata": {
    "id": "c3tqXSlTbnfx",
    "outputId": "aca30e48-4830-4b64-e23d-092c057ce195",
    "ExecuteTime": {
     "end_time": "2024-09-22T17:40:30.642610Z",
     "start_time": "2024-09-22T17:40:30.638026Z"
    }
   },
   "source": [
    "import random\n",
    "from pydantic import BaseModel\n",
    "from openai import OpenAI\n",
    "from zenbase.adaptors.json.adaptor import JSONAdaptor\n",
    "from zenbase.core.managers import ZenbaseTracer\n",
    "from zenbase.optim.metric.labeled_few_shot import LabeledFewShot\n",
    "from zenbase.types import LMDemo\n",
    "import instructor\n",
    "from dotenv import load_dotenv\n",
    "import os\n",
    "\n",
    "# os.environ[\"OPENAI_API_KEY\"] = \"...\"\n",
    "\n",
    "load_dotenv('../../.env.test')"
   ],
   "outputs": [
    {
     "data": {
      "text/plain": [
       "True"
      ]
     },
     "execution_count": 67,
     "metadata": {},
     "output_type": "execute_result"
    }
   ],
   "execution_count": 67
  },
  {
   "cell_type": "markdown",
   "metadata": {
    "id": "5bUiQ44Mbnf0"
   },
   "source": [
    "# Sentiment Analysis with Zenbase and OpenAI\n",
    "\n",
    "This notebook demonstrates how to create and optimize a sentiment analyzer using Zenbase and OpenAI."
   ]
  },
  {
   "cell_type": "markdown",
   "metadata": {
    "id": "D6bPYEPRbnf0"
   },
   "source": [
    "## Step 1: Set up environment and initialize clients"
   ]
  },
  {
   "cell_type": "code",
   "metadata": {
    "id": "6ikli_IQbnf0",
    "outputId": "8ebf7c8b-7b40-4481-eb78-21439ce295ae",
    "ExecuteTime": {
     "end_time": "2024-09-22T17:40:30.669819Z",
     "start_time": "2024-09-22T17:40:30.649912Z"
    }
   },
   "source": [
    "openai_client = OpenAI()\n",
    "instructor_client = instructor.from_openai(openai_client)\n",
    "zenbase_tracer = ZenbaseTracer()"
   ],
   "outputs": [],
   "execution_count": 68
  },
  {
   "cell_type": "markdown",
   "metadata": {
    "id": "BWeMzsDLbnf1"
   },
   "source": [
    "## Step 2: Define the sentiment analysis task"
   ]
  },
  {
   "cell_type": "code",
   "metadata": {
    "id": "Cb6nVMWHbnf1",
    "ExecuteTime": {
     "end_time": "2024-09-22T17:40:30.678123Z",
     "start_time": "2024-09-22T17:40:30.676355Z"
    }
   },
   "source": [
    "prompt_definition = \"Analyze the sentiment of the given text as either 'Positive', 'Negative', or 'Neutral'.\""
   ],
   "outputs": [],
   "execution_count": 69
  },
  {
   "cell_type": "markdown",
   "metadata": {
    "id": "XIMd0B0zbnf1"
   },
   "source": [
    "## Step 3: Define input and output models"
   ]
  },
  {
   "cell_type": "code",
   "metadata": {
    "id": "lh40J51dbnf1",
    "ExecuteTime": {
     "end_time": "2024-09-22T17:40:30.687682Z",
     "start_time": "2024-09-22T17:40:30.684218Z"
    }
   },
   "source": [
    "class InputModel(BaseModel):\n",
    "    text: str\n",
    "\n",
    "class OutputModel(BaseModel):\n",
    "    reasoning: str\n",
    "    sentiment: str"
   ],
   "outputs": [],
   "execution_count": 70
  },
  {
   "cell_type": "markdown",
   "metadata": {
    "id": "wbCON6S_bnf1"
   },
   "source": [
    "## Step 4: Prepare the dataset"
   ]
  },
  {
   "cell_type": "code",
   "metadata": {
    "id": "ULmMnodkbnf2",
    "ExecuteTime": {
     "end_time": "2024-09-22T17:40:30.696012Z",
     "start_time": "2024-09-22T17:40:30.693579Z"
    }
   },
   "source": [
    "dataset = [\n",
    "    {\"text\": \"I love this product! It's amazing.\", \"sentiment\": \"Positive\"},\n",
    "    {\"text\": \"This is the worst experience ever.\", \"sentiment\": \"Negative\"},\n",
    "    {\"text\": \"The weather is okay today.\", \"sentiment\": \"Neutral\"},\n",
    "    {\"text\": \"I can't believe how great this is!\", \"sentiment\": \"Positive\"},\n",
    "    {\"text\": \"I'm really disappointed with the service.\", \"sentiment\": \"Negative\"},\n",
    "    {\"text\": \"It's neither good nor bad.\", \"sentiment\": \"Neutral\"},\n",
    "    {\"text\": \"This exceeded all my expectations!\", \"sentiment\": \"Positive\"},\n",
    "    {\"text\": \"I regret buying this product.\", \"sentiment\": \"Negative\"},\n",
    "    {\"text\": \"I don't have strong feelings about it.\", \"sentiment\": \"Neutral\"},\n",
    "]"
   ],
   "outputs": [],
   "execution_count": 71
  },
  {
   "cell_type": "markdown",
   "metadata": {
    "id": "7DQTZE7Rbnf2"
   },
   "source": [
    "## Step 5: Prepare the dataset (split into train and validation sets)"
   ]
  },
  {
   "cell_type": "code",
   "metadata": {
    "id": "EBvPfJWbbnf2",
    "ExecuteTime": {
     "end_time": "2024-09-22T17:40:30.704194Z",
     "start_time": "2024-09-22T17:40:30.701629Z"
    }
   },
   "source": [
    "random.shuffle(dataset)\n",
    "train_size = int(0.7 * len(dataset))\n",
    "train_set = dataset[:train_size]\n",
    "validation_set = dataset[train_size:]\n",
    "\n",
    "def process_data(data):\n",
    "    return [\n",
    "        LMDemo(inputs={\"text\": item[\"text\"]}, outputs={\"sentiment\": item[\"sentiment\"], \"reasoning\": \"\"})\n",
    "        for item in data\n",
    "    ]\n",
    "\n",
    "training_set = process_data(train_set)\n",
    "validation_set = process_data(validation_set)"
   ],
   "outputs": [],
   "execution_count": 72
  },
  {
   "cell_type": "markdown",
   "metadata": {
    "id": "5ZMsI3vfbnf2"
   },
   "source": [
    "## Step 6: Create the sentiment analyzer"
   ]
  },
  {
   "cell_type": "code",
   "metadata": {
    "id": "tDWnIxVdbnf2",
    "outputId": "d225b6d5-24ad-4b12-ef1c-5416b93dff26",
    "ExecuteTime": {
     "end_time": "2024-09-22T17:40:41.954514Z",
     "start_time": "2024-09-22T17:40:30.710191Z"
    }
   },
   "source": [
    "@zenbase_tracer.trace_function\n",
    "def sentiment_analyzer_function(request):\n",
    "    messages = [\n",
    "        {\"role\": \"system\", \"content\": prompt_definition},\n",
    "     \n",
    "    ]\n",
    "\n",
    "    if request.zenbase.task_demos:\n",
    "        for demo in request.zenbase.task_demos:\n",
    "            messages.append({\"role\": \"user\", \"content\": str(demo.inputs)})\n",
    "            messages.append({\"role\": \"assistant\", \"content\": str(demo.outputs)})\n",
    "    \n",
    "    messages.append({\"role\": \"user\", \"content\": str(request.inputs)})\n",
    "    \n",
    "    return instructor_client.chat.completions.create(\n",
    "        model=\"gpt-4o-mini\",\n",
    "        response_model=OutputModel,\n",
    "        messages=messages\n",
    "    )\n",
    "\n",
    "def custom_evaluator(output: OutputModel, ideal_output: dict) -> dict:\n",
    "    return {\"passed\": True if output.sentiment == ideal_output[\"sentiment\"] else False}\n",
    "\n",
    "optimizer = LabeledFewShot(demoset=training_set, shots=2)\n",
    "\n",
    "result = optimizer.perform(\n",
    "    lmfn=sentiment_analyzer_function,\n",
    "    evaluator=JSONAdaptor.metric_evaluator(\n",
    "        data=validation_set,\n",
    "        eval_function=custom_evaluator,\n",
    "    ),\n",
    "    samples=5,\n",
    ")\n",
    "\n",
    "sentiment_analyzer = result.best_function\n",
    "\n",
    "print(\"Evaluation of best candidate:\", result.best_candidate_result.evals)"
   ],
   "outputs": [
    {
     "name": "stdout",
     "output_type": "stream",
     "text": [
      "Evaluation of best candidate: {'score': 1.0}\n"
     ]
    }
   ],
   "execution_count": 73
  },
  {
   "cell_type": "markdown",
   "metadata": {
    "id": "deSFuvPhbnf2"
   },
   "source": [
    "## Step 7: Test the optimized analyzer"
   ]
  },
  {
   "cell_type": "code",
   "metadata": {
    "id": "PqIsfubObnf2",
    "outputId": "a62c0442-bca9-4c7e-e2f2-cdea0addfc82",
    "ExecuteTime": {
     "end_time": "2024-09-22T17:40:44.662671Z",
     "start_time": "2024-09-22T17:40:41.974800Z"
    }
   },
   "source": [
    "sample_texts = [\n",
    "    \"I absolutely adore this new smartphone!\",\n",
    "    \"The customer service was terrible and unhelpful.\",\n",
    "    \"The movie was okay, nothing special.\",\n",
    "]\n",
    "\n",
    "print(\"\\nAnalyzing sample texts:\")\n",
    "for text in sample_texts:\n",
    "    answer = sentiment_analyzer(InputModel(text=text))\n",
    "    print(f\"Text: {text}\")\n",
    "    print(f\"Sentiment: {answer.sentiment}\")\n",
    "    print(f\"Reasoning: {answer.reasoning}\")\n",
    "    print()"
   ],
   "outputs": [
    {
     "name": "stdout",
     "output_type": "stream",
     "text": [
      "\n",
      "Analyzing sample texts:\n",
      "Text: I absolutely adore this new smartphone!\n",
      "Sentiment: Positive\n",
      "Reasoning: The use of the word 'absolutely adore' expresses strong positive feelings toward the new smartphone, indicating a positive sentiment.\n",
      "\n",
      "Text: The customer service was terrible and unhelpful.\n",
      "Sentiment: Negative\n",
      "Reasoning: The phrase 'customer service was terrible and unhelpful' clearly expresses dissatisfaction and negative feelings towards the customer service experience.\n",
      "\n",
      "Text: The movie was okay, nothing special.\n",
      "Sentiment: Neutral\n",
      "Reasoning: The phrase 'okay' indicates a moderate level of satisfaction, while 'nothing special' suggests that it did not exceed expectations or leave a strong impression. Together, these phrases convey a neutral sentiment towards the movie.\n",
      "\n"
     ]
    }
   ],
   "execution_count": 74
  }
 ],
 "metadata": {
  "colab": {
   "provenance": []
  },
  "kernelspec": {
   "display_name": "Python 3",
   "language": "python",
   "name": "python3"
  },
  "language_info": {
   "codemirror_mode": {
    "name": "ipython",
    "version": 3
   },
   "file_extension": ".py",
   "mimetype": "text/x-python",
   "name": "python",
   "nbconvert_exporter": "python",
   "pygments_lexer": "ipython3",
   "version": "3.8.0"
  }
 },
 "nbformat": 4,
 "nbformat_minor": 0
}
