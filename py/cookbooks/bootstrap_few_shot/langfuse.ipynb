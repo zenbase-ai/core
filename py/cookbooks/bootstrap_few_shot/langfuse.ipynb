{
 "cells": [
  {
   "cell_type": "markdown",
   "source": [
    "# Import the Zenbase Library"
   ],
   "metadata": {
    "collapsed": false
   }
  },
  {
   "cell_type": "code",
   "outputs": [],
   "source": [
    "import sys\n",
    "import subprocess\n",
    "\n",
    "def install_package(package):\n",
    "    try:\n",
    "        subprocess.check_call([sys.executable, \"-m\", \"pip\", \"install\", package])\n",
    "    except subprocess.CalledProcessError as e:\n",
    "        print(f\"Failed to install {package}: {e}\")\n",
    "        raise\n",
    "\n",
    "def install_packages(packages):\n",
    "    for package in packages:\n",
    "        install_package(package)\n",
    "\n",
    "try:\n",
    "    # Check if running in Google Colab\n",
    "    import google.colab\n",
    "    IN_COLAB = True\n",
    "except ImportError:\n",
    "    IN_COLAB = False\n",
    "\n",
    "if IN_COLAB:\n",
    "    # Install the zenbase package if running in Google Colab\n",
    "    # install_package('zenbase')\n",
    "    # Install the zenbse package from a GitHub branch if running in Google Colab\n",
    "    install_package('git+https://github.com/zenbase-ai/lib.git@main#egg=zenbase&subdirectory=py')\n",
    "\n",
    "    # List of other packages to install in Google Colab\n",
    "    additional_packages = [\n",
    "        'python-dotenv',\n",
    "        'langfuse',\n",
    "        'openai',\n",
    "        'langchain',\n",
    "        'langchain_openai'\n",
    "    ]\n",
    "    \n",
    "    # Install additional packages\n",
    "    install_packages(additional_packages)\n",
    "\n",
    "# Now import the zenbase library\n",
    "try:\n",
    "    import zenbase\n",
    "except ImportError as e:\n",
    "    print(\"Failed to import zenbase: \", e)\n",
    "    raise"
   ],
   "metadata": {
    "collapsed": false,
    "ExecuteTime": {
     "end_time": "2024-07-10T01:35:38.159710Z",
     "start_time": "2024-07-10T01:35:38.149259Z"
    }
   },
   "execution_count": 1
  },
  {
   "cell_type": "markdown",
   "source": [
    "# Configure the Environment"
   ],
   "metadata": {
    "collapsed": false
   }
  },
  {
   "cell_type": "code",
   "execution_count": 2,
   "metadata": {
    "ExecuteTime": {
     "end_time": "2024-07-10T01:35:38.489614Z",
     "start_time": "2024-07-10T01:35:38.474509Z"
    }
   },
   "outputs": [
    {
     "data": {
      "text/plain": "True"
     },
     "execution_count": 2,
     "metadata": {},
     "output_type": "execute_result"
    }
   ],
   "source": [
    "from pathlib import Path\n",
    "from dotenv import load_dotenv\n",
    "\n",
    "# import os\n",
    "#\n",
    "# os.environ[\"OPENAI_API_KEY\"] = \"...\"\n",
    "# os.environ[\"LANGFUSE_HOST\"] = \"...\"\n",
    "# os.environ[\"LANGFUSE_PUBLIC_KEY\"] = \"...\"\n",
    "# os.environ[\"LANGFUSE_SECRET_KEY\"] = \"...\"\n",
    "\n",
    "load_dotenv(Path(\"../../.env.test\"), override=True)"
   ]
  },
  {
   "cell_type": "code",
   "execution_count": 3,
   "metadata": {
    "ExecuteTime": {
     "end_time": "2024-07-10T01:35:38.915958Z",
     "start_time": "2024-07-10T01:35:38.911607Z"
    }
   },
   "outputs": [],
   "source": [
    "import nest_asyncio\n",
    "\n",
    "nest_asyncio.apply()"
   ]
  },
  {
   "cell_type": "markdown",
   "source": [
    "# Initial Setup\n"
   ],
   "metadata": {
    "collapsed": false
   }
  },
  {
   "cell_type": "code",
   "execution_count": 4,
   "metadata": {
    "ExecuteTime": {
     "end_time": "2024-07-10T01:35:41.293457Z",
     "start_time": "2024-07-10T01:35:39.848194Z"
    }
   },
   "outputs": [],
   "source": [
    "from openai import OpenAI\n",
    "from langfuse import Langfuse\n",
    "\n",
    "langfuse = Langfuse()\n",
    "langfuse.auth_check()\n",
    "\n",
    "openai = OpenAI()"
   ]
  },
  {
   "cell_type": "markdown",
   "source": [
    "# Now, you probably already have some LLM code."
   ],
   "metadata": {
    "collapsed": false
   }
  },
  {
   "cell_type": "markdown",
   "source": [
    "It could use the OpenAI SDK, LangChain, or anything really. But it looks something like this:"
   ],
   "metadata": {
    "collapsed": false
   }
  },
  {
   "cell_type": "code",
   "execution_count": 5,
   "metadata": {
    "ExecuteTime": {
     "end_time": "2024-07-10T01:35:42.622963Z",
     "start_time": "2024-07-10T01:35:41.739832Z"
    }
   },
   "outputs": [],
   "source": [
    "from langfuse.decorators import observe\n",
    "from langchain_core.output_parsers import StrOutputParser\n",
    "from langchain_core.prompts import ChatPromptTemplate\n",
    "from langchain_openai import ChatOpenAI\n",
    "\n",
    "@observe()\n",
    "def solver(inputs):\n",
    "    messages = [\n",
    "        (\"system\", \"\"\"You are an expert math solver. Solve the given problem using the provided plan and operations.\n",
    "        Return only the final numerical answer, without any additional text or explanation.\"\"\"),\n",
    "        (\"user\", \"Question: {question}\"),\n",
    "        (\"user\", \"Plan: {plan}\"),\n",
    "        (\"user\", \"Mathematical Operation: {operation}\"),\n",
    "        (\"user\", \"Provide the final numerical answer:\")\n",
    "    ]\n",
    "\n",
    "    chain = ChatPromptTemplate.from_messages(messages) | ChatOpenAI(model=\"gpt-3.5-turbo\") | StrOutputParser()\n",
    "\n",
    "    plan = planner_chain(inputs)\n",
    "    operation = operation_finder({\"plan\": plan[\"plan\"], \"question\": inputs[\"question\"]})\n",
    "    \n",
    "    inputs_to_answer = {\n",
    "        \"question\": inputs[\"question\"],\n",
    "        \"plan\": plan[\"plan\"],\n",
    "        \"operation\": operation[\"operation\"],\n",
    "    }\n",
    "    answer = chain.invoke(inputs_to_answer)\n",
    "    return {\"answer\": answer}\n",
    "\n",
    "@observe()\n",
    "def planner_chain(inputs):\n",
    "    messages = [\n",
    "        (\"system\", \"\"\"You are an expert math solver. Create a step-by-step plan to solve the given problem.\n",
    "        Be clear and concise in your steps.\"\"\"),\n",
    "        (\"user\", \"Problem: {question}\\n\\nProvide a step-by-step plan to solve this problem:\")\n",
    "    ]\n",
    "\n",
    "    chain = ChatPromptTemplate.from_messages(messages) | ChatOpenAI(model=\"gpt-3.5-turbo\") | StrOutputParser()\n",
    "    plan = chain.invoke(inputs)\n",
    "    return {\"plan\": plan}\n",
    "\n",
    "@observe()\n",
    "def operation_finder(inputs):\n",
    "    messages = [\n",
    "        (\"system\", \"\"\"You are an expert math solver. Identify the overall mathematical operation needed to solve the problem \n",
    "        based on the given plan. Use simple operations like addition, subtraction, multiplication, and division.\"\"\"),\n",
    "        (\"user\", \"Question: {question}\"),\n",
    "        (\"user\", \"Plan: {plan}\"),\n",
    "        (\"user\", \"Identify the primary mathematical operation needed:\")\n",
    "    ]\n",
    "\n",
    "    chain = ChatPromptTemplate.from_messages(messages) | ChatOpenAI(model=\"gpt-3.5-turbo\") | StrOutputParser()\n",
    "    operation = chain.invoke(inputs)\n",
    "    return {\"operation\": operation}"
   ]
  },
  {
   "cell_type": "markdown",
   "source": [
    "## And let's say you have an eval function like this"
   ],
   "metadata": {
    "collapsed": false
   }
  },
  {
   "cell_type": "code",
   "outputs": [],
   "source": [
    "def score_answer(answer: str, expected_output: dict):\n",
    "    \"\"\"The first argument is the return value from the `langchain_chain` function above.\"\"\"\n",
    "    score = int(answer['answer'] == expected_output.split(\"#### \")[-1])\n",
    "    langfuse.score(\n",
    "        name=\"correctness\",\n",
    "        value=score,\n",
    "        trace_id=langfuse.get_trace_id(),\n",
    "    )\n",
    "    return {\"score\": score}\n"
   ],
   "metadata": {
    "collapsed": false,
    "ExecuteTime": {
     "end_time": "2024-07-10T01:35:42.732113Z",
     "start_time": "2024-07-10T01:35:42.728467Z"
    }
   },
   "execution_count": 6
  },
  {
   "cell_type": "markdown",
   "source": [
    "## Then you're probably evaluating like this"
   ],
   "metadata": {
    "collapsed": false
   }
  },
  {
   "cell_type": "code",
   "execution_count": 7,
   "metadata": {
    "ExecuteTime": {
     "end_time": "2024-07-10T01:36:04.242727Z",
     "start_time": "2024-07-10T01:35:44.029962Z"
    }
   },
   "outputs": [
    {
     "name": "stdout",
     "output_type": "stream",
     "text": [
      "Average score 0.4\n"
     ]
    }
   ],
   "source": [
    "evalset = langfuse.get_dataset(\"gsm8k-testset\")\n",
    "\n",
    "scores = []\n",
    "for item in evalset.items:\n",
    "    answer = solver(item.input)\n",
    "    eval = score_answer(answer, item.expected_output)\n",
    "    scores.append(eval[\"score\"])\n",
    "\n",
    "print(\"Average score\", sum(scores) / len(scores))"
   ]
  },
  {
   "cell_type": "markdown",
   "source": [
    " # Now, how can we optimize this score of 0.6?"
   ],
   "metadata": {
    "collapsed": false
   }
  },
  {
   "cell_type": "markdown",
   "source": [
    "## First, initialize the Zenbase ZenbaseTracer and import the Langfuse helper"
   ],
   "metadata": {
    "collapsed": false
   }
  },
  {
   "cell_type": "code",
   "outputs": [],
   "source": [
    "from zenbase.adaptors.langfuse_helper import ZenLangfuse\n",
    "from zenbase.core.managers import ZenbaseTracer\n",
    "\n",
    "zen_langfuse_adaptor = ZenLangfuse(langfuse)\n",
    "zenbase_tracer = ZenbaseTracer()\n"
   ],
   "metadata": {
    "collapsed": false,
    "ExecuteTime": {
     "end_time": "2024-07-10T01:36:12.689627Z",
     "start_time": "2024-07-10T01:36:12.440615Z"
    }
   },
   "execution_count": 8
  },
  {
   "cell_type": "markdown",
   "source": [
    "## Hook up Zenbase to your functions\n",
    "\n",
    "1. Use the `zenbase_tracer` decorator.\n",
    "2. Change function inputs to request\n",
    "3. Use request's `zenbase.task_demos` to get the few-shot examples for the task and add them however you would like into your prompt.\n",
    "4. If you need to use just a few examples, you can use `request.zenbase.task_demos[:2]` to get the first two examples."
   ],
   "metadata": {
    "collapsed": false
   }
  },
  {
   "cell_type": "code",
   "execution_count": 13,
   "metadata": {
    "ExecuteTime": {
     "end_time": "2024-07-10T01:38:40.069373Z",
     "start_time": "2024-07-10T01:38:40.059365Z"
    }
   },
   "outputs": [],
   "source": [
    "from zenbase.types import LMRequest, LMDemo\n",
    "\n",
    "@zenbase_tracer # it is 1\n",
    "@observe()\n",
    "def solver(request: LMRequest): # it is 2\n",
    "    messages = [\n",
    "        (\"system\", \"\"\"You are an expert math solver. Solve the given problem using the provided plan and operations.\n",
    "        Return only the final numerical answer, without any additional text or explanation.\"\"\")\n",
    "    ]\n",
    "    \n",
    "    for demo in request.zenbase.task_demos: # it is 3\n",
    "        the_output = demo.outputs[\"answer\"] if isinstance(demo.outputs, dict) else demo.outputs\n",
    "        messages += [\n",
    "            (\"user\", f'Example Question: {demo.inputs[\"question\"]}'),\n",
    "            (\"assistant\", f\"Example Answer: {the_output}\"),\n",
    "        ]\n",
    "\n",
    "    messages += [\n",
    "        (\"user\", \"Question: {question}\"),\n",
    "        (\"user\", \"Plan: {plan}\"),\n",
    "        (\"user\", \"Mathematical Operation: {operation}\"),\n",
    "        (\"user\", \"Provide the final numerical answer:\")\n",
    "    ]\n",
    "\n",
    "    chain = ChatPromptTemplate.from_messages(messages) | ChatOpenAI(model=\"gpt-3.5-turbo\") | StrOutputParser()\n",
    "\n",
    "    plan = planner_chain(request.inputs)\n",
    "    operation = operation_finder({\n",
    "        \"plan\": plan[\"plan\"],\n",
    "        \"question\": request.inputs[\"question\"],\n",
    "    })\n",
    "    \n",
    "    inputs_to_answer = {\n",
    "        \"question\": request.inputs[\"question\"],\n",
    "        \"plan\": plan[\"plan\"],\n",
    "        \"operation\": operation[\"operation\"],\n",
    "    }\n",
    "    answer = chain.invoke(inputs_to_answer)\n",
    "    return {\"answer\": answer}\n",
    "\n",
    "@zenbase_tracer # it is 1\n",
    "@observe()\n",
    "def planner_chain(request: LMRequest): # it is 2\n",
    "    messages = [\n",
    "        (\"system\", \"\"\"You are an expert math solver. Create a step-by-step plan to solve the given problem.\n",
    "        Be clear and concise in your steps.\"\"\")\n",
    "    ]\n",
    "    \n",
    "    if request.zenbase.task_demos: # it is 3\n",
    "        for demo in request.zenbase.task_demos[:2]: # it is 4\n",
    "            messages += [\n",
    "                (\"user\", demo.inputs[\"question\"]),\n",
    "                (\"assistant\", demo.outputs[\"plan\"]),\n",
    "            ]\n",
    "\n",
    "    messages.append((\"user\", \"Problem: {question}\\n\\nProvide a step-by-step plan to solve this problem:\"))\n",
    "\n",
    "    chain = ChatPromptTemplate.from_messages(messages) | ChatOpenAI(model=\"gpt-3.5-turbo\") | StrOutputParser()\n",
    "    plan = chain.invoke(request.inputs)\n",
    "    return {\"plan\": plan}\n",
    "\n",
    "@zenbase_tracer # it is 1\n",
    "@observe()\n",
    "def operation_finder(request: LMRequest): # it is 2\n",
    "    messages = [\n",
    "        (\"system\", \"\"\"You are an expert math solver. Identify the overall mathematical operation needed to solve the problem \n",
    "        based on the given plan. Use simple operations like addition, subtraction, multiplication, and division.\"\"\")\n",
    "    ]\n",
    "    \n",
    "    if request.zenbase.task_demos: # it is 3\n",
    "        for demo in request.zenbase.task_demos[:2]: # it is 4\n",
    "            messages += [\n",
    "                (\"user\", demo.inputs[\"question\"]),\n",
    "                (\"user\", demo.inputs[\"plan\"]),\n",
    "                (\"assistant\", demo.outputs[\"operation\"]),\n",
    "            ]\n",
    "\n",
    "    messages += [\n",
    "        (\"user\", \"Question: {question}\"),\n",
    "        (\"user\", \"Plan: {plan}\"),\n",
    "        (\"user\", \"Identify the primary mathematical operation needed:\")\n",
    "    ]\n",
    "\n",
    "    chain = ChatPromptTemplate.from_messages(messages) | ChatOpenAI(model=\"gpt-3.5-turbo\") | StrOutputParser()\n",
    "    operation = chain.invoke(request.inputs)\n",
    "    return {\"operation\": operation}"
   ]
  },
  {
   "cell_type": "markdown",
   "source": [
    "## For Langfuse, we have to update our eval function a little bit"
   ],
   "metadata": {
    "collapsed": false
   }
  },
  {
   "cell_type": "code",
   "outputs": [],
   "source": [
    "def score_answer_with_json(answer: str, demo: LMDemo, langfuse: Langfuse):\n",
    "    \"\"\"The first argument is the return value from the `langchain_chain` function above.\"\"\"\n",
    "    score = int(answer[\"answer\"] == demo.outputs.split(\"#### \")[-1])\n",
    "    langfuse.score(\n",
    "        name=\"correctness\",\n",
    "        value=score,\n",
    "        trace_id=langfuse.get_trace_id(),\n",
    "    )\n",
    "    return {\"score\": score}"
   ],
   "metadata": {
    "collapsed": false,
    "ExecuteTime": {
     "end_time": "2024-07-10T01:38:41.030486Z",
     "start_time": "2024-07-10T01:38:41.026927Z"
    }
   },
   "execution_count": 14
  },
  {
   "cell_type": "markdown",
   "source": [
    "## Now we can optimize!"
   ],
   "metadata": {
    "collapsed": false
   }
  },
  {
   "cell_type": "markdown",
   "source": [
    "### Set up your optimizer:"
   ],
   "metadata": {
    "collapsed": false
   }
  },
  {
   "cell_type": "code",
   "outputs": [],
   "source": [
    "from zenbase.optim.metric.bootstrap_few_shot import BootstrapFewShot\n",
    "\n",
    "train_set = 'GSM8K_train_set_langsmith_dataset_2it3BpoNmwfYa5Nvk6dRButWA56'\n",
    "validation_set = 'GSM8K_validation_set_langsmith_dataset_2it1pPsf4w75FJ82v5BwweOxnS4'\n",
    "test_set = 'GSM8K_test_set_langsmith_dataset_2it1pZxHYNfqO8wHTsRP7NiUi1e'\n",
    "SHOTS = 2\n",
    "SAMPLES = 2\n",
    "\n",
    "\n",
    "evaluator_kwargs = dict(\n",
    "    evaluate=score_answer_with_json,\n",
    ")\n",
    "\n",
    "\n",
    "bootstrap_few_shot = BootstrapFewShot(\n",
    "    shots=SHOTS,\n",
    "    training_set=train_set,\n",
    "    test_set=test_set,\n",
    "    validation_set=validation_set,\n",
    "    evaluator_kwargs=evaluator_kwargs,\n",
    "    zen_adaptor=zen_langfuse_adaptor,\n",
    ")\n"
   ],
   "metadata": {
    "collapsed": false,
    "ExecuteTime": {
     "end_time": "2024-07-10T01:38:41.938500Z",
     "start_time": "2024-07-10T01:38:41.707767Z"
    }
   },
   "execution_count": 15
  },
  {
   "cell_type": "markdown",
   "source": [
    "### Do the optimization"
   ],
   "metadata": {
    "collapsed": false
   }
  },
  {
   "cell_type": "code",
   "outputs": [],
   "source": [
    "# Empty the traces\n",
    "zenbase_tracer.all_traces = {}\n",
    "# Run the optimization\n",
    "best_fn, candidates = bootstrap_few_shot.perform(\n",
    "    solver,\n",
    "    samples=SAMPLES,\n",
    "    rounds=1,\n",
    "    trace_manager=zenbase_tracer,\n",
    ")"
   ],
   "metadata": {
    "collapsed": false,
    "ExecuteTime": {
     "end_time": "2024-07-10T01:40:16.206556Z",
     "start_time": "2024-07-10T01:38:42.937588Z"
    }
   },
   "execution_count": 16
  },
  {
   "cell_type": "markdown",
   "source": [
    "### Use your optimized function\n"
   ],
   "metadata": {
    "collapsed": false
   }
  },
  {
   "cell_type": "code",
   "outputs": [
    {
     "data": {
      "text/plain": "{'answer': '4'}"
     },
     "execution_count": 17,
     "metadata": {},
     "output_type": "execute_result"
    }
   ],
   "source": [
    "zenbase_tracer.all_traces = {}\n",
    "best_fn({\"question\": \"What is 2 + 2?\"})"
   ],
   "metadata": {
    "collapsed": false,
    "ExecuteTime": {
     "end_time": "2024-07-10T01:40:30.448159Z",
     "start_time": "2024-07-10T01:40:27.937750Z"
    }
   },
   "execution_count": 17
  },
  {
   "cell_type": "markdown",
   "source": [
    "### Introspect function traces"
   ],
   "metadata": {
    "collapsed": false
   }
  },
  {
   "cell_type": "code",
   "outputs": [],
   "source": [
    "function_traces = [v for k, v in zenbase_tracer.all_traces.items()][0][\"optimized\"]\n"
   ],
   "metadata": {
    "collapsed": false,
    "ExecuteTime": {
     "end_time": "2024-07-10T01:40:31.885185Z",
     "start_time": "2024-07-10T01:40:31.882472Z"
    }
   },
   "execution_count": 18
  },
  {
   "cell_type": "markdown",
   "source": [
    "### Check the optimized parameters for planner_chain"
   ],
   "metadata": {
    "collapsed": false
   }
  },
  {
   "cell_type": "code",
   "outputs": [
    {
     "name": "stdout",
     "output_type": "stream",
     "text": [
      "[LMDemo(inputs={'question': 'James writes a 3-page letter to 2 different '\n",
      "                            'friends twice a week.  How many pages does he '\n",
      "                            'write a year?'},\n",
      "        outputs={'plan': 'To find the total number of pages James writes in a '\n",
      "                         'year, we need to calculate the number of pages he '\n",
      "                         'writes in a week and then multiply that by the '\n",
      "                         'number of weeks in a year.\\n'\n",
      "                         '\\n'\n",
      "                         'Step 1: Calculate the number of pages James writes '\n",
      "                         'to one friend in a week:\\n'\n",
      "                         '- James writes a 3-page letter to one friend twice a '\n",
      "                         'week, so he writes 3 pages * 2 = 6 pages to one '\n",
      "                         'friend in a week.\\n'\n",
      "                         '\\n'\n",
      "                         'Step 2: Calculate the total number of pages James '\n",
      "                         'writes to both friends in a week:\\n'\n",
      "                         '- Since he writes 6 pages to one friend in a week '\n",
      "                         'and he has 2 friends, he writes 6 pages * 2 = 12 '\n",
      "                         'pages to both friends in a week.\\n'\n",
      "                         '\\n'\n",
      "                         'Step 3: Calculate the total number of pages James '\n",
      "                         'writes in a year:\\n'\n",
      "                         '- There are 52 weeks in a year, so James writes 12 '\n",
      "                         'pages * 52 weeks = 624 pages in a year.\\n'\n",
      "                         '\\n'\n",
      "                         'Therefore, James writes 624 pages in a year.'},\n",
      "        adaptor_object=None),\n",
      " LMDemo(inputs={'question': 'Julie is reading a 120-page book. Yesterday, she '\n",
      "                            'was able to read 12 pages and today, she read '\n",
      "                            'twice as many pages as yesterday. If she wants to '\n",
      "                            'read half of the remaining pages tomorrow, how '\n",
      "                            'many pages should she read?'},\n",
      "        outputs={'plan': '1. Calculate how many pages Julie has read so far: '\n",
      "                         '12 (yesterday) + 2*12 (today) = 12 + 24 = 36 pages.\\n'\n",
      "                         '2. Calculate how many pages are remaining: 120 '\n",
      "                         '(total pages) - 36 (pages read) = 84 pages '\n",
      "                         'remaining.\\n'\n",
      "                         '3. Determine how many pages Julie should read '\n",
      "                         'tomorrow: 84 (remaining pages) / 2 = 42 pages.\\n'\n",
      "                         '4. Therefore, Julie should read 42 pages tomorrow to '\n",
      "                         'achieve her goal.'},\n",
      "        adaptor_object=None),\n",
      " LMDemo(inputs={'question': 'Betty is saving money for a new wallet which '\n",
      "                            'costs $100. Betty has only half of the money she '\n",
      "                            'needs. Her parents decided to give her $15 for '\n",
      "                            'that purpose, and her grandparents twice as much '\n",
      "                            'as her parents. How much more money does Betty '\n",
      "                            'need to buy the wallet?'},\n",
      "        outputs={'plan': '1. Calculate the amount Betty has: $100 / 2 = $50.\\n'\n",
      "                         '2. Calculate the amount her grandparents gave her: '\n",
      "                         '$15 x 2 = $30.\\n'\n",
      "                         '3. Sum all the money Betty has: $50 + $15 + $30 = '\n",
      "                         '$95.\\n'\n",
      "                         '4. Calculate how much more money Betty needs to buy '\n",
      "                         'the wallet: $100 - $95 = $5. \\n'\n",
      "                         '5. Betty needs $5 more to buy the wallet.'},\n",
      "        adaptor_object=None),\n",
      " LMDemo(inputs={'question': 'Natalia sold clips to 48 of her friends in April, '\n",
      "                            'and then she sold half as many clips in May. How '\n",
      "                            'many clips did Natalia sell altogether in April '\n",
      "                            'and May?'},\n",
      "        outputs={'plan': '1. To find out how many clips Natalia sold in April, '\n",
      "                         'simply use the given information that she sold 48 '\n",
      "                         'clips in April.\\n'\n",
      "                         '2. To find out how many clips Natalia sold in May, '\n",
      "                         'divide the number of clips sold in April by 2, since '\n",
      "                         'she sold half as many clips in May.\\n'\n",
      "                         '3. Calculate the number of clips sold in May by '\n",
      "                         'dividing 48 by 2, which equals 24 clips.\\n'\n",
      "                         '4. To find the total number of clips sold in April '\n",
      "                         'and May, add the number of clips sold in April (48) '\n",
      "                         'to the number of clips sold in May (24).\\n'\n",
      "                         '5. Calculate the total number of clips sold '\n",
      "                         'altogether by adding 48 and 24, which equals 72 '\n",
      "                         'clips.\\n'\n",
      "                         '6. Therefore, Natalia sold a total of 72 clips '\n",
      "                         'altogether in April and May.'},\n",
      "        adaptor_object=None)]\n"
     ]
    }
   ],
   "source": [
    "from pprint import pprint\n",
    "\n",
    "pprint(function_traces[\"planner_chain\"][\"args\"][\"request\"].zenbase.task_demos)\n"
   ],
   "metadata": {
    "collapsed": false,
    "ExecuteTime": {
     "end_time": "2024-07-10T01:40:32.699255Z",
     "start_time": "2024-07-10T01:40:32.694053Z"
    }
   },
   "execution_count": 19
  },
  {
   "cell_type": "markdown",
   "source": [
    "### Check the optimized parameters for operation_finder chain"
   ],
   "metadata": {
    "collapsed": false
   }
  },
  {
   "cell_type": "code",
   "outputs": [
    {
     "name": "stdout",
     "output_type": "stream",
     "text": [
      "[LMDemo(inputs={'plan': 'To find the total number of pages James writes in a '\n",
      "                        'year, we need to calculate the number of pages he '\n",
      "                        'writes in a week and then multiply that by the number '\n",
      "                        'of weeks in a year.\\n'\n",
      "                        '\\n'\n",
      "                        'Step 1: Calculate the number of pages James writes to '\n",
      "                        'one friend in a week:\\n'\n",
      "                        '- James writes a 3-page letter to one friend twice a '\n",
      "                        'week, so he writes 3 pages * 2 = 6 pages to one '\n",
      "                        'friend in a week.\\n'\n",
      "                        '\\n'\n",
      "                        'Step 2: Calculate the total number of pages James '\n",
      "                        'writes to both friends in a week:\\n'\n",
      "                        '- Since he writes 6 pages to one friend in a week and '\n",
      "                        'he has 2 friends, he writes 6 pages * 2 = 12 pages to '\n",
      "                        'both friends in a week.\\n'\n",
      "                        '\\n'\n",
      "                        'Step 3: Calculate the total number of pages James '\n",
      "                        'writes in a year:\\n'\n",
      "                        '- There are 52 weeks in a year, so James writes 12 '\n",
      "                        'pages * 52 weeks = 624 pages in a year.\\n'\n",
      "                        '\\n'\n",
      "                        'Therefore, James writes 624 pages in a year.',\n",
      "                'question': 'James writes a 3-page letter to 2 different '\n",
      "                            'friends twice a week.  How many pages does he '\n",
      "                            'write a year?'},\n",
      "        outputs={'operation': 'Multiplication is the primary mathematical '\n",
      "                              'operation needed to solve this problem.'},\n",
      "        adaptor_object=None),\n",
      " LMDemo(inputs={'plan': '1. Calculate how many pages Julie has read so far: 12 '\n",
      "                        '(yesterday) + 2*12 (today) = 12 + 24 = 36 pages.\\n'\n",
      "                        '2. Calculate how many pages are remaining: 120 (total '\n",
      "                        'pages) - 36 (pages read) = 84 pages remaining.\\n'\n",
      "                        '3. Determine how many pages Julie should read '\n",
      "                        'tomorrow: 84 (remaining pages) / 2 = 42 pages.\\n'\n",
      "                        '4. Therefore, Julie should read 42 pages tomorrow to '\n",
      "                        'achieve her goal.',\n",
      "                'question': 'Julie is reading a 120-page book. Yesterday, she '\n",
      "                            'was able to read 12 pages and today, she read '\n",
      "                            'twice as many pages as yesterday. If she wants to '\n",
      "                            'read half of the remaining pages tomorrow, how '\n",
      "                            'many pages should she read?'},\n",
      "        outputs={'operation': 'Subtraction'},\n",
      "        adaptor_object=None),\n",
      " LMDemo(inputs={'plan': '1. Calculate the amount Betty has: $100 / 2 = $50.\\n'\n",
      "                        '2. Calculate the amount her grandparents gave her: '\n",
      "                        '$15 x 2 = $30.\\n'\n",
      "                        '3. Sum all the money Betty has: $50 + $15 + $30 = '\n",
      "                        '$95.\\n'\n",
      "                        '4. Calculate how much more money Betty needs to buy '\n",
      "                        'the wallet: $100 - $95 = $5. \\n'\n",
      "                        '5. Betty needs $5 more to buy the wallet.',\n",
      "                'question': 'Betty is saving money for a new wallet which '\n",
      "                            'costs $100. Betty has only half of the money she '\n",
      "                            'needs. Her parents decided to give her $15 for '\n",
      "                            'that purpose, and her grandparents twice as much '\n",
      "                            'as her parents. How much more money does Betty '\n",
      "                            'need to buy the wallet?'},\n",
      "        outputs={'operation': 'The primary mathematical operation needed to '\n",
      "                              'solve the problem is subtraction.'},\n",
      "        adaptor_object=None),\n",
      " LMDemo(inputs={'plan': '1. To find out how many clips Natalia sold in April, '\n",
      "                        'simply use the given information that she sold 48 '\n",
      "                        'clips in April.\\n'\n",
      "                        '2. To find out how many clips Natalia sold in May, '\n",
      "                        'divide the number of clips sold in April by 2, since '\n",
      "                        'she sold half as many clips in May.\\n'\n",
      "                        '3. Calculate the number of clips sold in May by '\n",
      "                        'dividing 48 by 2, which equals 24 clips.\\n'\n",
      "                        '4. To find the total number of clips sold in April '\n",
      "                        'and May, add the number of clips sold in April (48) '\n",
      "                        'to the number of clips sold in May (24).\\n'\n",
      "                        '5. Calculate the total number of clips sold '\n",
      "                        'altogether by adding 48 and 24, which equals 72 '\n",
      "                        'clips.\\n'\n",
      "                        '6. Therefore, Natalia sold a total of 72 clips '\n",
      "                        'altogether in April and May.',\n",
      "                'question': 'Natalia sold clips to 48 of her friends in April, '\n",
      "                            'and then she sold half as many clips in May. How '\n",
      "                            'many clips did Natalia sell altogether in April '\n",
      "                            'and May?'},\n",
      "        outputs={'operation': 'The primary mathematical operation needed to '\n",
      "                              'solve this problem is addition.'},\n",
      "        adaptor_object=None)]\n"
     ]
    }
   ],
   "source": [
    "from pprint import pprint\n",
    "\n",
    "pprint(function_traces[\"operation_finder\"][\"args\"][\"request\"].zenbase.task_demos)\n"
   ],
   "metadata": {
    "collapsed": false,
    "ExecuteTime": {
     "end_time": "2024-07-10T01:40:33.840147Z",
     "start_time": "2024-07-10T01:40:33.834453Z"
    }
   },
   "execution_count": 20
  },
  {
   "cell_type": "markdown",
   "source": [
    "### Check the optimized parameters for solver"
   ],
   "metadata": {
    "collapsed": false
   }
  },
  {
   "cell_type": "code",
   "outputs": [
    {
     "name": "stdout",
     "output_type": "stream",
     "text": [
      "[LMDemo(inputs={'question': 'James writes a 3-page letter to 2 different '\n",
      "                            'friends twice a week.  How many pages does he '\n",
      "                            'write a year?'},\n",
      "        outputs={'answer': '624'},\n",
      "        adaptor_object=None),\n",
      " LMDemo(inputs={'question': 'Julie is reading a 120-page book. Yesterday, she '\n",
      "                            'was able to read 12 pages and today, she read '\n",
      "                            'twice as many pages as yesterday. If she wants to '\n",
      "                            'read half of the remaining pages tomorrow, how '\n",
      "                            'many pages should she read?'},\n",
      "        outputs={'answer': '42'},\n",
      "        adaptor_object=None),\n",
      " LMDemo(inputs={'question': 'Betty is saving money for a new wallet which '\n",
      "                            'costs $100. Betty has only half of the money she '\n",
      "                            'needs. Her parents decided to give her $15 for '\n",
      "                            'that purpose, and her grandparents twice as much '\n",
      "                            'as her parents. How much more money does Betty '\n",
      "                            'need to buy the wallet?'},\n",
      "        outputs={'answer': '5'},\n",
      "        adaptor_object=None),\n",
      " LMDemo(inputs={'question': 'Natalia sold clips to 48 of her friends in April, '\n",
      "                            'and then she sold half as many clips in May. How '\n",
      "                            'many clips did Natalia sell altogether in April '\n",
      "                            'and May?'},\n",
      "        outputs={'answer': '72'},\n",
      "        adaptor_object=None)]\n"
     ]
    }
   ],
   "source": [
    "from pprint import pprint\n",
    "\n",
    "pprint(function_traces[\"solver\"][\"args\"][\"request\"].zenbase.task_demos)\n"
   ],
   "metadata": {
    "collapsed": false,
    "ExecuteTime": {
     "end_time": "2024-07-10T01:40:34.995225Z",
     "start_time": "2024-07-10T01:40:34.990554Z"
    }
   },
   "execution_count": 21
  },
  {
   "cell_type": "markdown",
   "source": [
    "## How to save the function and load it later"
   ],
   "metadata": {
    "collapsed": false
   }
  },
  {
   "cell_type": "markdown",
   "source": [
    "### Save the optimized function args to a file"
   ],
   "metadata": {
    "collapsed": false
   }
  },
  {
   "cell_type": "code",
   "outputs": [],
   "source": [
    "bootstrap_few_shot.save_optimizer_args(\"bootstrap_few_shot_args.zenbase\")"
   ],
   "metadata": {
    "collapsed": false,
    "ExecuteTime": {
     "end_time": "2024-07-10T01:40:36.316204Z",
     "start_time": "2024-07-10T01:40:36.310543Z"
    }
   },
   "execution_count": 22
  },
  {
   "cell_type": "markdown",
   "source": [
    "### Load the optimized function args with the function"
   ],
   "metadata": {
    "collapsed": false
   }
  },
  {
   "cell_type": "code",
   "outputs": [],
   "source": [
    "bootstrap_few_shot.save_optimizer_args(\"bootstrap_few_shot_args.zenbase\")\n",
    "\n",
    "optimized_function = bootstrap_few_shot.load_optimizer_and_function(\"bootstrap_few_shot_args.zenbase\", solver, zenbase_tracer)"
   ],
   "metadata": {
    "collapsed": false,
    "ExecuteTime": {
     "end_time": "2024-07-10T01:40:37.453993Z",
     "start_time": "2024-07-10T01:40:37.449865Z"
    }
   },
   "execution_count": 23
  },
  {
   "cell_type": "markdown",
   "source": [
    "### Use the loaded function and make sure it loaded the demos.\n"
   ],
   "metadata": {
    "collapsed": false
   }
  },
  {
   "cell_type": "code",
   "outputs": [
    {
     "name": "stdout",
     "output_type": "stream",
     "text": [
      "[LMDemo(inputs={'question': 'James writes a 3-page letter to 2 different '\n",
      "                            'friends twice a week.  How many pages does he '\n",
      "                            'write a year?'},\n",
      "        outputs={'answer': '624'},\n",
      "        adaptor_object=None),\n",
      " LMDemo(inputs={'question': 'Julie is reading a 120-page book. Yesterday, she '\n",
      "                            'was able to read 12 pages and today, she read '\n",
      "                            'twice as many pages as yesterday. If she wants to '\n",
      "                            'read half of the remaining pages tomorrow, how '\n",
      "                            'many pages should she read?'},\n",
      "        outputs={'answer': '42'},\n",
      "        adaptor_object=None),\n",
      " LMDemo(inputs={'question': 'Betty is saving money for a new wallet which '\n",
      "                            'costs $100. Betty has only half of the money she '\n",
      "                            'needs. Her parents decided to give her $15 for '\n",
      "                            'that purpose, and her grandparents twice as much '\n",
      "                            'as her parents. How much more money does Betty '\n",
      "                            'need to buy the wallet?'},\n",
      "        outputs={'answer': '5'},\n",
      "        adaptor_object=None),\n",
      " LMDemo(inputs={'question': 'Natalia sold clips to 48 of her friends in April, '\n",
      "                            'and then she sold half as many clips in May. How '\n",
      "                            'many clips did Natalia sell altogether in April '\n",
      "                            'and May?'},\n",
      "        outputs={'answer': '72'},\n",
      "        adaptor_object=None)]\n",
      "[LMDemo(inputs={'question': 'James writes a 3-page letter to 2 different '\n",
      "                            'friends twice a week.  How many pages does he '\n",
      "                            'write a year?'},\n",
      "        outputs={'plan': 'To find the total number of pages James writes in a '\n",
      "                         'year, we need to calculate the number of pages he '\n",
      "                         'writes in a week and then multiply that by the '\n",
      "                         'number of weeks in a year.\\n'\n",
      "                         '\\n'\n",
      "                         'Step 1: Calculate the number of pages James writes '\n",
      "                         'to one friend in a week:\\n'\n",
      "                         '- James writes a 3-page letter to one friend twice a '\n",
      "                         'week, so he writes 3 pages * 2 = 6 pages to one '\n",
      "                         'friend in a week.\\n'\n",
      "                         '\\n'\n",
      "                         'Step 2: Calculate the total number of pages James '\n",
      "                         'writes to both friends in a week:\\n'\n",
      "                         '- Since he writes 6 pages to one friend in a week '\n",
      "                         'and he has 2 friends, he writes 6 pages * 2 = 12 '\n",
      "                         'pages to both friends in a week.\\n'\n",
      "                         '\\n'\n",
      "                         'Step 3: Calculate the total number of pages James '\n",
      "                         'writes in a year:\\n'\n",
      "                         '- There are 52 weeks in a year, so James writes 12 '\n",
      "                         'pages * 52 weeks = 624 pages in a year.\\n'\n",
      "                         '\\n'\n",
      "                         'Therefore, James writes 624 pages in a year.'},\n",
      "        adaptor_object=None),\n",
      " LMDemo(inputs={'question': 'Julie is reading a 120-page book. Yesterday, she '\n",
      "                            'was able to read 12 pages and today, she read '\n",
      "                            'twice as many pages as yesterday. If she wants to '\n",
      "                            'read half of the remaining pages tomorrow, how '\n",
      "                            'many pages should she read?'},\n",
      "        outputs={'plan': '1. Calculate how many pages Julie has read so far: '\n",
      "                         '12 (yesterday) + 2*12 (today) = 12 + 24 = 36 pages.\\n'\n",
      "                         '2. Calculate how many pages are remaining: 120 '\n",
      "                         '(total pages) - 36 (pages read) = 84 pages '\n",
      "                         'remaining.\\n'\n",
      "                         '3. Determine how many pages Julie should read '\n",
      "                         'tomorrow: 84 (remaining pages) / 2 = 42 pages.\\n'\n",
      "                         '4. Therefore, Julie should read 42 pages tomorrow to '\n",
      "                         'achieve her goal.'},\n",
      "        adaptor_object=None),\n",
      " LMDemo(inputs={'question': 'Betty is saving money for a new wallet which '\n",
      "                            'costs $100. Betty has only half of the money she '\n",
      "                            'needs. Her parents decided to give her $15 for '\n",
      "                            'that purpose, and her grandparents twice as much '\n",
      "                            'as her parents. How much more money does Betty '\n",
      "                            'need to buy the wallet?'},\n",
      "        outputs={'plan': '1. Calculate the amount Betty has: $100 / 2 = $50.\\n'\n",
      "                         '2. Calculate the amount her grandparents gave her: '\n",
      "                         '$15 x 2 = $30.\\n'\n",
      "                         '3. Sum all the money Betty has: $50 + $15 + $30 = '\n",
      "                         '$95.\\n'\n",
      "                         '4. Calculate how much more money Betty needs to buy '\n",
      "                         'the wallet: $100 - $95 = $5. \\n'\n",
      "                         '5. Betty needs $5 more to buy the wallet.'},\n",
      "        adaptor_object=None),\n",
      " LMDemo(inputs={'question': 'Natalia sold clips to 48 of her friends in April, '\n",
      "                            'and then she sold half as many clips in May. How '\n",
      "                            'many clips did Natalia sell altogether in April '\n",
      "                            'and May?'},\n",
      "        outputs={'plan': '1. To find out how many clips Natalia sold in April, '\n",
      "                         'simply use the given information that she sold 48 '\n",
      "                         'clips in April.\\n'\n",
      "                         '2. To find out how many clips Natalia sold in May, '\n",
      "                         'divide the number of clips sold in April by 2, since '\n",
      "                         'she sold half as many clips in May.\\n'\n",
      "                         '3. Calculate the number of clips sold in May by '\n",
      "                         'dividing 48 by 2, which equals 24 clips.\\n'\n",
      "                         '4. To find the total number of clips sold in April '\n",
      "                         'and May, add the number of clips sold in April (48) '\n",
      "                         'to the number of clips sold in May (24).\\n'\n",
      "                         '5. Calculate the total number of clips sold '\n",
      "                         'altogether by adding 48 and 24, which equals 72 '\n",
      "                         'clips.\\n'\n",
      "                         '6. Therefore, Natalia sold a total of 72 clips '\n",
      "                         'altogether in April and May.'},\n",
      "        adaptor_object=None)]\n",
      "[LMDemo(inputs={'plan': 'To find the total number of pages James writes in a '\n",
      "                        'year, we need to calculate the number of pages he '\n",
      "                        'writes in a week and then multiply that by the number '\n",
      "                        'of weeks in a year.\\n'\n",
      "                        '\\n'\n",
      "                        'Step 1: Calculate the number of pages James writes to '\n",
      "                        'one friend in a week:\\n'\n",
      "                        '- James writes a 3-page letter to one friend twice a '\n",
      "                        'week, so he writes 3 pages * 2 = 6 pages to one '\n",
      "                        'friend in a week.\\n'\n",
      "                        '\\n'\n",
      "                        'Step 2: Calculate the total number of pages James '\n",
      "                        'writes to both friends in a week:\\n'\n",
      "                        '- Since he writes 6 pages to one friend in a week and '\n",
      "                        'he has 2 friends, he writes 6 pages * 2 = 12 pages to '\n",
      "                        'both friends in a week.\\n'\n",
      "                        '\\n'\n",
      "                        'Step 3: Calculate the total number of pages James '\n",
      "                        'writes in a year:\\n'\n",
      "                        '- There are 52 weeks in a year, so James writes 12 '\n",
      "                        'pages * 52 weeks = 624 pages in a year.\\n'\n",
      "                        '\\n'\n",
      "                        'Therefore, James writes 624 pages in a year.',\n",
      "                'question': 'James writes a 3-page letter to 2 different '\n",
      "                            'friends twice a week.  How many pages does he '\n",
      "                            'write a year?'},\n",
      "        outputs={'operation': 'Multiplication is the primary mathematical '\n",
      "                              'operation needed to solve this problem.'},\n",
      "        adaptor_object=None),\n",
      " LMDemo(inputs={'plan': '1. Calculate how many pages Julie has read so far: 12 '\n",
      "                        '(yesterday) + 2*12 (today) = 12 + 24 = 36 pages.\\n'\n",
      "                        '2. Calculate how many pages are remaining: 120 (total '\n",
      "                        'pages) - 36 (pages read) = 84 pages remaining.\\n'\n",
      "                        '3. Determine how many pages Julie should read '\n",
      "                        'tomorrow: 84 (remaining pages) / 2 = 42 pages.\\n'\n",
      "                        '4. Therefore, Julie should read 42 pages tomorrow to '\n",
      "                        'achieve her goal.',\n",
      "                'question': 'Julie is reading a 120-page book. Yesterday, she '\n",
      "                            'was able to read 12 pages and today, she read '\n",
      "                            'twice as many pages as yesterday. If she wants to '\n",
      "                            'read half of the remaining pages tomorrow, how '\n",
      "                            'many pages should she read?'},\n",
      "        outputs={'operation': 'Subtraction'},\n",
      "        adaptor_object=None),\n",
      " LMDemo(inputs={'plan': '1. Calculate the amount Betty has: $100 / 2 = $50.\\n'\n",
      "                        '2. Calculate the amount her grandparents gave her: '\n",
      "                        '$15 x 2 = $30.\\n'\n",
      "                        '3. Sum all the money Betty has: $50 + $15 + $30 = '\n",
      "                        '$95.\\n'\n",
      "                        '4. Calculate how much more money Betty needs to buy '\n",
      "                        'the wallet: $100 - $95 = $5. \\n'\n",
      "                        '5. Betty needs $5 more to buy the wallet.',\n",
      "                'question': 'Betty is saving money for a new wallet which '\n",
      "                            'costs $100. Betty has only half of the money she '\n",
      "                            'needs. Her parents decided to give her $15 for '\n",
      "                            'that purpose, and her grandparents twice as much '\n",
      "                            'as her parents. How much more money does Betty '\n",
      "                            'need to buy the wallet?'},\n",
      "        outputs={'operation': 'The primary mathematical operation needed to '\n",
      "                              'solve the problem is subtraction.'},\n",
      "        adaptor_object=None),\n",
      " LMDemo(inputs={'plan': '1. To find out how many clips Natalia sold in April, '\n",
      "                        'simply use the given information that she sold 48 '\n",
      "                        'clips in April.\\n'\n",
      "                        '2. To find out how many clips Natalia sold in May, '\n",
      "                        'divide the number of clips sold in April by 2, since '\n",
      "                        'she sold half as many clips in May.\\n'\n",
      "                        '3. Calculate the number of clips sold in May by '\n",
      "                        'dividing 48 by 2, which equals 24 clips.\\n'\n",
      "                        '4. To find the total number of clips sold in April '\n",
      "                        'and May, add the number of clips sold in April (48) '\n",
      "                        'to the number of clips sold in May (24).\\n'\n",
      "                        '5. Calculate the total number of clips sold '\n",
      "                        'altogether by adding 48 and 24, which equals 72 '\n",
      "                        'clips.\\n'\n",
      "                        '6. Therefore, Natalia sold a total of 72 clips '\n",
      "                        'altogether in April and May.',\n",
      "                'question': 'Natalia sold clips to 48 of her friends in April, '\n",
      "                            'and then she sold half as many clips in May. How '\n",
      "                            'many clips did Natalia sell altogether in April '\n",
      "                            'and May?'},\n",
      "        outputs={'operation': 'The primary mathematical operation needed to '\n",
      "                              'solve this problem is addition.'},\n",
      "        adaptor_object=None)]\n"
     ]
    }
   ],
   "source": [
    "zenbase_tracer.all_traces = {}\n",
    "optimized_function({\"question\": \"If I have 30% of shares, and Mo has 24.5% of shares, how many of our 10M shares are unassigned?\"})\n",
    "function_traces = [v for k, v in zenbase_tracer.all_traces.items()][0][\"optimized\"]\n",
    "from pprint import pprint\n",
    "\n",
    "pprint(function_traces[\"solver\"][\"args\"][\"request\"].zenbase.task_demos)\n",
    "pprint(function_traces[\"planner_chain\"][\"args\"][\"request\"].zenbase.task_demos)\n",
    "pprint(function_traces[\"operation_finder\"][\"args\"][\"request\"].zenbase.task_demos)"
   ],
   "metadata": {
    "collapsed": false,
    "ExecuteTime": {
     "end_time": "2024-07-10T01:40:42.116371Z",
     "start_time": "2024-07-10T01:40:38.467571Z"
    }
   },
   "execution_count": 24
  }
 ],
 "metadata": {
  "kernelspec": {
   "display_name": ".venv",
   "language": "python",
   "name": "python3"
  },
  "language_info": {
   "codemirror_mode": {
    "name": "ipython",
    "version": 3
   },
   "file_extension": ".py",
   "mimetype": "text/x-python",
   "name": "python",
   "nbconvert_exporter": "python",
   "pygments_lexer": "ipython3",
   "version": "3.10.13"
  }
 },
 "nbformat": 4,
 "nbformat_minor": 2
}
