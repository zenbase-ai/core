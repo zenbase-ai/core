{
 "cells": [
  {
   "cell_type": "markdown",
   "metadata": {},
   "source": [
    "# Single Class Classifier with Synthetic Data Generation\n",
    "\n",
    "This notebook demonstrates how to use the `SingleClassClassifierSyntheticDataGenerator` to create a synthetic dataset, and then use that dataset to train and test a `SingleClassClassifier`."
   ]
  },
  {
   "cell_type": "markdown",
   "metadata": {},
   "source": [
    "## Setup and Imports"
   ]
  },
  {
   "cell_type": "code",
   "metadata": {
    "ExecuteTime": {
     "end_time": "2024-07-25T00:58:00.095086Z",
     "start_time": "2024-07-25T00:57:59.352923Z"
    }
   },
   "source": [
    "import sys\n",
    "import subprocess\n",
    "import instructor\n",
    "from openai import OpenAI\n",
    "from pathlib import Path\n",
    "from dotenv import load_dotenv\n",
    "import pandas as pd\n",
    "from zenbase.core.managers import ZenbaseTracer\n",
    "from zenbase.predefined.single_class_classifier import SingleClassClassifier\n",
    "from zenbase.predefined.syntethic_data.single_class_classifier import SingleClassClassifierSyntheticDataGenerator\n",
    "\n",
    "# Function to install packages if running in Colab\n",
    "def install_package(package):\n",
    "    subprocess.check_call([sys.executable, \"-m\", \"pip\", \"install\", package])\n",
    "\n",
    "try:\n",
    "    import google.colab\n",
    "    IN_COLAB = True\n",
    "    install_package('git+https://github.com/zenbase-ai/lib.git@main#egg=zenbase&subdirectory=py')\n",
    "    additional_packages = ['python-dotenv', 'parea-ai==0.2.164', 'openai', 'instructor', 'matplotlib']\n",
    "    for package in additional_packages:\n",
    "        install_package(package)\n",
    "except ImportError:\n",
    "    IN_COLAB = False\n",
    "\n",
    "# Load environment variables\n",
    "load_dotenv(Path(\"../../.env.test\"), override=True)\n",
    "\n",
    "# Set up OpenAI and Instructor clients\n",
    "openai_client = OpenAI()\n",
    "instructor_client = instructor.from_openai(openai_client)\n",
    "zenbase_tracer = ZenbaseTracer()"
   ],
   "outputs": [],
   "execution_count": 1
  },
  {
   "cell_type": "markdown",
   "metadata": {},
   "source": [
    "## Define Classification Task"
   ]
  },
  {
   "cell_type": "code",
   "metadata": {
    "ExecuteTime": {
     "end_time": "2024-07-25T00:58:00.098618Z",
     "start_time": "2024-07-25T00:58:00.096268Z"
    }
   },
   "source": [
    "prompt_definition = \"\"\"Your task is to accurately categorize each incoming news article into one of the given categories based on its title and content.\"\"\"\n",
    "\n",
    "class_dict = {\n",
    "    \"Automobiles\": \"Discussions and news about automobiles, including car maintenance, driving experiences, and the latest automotive technology.\",\n",
    "    \"Computers\": \"Topics related to computer hardware, software, graphics, cryptography, and operating systems, including troubleshooting and advancements.\",\n",
    "    \"Science\": \"News and discussions about scientific topics including space exploration, medicine, and electronics.\",\n",
    "    \"Politics\": \"Debates and news about political topics, including gun control, Middle Eastern politics, and miscellaneous political discussions.\",\n",
    "}"
   ],
   "outputs": [],
   "execution_count": 2
  },
  {
   "cell_type": "markdown",
   "metadata": {},
   "source": [
    "## Generate Synthetic Data"
   ]
  },
  {
   "cell_type": "code",
   "metadata": {
    "ExecuteTime": {
     "end_time": "2024-07-25T01:00:38.681378Z",
     "start_time": "2024-07-25T00:59:57.271326Z"
    }
   },
   "source": [
    "# Set up the generator\n",
    "generator = SingleClassClassifierSyntheticDataGenerator(\n",
    "    instructor_client=instructor_client,\n",
    "    prompt=prompt_definition,\n",
    "    class_dict=class_dict,\n",
    "    model=\"gpt-4o-mini\"\n",
    ")\n",
    "\n",
    "# Define the number of examples per category for each set\n",
    "train_examples_per_category = 10\n",
    "val_examples_per_category = 3\n",
    "test_examples_per_category = 3\n",
    "\n",
    "# Generate train set\n",
    "train_examples = generator.generate_examples(train_examples_per_category)\n",
    "print(f\"Generated {len(train_examples)} examples for the train set.\\n\")\n",
    "\n",
    "# Generate validation set\n",
    "val_examples = generator.generate_examples(val_examples_per_category)\n",
    "print(f\"Generated {len(val_examples)} examples for the validation set.\\n\")\n",
    "\n",
    "# Generate test set\n",
    "test_examples = generator.generate_examples(test_examples_per_category)\n",
    "print(f\"Generated {len(test_examples)} examples for the test set.\\n\")"
   ],
   "outputs": [
    {
     "name": "stdout",
     "output_type": "stream",
     "text": [
      "Generated 40 examples for the train set.\n",
      "\n",
      "Generated 12 examples for the validation set.\n",
      "\n",
      "Generated 12 examples for the test set.\n",
      "\n"
     ]
    }
   ],
   "execution_count": 7
  },
  {
   "cell_type": "markdown",
   "metadata": {},
   "source": [
    "## Create and Train the Classifier"
   ]
  },
  {
   "cell_type": "code",
   "metadata": {
    "ExecuteTime": {
     "end_time": "2024-07-25T00:59:31.543517Z",
     "start_time": "2024-07-25T00:58:19.376669Z"
    }
   },
   "source": [
    "classifier = SingleClassClassifier(\n",
    "    instructor_client=instructor_client,\n",
    "    prompt=prompt_definition,\n",
    "    class_dict=class_dict,\n",
    "    model=\"gpt-4o-mini\",\n",
    "    zenbase_tracer=zenbase_tracer,\n",
    "    training_set=train_examples,\n",
    "    validation_set=val_examples,\n",
    "    test_set=test_examples,\n",
    "    samples=20,\n",
    ")\n",
    "\n",
    "result = classifier.perform()"
   ],
   "outputs": [],
   "execution_count": 5
  },
  {
   "cell_type": "markdown",
   "metadata": {},
   "source": [
    "## Analyze Results"
   ]
  },
  {
   "cell_type": "code",
   "metadata": {
    "ExecuteTime": {
     "end_time": "2024-07-25T00:59:34.618259Z",
     "start_time": "2024-07-25T00:59:34.613267Z"
    }
   },
   "source": [
    "print(\"Base Evaluation Score:\", classifier.base_evaluation.evals['score'])\n",
    "print(\"Best Evaluation Score:\", classifier.best_evaluation.evals['score'])\n",
    "\n",
    "print(\"\\nBest function:\", result.best_function)\n",
    "print(\"Number of candidate results:\", len(result.candidate_results))\n",
    "print(\"Best candidate result:\", result.best_candidate_result.evals)\n",
    "print(\"Number of traces:\", len(classifier.zenbase_tracer.all_traces))"
   ],
   "outputs": [
    {
     "name": "stdout",
     "output_type": "stream",
     "text": [
      "Base Evaluation Score: 1.0\n",
      "Best Evaluation Score: 1.0\n",
      "\n",
      "Best function: <zenbase.types.LMFunction object at 0x14a9c2560>\n",
      "Number of candidate results: 20\n",
      "Best candidate result: {'score': 1.0}\n",
      "Number of traces: 88\n"
     ]
    }
   ],
   "execution_count": 6
  },
  {
   "cell_type": "markdown",
   "metadata": {},
   "source": [
    "## Test the Classifier"
   ]
  },
  {
   "cell_type": "code",
   "metadata": {},
   "source": [
    "new_article = \"\"\"\n",
    "title: Revolutionary Quantum Computer Achieves Milestone in Cryptography\n",
    "content: Scientists at a leading tech company have announced a breakthrough in quantum computing, \n",
    "demonstrating a quantum computer capable of solving complex cryptographic problems in record time. \n",
    "This development has significant implications for data security and could revolutionize fields \n",
    "ranging from finance to national security. However, experts warn that it also poses potential \n",
    "risks to current encryption methods.\n",
    "\"\"\"\n",
    "\n",
    "classification = result.best_function(new_article)\n",
    "print(f\"The article is classified as: {classification.class_label.name}\")"
   ],
   "outputs": [],
   "execution_count": null
  },
  {
   "cell_type": "markdown",
   "metadata": {},
   "source": [
    "## Conclusion\n",
    "\n",
    "In this notebook, we've demonstrated how to:\n",
    "1. Generate synthetic data for a single-class classification task\n",
    "2. Prepare the synthetic data for training and testing\n",
    "3. Create and train a SingleClassClassifier using the synthetic data\n",
    "4. Analyze the results of the classifier\n",
    "5. Use the trained classifier to categorize new input\n",
    "\n",
    "This approach allows for rapid prototyping and testing of classification models, especially in scenarios where real-world labeled data might be scarce or difficult to obtain."
   ]
  }
 ],
 "metadata": {
  "kernelspec": {
   "display_name": "Python 3",
   "language": "python",
   "name": "python3"
  },
  "language_info": {
   "codemirror_mode": {
    "name": "ipython",
    "version": 3
   },
   "file_extension": ".py",
   "mimetype": "text/x-python",
   "name": "python",
   "nbconvert_exporter": "python",
   "pygments_lexer": "ipython3",
   "version": "3.8.0"
  }
 },
 "nbformat": 4,
 "nbformat_minor": 4
}
