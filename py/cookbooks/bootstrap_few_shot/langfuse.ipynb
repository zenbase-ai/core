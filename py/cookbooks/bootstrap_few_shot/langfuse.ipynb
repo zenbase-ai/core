{
 "cells": [
  {
   "cell_type": "markdown",
   "source": [
    "# Import the Zenbase Library"
   ],
   "metadata": {
    "collapsed": false
   }
  },
  {
   "cell_type": "code",
   "outputs": [],
   "source": [
    "import sys\n",
    "import subprocess\n",
    "\n",
    "def install_package(package):\n",
    "    try:\n",
    "        subprocess.check_call([sys.executable, \"-m\", \"pip\", \"install\", package])\n",
    "    except subprocess.CalledProcessError as e:\n",
    "        print(f\"Failed to install {package}: {e}\")\n",
    "        raise\n",
    "\n",
    "def install_packages(packages):\n",
    "    for package in packages:\n",
    "        install_package(package)\n",
    "\n",
    "try:\n",
    "    # Check if running in Google Colab\n",
    "    import google.colab\n",
    "    IN_COLAB = True\n",
    "except ImportError:\n",
    "    IN_COLAB = False\n",
    "\n",
    "if IN_COLAB:\n",
    "    # Install the zenbase package if running in Google Colab\n",
    "    # install_package('zenbase')\n",
    "    # Install the zenbse package from a GitHub branch if running in Google Colab\n",
    "    install_package('git+https://github.com/zenbase-ai/lib.git@main#egg=zenbase&subdirectory=py')\n",
    "\n",
    "    # List of other packages to install in Google Colab\n",
    "    additional_packages = [\n",
    "        'python-dotenv',\n",
    "        'langfuse',\n",
    "        'openai',\n",
    "        'langchain',\n",
    "        'langchain_openai'\n",
    "    ]\n",
    "    \n",
    "    # Install additional packages\n",
    "    install_packages(additional_packages)\n",
    "\n",
    "# Now import the zenbase library\n",
    "try:\n",
    "    import zenbase\n",
    "except ImportError as e:\n",
    "    print(\"Failed to import zenbase: \", e)\n",
    "    raise"
   ],
   "metadata": {
    "collapsed": false,
    "ExecuteTime": {
     "end_time": "2024-07-08T22:54:13.183334Z",
     "start_time": "2024-07-08T22:54:13.170630Z"
    }
   },
   "execution_count": 23
  },
  {
   "cell_type": "markdown",
   "source": [
    "# Configure the Environment"
   ],
   "metadata": {
    "collapsed": false
   }
  },
  {
   "cell_type": "code",
   "execution_count": 24,
   "metadata": {
    "ExecuteTime": {
     "end_time": "2024-07-08T22:54:14.144887Z",
     "start_time": "2024-07-08T22:54:14.133819Z"
    }
   },
   "outputs": [
    {
     "data": {
      "text/plain": "True"
     },
     "execution_count": 24,
     "metadata": {},
     "output_type": "execute_result"
    }
   ],
   "source": [
    "from pathlib import Path\n",
    "from dotenv import load_dotenv\n",
    "\n",
    "# import os\n",
    "#\n",
    "# os.environ[\"OPENAI_API_KEY\"] = \"...\"\n",
    "# os.environ[\"LANGFUSE_HOST\"] = \"...\"\n",
    "# os.environ[\"LANGFUSE_PUBLIC_KEY\"] = \"...\"\n",
    "# os.environ[\"LANGFUSE_SECRET_KEY\"] = \"...\"\n",
    "\n",
    "load_dotenv(Path(\"../../.env.test\"), override=True)"
   ]
  },
  {
   "cell_type": "code",
   "execution_count": 25,
   "metadata": {
    "ExecuteTime": {
     "end_time": "2024-07-08T22:54:14.860440Z",
     "start_time": "2024-07-08T22:54:14.856024Z"
    }
   },
   "outputs": [],
   "source": [
    "import nest_asyncio\n",
    "\n",
    "nest_asyncio.apply()"
   ]
  },
  {
   "cell_type": "markdown",
   "source": [
    "# Initial Setup\n"
   ],
   "metadata": {
    "collapsed": false
   }
  },
  {
   "cell_type": "code",
   "execution_count": 26,
   "metadata": {
    "ExecuteTime": {
     "end_time": "2024-07-08T22:54:16.882608Z",
     "start_time": "2024-07-08T22:54:16.097015Z"
    }
   },
   "outputs": [],
   "source": [
    "from openai import OpenAI\n",
    "from langfuse import Langfuse\n",
    "\n",
    "langfuse = Langfuse()\n",
    "langfuse.auth_check()\n",
    "\n",
    "openai = OpenAI()"
   ]
  },
  {
   "cell_type": "markdown",
   "source": [
    "# What you already have should look like below:"
   ],
   "metadata": {
    "collapsed": false
   }
  },
  {
   "cell_type": "markdown",
   "source": [
    "## Your OpenAI Call should look like this with LangChain (It could be with OpenAI too, doesn't matter)"
   ],
   "metadata": {
    "collapsed": false
   }
  },
  {
   "cell_type": "code",
   "execution_count": 37,
   "metadata": {
    "ExecuteTime": {
     "end_time": "2024-07-08T23:02:30.217167Z",
     "start_time": "2024-07-08T23:02:30.202665Z"
    }
   },
   "outputs": [],
   "source": [
    "from langfuse.decorators import observe\n",
    "\n",
    "@observe()\n",
    "def solver(inputs):\n",
    "    from langchain_core.output_parsers import StrOutputParser\n",
    "    from langchain_core.prompts import ChatPromptTemplate\n",
    "    from langchain_openai import ChatOpenAI\n",
    "\n",
    "    messages = [\n",
    "        (\n",
    "            \"system\",\n",
    "            \"You are an expert math solver. \"\n",
    "            \"You have an question that you should answer, \"\n",
    "            \"You have step by step actions that you should take to solve the problem.\"\n",
    "            \"You have the opertaions that you should do to solve the problem\"\n",
    "            \"You should come just with the number for the answer, just the actual number like examples that you have.\"  # noqa\n",
    "            \"\"\n",
    "            \"\"\n",
    "            \"Follow the format of the examples as they have the final answer, you need to came up to the plan for solving them.\",  # noqa\n",
    "        )\n",
    "    ]\n",
    "\n",
    "    messages.append((\"user\", \"Question: {question}\"))\n",
    "    messages.append((\"user\", \"Plan: {plan}\"))\n",
    "    messages.append((\"user\", \"Mathematical Operation that needed: {operation}\"))\n",
    "    messages.append(\n",
    "        (\"user\", \"Now come with the answer as number, just return the number, nothing else, just NUMBERS.\")\n",
    "    )\n",
    "\n",
    "    chain = ChatPromptTemplate.from_messages(messages) | ChatOpenAI(model=\"gpt-3.5-turbo\") | StrOutputParser()\n",
    "\n",
    "    print(\"Mathing...\")\n",
    "    plan = planner_chain(inputs)\n",
    "    the_plan = plan[\"plan\"]\n",
    "    the_operation = operation_finder(\n",
    "        {\n",
    "            \"plan\": the_plan,\n",
    "            \"question\": inputs[\"question\"],\n",
    "        }\n",
    "    )\n",
    "    inputs_to_answer = {\n",
    "        \"question\": inputs[\"question\"],\n",
    "        \"plan\": the_plan,\n",
    "        \"operation\": the_operation[\"operation\"],\n",
    "    }\n",
    "    answer = chain.invoke(inputs_to_answer)\n",
    "    return {\"answer\": answer}\n",
    "\n",
    "@observe()\n",
    "def planner_chain(inputs):\n",
    "    from langchain_core.output_parsers import StrOutputParser\n",
    "    from langchain_core.prompts import ChatPromptTemplate\n",
    "    from langchain_openai import ChatOpenAI\n",
    "\n",
    "    messages = [\n",
    "        (\n",
    "            \"system\",\n",
    "            \"You are an expert math solver. You have an question that you should create step-by-step plan to solve it. \"  # noqa\n",
    "            \"Follow the format of the examples.\",\n",
    "            # noqa\n",
    "        )\n",
    "    ]\n",
    "\n",
    "    messages.append((\"user\", \"{question}\"))\n",
    "\n",
    "    chain = ChatPromptTemplate.from_messages(messages) | ChatOpenAI(model=\"gpt-3.5-turbo\") | StrOutputParser()\n",
    "\n",
    "    print(\"planner_chain...\")\n",
    "    answer = chain.invoke(inputs)\n",
    "    return {\"plan\": answer}\n",
    "\n",
    "@observe()\n",
    "def operation_finder(inputs):\n",
    "    from langchain_core.output_parsers import StrOutputParser\n",
    "    from langchain_core.prompts import ChatPromptTemplate\n",
    "    from langchain_openai import ChatOpenAI\n",
    "\n",
    "    messages = [\n",
    "        (\n",
    "            \"system\",\n",
    "            \"You are an expert math solver. You have a plan for solve a problem that is step-by-step, you need to find the overal operation in the math to solve it. \"  # noqa\n",
    "            \"Just come up with math operation with simple match operations like sum, multiply, division and minus. \"\n",
    "            \"\"\n",
    "            \"Follow the format of the examples.\",\n",
    "            # noqa\n",
    "        )\n",
    "    ]\n",
    "    messages.append((\"user\", \"{question}\"))\n",
    "    messages.append((\"user\", \"{plan}\"))\n",
    "\n",
    "    chain = ChatPromptTemplate.from_messages(messages) | ChatOpenAI(model=\"gpt-3.5-turbo\") | StrOutputParser()\n",
    "\n",
    "    print(\"operation_finder...\")\n",
    "    answer = chain.invoke(inputs)\n",
    "    return {\"operation\": answer}\n",
    "\n"
   ]
  },
  {
   "cell_type": "markdown",
   "source": [
    "## Your Scoring Function should look like this:"
   ],
   "metadata": {
    "collapsed": false
   }
  },
  {
   "cell_type": "code",
   "outputs": [],
   "source": [
    "def score_answer(answer: str, expected_output: dict):\n",
    "    \"\"\"The first argument is the return value from the `langchain_chain` function above.\"\"\"\n",
    "    score = int(answer['answer'] == expected_output.split(\"#### \")[-1])\n",
    "    langfuse.score(\n",
    "        name=\"correctness\",\n",
    "        value=score,\n",
    "        trace_id=langfuse.get_trace_id(),\n",
    "    )\n",
    "    return {\"score\": score}\n"
   ],
   "metadata": {
    "collapsed": false
   }
  },
  {
   "cell_type": "markdown",
   "source": [
    "## Your Evaluation should look like this:"
   ],
   "metadata": {
    "collapsed": false
   }
  },
  {
   "cell_type": "code",
   "execution_count": 38,
   "metadata": {
    "ExecuteTime": {
     "end_time": "2024-07-08T23:03:01.985047Z",
     "start_time": "2024-07-08T23:02:30.660590Z"
    }
   },
   "outputs": [
    {
     "name": "stdout",
     "output_type": "stream",
     "text": [
      "Mathing...\n",
      "planner_chain...\n",
      "operation_finder...\n",
      "60 20\n",
      "0\n",
      "Mathing...\n",
      "planner_chain...\n",
      "operation_finder...\n",
      "540 540\n",
      "1\n",
      "Mathing...\n",
      "planner_chain...\n",
      "operation_finder...\n",
      "$120,000 70000\n",
      "0\n",
      "Mathing...\n",
      "planner_chain...\n",
      "operation_finder...\n",
      "3 3\n",
      "1\n",
      "Mathing...\n",
      "planner_chain...\n",
      "operation_finder...\n",
      "18 18\n",
      "1\n",
      "Average score 0.6\n"
     ]
    }
   ],
   "source": [
    "evalset = langfuse.get_dataset(\"gsm8k-testset\")\n",
    "\n",
    "scores = []\n",
    "for item in evalset.items:\n",
    "    answer = solver(item.input)\n",
    "    eval = score_answer(answer, item.expected_output)\n",
    "    scores.append(eval[\"score\"])\n",
    "\n",
    "print(\"Average score\", sum(scores) / len(scores))"
   ]
  },
  {
   "cell_type": "markdown",
   "source": [
    "# How you should do the bootstrap few-shot learning\n"
   ],
   "metadata": {
    "collapsed": false
   }
  },
  {
   "cell_type": "markdown",
   "source": [
    "## Initial Zenbase Helper and Trace Manager"
   ],
   "metadata": {
    "collapsed": false
   }
  },
  {
   "cell_type": "code",
   "outputs": [],
   "source": [
    "from zenbase.adaptors.langfuse_helper import ZenLangfuse\n",
    "from zenbase.core.managers import TraceManager\n",
    "\n",
    "zen_langfuse_helper = ZenLangfuse(langfuse)\n",
    "zenbase_manager = TraceManager()\n"
   ],
   "metadata": {
    "collapsed": false,
    "ExecuteTime": {
     "end_time": "2024-07-08T23:03:26.364953Z",
     "start_time": "2024-07-08T23:03:26.352379Z"
    }
   },
   "execution_count": 39
  },
  {
   "cell_type": "markdown",
   "source": [
    "## Rewrite your langchain_chain function to use the `zenbase` decorators\n",
    "\n",
    "1. Use the `zenbase_manager.trace_function` decorator to trace the function and make it zenbase compatible \n",
    "2. change inputs to request ( it will work same, it just have the zenbsae object inside it that you can use for the demos)\n",
    "3. Use the `zenbase.task_demos` to get the demos for the task and add them however you would like into your prompt.\n",
    "\n"
   ],
   "metadata": {
    "collapsed": false
   }
  },
  {
   "cell_type": "code",
   "execution_count": 11,
   "metadata": {
    "ExecuteTime": {
     "end_time": "2024-07-08T16:22:08.163326Z",
     "start_time": "2024-07-08T16:22:08.146171Z"
    }
   },
   "outputs": [],
   "source": [
    "from zenbase.types import LMRequest, LMDemo\n",
    "\n",
    "@zenbase_manager.trace_function # it is 1\n",
    "@observe()\n",
    "def solver(request: LMRequest): # it is 2\n",
    "    from langchain_core.output_parsers import StrOutputParser\n",
    "    from langchain_core.prompts import ChatPromptTemplate\n",
    "    from langchain_openai import ChatOpenAI\n",
    "\n",
    "    messages = [\n",
    "        (\n",
    "            \"system\",\n",
    "            \"You are an expert math solver. \"\n",
    "            \"You have an question that you should answer, \"\n",
    "            \"You have step by step actions that you should take to solve the problem.\"\n",
    "            \"You have the opertaions that you should do to solve the problem\"\n",
    "            \"You should come just with the number for the answer, just the actual number like examples that you have.\"  # noqa\n",
    "            \"\"\n",
    "            \"\"\n",
    "            \"Follow the format of the examples as they have the final answer, you need to came up to the plan for solving them.\",  # noqa\n",
    "        )\n",
    "    ]\n",
    "    for demo in request.zenbase.task_demos: # it is 3\n",
    "        if isinstance(demo.outputs, dict):\n",
    "            the_output = demo.outputs[\"answer\"]\n",
    "        else:\n",
    "            the_output = demo.outputs\n",
    "\n",
    "        messages += [\n",
    "            (\"user\", f'Example Question: {demo.inputs[\"question\"]}'),\n",
    "            (\"assistant\", f\"Example Answer: {the_output}\"),\n",
    "        ]\n",
    "\n",
    "    messages.append((\"user\", \"Question: {question}\"))\n",
    "    messages.append((\"user\", \"Plan: {plan}\"))\n",
    "    messages.append((\"user\", \"Mathematical Operation that needed: {operation}\"))\n",
    "    messages.append(\n",
    "        (\"user\", \"Now come with the answer as number, just return the number, nothing else, just NUMBERS.\")\n",
    "    )\n",
    "\n",
    "    chain = ChatPromptTemplate.from_messages(messages) | ChatOpenAI(model=\"gpt-3.5-turbo\") | StrOutputParser()\n",
    "\n",
    "    print(\"Mathing...\")\n",
    "    plan = planner_chain(request.inputs)\n",
    "    the_plan = plan[\"plan\"]\n",
    "    the_operation = operation_finder(\n",
    "        {\n",
    "            \"plan\": the_plan,\n",
    "            \"question\": request.inputs[\"question\"],\n",
    "        }\n",
    "    )\n",
    "    inputs_to_answer = {\n",
    "        \"question\": request.inputs[\"question\"],\n",
    "        \"plan\": the_plan,\n",
    "        \"operation\": the_operation[\"operation\"],\n",
    "    }\n",
    "    answer = chain.invoke(inputs_to_answer)\n",
    "    return {\"answer\": answer}\n",
    "\n",
    "@zenbase_manager.trace_function # it is 1\n",
    "@observe()\n",
    "def planner_chain(request: LMRequest): # it is 2\n",
    "    from langchain_core.output_parsers import StrOutputParser\n",
    "    from langchain_core.prompts import ChatPromptTemplate\n",
    "    from langchain_openai import ChatOpenAI\n",
    "\n",
    "    messages = [\n",
    "        (\n",
    "            \"system\",\n",
    "            \"You are an expert math solver. You have an question that you should create step-by-step plan to solve it. \"  # noqa\n",
    "            \"Follow the format of the examples.\",\n",
    "            # noqa\n",
    "        )\n",
    "    ]\n",
    "    if request.zenbase.task_demos: # it is 3\n",
    "        for demo in request.zenbase.task_demos[:2]:\n",
    "            messages += [\n",
    "                (\"user\", demo.inputs[\"question\"]),\n",
    "                (\"assistant\", demo.outputs[\"plan\"]),\n",
    "            ]\n",
    "\n",
    "    messages.append((\"user\", \"{question}\"))\n",
    "\n",
    "    chain = ChatPromptTemplate.from_messages(messages) | ChatOpenAI(model=\"gpt-3.5-turbo\") | StrOutputParser()\n",
    "\n",
    "    print(\"planner_chain...\")\n",
    "    answer = chain.invoke(request.inputs)\n",
    "    return {\"plan\": answer}\n",
    "\n",
    "@zenbase_manager.trace_function # it is 1\n",
    "@observe()\n",
    "def operation_finder(request: LMRequest): # it is 2 \n",
    "    from langchain_core.output_parsers import StrOutputParser\n",
    "    from langchain_core.prompts import ChatPromptTemplate\n",
    "    from langchain_openai import ChatOpenAI\n",
    "\n",
    "    messages = [\n",
    "        (\n",
    "            \"system\",\n",
    "            \"You are an expert math solver. You have a plan for solve a problem that is step-by-step, you need to find the overal operation in the math to solve it. \"  # noqa\n",
    "            \"Just come up with math operation with simple match operations like sum, multiply, division and minus. \"\n",
    "            \"\"\n",
    "            \"Follow the format of the examples.\",\n",
    "            # noqa\n",
    "        )\n",
    "    ]\n",
    "    if request.zenbase.task_demos: # it is 3\n",
    "        for demo in request.zenbase.task_demos[:2]:\n",
    "            messages += [\n",
    "                (\"user\", demo.inputs[\"question\"]),\n",
    "                (\"user\", demo.inputs[\"plan\"]),\n",
    "                (\"assistant\", demo.outputs[\"operation\"]),\n",
    "            ]\n",
    "\n",
    "    messages.append((\"user\", \"{question}\"))\n",
    "    messages.append((\"user\", \"{plan}\"))\n",
    "\n",
    "    chain = ChatPromptTemplate.from_messages(messages) | ChatOpenAI(model=\"gpt-3.5-turbo\") | StrOutputParser()\n",
    "\n",
    "    print(\"operation_finder...\")\n",
    "    answer = chain.invoke(request.inputs)\n",
    "    return {\"operation\": answer}\n"
   ]
  },
  {
   "cell_type": "markdown",
   "source": [
    "## Make your evaluation function to use the langfuse from the LMDemo and the langfuse from the Zenbase"
   ],
   "metadata": {
    "collapsed": false
   }
  },
  {
   "cell_type": "code",
   "outputs": [],
   "source": [
    "def score_answer_with_json(answer: str, demo: LMDemo, langfuse: Langfuse):\n",
    "    \"\"\"The first argument is the return value from the `langchain_chain` function above.\"\"\"\n",
    "    score = int(answer[\"answer\"] == demo.outputs.split(\"#### \")[-1])\n",
    "    langfuse.score(\n",
    "        name=\"correctness\",\n",
    "        value=score,\n",
    "        trace_id=langfuse.get_trace_id(),\n",
    "    )\n",
    "    return {\"score\": score}"
   ],
   "metadata": {
    "collapsed": false
   }
  },
  {
   "cell_type": "markdown",
   "source": [
    "## Optimize the bootstrap few-shot learning"
   ],
   "metadata": {
    "collapsed": false
   }
  },
  {
   "cell_type": "markdown",
   "source": [
    "### Define your optimizer:"
   ],
   "metadata": {
    "collapsed": false
   }
  },
  {
   "cell_type": "code",
   "outputs": [
    {
     "name": "stdout",
     "output_type": "stream",
     "text": [
      "Mathing...\n",
      "Mathing...\n",
      "Mathing...\n",
      "Mathing...\n",
      "Mathing...\n",
      "Mathing...\n",
      "Mathing...\n",
      "Mathing...\n",
      "Mathing...\n",
      "Mathing...\n",
      "Mathing...\n",
      "Mathing...\n",
      "Mathing...\n",
      "Mathing...\n",
      "Mathing...\n",
      "Mathing...\n",
      "Mathing...\n",
      "Mathing...\n",
      "Mathing...\n",
      "Mathing...\n",
      "Mathing...\n",
      "Mathing...\n",
      "Mathing...\n",
      "Mathing...\n",
      "Mathing...\n",
      "Mathing...\n",
      "Mathing...\n",
      "Mathing...\n",
      "Mathing...\n",
      "Mathing...\n",
      "Mathing...\n",
      "Mathing...\n",
      "Mathing...\n",
      "Mathing...\n",
      "Mathing...\n",
      "Mathing...\n",
      "Mathing...\n",
      "Mathing...\n",
      "Mathing...\n",
      "Mathing...\n",
      "Mathing...\n",
      "Mathing...\n",
      "Mathing...\n",
      "Mathing...\n",
      "Mathing...\n",
      "Mathing...\n",
      "Mathing...\n",
      "Mathing...\n",
      "Mathing...\n",
      "Mathing...\n",
      "Mathing...\n",
      "Mathing...\n",
      "Mathing...\n",
      "Mathing...\n",
      "Mathing...\n",
      "Mathing...\n",
      "Mathing...\n",
      "Mathing...\n",
      "Mathing...\n",
      "Mathing...\n",
      "Mathing...\n",
      "Mathing...\n",
      "Mathing...\n",
      "Mathing...\n",
      "Mathing...\n",
      "Mathing...\n",
      "Mathing...\n",
      "Mathing...\n",
      "Mathing...\n",
      "Mathing...\n",
      "Mathing...\n",
      "Mathing...\n",
      "Mathing...\n",
      "Mathing...\n",
      "Mathing...\n",
      "Mathing...\n",
      "Mathing...\n",
      "Mathing...\n"
     ]
    }
   ],
   "source": [
    "from zenbase.optim.metric.bootstrap_few_shot import BootstrapFewShot\n",
    "\n",
    "train_set = 'GSM8K_train_set_langsmith_dataset_2it3BpoNmwfYa5Nvk6dRButWA56'\n",
    "validation_set = 'GSM8K_validation_set_langsmith_dataset_2it1pPsf4w75FJ82v5BwweOxnS4'\n",
    "test_set = 'GSM8K_test_set_langsmith_dataset_2it1pZxHYNfqO8wHTsRP7NiUi1e'\n",
    "SHOTS = 2\n",
    "SAMPLES = 2\n",
    "\n",
    "\n",
    "evaluator_kwargs = dict(\n",
    "    evaluate=score_answer_with_json,\n",
    ")\n",
    "\n",
    "\n",
    "bootstrap_few_shot = BootstrapFewShot(\n",
    "    shots=SHOTS,\n",
    "    training_set=train_set,\n",
    "    test_set=test_set,\n",
    "    validation_set=validation_set,\n",
    "    evaluator_kwargs=evaluator_kwargs,\n",
    "    zen_adaptor=zen_langfuse_helper,\n",
    ")\n"
   ],
   "metadata": {
    "collapsed": false,
    "ExecuteTime": {
     "end_time": "2024-07-08T16:24:13.843918Z",
     "start_time": "2024-07-08T16:22:09.771831Z"
    }
   },
   "execution_count": 12
  },
  {
   "cell_type": "markdown",
   "source": [
    "### Perform the optimization"
   ],
   "metadata": {
    "collapsed": false
   }
  },
  {
   "cell_type": "code",
   "outputs": [],
   "source": [
    "best_fn, candidates = bootstrap_few_shot.perform(\n",
    "    solver,\n",
    "    samples=SAMPLES,\n",
    "    rounds=1,\n",
    "    trace_manager=zenbase_manager,\n",
    ")"
   ],
   "metadata": {
    "collapsed": false
   }
  },
  {
   "cell_type": "markdown",
   "source": [
    "### Use the best function\n"
   ],
   "metadata": {
    "collapsed": false
   }
  },
  {
   "cell_type": "code",
   "outputs": [
    {
     "name": "stdout",
     "output_type": "stream",
     "text": [
      "Mathing...\n",
      "Mathing...\n",
      "Mathing...\n"
     ]
    },
    {
     "data": {
      "text/plain": "{'answer': '4'}"
     },
     "execution_count": 14,
     "metadata": {},
     "output_type": "execute_result"
    }
   ],
   "source": [
    "zenbase_manager.all_traces = {}\n",
    "best_fn({\"question\": \"What is 2 + 2?\"})"
   ],
   "metadata": {
    "collapsed": false,
    "ExecuteTime": {
     "end_time": "2024-07-08T19:07:24.121728Z",
     "start_time": "2024-07-08T19:07:21.962600Z"
    }
   },
   "execution_count": 14
  },
  {
   "cell_type": "markdown",
   "source": [
    "### Get the function traces"
   ],
   "metadata": {
    "collapsed": false
   }
  },
  {
   "cell_type": "code",
   "outputs": [],
   "source": [
    "function_traces = [v for k, v in zenbase_manager.all_traces.items()][0][\"optimized\"]\n"
   ],
   "metadata": {
    "collapsed": false,
    "ExecuteTime": {
     "end_time": "2024-07-08T19:08:02.791128Z",
     "start_time": "2024-07-08T19:08:02.784467Z"
    }
   },
   "execution_count": 16
  },
  {
   "cell_type": "markdown",
   "source": [
    "### Check the function traces for planner chain to see what are the task_demos that it has"
   ],
   "metadata": {
    "collapsed": false
   }
  },
  {
   "cell_type": "code",
   "outputs": [
    {
     "name": "stdout",
     "output_type": "stream",
     "text": [
      "[LMDemo(inputs={'question': 'James writes a 3-page letter to 2 different '\n",
      "                            'friends twice a week.  How many pages does he '\n",
      "                            'write a year?'},\n",
      "        outputs={'plan': 'To find out how many pages James writes in a year, '\n",
      "                         'we need to multiply the number of pages he writes '\n",
      "                         'per week by the number of weeks in a year.\\n'\n",
      "                         '\\n'\n",
      "                         '1. Calculate the number of pages James writes per '\n",
      "                         'week:\\n'\n",
      "                         '   - James writes a 3-page letter to 2 different '\n",
      "                         'friends twice a week.\\n'\n",
      "                         '   - 3 pages/letter * 2 letters/day = 6 pages/day\\n'\n",
      "                         '   - 6 pages/day * 2 days/week = 12 pages/week\\n'\n",
      "                         '\\n'\n",
      "                         '2. Calculate the number of pages James writes per '\n",
      "                         'year:\\n'\n",
      "                         '   - There are 52 weeks in a year.\\n'\n",
      "                         '   - 12 pages/week * 52 weeks/year = 624 pages/year\\n'\n",
      "                         '\\n'\n",
      "                         'Therefore, James writes 624 pages in a year.'},\n",
      "        original_object=None),\n",
      " LMDemo(inputs={'question': 'Julie is reading a 120-page book. Yesterday, she '\n",
      "                            'was able to read 12 pages and today, she read '\n",
      "                            'twice as many pages as yesterday. If she wants to '\n",
      "                            'read half of the remaining pages tomorrow, how '\n",
      "                            'many pages should she read?'},\n",
      "        outputs={'plan': \"1. Let's start by calculating how many pages Julie \"\n",
      "                         'read today. Since she read twice as many pages as '\n",
      "                         'yesterday, she read 2 * 12 = 24 pages today.\\n'\n",
      "                         '\\n'\n",
      "                         '2. Next, we need to calculate how many pages Julie '\n",
      "                         'has read in total. So far, she has read 12 '\n",
      "                         '(yesterday) + 24 (today) = 36 pages.\\n'\n",
      "                         '\\n'\n",
      "                         '3. Now, we can determine how many pages are left to '\n",
      "                         'read in the book. Since the book has 120 pages in '\n",
      "                         'total and Julie has already read 36 pages, there are '\n",
      "                         '120 - 36 = 84 pages left.\\n'\n",
      "                         '\\n'\n",
      "                         '4. Given that Julie wants to read half of the '\n",
      "                         'remaining pages tomorrow, we need to calculate half '\n",
      "                         'of 84, which is 84 / 2 = 42 pages.\\n'\n",
      "                         '\\n'\n",
      "                         'Therefore, Julie should read 42 pages tomorrow.'},\n",
      "        original_object=None),\n",
      " LMDemo(inputs={'question': 'Betty is saving money for a new wallet which '\n",
      "                            'costs $100. Betty has only half of the money she '\n",
      "                            'needs. Her parents decided to give her $15 for '\n",
      "                            'that purpose, and her grandparents twice as much '\n",
      "                            'as her parents. How much more money does Betty '\n",
      "                            'need to buy the wallet?'},\n",
      "        outputs={'plan': \"Let's break down the problem into steps:\\n\"\n",
      "                         '\\n'\n",
      "                         '1. Calculate how much money Betty has: Betty has '\n",
      "                         'half of the money she needs, so she has $100 / 2 = '\n",
      "                         '$50.\\n'\n",
      "                         '\\n'\n",
      "                         \"2. Calculate how much money Betty's grandparents \"\n",
      "                         \"gave her: Betty's grandparents gave her $15 * 2 = \"\n",
      "                         '$30.\\n'\n",
      "                         '\\n'\n",
      "                         '3. Calculate the total amount of money Betty has '\n",
      "                         'now: Betty has $50 + $15 + $30 = $95.\\n'\n",
      "                         '\\n'\n",
      "                         '4. Calculate how much more money Betty needs to buy '\n",
      "                         'the wallet: Betty needs $100 - $95 = $5.\\n'\n",
      "                         '\\n'\n",
      "                         'Therefore, Betty needs $5 more to buy the wallet.'},\n",
      "        original_object=None),\n",
      " LMDemo(inputs={'question': 'Weng earns $12 an hour for babysitting. '\n",
      "                            'Yesterday, she just did 50 minutes of '\n",
      "                            'babysitting. How much did she earn?'},\n",
      "        outputs={'plan': 'To find out how much Weng earned for 50 minutes of '\n",
      "                         'babysitting at $12 per hour, we will follow these '\n",
      "                         'steps:\\n'\n",
      "                         '\\n'\n",
      "                         '1. Calculate how many hours 50 minutes is equal to:\\n'\n",
      "                         '   - 50 minutes ÷ 60 minutes = 0.83 hours\\n'\n",
      "                         '\\n'\n",
      "                         \"2. Calculate Weng's earnings for 0.83 hours of \"\n",
      "                         'babysitting:\\n'\n",
      "                         '   - Earnings = $12/hour × 0.83 hours = $9.96\\n'\n",
      "                         '\\n'\n",
      "                         'Therefore, Weng earned $9.96 for 50 minutes of '\n",
      "                         'babysitting.'},\n",
      "        original_object=None),\n",
      " LMDemo(inputs={'question': 'Natalia sold clips to 48 of her friends in April, '\n",
      "                            'and then she sold half as many clips in May. How '\n",
      "                            'many clips did Natalia sell altogether in April '\n",
      "                            'and May?'},\n",
      "        outputs={'plan': 'To find the total number of clips Natalia sold in '\n",
      "                         'April and May, we need to first calculate how many '\n",
      "                         'clips she sold in May.\\n'\n",
      "                         '\\n'\n",
      "                         '1. Natalia sold half as many clips in May as she did '\n",
      "                         'in April.\\n'\n",
      "                         '2. In April, she sold 48 clips.\\n'\n",
      "                         '3. To find out how many clips she sold in May, we '\n",
      "                         'need to divide the number of clips she sold in April '\n",
      "                         'by 2: 48 / 2 = 24 clips.\\n'\n",
      "                         '4. In May, Natalia sold 24 clips.\\n'\n",
      "                         '5. To find the total number of clips she sold in '\n",
      "                         'April and May, we need to add the number of clips '\n",
      "                         'she sold in April and May: 48 + 24 = 72 clips.\\n'\n",
      "                         '\\n'\n",
      "                         'Therefore, Natalia sold 72 clips altogether in April '\n",
      "                         'and May.'},\n",
      "        original_object=None)]\n"
     ]
    }
   ],
   "source": [
    "from pprint import pprint\n",
    "\n",
    "pprint(function_traces[\"planner_chain\"][\"args\"][\"request\"].zenbase.task_demos)\n"
   ],
   "metadata": {
    "collapsed": false,
    "ExecuteTime": {
     "end_time": "2024-07-08T19:08:39.449094Z",
     "start_time": "2024-07-08T19:08:39.431825Z"
    }
   },
   "execution_count": 17
  },
  {
   "cell_type": "markdown",
   "source": [
    "### Check the function traces for operation_finder to see what are the task_demos that it has"
   ],
   "metadata": {
    "collapsed": false
   }
  },
  {
   "cell_type": "code",
   "outputs": [
    {
     "name": "stdout",
     "output_type": "stream",
     "text": [
      "[LMDemo(inputs={'plan': 'To find out how many pages James writes in a year, we '\n",
      "                        'need to multiply the number of pages he writes per '\n",
      "                        'week by the number of weeks in a year.\\n'\n",
      "                        '\\n'\n",
      "                        '1. Calculate the number of pages James writes per '\n",
      "                        'week:\\n'\n",
      "                        '   - James writes a 3-page letter to 2 different '\n",
      "                        'friends twice a week.\\n'\n",
      "                        '   - 3 pages/letter * 2 letters/day = 6 pages/day\\n'\n",
      "                        '   - 6 pages/day * 2 days/week = 12 pages/week\\n'\n",
      "                        '\\n'\n",
      "                        '2. Calculate the number of pages James writes per '\n",
      "                        'year:\\n'\n",
      "                        '   - There are 52 weeks in a year.\\n'\n",
      "                        '   - 12 pages/week * 52 weeks/year = 624 pages/year\\n'\n",
      "                        '\\n'\n",
      "                        'Therefore, James writes 624 pages in a year.',\n",
      "                'question': 'James writes a 3-page letter to 2 different '\n",
      "                            'friends twice a week.  How many pages does he '\n",
      "                            'write a year?'},\n",
      "        outputs={'operation': 'James writes 624 pages in a year.'},\n",
      "        original_object=None),\n",
      " LMDemo(inputs={'plan': \"1. Let's start by calculating how many pages Julie \"\n",
      "                        'read today. Since she read twice as many pages as '\n",
      "                        'yesterday, she read 2 * 12 = 24 pages today.\\n'\n",
      "                        '\\n'\n",
      "                        '2. Next, we need to calculate how many pages Julie '\n",
      "                        'has read in total. So far, she has read 12 '\n",
      "                        '(yesterday) + 24 (today) = 36 pages.\\n'\n",
      "                        '\\n'\n",
      "                        '3. Now, we can determine how many pages are left to '\n",
      "                        'read in the book. Since the book has 120 pages in '\n",
      "                        'total and Julie has already read 36 pages, there are '\n",
      "                        '120 - 36 = 84 pages left.\\n'\n",
      "                        '\\n'\n",
      "                        '4. Given that Julie wants to read half of the '\n",
      "                        'remaining pages tomorrow, we need to calculate half '\n",
      "                        'of 84, which is 84 / 2 = 42 pages.\\n'\n",
      "                        '\\n'\n",
      "                        'Therefore, Julie should read 42 pages tomorrow.',\n",
      "                'question': 'Julie is reading a 120-page book. Yesterday, she '\n",
      "                            'was able to read 12 pages and today, she read '\n",
      "                            'twice as many pages as yesterday. If she wants to '\n",
      "                            'read half of the remaining pages tomorrow, how '\n",
      "                            'many pages should she read?'},\n",
      "        outputs={'operation': 'Julie should read 42 pages tomorrow.'},\n",
      "        original_object=None),\n",
      " LMDemo(inputs={'plan': \"Let's break down the problem into steps:\\n\"\n",
      "                        '\\n'\n",
      "                        '1. Calculate how much money Betty has: Betty has half '\n",
      "                        'of the money she needs, so she has $100 / 2 = $50.\\n'\n",
      "                        '\\n'\n",
      "                        \"2. Calculate how much money Betty's grandparents gave \"\n",
      "                        \"her: Betty's grandparents gave her $15 * 2 = $30.\\n\"\n",
      "                        '\\n'\n",
      "                        '3. Calculate the total amount of money Betty has now: '\n",
      "                        'Betty has $50 + $15 + $30 = $95.\\n'\n",
      "                        '\\n'\n",
      "                        '4. Calculate how much more money Betty needs to buy '\n",
      "                        'the wallet: Betty needs $100 - $95 = $5.\\n'\n",
      "                        '\\n'\n",
      "                        'Therefore, Betty needs $5 more to buy the wallet.',\n",
      "                'question': 'Betty is saving money for a new wallet which '\n",
      "                            'costs $100. Betty has only half of the money she '\n",
      "                            'needs. Her parents decided to give her $15 for '\n",
      "                            'that purpose, and her grandparents twice as much '\n",
      "                            'as her parents. How much more money does Betty '\n",
      "                            'need to buy the wallet?'},\n",
      "        outputs={'operation': 'Calculate how much money Betty needs to buy the '\n",
      "                              'wallet. \\n'\n",
      "                              '\\n'\n",
      "                              '1. Calculate the total amount of money Betty '\n",
      "                              'has: $50 (half of the money she needs) + $15 '\n",
      "                              '(from her parents) + $30 (from her '\n",
      "                              'grandparents) = $95.\\n'\n",
      "                              '\\n'\n",
      "                              '2. Calculate how much more money Betty needs to '\n",
      "                              'buy the wallet: $100 (cost of the wallet) - $95 '\n",
      "                              '(total amount of money Betty has) = $5.\\n'\n",
      "                              '\\n'\n",
      "                              'Therefore, Betty needs $5 more to buy the '\n",
      "                              'wallet.'},\n",
      "        original_object=None),\n",
      " LMDemo(inputs={'plan': 'To find out how much Weng earned for 50 minutes of '\n",
      "                        'babysitting at $12 per hour, we will follow these '\n",
      "                        'steps:\\n'\n",
      "                        '\\n'\n",
      "                        '1. Calculate how many hours 50 minutes is equal to:\\n'\n",
      "                        '   - 50 minutes ÷ 60 minutes = 0.83 hours\\n'\n",
      "                        '\\n'\n",
      "                        \"2. Calculate Weng's earnings for 0.83 hours of \"\n",
      "                        'babysitting:\\n'\n",
      "                        '   - Earnings = $12/hour × 0.83 hours = $9.96\\n'\n",
      "                        '\\n'\n",
      "                        'Therefore, Weng earned $9.96 for 50 minutes of '\n",
      "                        'babysitting.',\n",
      "                'question': 'Weng earns $12 an hour for babysitting. '\n",
      "                            'Yesterday, she just did 50 minutes of '\n",
      "                            'babysitting. How much did she earn?'},\n",
      "        outputs={'operation': 'To find out how much Weng earned for 50 minutes '\n",
      "                              'of babysitting at $12 per hour, we can use the '\n",
      "                              'following math operation:\\n'\n",
      "                              '\\n'\n",
      "                              'Earnings = $12/hour × (50 minutes ÷ 60 minutes) '\n",
      "                              'hours\\n'\n",
      "                              '\\n'\n",
      "                              'Earnings = $12/hour × 0.83 hours\\n'\n",
      "                              '\\n'\n",
      "                              'Earnings = $9.96\\n'\n",
      "                              '\\n'\n",
      "                              'Therefore, Weng earned $9.96 for 50 minutes of '\n",
      "                              'babysitting.'},\n",
      "        original_object=None),\n",
      " LMDemo(inputs={'plan': 'To find the total number of clips Natalia sold in '\n",
      "                        'April and May, we need to first calculate how many '\n",
      "                        'clips she sold in May.\\n'\n",
      "                        '\\n'\n",
      "                        '1. Natalia sold half as many clips in May as she did '\n",
      "                        'in April.\\n'\n",
      "                        '2. In April, she sold 48 clips.\\n'\n",
      "                        '3. To find out how many clips she sold in May, we '\n",
      "                        'need to divide the number of clips she sold in April '\n",
      "                        'by 2: 48 / 2 = 24 clips.\\n'\n",
      "                        '4. In May, Natalia sold 24 clips.\\n'\n",
      "                        '5. To find the total number of clips she sold in '\n",
      "                        'April and May, we need to add the number of clips she '\n",
      "                        'sold in April and May: 48 + 24 = 72 clips.\\n'\n",
      "                        '\\n'\n",
      "                        'Therefore, Natalia sold 72 clips altogether in April '\n",
      "                        'and May.',\n",
      "                'question': 'Natalia sold clips to 48 of her friends in April, '\n",
      "                            'and then she sold half as many clips in May. How '\n",
      "                            'many clips did Natalia sell altogether in April '\n",
      "                            'and May?'},\n",
      "        outputs={'operation': 'The overall operation to solve the problem is '\n",
      "                              'to add the number of clips sold in April to the '\n",
      "                              'number of clips sold in May. \\n'\n",
      "                              '\\n'\n",
      "                              'Total clips sold = Clips sold in April + Clips '\n",
      "                              'sold in May'},\n",
      "        original_object=None)]\n"
     ]
    }
   ],
   "source": [
    "from pprint import pprint\n",
    "\n",
    "pprint(function_traces[\"operation_finder\"][\"args\"][\"request\"].zenbase.task_demos)\n"
   ],
   "metadata": {
    "collapsed": false,
    "ExecuteTime": {
     "end_time": "2024-07-08T19:08:50.580109Z",
     "start_time": "2024-07-08T19:08:50.574456Z"
    }
   },
   "execution_count": 18
  },
  {
   "cell_type": "markdown",
   "source": [
    "### Check the function traces for solver to see what are the task_demos that it has"
   ],
   "metadata": {
    "collapsed": false
   }
  },
  {
   "cell_type": "code",
   "outputs": [
    {
     "name": "stdout",
     "output_type": "stream",
     "text": [
      "[LMDemo(inputs={'question': 'James writes a 3-page letter to 2 different '\n",
      "                            'friends twice a week.  How many pages does he '\n",
      "                            'write a year?'},\n",
      "        outputs={'answer': '624'},\n",
      "        original_object=None),\n",
      " LMDemo(inputs={'question': 'Julie is reading a 120-page book. Yesterday, she '\n",
      "                            'was able to read 12 pages and today, she read '\n",
      "                            'twice as many pages as yesterday. If she wants to '\n",
      "                            'read half of the remaining pages tomorrow, how '\n",
      "                            'many pages should she read?'},\n",
      "        outputs={'answer': '42'},\n",
      "        original_object=None),\n",
      " LMDemo(inputs={'question': 'Betty is saving money for a new wallet which '\n",
      "                            'costs $100. Betty has only half of the money she '\n",
      "                            'needs. Her parents decided to give her $15 for '\n",
      "                            'that purpose, and her grandparents twice as much '\n",
      "                            'as her parents. How much more money does Betty '\n",
      "                            'need to buy the wallet?'},\n",
      "        outputs={'answer': '5'},\n",
      "        original_object=None),\n",
      " LMDemo(inputs={'question': 'Weng earns $12 an hour for babysitting. '\n",
      "                            'Yesterday, she just did 50 minutes of '\n",
      "                            'babysitting. How much did she earn?'},\n",
      "        outputs={'answer': '9.96'},\n",
      "        original_object=None),\n",
      " LMDemo(inputs={'question': 'Natalia sold clips to 48 of her friends in April, '\n",
      "                            'and then she sold half as many clips in May. How '\n",
      "                            'many clips did Natalia sell altogether in April '\n",
      "                            'and May?'},\n",
      "        outputs={'answer': '72'},\n",
      "        original_object=None)]\n"
     ]
    }
   ],
   "source": [
    "from pprint import pprint\n",
    "\n",
    "pprint(function_traces[\"solver\"][\"args\"][\"request\"].zenbase.task_demos)\n"
   ],
   "metadata": {
    "collapsed": false,
    "ExecuteTime": {
     "end_time": "2024-07-08T19:08:59.038537Z",
     "start_time": "2024-07-08T19:08:59.034444Z"
    }
   },
   "execution_count": 19
  }
 ],
 "metadata": {
  "kernelspec": {
   "display_name": ".venv",
   "language": "python",
   "name": "python3"
  },
  "language_info": {
   "codemirror_mode": {
    "name": "ipython",
    "version": 3
   },
   "file_extension": ".py",
   "mimetype": "text/x-python",
   "name": "python",
   "nbconvert_exporter": "python",
   "pygments_lexer": "ipython3",
   "version": "3.10.13"
  }
 },
 "nbformat": 4,
 "nbformat_minor": 2
}
