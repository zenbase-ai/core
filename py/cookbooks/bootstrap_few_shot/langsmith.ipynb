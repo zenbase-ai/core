{
 "cells": [
  {
   "cell_type": "markdown",
   "source": [
    "Install packages:"
   ],
   "metadata": {
    "collapsed": false
   },
   "id": "297ac2e185a1ec3b"
  },
  {
   "cell_type": "code",
   "outputs": [],
   "source": [
    "import sys\n",
    "import subprocess\n",
    "\n",
    "def install_package(package):\n",
    "    try:\n",
    "        subprocess.check_call([sys.executable, \"-m\", \"pip\", \"install\", package])\n",
    "    except subprocess.CalledProcessError as e:\n",
    "        print(f\"Failed to install {package}: {e}\")\n",
    "        raise\n",
    "\n",
    "def install_packages(packages):\n",
    "    for package in packages:\n",
    "        install_package(package)\n",
    "\n",
    "try:\n",
    "    # Check if running in Google Colab\n",
    "    import google.colab\n",
    "    IN_COLAB = True\n",
    "except ImportError:\n",
    "    IN_COLAB = False\n",
    "\n",
    "if IN_COLAB:\n",
    "    # Install the zenbase package if running in Google Colab\n",
    "    # install_package('zenbase')\n",
    "    # Install the zenbse package from a GitHub branch if running in Google Colab\n",
    "    install_package('git+https://github.com/zenbase-ai/lib.git@main#egg=zenbase&subdirectory=py')\n",
    "\n",
    "    # List of other packages to install in Google Colab\n",
    "    additional_packages = [\n",
    "        'python-dotenv',\n",
    "        'langsmith[vcr]',\n",
    "        'openai',\n",
    "        'langchain',\n",
    "        'langchain_openai'\n",
    "    ]\n",
    "    \n",
    "    # Install additional packages\n",
    "    install_packages(additional_packages)\n",
    "\n",
    "# Now import the zenbase library\n",
    "try:\n",
    "    import zenbase\n",
    "except ImportError as e:\n",
    "    print(\"Failed to import zenbase: \", e)\n",
    "    raise"
   ],
   "metadata": {
    "collapsed": false,
    "ExecuteTime": {
     "end_time": "2024-07-05T01:24:32.965125Z",
     "start_time": "2024-07-05T01:24:32.930571Z"
    }
   },
   "id": "90cbce6f536bbc1d",
   "execution_count": 1
  },
  {
   "cell_type": "code",
   "execution_count": 2,
   "id": "1377617ec4c1781f",
   "metadata": {
    "ExecuteTime": {
     "end_time": "2024-07-05T01:24:32.996679Z",
     "start_time": "2024-07-05T01:24:32.968216Z"
    }
   },
   "outputs": [
    {
     "data": {
      "text/plain": "True"
     },
     "execution_count": 2,
     "metadata": {},
     "output_type": "execute_result"
    }
   ],
   "source": [
    "from pathlib import Path\n",
    "from dotenv import load_dotenv\n",
    "\n",
    "# import os\n",
    "#\n",
    "# os.environ[\"OPENAI_API_KEY\"] = \"...\"\n",
    "# os.environ[\"LANGCHAIN_API_KEY\"] = \"...\"\n",
    "# os.environ[\"LANGCHAIN_TRACING_V2\"] = \"true\"\n",
    "\n",
    "load_dotenv(Path(\"../../.env.test\"), override=True)"
   ]
  },
  {
   "cell_type": "code",
   "execution_count": 3,
   "id": "808bae4c98be5c94",
   "metadata": {
    "ExecuteTime": {
     "end_time": "2024-07-05T01:24:33.004739Z",
     "start_time": "2024-07-05T01:24:32.998482Z"
    }
   },
   "outputs": [],
   "source": [
    "import nest_asyncio\n",
    "\n",
    "nest_asyncio.apply()"
   ]
  },
  {
   "cell_type": "code",
   "execution_count": 4,
   "id": "c49d5afd7ed94163",
   "metadata": {
    "ExecuteTime": {
     "end_time": "2024-07-05T01:24:33.841458Z",
     "start_time": "2024-07-05T01:24:33.006512Z"
    }
   },
   "outputs": [],
   "source": [
    "import json\n",
    "\n",
    "from langsmith import traceable\n",
    "from langsmith.schemas import Run, Example\n",
    "from langsmith.wrappers import wrap_openai\n",
    "from openai import OpenAI\n",
    "\n",
    "openai = wrap_openai(OpenAI())\n",
    "\n",
    "# Define your LLM function\n",
    "@traceable\n",
    "def openai_json_response(inputs: dict) -> dict:\n",
    "    messages = [\n",
    "        {\n",
    "            \"role\": \"system\",\n",
    "            \"content\": \"You are an expert math solver. Your answer must be just the number with no separators, and nothing else. Follow the format of the examples. Think step by step. Respond with a JSON object with a key of 'answer'.\",\n",
    "        },\n",
    "        {\"role\": \"user\", \"content\": json.dumps(inputs)}\n",
    "    ]\n",
    "\n",
    "    response = openai.chat.completions.create(\n",
    "        model=\"gpt-3.5-turbo\",\n",
    "        messages=messages,\n",
    "        response_format={\"type\": \"json_object\"},\n",
    "    )\n",
    "\n",
    "    return json.loads(response.choices[0].message.content)\n",
    "\n",
    "# Define your Langsmith evaluator\n",
    "def score_answer(run: Run, example: Example):\n",
    "    print(run.outputs)\n",
    "    match (answer := run.outputs[\"answer\"]):\n",
    "        case int():\n",
    "            output = str(answer).strip()\n",
    "        case str():\n",
    "            output = answer.split(\"#### \")[-1].strip()\n",
    "    target = example.outputs[\"answer\"].split(\"#### \")[-1].strip()\n",
    "    return {\n",
    "        \"key\": \"correctness\",\n",
    "        \"score\": int(output == target),\n",
    "    }"
   ]
  },
  {
   "cell_type": "code",
   "execution_count": 5,
   "id": "269ce9c328f8e5e6",
   "metadata": {
    "ExecuteTime": {
     "end_time": "2024-07-05T01:24:38.229294Z",
     "start_time": "2024-07-05T01:24:33.844681Z"
    }
   },
   "outputs": [
    {
     "name": "stdout",
     "output_type": "stream",
     "text": [
      "View the evaluation results for experiment: 'healthy-juice-57' at:\n",
      "https://smith.langchain.com/o/f145e0fe-631c-5153-984d-08acb624f83e/datasets/ab14f6ad-3e00-43b8-9ad6-3ce6bdb510f0/compare?selectedSessions=c88b49d5-9e79-4a9f-8151-2d5aa895f882\n"
     ]
    },
    {
     "data": {
      "text/plain": "0it [00:00, ?it/s]",
      "application/vnd.jupyter.widget-view+json": {
       "version_major": 2,
       "version_minor": 0,
       "model_id": "a80e21fe2ccb45f79f8e7da5c494a942"
      }
     },
     "metadata": {},
     "output_type": "display_data"
    },
    {
     "name": "stdout",
     "output_type": "stream",
     "text": [
      "{'answer': '3'}{'answer': 360}\n"
     ]
    },
    {
     "data": {
      "text/plain": "<ExperimentResults healthy-juice-57>"
     },
     "execution_count": 5,
     "metadata": {},
     "output_type": "execute_result"
    }
   ],
   "source": [
    "# Evaluate using LangSmith\n",
    "from langsmith import Client, evaluate\n",
    "\n",
    "langsmith = Client()\n",
    "evalset = list(langsmith.list_examples(dataset_name=\"GSM8K_test_set_langsmith_dataset_2ii5SKBzVHu3UVUmiFIxFxSvsFm\"))\n",
    "\n",
    "evaluate_kwargs = dict(\n",
    "    data=evalset,\n",
    "    evaluators=[score_answer],\n",
    "    client=langsmith,\n",
    "    max_concurrency=2,\n",
    ")\n",
    "\n",
    "evaluate(openai_json_response, **evaluate_kwargs)"
   ]
  },
  {
   "cell_type": "code",
   "outputs": [],
   "source": [
    "from zenbase.core.managers import ZenbaseTracer\n",
    "trace_manager = ZenbaseTracer()\n",
    "\n",
    "# Define trace manager for Zenbase\n",
    "from zenbase.adaptors.langchain import ZenLangSmith\n",
    "\n",
    "zen_langsmith = ZenLangSmith(langsmith)"
   ],
   "metadata": {
    "collapsed": false,
    "ExecuteTime": {
     "end_time": "2024-07-05T01:24:38.539653Z",
     "start_time": "2024-07-05T01:24:38.233122Z"
    }
   },
   "id": "e7edd4903633743a",
   "execution_count": 6
  },
  {
   "cell_type": "code",
   "execution_count": 7,
   "id": "9592f3913f694364",
   "metadata": {
    "ExecuteTime": {
     "end_time": "2024-07-05T01:24:38.547239Z",
     "start_time": "2024-07-05T01:24:38.541001Z"
    }
   },
   "outputs": [],
   "source": [
    "from zenbase.types import LMRequest\n",
    "\n",
    "# Wrap your existing chain with @deflm and take in a `LMRequest` object\n",
    "# An LMRequest has the inputs for your chain and has a `zenbase` attribute.\n",
    "# This `zenbase` attribute includes the fields that Zenbase optimises.\n",
    "\n",
    "# LMRequest.inputs => LM function inputs\n",
    "# LMRequest.zenbase => optimized LLM params\n",
    "\n",
    "@trace_manager.trace_function\n",
    "@traceable\n",
    "def openai_json_response_2(request: LMRequest) -> dict:\n",
    "    messages = [\n",
    "        {\n",
    "            \"role\": \"system\",\n",
    "            \"content\": \"You are an expert math solver. Your answer must be just the number with no separators, and nothing else. Follow the format of the examples. Think step by step. Respond with a JSON object.\",\n",
    "        },\n",
    "    ]\n",
    "\n",
    "    for demo in request.zenbase.task_demos:\n",
    "        messages += [\n",
    "            {\"role\": \"user\", \"content\": json.dumps(demo.inputs)},\n",
    "            {\"role\": \"assistant\", \"content\": json.dumps(demo.outputs)},\n",
    "        ]\n",
    "    messages.append({\"role\": \"user\", \"content\": json.dumps(request.inputs)})\n",
    "\n",
    "    response = openai.chat.completions.create(\n",
    "        model=\"gpt-3.5-turbo\",\n",
    "        messages=messages,\n",
    "        response_format={\"type\": \"json_object\"},\n",
    "    )\n",
    "\n",
    "    return json.loads(response.choices[0].message.content)\n",
    "\n",
    "\n",
    "@trace_manager.trace_function\n",
    "@traceable\n",
    "def openai_json_response(request: LMRequest) -> dict:\n",
    "    openai_json_response_2(request.inputs)\n",
    "    messages = [\n",
    "        {\n",
    "            \"role\": \"system\",\n",
    "            \"content\": \"You are an expert math solver. Your answer must be just the number with no separators, and nothing else. Follow the format of the examples. Think step by step. Respond with a JSON object.\",\n",
    "        },\n",
    "    ]\n",
    "\n",
    "    for demo in request.zenbase.task_demos:\n",
    "        messages += [\n",
    "            {\"role\": \"user\", \"content\": json.dumps(demo.inputs)},\n",
    "            {\"role\": \"assistant\", \"content\": json.dumps(demo.outputs)},\n",
    "        ]\n",
    "    messages.append({\"role\": \"user\", \"content\": json.dumps(request.inputs)})\n",
    "\n",
    "    response = openai.chat.completions.create(\n",
    "        model=\"gpt-3.5-turbo\",\n",
    "        messages=messages,\n",
    "        response_format={\"type\": \"json_object\"},\n",
    "    )\n",
    "\n",
    "    return json.loads(response.choices[0].message.content)\n",
    "\n"
   ]
  },
  {
   "cell_type": "code",
   "execution_count": 8,
   "id": "9c996174108b0981",
   "metadata": {
    "ExecuteTime": {
     "end_time": "2024-07-05T01:24:49.647906Z",
     "start_time": "2024-07-05T01:24:38.548815Z"
    }
   },
   "outputs": [
    {
     "name": "stdout",
     "output_type": "stream",
     "text": [
      "View the evaluation results for experiment: 'zenbase-automated-demand-driven-25d9ff96' at:\n",
      "https://smith.langchain.com/o/f145e0fe-631c-5153-984d-08acb624f83e/datasets/ab14f6ad-3e00-43b8-9ad6-3ce6bdb510f0/compare?selectedSessions=c7f466ad-6041-436e-91fc-b7d1e226a782\n"
     ]
    },
    {
     "data": {
      "text/plain": "0it [00:00, ?it/s]",
      "application/vnd.jupyter.widget-view+json": {
       "version_major": 2,
       "version_minor": 0,
       "model_id": "c3b364a43ced4233b0bede25e3b3741c"
      }
     },
     "metadata": {},
     "output_type": "display_data"
    },
    {
     "name": "stdout",
     "output_type": "stream",
     "text": [
      "{'answer': \"Janet uses 3+4=<<3+4=7>>7 eggs for breakfast and muffins daily.\\nTherefore, she has 16-7=<<16-7=9>>9 eggs to sell daily.\\nThese 9 eggs will make her 9*2=<<9*2=18>>18 dollars every day at the farmers' market.\\n#### 18\"}{'answer': 'A robe takes 2 bolts of blue fiber and 2/2 = <<2/2=1>>1 bolt of white fiber.\\nTherefore, it takes 2 + 1 = <<2+1=3>>3 bolts in total.\\n#### 3'}\n",
      "View the evaluation results for experiment: 'zenbase-open-architected-asynchronous-13537dd9' at:\n",
      "https://smith.langchain.com/o/f145e0fe-631c-5153-984d-08acb624f83e/datasets/ab14f6ad-3e00-43b8-9ad6-3ce6bdb510f0/compare?selectedSessions=0ed1f346-1398-4300-ba47-53d4f3d36089\n"
     ]
    },
    {
     "data": {
      "text/plain": "0it [00:00, ?it/s]",
      "application/vnd.jupyter.widget-view+json": {
       "version_major": 2,
       "version_minor": 0,
       "model_id": "73c23df8cb6b4849a749040b28eea003"
      }
     },
     "metadata": {},
     "output_type": "display_data"
    },
    {
     "name": "stdout",
     "output_type": "stream",
     "text": [
      "{'answer': 'A robe takes 2 + 2/2 = <<2+2/2=3>>3 bolts in total.\\n#### 3'}{'answer': \"Janet uses 3 + 4 = <<3+4=7>>7 eggs every day for breakfast and muffins.\\nThe number of eggs she sells daily is 16 - 7 = <<16-7=9>>9.\\nShe makes 9 x 2 = $<<9*2=18>>18 every day at the farmers' market.\\n#### 18\"}\n",
      "View the evaluation results for experiment: 'zenbase-progressive-non-volatile-3cafce42' at:\n",
      "https://smith.langchain.com/o/f145e0fe-631c-5153-984d-08acb624f83e/datasets/ab14f6ad-3e00-43b8-9ad6-3ce6bdb510f0/compare?selectedSessions=24a50358-6420-4217-8efe-f74c24ae53b8\n"
     ]
    },
    {
     "data": {
      "text/plain": "0it [00:00, ?it/s]",
      "application/vnd.jupyter.widget-view+json": {
       "version_major": 2,
       "version_minor": 0,
       "model_id": "a60b36913d9f40f584bf884328cf82f0"
      }
     },
     "metadata": {},
     "output_type": "display_data"
    },
    {
     "name": "stdout",
     "output_type": "stream",
     "text": [
      "{'answer': 'A robe takes 2 bolts of blue fiber and 2 / 2 = 1 bolt of white fiber.\\nIn total, a robe takes 2 + 1 = 3 bolts.\\n#### 3'}\n",
      "{'answer': \"Janet uses 3 + 4 = 7 eggs for breakfast and baking.\\nSo, she sells 16 - 7 = 9 eggs at the farmers' market.\\nShe makes 9 x 2 = $<<9*2=18>>18 every day at the farmers' market.\\n#### 18\"}\n",
      "View the evaluation results for experiment: 'zenbase-implemented-bandwidth-monitored-8ea39662' at:\n",
      "https://smith.langchain.com/o/f145e0fe-631c-5153-984d-08acb624f83e/datasets/ab14f6ad-3e00-43b8-9ad6-3ce6bdb510f0/compare?selectedSessions=cf93bf56-1b89-4279-b362-4fd51f6f9d33\n"
     ]
    },
    {
     "data": {
      "text/plain": "0it [00:00, ?it/s]",
      "application/vnd.jupyter.widget-view+json": {
       "version_major": 2,
       "version_minor": 0,
       "model_id": "1bdaba56c3604d3f8a067402bfe5dbbc"
      }
     },
     "metadata": {},
     "output_type": "display_data"
    },
    {
     "name": "stdout",
     "output_type": "stream",
     "text": [
      "{'answer': 'A robe takes 2 bolts of blue fiber and 2/2=<<2/2=1>>1 bolt of white fiber.\\nSo in total, a robe takes 2 + 1 = <<2+1=3>>3 bolts.\\n#### 3'}{'answer': \"Janet uses 3+4 = <<3+4=7>>7 eggs every day for breakfast and muffins.\\nSo the ducks lay 16-7 = <<16-7=9>>9 eggs that she sells every day.\\nShe makes 9*2 = <<9*2=18>>18 dollars every day at the farmers' market.\\n#### 18\"}\n",
      "View the evaluation results for experiment: 'zenbase-upgradable-grid-enabled-615e3717' at:\n",
      "https://smith.langchain.com/o/f145e0fe-631c-5153-984d-08acb624f83e/datasets/ab14f6ad-3e00-43b8-9ad6-3ce6bdb510f0/compare?selectedSessions=962d3f51-1d18-49b8-9dd1-5abe094b7e6b\n"
     ]
    },
    {
     "data": {
      "text/plain": "0it [00:00, ?it/s]",
      "application/vnd.jupyter.widget-view+json": {
       "version_major": 2,
       "version_minor": 0,
       "model_id": "a3ba07e40a6646cbbd36eb34ce4cb294"
      }
     },
     "metadata": {},
     "output_type": "display_data"
    },
    {
     "name": "stdout",
     "output_type": "stream",
     "text": [
      "{'answer': 'It takes 2/2 = <<2/2=1>>1 bolt of white fiber.\\nSo, in total, it takes 2 + 1 = <<2+1=3>>3 bolts.\\n#### 3'}\n",
      "{'answer': \"Janet has 16-3-4=<<16-3-4=9>>9 eggs left for sale every day.\\nSince she sells the eggs at $2 each, she makes 9*2=$<<9*2=18>>18 every day at the farmers' market.\\n#### 18\"}\n"
     ]
    }
   ],
   "source": [
    "from zenbase.adaptors.langchain import ZenLangSmith\n",
    "from zenbase.optim.metric.labeled_few_shot import LabeledFewShot\n",
    "\n",
    "demoset = ZenLangSmith.examples_to_demos(\n",
    "    langsmith.list_examples(dataset_name=\"GSM8K_train_set_langsmith_dataset_2ii5SPh2qGRjlCzFIkp8d8qcKhH\")\n",
    ")\n",
    "optimizer = LabeledFewShot(demoset=demoset, shots=3)\n",
    "\n",
    "best_fn, candidates, _ = optimizer.perform(\n",
    "    # Pass deflm decorated function\n",
    "    openai_json_response,\n",
    "    # Exactly the same as what you are passing to your evaluate function\n",
    "    evaluator=ZenLangSmith.metric_evaluator(**evaluate_kwargs),\n",
    "    samples=5,\n",
    "    rounds=1,\n",
    ")"
   ]
  },
  {
   "cell_type": "code",
   "outputs": [
    {
     "name": "stdout",
     "output_type": "stream",
     "text": [
      "View the evaluation results for experiment: 'zenbase-synergistic-didactic-a9f25e3c' at:\n",
      "https://smith.langchain.com/o/f145e0fe-631c-5153-984d-08acb624f83e/datasets/10fd5ab6-4eb1-43a3-9a82-1b7d1c40300a/compare?selectedSessions=e66c2026-e170-4a2d-9d3e-49ce7cc01f7d\n"
     ]
    },
    {
     "data": {
      "text/plain": "0it [00:00, ?it/s]",
      "application/vnd.jupyter.widget-view+json": {
       "version_major": 2,
       "version_minor": 0,
       "model_id": "d75abe79b4e24330903f80221f49b6d0"
      }
     },
     "metadata": {},
     "output_type": "display_data"
    },
    {
     "name": "stdout",
     "output_type": "stream",
     "text": [
      "{'answer': 144}\n",
      "{'answer': 3}\n",
      "View the evaluation results for experiment: 'zenbase-customer-focused-modular-d9adfd8a' at:\n",
      "https://smith.langchain.com/o/f145e0fe-631c-5153-984d-08acb624f83e/datasets/d8e98c14-0b6d-4380-bb1e-05a8f3b1bf34/compare?selectedSessions=6219c3d2-a4b6-4adc-9a12-d2ed6642507a\n"
     ]
    },
    {
     "data": {
      "text/plain": "0it [00:00, ?it/s]",
      "application/vnd.jupyter.widget-view+json": {
       "version_major": 2,
       "version_minor": 0,
       "model_id": "16bc9e107bb2450085b7027cf3bb1f22"
      }
     },
     "metadata": {},
     "output_type": "display_data"
    },
    {
     "name": "stdout",
     "output_type": "stream",
     "text": [
      "{'answer': 'He bought 2 large pizzas, each with 16 slices, so 2*16=<<2*16=32>>32 slices of large pizza\\nHe also bought 2 small pizzas, each with 8 slices, so 2*8=<<2*8=16>>16 slices of small pizza\\nIn total, he eats 32+16=<<32+16=48>>48 slices of pizza that day\\n#### 48'}\n",
      "{'answer': 'The weight after adding jelly beans was 2*3=<<2*3=6>>6 pounds.\\nThen he added another 2 pounds of jelly beans making it 6+2=<<6+2=8>>8 pounds.\\nFinally, the weight doubled after adding gummy worms, making it 8*2=<<8*2=16>>16 pounds.\\n#### 16'}\n",
      "View the evaluation results for experiment: 'zenbase-customizable-fault-tolerant-db4a51c2' at:\n",
      "https://smith.langchain.com/o/f145e0fe-631c-5153-984d-08acb624f83e/datasets/d8e98c14-0b6d-4380-bb1e-05a8f3b1bf34/compare?selectedSessions=5183a483-3167-4477-abe5-d3d1b867c18a\n"
     ]
    },
    {
     "data": {
      "text/plain": "0it [00:00, ?it/s]",
      "application/vnd.jupyter.widget-view+json": {
       "version_major": 2,
       "version_minor": 0,
       "model_id": "187a6fea17024142b14e2f814d385b01"
      }
     },
     "metadata": {},
     "output_type": "display_data"
    },
    {
     "name": "stdout",
     "output_type": "stream",
     "text": [
      "{'answer': 'In total, Albert buys 2 x 16 = <<2*16=32>>32 slices of large pizzas.\\nHe also buys 2 x 8 = <<2*8=16>>16 slices of small pizzas.\\nTherefore, Albert eats in total 32 + 16 = <<32+16=48>>48 pieces that day.\\n#### 48'}\n",
      "{'answer': 'The initial weight was 2 pounds from the jelly beans.\\nAdding brownies tripled the weight to 2 x 3 = 6 pounds.\\nAdding more jelly beans brought the weight to 6 + 2 = 8 pounds.\\nAdding gummy worms doubled the weight to 8 x 2 = 16 pounds.\\n#### 16'}\n",
      "View the evaluation results for experiment: 'zenbase-cross-group-bandwidth-monitored-affcea0a' at:\n",
      "https://smith.langchain.com/o/f145e0fe-631c-5153-984d-08acb624f83e/datasets/571de8fd-a35b-4524-b03f-6463f3362552/compare?selectedSessions=91a5b21b-5668-4924-90c4-d5708a769cc9\n"
     ]
    },
    {
     "data": {
      "text/plain": "0it [00:00, ?it/s]",
      "application/vnd.jupyter.widget-view+json": {
       "version_major": 2,
       "version_minor": 0,
       "model_id": "9640f19575b64c5db272fb79572847c8"
      }
     },
     "metadata": {},
     "output_type": "display_data"
    },
    {
     "name": "stdout",
     "output_type": "stream",
     "text": [
      "{'answer': '72'}\n",
      "{'answer': 'Weng earns $12/60 = <<12/60=0.2>>0.2 dollars per minute.\\nTherefore, for 50 minutes, she earned 50*0.2 = <<50*0.2=10>>10 dollars.\\n#### 10'}\n",
      "{'answer': 'Betty has 100/2 = <<100/2=50>>50 dollars.\\nHer grandparents give her 15*2 = <<15*2=30>>30 dollars.\\nIn total, Betty has 50+15+30 = <<50+15+30=95>>95 dollars.\\nBetty still needs 100-95 = <<100-95=5>>5 dollars to buy the wallet.\\n#### 5'}\n",
      "{'answer': 'Julie read 12*2 = <<12*2=24>>24 pages today.\\nJulie has read a total of 12+24 = <<12+24=36>>36 pages.\\nShe has 120-36 = <<120-36=84>>84 pages remaining.\\nTherefore, she should read 84/2 = <<84/2=42>>42 pages tomorrow.\\n#### 42'}\n",
      "{'answer': '624'}\n",
      "View the evaluation results for experiment: 'zenbase-focused-logistical-e64da8aa' at:\n",
      "https://smith.langchain.com/o/f145e0fe-631c-5153-984d-08acb624f83e/datasets/10fd5ab6-4eb1-43a3-9a82-1b7d1c40300a/compare?selectedSessions=66bea0dd-5872-4070-b617-f98cf1bc59a6\n"
     ]
    },
    {
     "data": {
      "text/plain": "0it [00:00, ?it/s]",
      "application/vnd.jupyter.widget-view+json": {
       "version_major": 2,
       "version_minor": 0,
       "model_id": "a0d61a43be734933a3676cd0e16a381e"
      }
     },
     "metadata": {},
     "output_type": "display_data"
    },
    {
     "name": "stdout",
     "output_type": "stream",
     "text": [
      "{'answer': \"She uses 3+4=7 eggs every day for breakfast and muffins.\\nThe remaining eggs are 16-7=9 eggs.\\nShe makes 9*2=$18 every day at the farmers' market.\\n#### 18\"}\n",
      "{'answer': '3'}\n"
     ]
    }
   ],
   "source": [
    "from zenbase.optim.metric.bootstrap_few_shot import BootstrapFewShot\n",
    "\n",
    "# Define your Langsmith and helper\n",
    "langsmith = Client()\n",
    "langsmith_helper = ZenLangSmith(client=langsmith)\n",
    "\n",
    "TRAIN_SET = \"GSM8K_train_set_langsmith_dataset_2iiXubwwzCNQo4yokckJiUn98UG\"\n",
    "TEST_SET = \"GSM8K_test_set_langsmith_dataset_2iiXuiuySmWoINORDrPuvWHgbaT\"\n",
    "VALIDATION_SET = \"GSM8K_validation_set_langsmith_dataset_2iiXukhQxsrsHiwRdOh3O9j43wQ\"\n",
    "SHOTS = 2\n",
    "SAMPLES = 2\n",
    "\n",
    "train_set = langsmith_helper.fetch_dataset(dataset_name=TRAIN_SET)\n",
    "test_set = langsmith_helper.fetch_dataset(dataset_name=TEST_SET)\n",
    "validation_set = langsmith_helper.fetch_dataset(dataset_name=VALIDATION_SET)\n",
    "\n",
    "evaluator_kwargs = dict(\n",
    "    evaluators=[score_answer],\n",
    "    client=langsmith,\n",
    "    max_concurrency=1,\n",
    ")\n",
    "\n",
    "bootstrap_few_shot = BootstrapFewShot(\n",
    "    shots=SHOTS,\n",
    "    training_set=train_set,\n",
    "    test_set=test_set,\n",
    "    validation_set=validation_set,\n",
    "    evaluator_kwargs=evaluator_kwargs,\n",
    "    zen_adaptor=langsmith_helper,\n",
    ")\n",
    "\n",
    "teacher_lm = bootstrap_few_shot.perform(\n",
    "    openai_json_response,\n",
    "    samples=SAMPLES,\n",
    "    rounds=1,\n",
    "    trace_manager=trace_manager,\n",
    ")\n"
   ],
   "metadata": {
    "collapsed": false,
    "ExecuteTime": {
     "end_time": "2024-07-05T01:25:24.201619Z",
     "start_time": "2024-07-05T01:24:49.651412Z"
    }
   },
   "id": "9c7008ff5c73da1c",
   "execution_count": 9
  },
  {
   "cell_type": "code",
   "execution_count": 11,
   "id": "da6e5476084d83fa",
   "metadata": {
    "ExecuteTime": {
     "end_time": "2024-07-05T01:25:40.326390Z",
     "start_time": "2024-07-05T01:25:39.137424Z"
    }
   },
   "outputs": [
    {
     "data": {
      "text/plain": "{'answer': '45'}"
     },
     "execution_count": 11,
     "metadata": {},
     "output_type": "execute_result"
    }
   ],
   "source": [
    "# Now you can use your zenbase fn\n",
    "teacher_lm.best_function({\"question\": \"If I have 30% of shares, and Mo has 24.5% of shares, how many of our 10M shares are unassigned?\"})"
   ]
  },
  {
   "cell_type": "code",
   "outputs": [],
   "source": [
    "trace_manager.all_traces = {}"
   ],
   "metadata": {
    "collapsed": false,
    "ExecuteTime": {
     "end_time": "2024-07-05T01:25:41.078930Z",
     "start_time": "2024-07-05T01:25:41.075558Z"
    }
   },
   "id": "b4e4c76c71b4d5cf",
   "execution_count": 12
  },
  {
   "cell_type": "code",
   "outputs": [
    {
     "data": {
      "text/plain": "{'answer': '4500000'}"
     },
     "execution_count": 14,
     "metadata": {},
     "output_type": "execute_result"
    }
   ],
   "source": [
    "# Now you can use your zenbase fn\n",
    "teacher_lm.best_function({\"question\": \"If I have 30% of shares, and Mo has 24.5% of shares, how many of our 10M shares are unassigned?\"})"
   ],
   "metadata": {
    "collapsed": false,
    "ExecuteTime": {
     "end_time": "2024-07-05T01:25:56.695325Z",
     "start_time": "2024-07-05T01:25:55.447689Z"
    }
   },
   "id": "673698a3ac4d9706",
   "execution_count": 14
  },
  {
   "cell_type": "code",
   "outputs": [],
   "source": [
    "function_traces = [v for k, v in trace_manager.all_traces.items()][0][\"optimized\"]"
   ],
   "metadata": {
    "collapsed": false,
    "ExecuteTime": {
     "end_time": "2024-07-05T01:25:59.369354Z",
     "start_time": "2024-07-05T01:25:59.365171Z"
    }
   },
   "id": "3a89e03362a776bc",
   "execution_count": 15
  },
  {
   "cell_type": "code",
   "execution_count": 16,
   "id": "280bbbc5",
   "metadata": {
    "ExecuteTime": {
     "end_time": "2024-07-05T01:26:00.777319Z",
     "start_time": "2024-07-05T01:26:00.770026Z"
    }
   },
   "outputs": [
    {
     "name": "stdout",
     "output_type": "stream",
     "text": [
      "[LMDemo(inputs={'question': 'Natalia sold clips to 48 of her friends in April, '\n",
      "                            'and then she sold half as many clips in May. How '\n",
      "                            'many clips did Natalia sell altogether in April '\n",
      "                            'and May?'},\n",
      "        outputs={'answer': '72'},\n",
      "        original_object=None),\n",
      " LMDemo(inputs={'question': 'Weng earns $12 an hour for babysitting. '\n",
      "                            'Yesterday, she just did 50 minutes of '\n",
      "                            'babysitting. How much did she earn?'},\n",
      "        outputs={'answer': '12'},\n",
      "        original_object=None),\n",
      " LMDemo(inputs={'question': 'Betty is saving money for a new wallet which '\n",
      "                            'costs $100. Betty has only half of the money she '\n",
      "                            'needs. Her parents decided to give her $15 for '\n",
      "                            'that purpose, and her grandparents twice as much '\n",
      "                            'as her parents. How much more money does Betty '\n",
      "                            'need to buy the wallet?'},\n",
      "        outputs={'answer': '5'},\n",
      "        original_object=None),\n",
      " LMDemo(inputs={'question': 'Julie is reading a 120-page book. Yesterday, she '\n",
      "                            'was able to read 12 pages and today, she read '\n",
      "                            'twice as many pages as yesterday. If she wants to '\n",
      "                            'read half of the remaining pages tomorrow, how '\n",
      "                            'many pages should she read?'},\n",
      "        outputs={'answer': '48'},\n",
      "        original_object=None),\n",
      " LMDemo(inputs={'question': 'James writes a 3-page letter to 2 different '\n",
      "                            'friends twice a week.  How many pages does he '\n",
      "                            'write a year?'},\n",
      "        outputs={'answer': '624'},\n",
      "        original_object=None)]\n"
     ]
    }
   ],
   "source": [
    "from pprint import pprint\n",
    "\n",
    "pprint(function_traces[\"openai_json_response_2\"][\"args\"][\"request\"].zenbase.task_demos)\n"
   ]
  },
  {
   "cell_type": "code",
   "outputs": [
    {
     "name": "stdout",
     "output_type": "stream",
     "text": [
      "[LMDemo(inputs={'question': 'Natalia sold clips to 48 of her friends in April, '\n",
      "                            'and then she sold half as many clips in May. How '\n",
      "                            'many clips did Natalia sell altogether in April '\n",
      "                            'and May?'},\n",
      "        outputs={'answer': '72'},\n",
      "        original_object=None),\n",
      " LMDemo(inputs={'question': 'Weng earns $12 an hour for babysitting. '\n",
      "                            'Yesterday, she just did 50 minutes of '\n",
      "                            'babysitting. How much did she earn?'},\n",
      "        outputs={'answer': 'She earns $12/60 = $0.2 per minute.\\n'\n",
      "                           'Therefore, she earned $0.2*50 = $<<0.2*50=10>>10 '\n",
      "                           'for 50 minutes of babysitting.\\n'\n",
      "                           '#### 10'},\n",
      "        original_object=None),\n",
      " LMDemo(inputs={'question': 'Betty is saving money for a new wallet which '\n",
      "                            'costs $100. Betty has only half of the money she '\n",
      "                            'needs. Her parents decided to give her $15 for '\n",
      "                            'that purpose, and her grandparents twice as much '\n",
      "                            'as her parents. How much more money does Betty '\n",
      "                            'need to buy the wallet?'},\n",
      "        outputs={'answer': 'Betty has 100/2=<<100/2=50>>50 dollars.\\n'\n",
      "                           'Her grandparents give her 15*2=<<15*2=30>>30 '\n",
      "                           'dollars.\\n'\n",
      "                           'In total, Betty has 50+15+30=<<50+15+30=95>>95 '\n",
      "                           'dollars.\\n'\n",
      "                           'Betty still needs 100-95=<<100-95=5>>5 dollars to '\n",
      "                           'buy the wallet.\\n'\n",
      "                           '#### 5'},\n",
      "        original_object=None),\n",
      " LMDemo(inputs={'question': 'Julie is reading a 120-page book. Yesterday, she '\n",
      "                            'was able to read 12 pages and today, she read '\n",
      "                            'twice as many pages as yesterday. If she wants to '\n",
      "                            'read half of the remaining pages tomorrow, how '\n",
      "                            'many pages should she read?'},\n",
      "        outputs={'answer': 'Julie read 12*2=<<12*2=24>>24 pages today\\n'\n",
      "                           'She has read a total of 12+24=<<12+24=36>>36 '\n",
      "                           'pages\\n'\n",
      "                           'She has 120-36=<<120-36=84>>84 pages remaining\\n'\n",
      "                           'She wants to read 84/2=<<84/2=42>>42 pages '\n",
      "                           'tomorrow\\n'\n",
      "                           '#### 42'},\n",
      "        original_object=None),\n",
      " LMDemo(inputs={'question': 'James writes a 3-page letter to 2 different '\n",
      "                            'friends twice a week.  How many pages does he '\n",
      "                            'write a year?'},\n",
      "        outputs={'answer': '624'},\n",
      "        original_object=None)]\n"
     ]
    }
   ],
   "source": [
    "from pprint import pprint\n",
    "\n",
    "pprint(function_traces[\"openai_json_response\"][\"args\"][\"request\"].zenbase.task_demos)"
   ],
   "metadata": {
    "collapsed": false,
    "ExecuteTime": {
     "end_time": "2024-07-05T01:26:02.439681Z",
     "start_time": "2024-07-05T01:26:02.435696Z"
    }
   },
   "id": "fc02d3eb7132f76d",
   "execution_count": 17
  },
  {
   "cell_type": "code",
   "execution_count": 18,
   "id": "622d32eb538487a4",
   "metadata": {
    "ExecuteTime": {
     "end_time": "2024-07-05T01:26:03.440747Z",
     "start_time": "2024-07-05T01:26:03.435319Z"
    }
   },
   "outputs": [],
   "source": [
    "bootstrap_few_shot.save_optimizer_args(\"bootstrap_few_shot_args.zenbase\")\n",
    "\n",
    "optimized_function = bootstrap_few_shot.load_optimizer_and_function(\"bootstrap_few_shot_args.zenbase\", openai_json_response, trace_manager)"
   ]
  },
  {
   "cell_type": "code",
   "execution_count": 20,
   "id": "62d795c9",
   "metadata": {
    "ExecuteTime": {
     "end_time": "2024-07-05T01:26:14.633912Z",
     "start_time": "2024-07-05T01:26:13.520147Z"
    }
   },
   "outputs": [
    {
     "name": "stdout",
     "output_type": "stream",
     "text": [
      "[LMDemo(inputs={'question': 'Natalia sold clips to 48 of her friends in April, '\n",
      "                            'and then she sold half as many clips in May. How '\n",
      "                            'many clips did Natalia sell altogether in April '\n",
      "                            'and May?'},\n",
      "        outputs={'answer': '72'},\n",
      "        original_object=None),\n",
      " LMDemo(inputs={'question': 'Weng earns $12 an hour for babysitting. '\n",
      "                            'Yesterday, she just did 50 minutes of '\n",
      "                            'babysitting. How much did she earn?'},\n",
      "        outputs={'answer': 'She earns $12/60 = $0.2 per minute.\\n'\n",
      "                           'Therefore, she earned $0.2*50 = $<<0.2*50=10>>10 '\n",
      "                           'for 50 minutes of babysitting.\\n'\n",
      "                           '#### 10'},\n",
      "        original_object=None),\n",
      " LMDemo(inputs={'question': 'Betty is saving money for a new wallet which '\n",
      "                            'costs $100. Betty has only half of the money she '\n",
      "                            'needs. Her parents decided to give her $15 for '\n",
      "                            'that purpose, and her grandparents twice as much '\n",
      "                            'as her parents. How much more money does Betty '\n",
      "                            'need to buy the wallet?'},\n",
      "        outputs={'answer': 'Betty has 100/2=<<100/2=50>>50 dollars.\\n'\n",
      "                           'Her grandparents give her 15*2=<<15*2=30>>30 '\n",
      "                           'dollars.\\n'\n",
      "                           'In total, Betty has 50+15+30=<<50+15+30=95>>95 '\n",
      "                           'dollars.\\n'\n",
      "                           'Betty still needs 100-95=<<100-95=5>>5 dollars to '\n",
      "                           'buy the wallet.\\n'\n",
      "                           '#### 5'},\n",
      "        original_object=None),\n",
      " LMDemo(inputs={'question': 'Julie is reading a 120-page book. Yesterday, she '\n",
      "                            'was able to read 12 pages and today, she read '\n",
      "                            'twice as many pages as yesterday. If she wants to '\n",
      "                            'read half of the remaining pages tomorrow, how '\n",
      "                            'many pages should she read?'},\n",
      "        outputs={'answer': 'Julie read 12*2=<<12*2=24>>24 pages today\\n'\n",
      "                           'She has read a total of 12+24=<<12+24=36>>36 '\n",
      "                           'pages\\n'\n",
      "                           'She has 120-36=<<120-36=84>>84 pages remaining\\n'\n",
      "                           'She wants to read 84/2=<<84/2=42>>42 pages '\n",
      "                           'tomorrow\\n'\n",
      "                           '#### 42'},\n",
      "        original_object=None),\n",
      " LMDemo(inputs={'question': 'James writes a 3-page letter to 2 different '\n",
      "                            'friends twice a week.  How many pages does he '\n",
      "                            'write a year?'},\n",
      "        outputs={'answer': '624'},\n",
      "        original_object=None)]\n",
      "[LMDemo(inputs={'question': 'Natalia sold clips to 48 of her friends in April, '\n",
      "                            'and then she sold half as many clips in May. How '\n",
      "                            'many clips did Natalia sell altogether in April '\n",
      "                            'and May?'},\n",
      "        outputs={'answer': '72'},\n",
      "        original_object=None),\n",
      " LMDemo(inputs={'question': 'Weng earns $12 an hour for babysitting. '\n",
      "                            'Yesterday, she just did 50 minutes of '\n",
      "                            'babysitting. How much did she earn?'},\n",
      "        outputs={'answer': '12'},\n",
      "        original_object=None),\n",
      " LMDemo(inputs={'question': 'Betty is saving money for a new wallet which '\n",
      "                            'costs $100. Betty has only half of the money she '\n",
      "                            'needs. Her parents decided to give her $15 for '\n",
      "                            'that purpose, and her grandparents twice as much '\n",
      "                            'as her parents. How much more money does Betty '\n",
      "                            'need to buy the wallet?'},\n",
      "        outputs={'answer': '5'},\n",
      "        original_object=None),\n",
      " LMDemo(inputs={'question': 'Julie is reading a 120-page book. Yesterday, she '\n",
      "                            'was able to read 12 pages and today, she read '\n",
      "                            'twice as many pages as yesterday. If she wants to '\n",
      "                            'read half of the remaining pages tomorrow, how '\n",
      "                            'many pages should she read?'},\n",
      "        outputs={'answer': '48'},\n",
      "        original_object=None),\n",
      " LMDemo(inputs={'question': 'James writes a 3-page letter to 2 different '\n",
      "                            'friends twice a week.  How many pages does he '\n",
      "                            'write a year?'},\n",
      "        outputs={'answer': '624'},\n",
      "        original_object=None)]\n"
     ]
    }
   ],
   "source": [
    "trace_manager.all_traces = {}\n",
    "teacher_lm.best_function({\"question\": \"If I have 30% of shares, and Mo has 24.5% of shares, how many of our 10M shares are unassigned?\"})\n",
    "function_traces = [v for k, v in trace_manager.all_traces.items()][0][\"optimized\"]\n",
    "from pprint import pprint\n",
    "\n",
    "pprint(function_traces[\"openai_json_response\"][\"args\"][\"request\"].zenbase.task_demos)\n",
    "pprint(function_traces[\"openai_json_response_2\"][\"args\"][\"request\"].zenbase.task_demos)\n"
   ]
  }
 ],
 "metadata": {
  "kernelspec": {
   "display_name": "Python 3",
   "language": "python",
   "name": "python3"
  },
  "language_info": {
   "codemirror_mode": {
    "name": "ipython",
    "version": 3
   },
   "file_extension": ".py",
   "mimetype": "text/x-python",
   "name": "python",
   "nbconvert_exporter": "python",
   "pygments_lexer": "ipython3",
   "version": "3.10.13"
  }
 },
 "nbformat": 4,
 "nbformat_minor": 5
}
