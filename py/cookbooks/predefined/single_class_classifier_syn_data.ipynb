{
 "cells": [
  {
   "cell_type": "markdown",
   "metadata": {},
   "source": [
    "# Using SingleClassClassifierSyntheticDataGenerator\n",
    "\n",
    "This notebook demonstrates how to use the `SingleClassClassifierSyntheticDataGenerator` to create synthetic datasets for single-class classification tasks."
   ]
  },
  {
   "metadata": {},
   "cell_type": "markdown",
   "source": "### Import the Zenbase Library"
  },
  {
   "metadata": {
    "ExecuteTime": {
     "end_time": "2024-07-24T23:59:15.167146Z",
     "start_time": "2024-07-24T23:59:15.160990Z"
    }
   },
   "cell_type": "code",
   "source": [
    "import sys\n",
    "import subprocess\n",
    "\n",
    "def install_package(package):\n",
    "    try:\n",
    "        subprocess.check_call([sys.executable, \"-m\", \"pip\", \"install\", package])\n",
    "    except subprocess.CalledProcessError as e:\n",
    "        print(f\"Failed to install {package}: {e}\")\n",
    "        raise\n",
    "\n",
    "def install_packages(packages):\n",
    "    for package in packages:\n",
    "        install_package(package)\n",
    "\n",
    "try:\n",
    "    # Check if running in Google Colab\n",
    "    import google.colab\n",
    "    IN_COLAB = True\n",
    "except ImportError:\n",
    "    IN_COLAB = False\n",
    "\n",
    "if IN_COLAB:\n",
    "    # Install the zenbase package if running in Google Colab\n",
    "    # install_package('zenbase')\n",
    "    # Install the zenbse package from a GitHub branch if running in Google Colab\n",
    "    install_package('git+https://github.com/zenbase-ai/lib.git@main#egg=zenbase&subdirectory=py')\n",
    "\n",
    "    # List of other packages to install in Google Colab\n",
    "    additional_packages = [\n",
    "        'python-dotenv',\n",
    "        'openai',\n",
    "        'langchain',\n",
    "        'langchain_openai',\n",
    "        'instructor',\n",
    "        'matplotlib',\n",
    "    ]\n",
    "\n",
    "    # Install additional packages\n",
    "    install_packages(additional_packages)\n",
    "\n",
    "# Now import the zenbase library\n",
    "try:\n",
    "    import zenbase\n",
    "except ImportError as e:\n",
    "    print(\"Failed to import zenbase: \", e)\n",
    "    raise"
   ],
   "outputs": [],
   "execution_count": 1
  },
  {
   "metadata": {
    "ExecuteTime": {
     "end_time": "2024-07-24T23:59:15.174757Z",
     "start_time": "2024-07-24T23:59:15.168165Z"
    }
   },
   "cell_type": "code",
   "source": [
    "### Configure the Environment\n",
    "from pathlib import Path\n",
    "from dotenv import load_dotenv\n",
    "\n",
    "# import os\n",
    "#\n",
    "# os.environ[\"OPENAI_API_KEY\"] = \"...\"\n",
    "\n",
    "load_dotenv(Path(\"../../.env.test\"), override=True)"
   ],
   "outputs": [
    {
     "data": {
      "text/plain": [
       "True"
      ]
     },
     "execution_count": 2,
     "metadata": {},
     "output_type": "execute_result"
    }
   ],
   "execution_count": 2
  },
  {
   "cell_type": "code",
   "metadata": {
    "ExecuteTime": {
     "end_time": "2024-07-24T23:59:16.125295Z",
     "start_time": "2024-07-24T23:59:15.864936Z"
    }
   },
   "source": [
    "# Import necessary libraries\n",
    "import instructor\n",
    "from openai import OpenAI\n",
    "from zenbase.predefined.syntethic_data.single_class_classifier import SingleClassClassifierSyntheticDataGenerator"
   ],
   "outputs": [],
   "execution_count": 3
  },
  {
   "cell_type": "markdown",
   "metadata": {},
   "source": [
    "## Step 1: Set up the OpenAI client and Instructor"
   ]
  },
  {
   "cell_type": "code",
   "metadata": {
    "ExecuteTime": {
     "end_time": "2024-07-24T23:59:21.835605Z",
     "start_time": "2024-07-24T23:59:21.802693Z"
    }
   },
   "source": [
    "# Initialize the OpenAI client\n",
    "openai_client = OpenAI()\n",
    "\n",
    "# Initialize the Instructor client\n",
    "instructor_client = instructor.from_openai(openai_client)"
   ],
   "outputs": [],
   "execution_count": 4
  },
  {
   "cell_type": "markdown",
   "metadata": {},
   "source": [
    "## Step 2: Define the classification task"
   ]
  },
  {
   "cell_type": "code",
   "metadata": {
    "ExecuteTime": {
     "end_time": "2024-07-24T23:59:26.623277Z",
     "start_time": "2024-07-24T23:59:26.619545Z"
    }
   },
   "source": [
    "# Define the prompt for the classification task\n",
    "prompt_definition = \"\"\"Your task is to accurately categorize each incoming news article into one of the given categories based on its title and content.\"\"\"\n",
    "\n",
    "# Define the class dictionary\n",
    "class_dict = {\n",
    "    \"Automobiles\": \"Discussions and news about automobiles, including car maintenance, driving experiences, and the latest automotive technology.\",\n",
    "    \"Computers\": \"Topics related to computer hardware, software, graphics, cryptography, and operating systems, including troubleshooting and advancements.\",\n",
    "    \"Science\": \"News and discussions about scientific topics including space exploration, medicine, and electronics.\",\n",
    "    \"Politics\": \"Debates and news about political topics, including gun control, Middle Eastern politics, and miscellaneous political discussions.\",\n",
    "}"
   ],
   "outputs": [],
   "execution_count": 5
  },
  {
   "cell_type": "markdown",
   "metadata": {},
   "source": [
    "## Step 3: Create the SingleClassClassifierSyntheticDataGenerator"
   ]
  },
  {
   "cell_type": "code",
   "metadata": {
    "ExecuteTime": {
     "end_time": "2024-07-24T23:59:30.804831Z",
     "start_time": "2024-07-24T23:59:30.801381Z"
    }
   },
   "source": [
    "# Create the generator\n",
    "generator = SingleClassClassifierSyntheticDataGenerator(\n",
    "    instructor_client=instructor_client,\n",
    "    prompt=prompt_definition,\n",
    "    class_dict=class_dict,\n",
    "    model=\"gpt-4o-mini\"\n",
    ")"
   ],
   "outputs": [],
   "execution_count": 6
  },
  {
   "cell_type": "markdown",
   "metadata": {},
   "source": [
    "## Step 4: Generate synthetic data"
   ]
  },
  {
   "cell_type": "code",
   "metadata": {
    "ExecuteTime": {
     "end_time": "2024-07-24T23:59:50.371400Z",
     "start_time": "2024-07-24T23:59:33.654611Z"
    }
   },
   "source": [
    "# Generate examples\n",
    "examples_per_category = 5\n",
    "examples = generator.generate_examples(examples_per_category)\n",
    "\n",
    "# Display the first few examples\n",
    "print(f\"Generated {len(examples)} examples in total.\\n\")\n",
    "for i, example in enumerate(examples[:10]):\n",
    "    print(f\"Example {i+1}:\")\n",
    "    print(f\"Input: {example.inputs}\")\n",
    "    print(f\"Output: {example.outputs}\\n\")"
   ],
   "outputs": [
    {
     "name": "stdout",
     "output_type": "stream",
     "text": [
      "Generated 20 examples in total.\n",
      "\n",
      "Example 1:\n",
      "Input: With the rise of electric vehicles, many car manufacturers are racing to develop new battery technologies that allow for faster charging and longer ranges. Tesla and Rivian are leading the charge, but traditional companies like Ford and General Motors are also making significant investments in this area. What are the implications of these advancements?\n",
      "Output: Automobiles\n",
      "\n",
      "Example 2:\n",
      "Input: Today, I took my brand new sedan for a drive along the coastal highway. The smooth acceleration and responsive steering made for an exhilarating experience. I can't wait to take it on a road trip this weekend!\n",
      "Output: Automobiles\n",
      "\n",
      "Example 3:\n",
      "Input: Maintaining your vehicle is crucial for its longevity. Regular oil changes, brake inspections, and tire rotations are essential. Many drivers often neglect these services, but they can save you significant money in the long run. Here are some tips to keep your car in top shape throughout the years.\n",
      "Output: Automobiles\n",
      "\n",
      "Example 4:\n",
      "Input: The latest innovations in automotive technology are impressive. From advanced driver-assistance systems to autonomous driving features, the future of driving looks incredible. I recently read about a new car that can parallel park itself. It’s amazing how far we’ve come in just a few years.\n",
      "Output: Automobiles\n",
      "\n",
      "Example 5:\n",
      "Input: There's been a lot of buzz lately about the impact of ride-sharing services on car ownership. Are we moving towards a future where fewer people own cars? It's an interesting shift, especially considering how many new models were launched this year that prioritize connectivity and smart features for urban living.\n",
      "Output: Automobiles\n",
      "\n",
      "Example 6:\n",
      "Input: The latest update to Windows 10 introduces several new features aimed at enhancing user experience. From an overhauled task manager to improved security protocols, the upgrade is highly recommended for all users looking to optimize their workflow.\n",
      "Output: Computers\n",
      "\n",
      "Example 7:\n",
      "Input: NVIDIA has just released its new line of graphics cards that promise to deliver unprecedented performance for gamers. With ray tracing capabilities and support for the latest gaming technologies, these cards aim to set a new standard in the industry.\n",
      "Output: Computers\n",
      "\n",
      "Example 8:\n",
      "Input: In the realm of cybersecurity, the importance of cryptography cannot be overstated. With new threats emerging daily, understanding public and private key systems is essential for protecting sensitive data.\n",
      "Output: Computers\n",
      "\n",
      "Example 9:\n",
      "Input: Apple has unveiled its newest M1 chip, boasting significant improvements in processing speed and energy efficiency. This advancement is expected to revolutionize the performance of their laptops and desktops.\n",
      "Output: Computers\n",
      "\n",
      "Example 10:\n",
      "Input: Have you ever faced a blue screen error on your computer? This article discusses common troubleshooting steps, highlighting the importance of keeping drivers updated and performing regular maintenance.\n",
      "Output: Computers\n",
      "\n"
     ]
    }
   ],
   "execution_count": 7
  },
  {
   "cell_type": "markdown",
   "metadata": {},
   "source": [
    "## Step 5: Generate and save CSV"
   ]
  },
  {
   "cell_type": "code",
   "metadata": {
    "jupyter": {
     "is_executing": true
    },
    "ExecuteTime": {
     "start_time": "2024-07-25T00:00:25.592602Z"
    }
   },
   "source": [
    "# Generate CSV content\n",
    "csv_content = generator.generate_csv(examples_per_category)\n",
    "\n",
    "# Display the first few lines of the CSV content\n",
    "print(\"First few lines of the generated CSV:\")\n",
    "print(\"\\n\".join(csv_content.split(\"\\n\")[:6]))\n",
    "\n",
    "# Save the CSV to a file\n",
    "filename = \"synthetic_dataset.csv\"\n",
    "generator.save_csv(filename, examples_per_category)\n",
    "print(f\"\\nCSV file saved as: {filename}\")"
   ],
   "outputs": [
    {
     "name": "stdout",
     "output_type": "stream",
     "text": [
      "First few lines of the generated CSV:\n",
      "inputs,outputs\r\n",
      "\"The latest electric cars are making waves in the auto industry! With advancements in battery technology, manufacturers are now able to produce vehicles with longer ranges and faster charging times. Brands like Tesla and Rivian are leading the charge, but traditional automakers are stepping up their game too. Have you experienced the thrill of driving an electric vehicle yet?\",Automobiles\r\n",
      "\"Regular maintenance is crucial for your car's longevity. From changing the oil to checking tire pressure, these small tasks can keep your vehicle running smoothly. This weekend, I plan to give my car a thorough check-up and even polish it for that showroom shine!\",Automobiles\r\n",
      "\"I recently took a road trip across the country, and my new SUV made the journey so much more enjoyable. The advanced GPS system helped me navigate through unfamiliar roads, and the spacious interior provided comfort for my family. What features do you look for in a family vehicle?\",Automobiles\r\n",
      "Have you heard about the latest advancements in autonomous driving? New technologies are emerging that allow cars to communicate with each other to enhance safety and efficiency on the roads. It’s exciting to think about the future of driving and how these innovations will change our commuting experience.,Automobiles\r\n",
      "\"Car enthusiasts gathered at the annual auto show this week to unveil some stunning new models. From sleek sports cars to rugged off-road vehicles, there was something for every type of driver. It's interesting to see how automotive design is evolving alongside sustainability trends.\",Automobiles\r\n"
     ]
    }
   ],
   "execution_count": null
  },
  {
   "cell_type": "markdown",
   "metadata": {},
   "source": [
    "## Step 6: Analyze the generated dataset"
   ]
  },
  {
   "cell_type": "code",
   "execution_count": null,
   "metadata": {},
   "outputs": [],
   "source": [
    "import pandas as pd\n",
    "import matplotlib.pyplot as plt\n",
    "\n",
    "# Read the CSV file\n",
    "df = pd.read_csv(filename)\n",
    "\n",
    "# Display basic statistics\n",
    "print(\"Dataset statistics:\")\n",
    "print(df['outputs'].value_counts())\n",
    "\n",
    "# Visualize the distribution of categories\n",
    "plt.figure(figsize=(10, 6))\n",
    "df['outputs'].value_counts().plot(kind='bar')\n",
    "plt.title('Distribution of Categories in the Synthetic Dataset')\n",
    "plt.xlabel('Category')\n",
    "plt.ylabel('Count')\n",
    "plt.xticks(rotation=45)\n",
    "plt.tight_layout()\n",
    "plt.show()"
   ]
  },
  {
   "cell_type": "markdown",
   "metadata": {},
   "source": [
    "## Conclusion\n",
    "\n",
    "This notebook demonstrated how to use the `SingleClassClassifierSyntheticDataGenerator` to create a synthetic dataset for a single-class classification task. We covered the process of setting up the generator, creating examples, saving them to a CSV file, and performing a basic analysis of the generated data.\n",
    "\n",
    "You can now use this synthetic dataset for various purposes, such as:\n",
    "- Training and evaluating machine learning models\n",
    "- Testing data processing pipelines\n",
    "- Exploring different classification algorithms\n",
    "\n",
    "Remember to adjust the `examples_per_category` parameter and the `class_dict` to suit your specific needs and to generate larger datasets if required."
   ]
  }
 ],
 "metadata": {
  "kernelspec": {
   "display_name": "Python 3",
   "language": "python",
   "name": "python3"
  },
  "language_info": {
   "codemirror_mode": {
    "name": "ipython",
    "version": 3
   },
   "file_extension": ".py",
   "mimetype": "text/x-python",
   "name": "python",
   "nbconvert_exporter": "python",
   "pygments_lexer": "ipython3",
   "version": "3.8.0"
  }
 },
 "nbformat": 4,
 "nbformat_minor": 4
}
