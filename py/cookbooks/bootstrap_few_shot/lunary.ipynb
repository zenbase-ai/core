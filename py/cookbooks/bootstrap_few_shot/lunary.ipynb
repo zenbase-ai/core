{
 "cells": [
  {
   "cell_type": "markdown",
   "source": [
    "# Import the Zenbase Library"
   ],
   "metadata": {
    "collapsed": false
   }
  },
  {
   "cell_type": "code",
   "outputs": [],
   "source": [
    "import sys\n",
    "import subprocess\n",
    "\n",
    "def install_package(package):\n",
    "    try:\n",
    "        subprocess.check_call([sys.executable, \"-m\", \"pip\", \"install\", package])\n",
    "    except subprocess.CalledProcessError as e:\n",
    "        print(f\"Failed to install {package}: {e}\")\n",
    "        raise\n",
    "\n",
    "def install_packages(packages):\n",
    "    for package in packages:\n",
    "        install_package(package)\n",
    "\n",
    "try:\n",
    "    # Check if running in Google Colab\n",
    "    import google.colab\n",
    "    IN_COLAB = True\n",
    "except ImportError:\n",
    "    IN_COLAB = False\n",
    "\n",
    "if IN_COLAB:\n",
    "    # Install the zenbase package if running in Google Colab\n",
    "    # install_package('zenbase')\n",
    "    # Install the zenbse package from a GitHub branch if running in Google Colab\n",
    "    install_package('git+https://github.com/zenbase-ai/lib.git@main#egg=zenbase&subdirectory=py')\n",
    "\n",
    "    # List of other packages to install in Google Colab\n",
    "    additional_packages = [\n",
    "        'python-dotenv',\n",
    "        'lunary',\n",
    "        'openai',\n",
    "        'langchain',\n",
    "        'langchain_openai'\n",
    "    ]\n",
    "    \n",
    "    # Install additional packages\n",
    "    install_packages(additional_packages)\n",
    "\n",
    "# Now import the zenbase library\n",
    "try:\n",
    "    import zenbase\n",
    "except ImportError as e:\n",
    "    print(\"Failed to import zenbase: \", e)\n",
    "    raise"
   ],
   "metadata": {
    "collapsed": false,
    "ExecuteTime": {
     "end_time": "2024-07-10T01:50:55.395178Z",
     "start_time": "2024-07-10T01:50:55.384148Z"
    }
   },
   "execution_count": 1
  },
  {
   "cell_type": "markdown",
   "source": [
    "# Configure the Environment"
   ],
   "metadata": {
    "collapsed": false
   }
  },
  {
   "cell_type": "code",
   "execution_count": 2,
   "metadata": {
    "ExecuteTime": {
     "end_time": "2024-07-10T01:50:56.705432Z",
     "start_time": "2024-07-10T01:50:56.692023Z"
    }
   },
   "outputs": [
    {
     "data": {
      "text/plain": "True"
     },
     "execution_count": 2,
     "metadata": {},
     "output_type": "execute_result"
    }
   ],
   "source": [
    "from pathlib import Path\n",
    "from dotenv import load_dotenv\n",
    "\n",
    "# import os\n",
    "#\n",
    "# os.environ[\"OPENAI_API_KEY\"] = \"...\"\n",
    "# os.environ[\"LUNARY_PUBLIC_KEY\"] = \"...\"\n",
    "\n",
    "load_dotenv(Path(\"../../.env.test\"), override=True)"
   ]
  },
  {
   "cell_type": "code",
   "execution_count": 3,
   "metadata": {
    "ExecuteTime": {
     "end_time": "2024-07-10T01:50:58.717919Z",
     "start_time": "2024-07-10T01:50:58.712957Z"
    }
   },
   "outputs": [],
   "source": [
    "import nest_asyncio\n",
    "\n",
    "nest_asyncio.apply()"
   ]
  },
  {
   "cell_type": "markdown",
   "source": [
    "# Initial Setup"
   ],
   "metadata": {
    "collapsed": false
   }
  },
  {
   "cell_type": "code",
   "execution_count": 4,
   "metadata": {
    "ExecuteTime": {
     "end_time": "2024-07-05T19:46:42.718434Z",
     "start_time": "2024-07-05T19:46:39.632950Z"
    }
   },
   "outputs": [],
   "source": [
    "from openai import OpenAI\n",
    "import lunary\n",
    "\n",
    "openai = OpenAI()\n",
    "lunary.monitor(openai)"
   ]
  },
  {
   "cell_type": "markdown",
   "source": [
    "# Now, you probably already have some LLM code."
   ],
   "metadata": {
    "collapsed": false
   }
  },
  {
   "cell_type": "markdown",
   "source": [
    "It could use the OpenAI SDK, LangChain, or anything really. But it looks something like this:"
   ],
   "metadata": {
    "collapsed": false
   }
  },
  {
   "cell_type": "code",
   "outputs": [],
   "source": [
    "import openai\n",
    "from typing import Dict\n",
    "\n",
    "def solver(inputs: str) -> str:\n",
    "    messages = [\n",
    "        {\n",
    "            \"role\": \"system\",\n",
    "            \"content\": \"You are an expert math solver. Provide the numerical answer to the given question based on the provided plan and operation. Return only the number as a JSON object in the format: {\\\"answer\\\": \\\"<number>\\\"}\"\n",
    "        }\n",
    "    ]\n",
    "\n",
    "    plan = planner_chain(inputs)\n",
    "    operation = operation_finder({\"plan\": plan[\"plan\"], \"question\": inputs})\n",
    "\n",
    "    messages.extend([\n",
    "        {\"role\": \"user\", \"content\": f\"Question: {inputs}\"},\n",
    "        {\"role\": \"user\", \"content\": f\"Plan: {plan['plan']}\"},\n",
    "        {\"role\": \"user\", \"content\": f\"Mathematical Operation needed: {operation['operation']}\"},\n",
    "        {\"role\": \"user\", \"content\": \"Provide only the numerical answer.\"}\n",
    "    ])\n",
    "\n",
    "    response = openai.chat.completions.create(\n",
    "        model=\"gpt-3.5-turbo\",\n",
    "        messages=messages,\n",
    "        response_format={\"type\": \"json_object\"},\n",
    "    )\n",
    "\n",
    "    answer = json.loads(response.choices[0].message.content)\n",
    "    return answer[\"answer\"]\n",
    "\n",
    "def planner_chain(inputs: str) -> Dict[str, str]:\n",
    "    messages = [\n",
    "        {\n",
    "            \"role\": \"system\",\n",
    "            \"content\": \"You are an expert math solver. Create a step-by-step plan to solve the given question. Return the plan as a JSON object in the format: {\\\"plan\\\": \\\"<step-by-step plan>\\\"}\"\n",
    "        },\n",
    "        {\"role\": \"user\", \"content\": inputs}\n",
    "    ]\n",
    "\n",
    "    response = openai.chat.completions.create(\n",
    "        model=\"gpt-3.5-turbo\",\n",
    "        messages=messages,\n",
    "        response_format={\"type\": \"json_object\"},\n",
    "    )\n",
    "\n",
    "    return json.loads(response.choices[0].message.content)\n",
    "\n",
    "def operation_finder(inputs: Dict[str, str]) -> Dict[str, str]:\n",
    "    messages = [\n",
    "        {\n",
    "            \"role\": \"system\",\n",
    "            \"content\": \"You are an expert math solver. Identify the primary mathematical operation needed to solve the problem based on the given plan. Use simple operations like addition, subtraction, multiplication, or division. Return the operation as a JSON object in the format: {\\\"operation\\\": \\\"<operation>\\\"}\"\n",
    "        },\n",
    "        {\"role\": \"user\", \"content\": f\"Question: {inputs['question']}\"},\n",
    "        {\"role\": \"user\", \"content\": f\"Plan: {inputs['plan']}\"}\n",
    "    ]\n",
    "\n",
    "    response = openai.chat.completions.create(\n",
    "        model=\"gpt-3.5-turbo\",\n",
    "        messages=messages,\n",
    "        response_format={\"type\": \"json_object\"},\n",
    "    )\n",
    "\n",
    "    return json.loads(response.choices[0].message.content)"
   ],
   "metadata": {
    "collapsed": false,
    "ExecuteTime": {
     "end_time": "2024-07-10T01:53:57.237205Z",
     "start_time": "2024-07-10T01:53:57.224949Z"
    }
   },
   "execution_count": 6
  },
  {
   "cell_type": "markdown",
   "source": [
    "Test the function to see if that works:"
   ],
   "metadata": {
    "collapsed": false
   }
  },
  {
   "cell_type": "code",
   "outputs": [
    {
     "data": {
      "text/plain": "'4'"
     },
     "execution_count": 7,
     "metadata": {},
     "output_type": "execute_result"
    }
   ],
   "source": [
    "solver(\"What is 2 + 2?\")"
   ],
   "metadata": {
    "collapsed": false,
    "ExecuteTime": {
     "end_time": "2024-07-10T01:53:59.745319Z",
     "start_time": "2024-07-10T01:53:57.580432Z"
    }
   },
   "execution_count": 7
  },
  {
   "cell_type": "markdown",
   "source": [
    "## Then you're probably evaluating like this"
   ],
   "metadata": {
    "collapsed": false
   }
  },
  {
   "cell_type": "code",
   "outputs": [
    {
     "name": "stdout",
     "output_type": "stream",
     "text": [
      "Average score 0.8\n"
     ]
    }
   ],
   "source": [
    "import lunary \n",
    "evalset = lunary.get_dataset(\"gsm8k-evalset\")\n",
    "\n",
    "scores = []\n",
    "for item in evalset:\n",
    "    answer = solver(item.input)\n",
    "    passed, results = lunary.evaluate(\n",
    "        \"exact-match\",\n",
    "        input=item.input,\n",
    "        output=answer,\n",
    "        ideal_output=item.ideal_output.split(\"#### \")[-1],\n",
    "    )\n",
    "    scores.append(int(passed))\n",
    "\n",
    "print(\"Average score\", sum(scores) / len(scores))"
   ],
   "metadata": {
    "collapsed": false,
    "ExecuteTime": {
     "end_time": "2024-07-10T01:55:07.810498Z",
     "start_time": "2024-07-10T01:54:48.013226Z"
    }
   },
   "execution_count": 9
  },
  {
   "cell_type": "markdown",
   "source": [
    " # Now, how can we optimize this score?"
   ],
   "metadata": {
    "collapsed": false
   }
  },
  {
   "cell_type": "markdown",
   "source": [
    "## First, initialize the Zenbase ZenbaseTracer and ZenLunary objects"
   ],
   "metadata": {
    "collapsed": false
   }
  },
  {
   "cell_type": "code",
   "outputs": [],
   "source": [
    "from zenbase.core.managers import ZenbaseTracer\n",
    "from zenbase.adaptors.lunary import ZenLunary\n",
    "\n",
    "zenbase_tracer = ZenbaseTracer()\n",
    "lunary_adaptor = ZenLunary(client=lunary)"
   ],
   "metadata": {
    "collapsed": false,
    "ExecuteTime": {
     "end_time": "2024-07-10T02:04:07.534928Z",
     "start_time": "2024-07-10T02:04:07.529102Z"
    }
   },
   "execution_count": 25
  },
  {
   "cell_type": "code",
   "execution_count": 26,
   "metadata": {
    "ExecuteTime": {
     "end_time": "2024-07-10T02:04:08.260379Z",
     "start_time": "2024-07-10T02:04:08.246498Z"
    }
   },
   "outputs": [],
   "source": [
    "import json\n",
    "from typing import Dict, Any\n",
    "from zenbase.types import LMRequest\n",
    "import openai\n",
    "\n",
    "@zenbase_tracer\n",
    "def solver(request: LMRequest) -> str:\n",
    "    system_message = {\n",
    "        \"role\": \"system\",\n",
    "        \"content\": (\n",
    "            \"You are an expert math solver. Analyze the given question, follow the provided step-by-step plan, \"\n",
    "            \"and perform the specified mathematical operation. Your response should be a single number representing \"\n",
    "            \"the final answer. Format your response as a JSON object: {\\\"answer\\\": \\\"[numerical result]\\\"}\"\n",
    "        )\n",
    "    }\n",
    "    \n",
    "    messages = [system_message]\n",
    "    \n",
    "    for demo in request.zenbase.task_demos:\n",
    "        messages.extend([\n",
    "            {\"role\": \"user\", \"content\": f\"Example Question: {demo.inputs}\"},\n",
    "            {\"role\": \"assistant\", \"content\": f\"Example Answer: {demo.outputs}\"}\n",
    "        ])\n",
    "\n",
    "    plan = planner_chain(request.inputs)\n",
    "    operation = operation_finder({\"plan\": plan[\"plan\"], \"question\": request.inputs})\n",
    "\n",
    "    messages.extend([\n",
    "        {\"role\": \"user\", \"content\": f\"Question: {request.inputs}\"},\n",
    "        {\"role\": \"user\", \"content\": f\"Plan: {plan['plan']}\"},\n",
    "        {\"role\": \"user\", \"content\": f\"Required Operation: {operation['operation']}\"},\n",
    "        {\"role\": \"user\", \"content\": \"Provide only the numerical answer in the specified JSON format.\"}\n",
    "    ])\n",
    "\n",
    "    response = openai.chat.completions.create(\n",
    "        model=\"gpt-3.5-turbo\",\n",
    "        messages=messages,\n",
    "        response_format={\"type\": \"json_object\"},\n",
    "    )\n",
    "\n",
    "    return json.loads(response.choices[0].message.content)[\"answer\"]\n",
    "\n",
    "@zenbase_tracer\n",
    "def planner_chain(request: LMRequest) -> Dict[str, str]:\n",
    "    system_message = {\n",
    "        \"role\": \"system\",\n",
    "        \"content\": (\n",
    "            \"As an expert math solver, create a detailed step-by-step plan to solve the given problem. \"\n",
    "            \"Your plan should be clear, concise, and easy to follow. \"\n",
    "            \"Format your response as a JSON object: {\\\"plan\\\": \\\"[step-by-step plan]\\\"}\"\n",
    "        )\n",
    "    }\n",
    "    \n",
    "    messages = [system_message]\n",
    "    \n",
    "    if request.zenbase.task_demos:\n",
    "        for demo in request.zenbase.task_demos[:2]:\n",
    "            messages.extend([\n",
    "                {\"role\": \"user\", \"content\": demo.inputs},\n",
    "                {\"role\": \"assistant\", \"content\": demo.outputs[\"plan\"]}\n",
    "            ])\n",
    "    \n",
    "    messages.append({\"role\": \"user\", \"content\": request.inputs})\n",
    "\n",
    "    response = openai.chat.completions.create(\n",
    "        model=\"gpt-3.5-turbo\",\n",
    "        messages=messages,\n",
    "        response_format={\"type\": \"json_object\"},\n",
    "    )\n",
    "\n",
    "    return json.loads(response.choices[0].message.content)\n",
    "\n",
    "@zenbase_tracer\n",
    "def operation_finder(request: LMRequest) -> Dict[str, str]:\n",
    "    system_message = {\n",
    "        \"role\": \"system\",\n",
    "        \"content\": (\n",
    "            \"Based on the given question and solution plan, identify the primary mathematical operation required. \"\n",
    "            \"Focus on basic operations: addition, subtraction, multiplication, or division. \"\n",
    "            \"Format your response as a JSON object: {\\\"operation\\\": \\\"[primary operation]\\\"}\"\n",
    "        )\n",
    "    }\n",
    "    \n",
    "    messages = [system_message]\n",
    "    \n",
    "    if request.zenbase.task_demos:\n",
    "        for demo in request.zenbase.task_demos[:2]:\n",
    "            messages.extend([\n",
    "                {\"role\": \"user\", \"content\": f\"Question: {demo.inputs['question']}\"},\n",
    "                {\"role\": \"user\", \"content\": f\"Plan: {demo.inputs['plan']}\"},\n",
    "                {\"role\": \"assistant\", \"content\": demo.outputs[\"operation\"]}\n",
    "            ])\n",
    "    \n",
    "    messages.extend([\n",
    "        {\"role\": \"user\", \"content\": f\"Question: {request.inputs['question']}\"},\n",
    "        {\"role\": \"user\", \"content\": f\"Plan: {request.inputs['plan']}\"}\n",
    "    ])\n",
    "\n",
    "    response = openai.chat.completions.create(\n",
    "        model=\"gpt-3.5-turbo\",\n",
    "        messages=messages,\n",
    "        response_format={\"type\": \"json_object\"},\n",
    "    )\n",
    "\n",
    "    return json.loads(response.choices[0].message.content)"
   ]
  },
  {
   "cell_type": "markdown",
   "source": [
    "## Now we can optimize!"
   ],
   "metadata": {
    "collapsed": false
   }
  },
  {
   "cell_type": "markdown",
   "source": [
    "### Set up your optimizer:"
   ],
   "metadata": {
    "collapsed": false
   }
  },
  {
   "cell_type": "code",
   "outputs": [],
   "source": [
    "evaluator_kwargs = dict(\n",
    "    checklist=\"exact-match\",\n",
    "    concurrency=2,\n",
    ")\n",
    "\n",
    "# for lunary there is not feature to create dataset with code, so dataset are created\n",
    "# manually with UI, if you want to replicate the test on your own, you should put\n",
    "# GSM8K examples to dataset name like below:\n",
    "TRAIN_SET = \"gsmk8k-train-set\"\n",
    "TEST_SET = \"gsm8k-test-set\"\n",
    "VALIDATION_SET = \"gsm8k-validation-set\"\n",
    "\n",
    "assert lunary_adaptor.fetch_dataset_demos(TRAIN_SET) is not None\n",
    "assert lunary_adaptor.fetch_dataset_demos(TEST_SET) is not None\n",
    "assert lunary_adaptor.fetch_dataset_demos(VALIDATION_SET) is not None\n",
    "\n",
    "SAMPLES = 2\n",
    "SHOTS = 3\n",
    "\n",
    "from zenbase.optim.metric.bootstrap_few_shot import BootstrapFewShot\n",
    "\n",
    "bootstrap_few_shot = BootstrapFewShot(\n",
    "    shots=SHOTS,\n",
    "    training_set=TRAIN_SET,\n",
    "    test_set=TEST_SET,\n",
    "    validation_set=VALIDATION_SET,\n",
    "    evaluator_kwargs=evaluator_kwargs,\n",
    "    zen_adaptor=lunary_adaptor,\n",
    ")"
   ],
   "metadata": {
    "collapsed": false,
    "ExecuteTime": {
     "end_time": "2024-07-10T02:04:12.277612Z",
     "start_time": "2024-07-10T02:04:09.305258Z"
    }
   },
   "execution_count": 27
  },
  {
   "cell_type": "markdown",
   "source": [
    "### Do the optimization"
   ],
   "metadata": {
    "collapsed": false
   }
  },
  {
   "cell_type": "code",
   "execution_count": 28,
   "metadata": {
    "ExecuteTime": {
     "end_time": "2024-07-10T02:05:08.574811Z",
     "start_time": "2024-07-10T02:04:15.265810Z"
    }
   },
   "outputs": [],
   "source": [
    "best_fn, _ = bootstrap_few_shot.perform(\n",
    "    solver,\n",
    "    samples=SAMPLES,\n",
    "    rounds=1,\n",
    "    trace_manager=zenbase_tracer,\n",
    ")"
   ]
  },
  {
   "cell_type": "markdown",
   "source": [
    "### Introspect evaluation improvement\n",
    "\n",
    "You can see in this example that the best function has improved the evaluation score by 50%."
   ],
   "metadata": {
    "collapsed": false
   }
  },
  {
   "cell_type": "code",
   "outputs": [
    {
     "name": "stdout",
     "output_type": "stream",
     "text": [
      "{'score': 0.5}\n"
     ]
    }
   ],
   "source": [
    "bootstrap_few_shot.base_evaluation.evals"
   ],
   "metadata": {
    "collapsed": false,
    "ExecuteTime": {
     "end_time": "2024-07-10T02:05:40.851006Z",
     "start_time": "2024-07-10T02:05:40.832415Z"
    }
   },
   "execution_count": 33
  },
  {
   "cell_type": "code",
   "outputs": [
    {
     "name": "stdout",
     "output_type": "stream",
     "text": [
      "{'score': 1}\n"
     ]
    }
   ],
   "source": [
    "bootstrap_few_shot.best_evaluation.evals"
   ],
   "metadata": {
    "collapsed": false,
    "ExecuteTime": {
     "end_time": "2024-07-10T02:05:53.407215Z",
     "start_time": "2024-07-10T02:05:53.396180Z"
    }
   },
   "execution_count": 34
  },
  {
   "cell_type": "markdown",
   "source": [
    "### Use your optimized function\n"
   ],
   "metadata": {
    "collapsed": false
   }
  },
  {
   "cell_type": "code",
   "execution_count": 38,
   "metadata": {
    "ExecuteTime": {
     "end_time": "2024-07-10T02:07:00.501263Z",
     "start_time": "2024-07-10T02:07:00.496856Z"
    }
   },
   "outputs": [],
   "source": [
    "zenbase_tracer.all_traces = {}"
   ]
  },
  {
   "cell_type": "code",
   "execution_count": 49,
   "metadata": {
    "ExecuteTime": {
     "end_time": "2024-07-10T02:10:41.780541Z",
     "start_time": "2024-07-10T02:10:39.288001Z"
    }
   },
   "outputs": [
    {
     "name": "stdout",
     "output_type": "stream",
     "text": [
      "4,550,000\n"
     ]
    }
   ],
   "source": [
    "best_fn(\"If I have 30% of shares, and Mo has 24.5% of shares, how many of our 10M shares are unassigned?\")"
   ]
  },
  {
   "cell_type": "markdown",
   "source": [
    "### Introspect function traces"
   ],
   "metadata": {
    "collapsed": false
   }
  },
  {
   "cell_type": "code",
   "execution_count": 40,
   "metadata": {
    "ExecuteTime": {
     "end_time": "2024-07-10T02:07:03.626310Z",
     "start_time": "2024-07-10T02:07:03.621367Z"
    }
   },
   "outputs": [],
   "source": [
    "function_traces = [v for k, v in zenbase_tracer.all_traces.items()][0][\"optimized\"]"
   ]
  },
  {
   "cell_type": "markdown",
   "source": [
    "### Check the optimized parameters for solver\n"
   ],
   "metadata": {
    "collapsed": false
   }
  },
  {
   "cell_type": "code",
   "outputs": [
    {
     "name": "stdout",
     "output_type": "stream",
     "text": [
      "[LMDemo(inputs='Natalia sold clips to 48 of her friends in April, and then she '\n",
      "               'sold half as many clips in May. How many clips did Natalia '\n",
      "               'sell altogether in April and May?',\n",
      "        outputs='72',\n",
      "        adaptor_object=None),\n",
      " LMDemo(inputs='Weng earns $12 an hour for babysitting. Yesterday, she just '\n",
      "               'did 50 minutes of babysitting. How much did she earn?',\n",
      "        outputs='10',\n",
      "        adaptor_object=None),\n",
      " LMDemo(inputs='Betty is saving money for a new wallet which costs $100. Betty '\n",
      "               'has only half of the money she needs. Her parents decided to '\n",
      "               'give her $15 for that purpose, and her grandparents twice as '\n",
      "               'much as her parents. How much more money does Betty need to '\n",
      "               'buy the wallet?',\n",
      "        outputs='5',\n",
      "        adaptor_object=None),\n",
      " LMDemo(inputs='James writes a 3-page letter to 2 different friends twice a '\n",
      "               'week.  How many pages does he write a year?',\n",
      "        outputs='624',\n",
      "        adaptor_object=None)]\n"
     ]
    }
   ],
   "source": [
    "from pprint import pprint\n",
    "\n",
    "pprint(function_traces[\"solver\"][\"args\"][\"request\"].zenbase.task_demos)\n"
   ],
   "metadata": {
    "collapsed": false,
    "ExecuteTime": {
     "end_time": "2024-07-10T02:07:06.049905Z",
     "start_time": "2024-07-10T02:07:06.041571Z"
    }
   },
   "execution_count": 41
  },
  {
   "cell_type": "markdown",
   "source": [
    "### Check the optimized parameters for planner_chain\n"
   ],
   "metadata": {
    "collapsed": false
   }
  },
  {
   "cell_type": "code",
   "outputs": [
    {
     "name": "stdout",
     "output_type": "stream",
     "text": [
      "[LMDemo(inputs='Natalia sold clips to 48 of her friends in April, and then she '\n",
      "               'sold half as many clips in May. How many clips did Natalia '\n",
      "               'sell altogether in April and May?',\n",
      "        outputs={'plan': '1. Calculate the number of clips Natalia sold in May '\n",
      "                         'by dividing the number of clips she sold in April by '\n",
      "                         '2. 2. Add the number of clips she sold in April to '\n",
      "                         'the number of clips she sold in May to find the '\n",
      "                         'total number of clips sold in April and May.'},\n",
      "        adaptor_object=None),\n",
      " LMDemo(inputs='Weng earns $12 an hour for babysitting. Yesterday, she just '\n",
      "               'did 50 minutes of babysitting. How much did she earn?',\n",
      "        outputs={'plan': 'Since Weng earns $12 per hour, first calculate how '\n",
      "                         'much she earns per minute by dividing $12 by 60 '\n",
      "                         'minutes. Then, multiply the result by 50 minutes to '\n",
      "                         'find out how much she earned in total for 50 minutes '\n",
      "                         'of babysitting.'},\n",
      "        adaptor_object=None),\n",
      " LMDemo(inputs='Betty is saving money for a new wallet which costs $100. Betty '\n",
      "               'has only half of the money she needs. Her parents decided to '\n",
      "               'give her $15 for that purpose, and her grandparents twice as '\n",
      "               'much as her parents. How much more money does Betty need to '\n",
      "               'buy the wallet?',\n",
      "        outputs={'plan': '1. Calculate half of the $100 needed for the wallet: '\n",
      "                         '$100 / 2 = $50.\\n'\n",
      "                         '2. Determine the total amount Betty has after her '\n",
      "                         'parents and grandparents give her the money: $50 + '\n",
      "                         '$15 + $30 = $95.\\n'\n",
      "                         '3. Find out how much more money Betty needs to buy '\n",
      "                         'the wallet: $100 - $95 = $5.'},\n",
      "        adaptor_object=None),\n",
      " LMDemo(inputs='James writes a 3-page letter to 2 different friends twice a '\n",
      "               'week.  How many pages does he write a year?',\n",
      "        outputs={'plan': '1. Calculate the number of pages written in a week: '\n",
      "                         '3 pages/letter * 2 letters/friend = 6 pages/friend. '\n",
      "                         '2. Calculate the total number of pages written in a '\n",
      "                         'week: 6 pages/friend * 2 friends = 12 pages/week. 3. '\n",
      "                         'Calculate the total number of pages written in a '\n",
      "                         'year: 12 pages/week * 52 weeks/year = 624 '\n",
      "                         'pages/year.'},\n",
      "        adaptor_object=None)]\n"
     ]
    }
   ],
   "source": [
    "from pprint import pprint\n",
    "\n",
    "pprint(function_traces[\"planner_chain\"][\"args\"][\"request\"].zenbase.task_demos)"
   ],
   "metadata": {
    "collapsed": false,
    "ExecuteTime": {
     "end_time": "2024-07-10T02:07:24.122538Z",
     "start_time": "2024-07-10T02:07:24.115594Z"
    }
   },
   "execution_count": 42
  },
  {
   "cell_type": "markdown",
   "source": [
    "### Check the optimized parameters for operation_finder"
   ],
   "metadata": {
    "collapsed": false
   }
  },
  {
   "cell_type": "code",
   "outputs": [
    {
     "name": "stdout",
     "output_type": "stream",
     "text": [
      "[LMDemo(inputs={'plan': '1. Calculate the number of clips Natalia sold in May '\n",
      "                        'by dividing the number of clips she sold in April by '\n",
      "                        '2. 2. Add the number of clips she sold in April to '\n",
      "                        'the number of clips she sold in May to find the total '\n",
      "                        'number of clips sold in April and May.',\n",
      "                'question': 'Natalia sold clips to 48 of her friends in April, '\n",
      "                            'and then she sold half as many clips in May. How '\n",
      "                            'many clips did Natalia sell altogether in April '\n",
      "                            'and May?'},\n",
      "        outputs={'operation': 'division'},\n",
      "        adaptor_object=None),\n",
      " LMDemo(inputs={'plan': 'Since Weng earns $12 per hour, first calculate how '\n",
      "                        'much she earns per minute by dividing $12 by 60 '\n",
      "                        'minutes. Then, multiply the result by 50 minutes to '\n",
      "                        'find out how much she earned in total for 50 minutes '\n",
      "                        'of babysitting.',\n",
      "                'question': 'Weng earns $12 an hour for babysitting. '\n",
      "                            'Yesterday, she just did 50 minutes of '\n",
      "                            'babysitting. How much did she earn?'},\n",
      "        outputs={'operation': 'multiplication'},\n",
      "        adaptor_object=None),\n",
      " LMDemo(inputs={'plan': '1. Calculate half of the $100 needed for the wallet: '\n",
      "                        '$100 / 2 = $50.\\n'\n",
      "                        '2. Determine the total amount Betty has after her '\n",
      "                        'parents and grandparents give her the money: $50 + '\n",
      "                        '$15 + $30 = $95.\\n'\n",
      "                        '3. Find out how much more money Betty needs to buy '\n",
      "                        'the wallet: $100 - $95 = $5.',\n",
      "                'question': 'Betty is saving money for a new wallet which '\n",
      "                            'costs $100. Betty has only half of the money she '\n",
      "                            'needs. Her parents decided to give her $15 for '\n",
      "                            'that purpose, and her grandparents twice as much '\n",
      "                            'as her parents. How much more money does Betty '\n",
      "                            'need to buy the wallet?'},\n",
      "        outputs={'operation': 'subtraction'},\n",
      "        adaptor_object=None),\n",
      " LMDemo(inputs={'plan': '1. Calculate the number of pages written in a week: 3 '\n",
      "                        'pages/letter * 2 letters/friend = 6 pages/friend. 2. '\n",
      "                        'Calculate the total number of pages written in a '\n",
      "                        'week: 6 pages/friend * 2 friends = 12 pages/week. 3. '\n",
      "                        'Calculate the total number of pages written in a '\n",
      "                        'year: 12 pages/week * 52 weeks/year = 624 pages/year.',\n",
      "                'question': 'James writes a 3-page letter to 2 different '\n",
      "                            'friends twice a week.  How many pages does he '\n",
      "                            'write a year?'},\n",
      "        outputs={'operation': 'multiplication'},\n",
      "        adaptor_object=None)]\n"
     ]
    }
   ],
   "source": [
    "from pprint import pprint\n",
    "\n",
    "pprint(function_traces[\"operation_finder\"][\"args\"][\"request\"].zenbase.task_demos)"
   ],
   "metadata": {
    "collapsed": false,
    "ExecuteTime": {
     "end_time": "2024-07-10T02:07:26.054548Z",
     "start_time": "2024-07-10T02:07:26.049075Z"
    }
   },
   "execution_count": 43
  },
  {
   "cell_type": "markdown",
   "source": [
    "## How to save the function and load it later\n"
   ],
   "metadata": {
    "collapsed": false
   }
  },
  {
   "cell_type": "markdown",
   "source": [
    "### Save the optimized function args to a file\n"
   ],
   "metadata": {
    "collapsed": false
   }
  },
  {
   "cell_type": "code",
   "outputs": [],
   "source": [
    "bootstrap_few_shot.save_optimizer_args(\"bootstrap_few_shot_args.zenbase\")\n"
   ],
   "metadata": {
    "collapsed": false,
    "ExecuteTime": {
     "end_time": "2024-07-10T02:07:52.878708Z",
     "start_time": "2024-07-10T02:07:52.872032Z"
    }
   },
   "execution_count": 44
  },
  {
   "cell_type": "markdown",
   "source": [
    "### Load the optimized function args with the function"
   ],
   "metadata": {
    "collapsed": false
   }
  },
  {
   "cell_type": "code",
   "outputs": [],
   "source": [
    "optimized_function = bootstrap_few_shot.load_optimizer_and_function(\"bootstrap_few_shot_args.zenbase\", solver, zenbase_tracer)\n"
   ],
   "metadata": {
    "collapsed": false,
    "ExecuteTime": {
     "end_time": "2024-07-10T02:08:20.949065Z",
     "start_time": "2024-07-10T02:08:20.943816Z"
    }
   },
   "execution_count": 46
  },
  {
   "cell_type": "markdown",
   "source": [
    "### Use the loaded function and make sure it loaded the demos.\n"
   ],
   "metadata": {
    "collapsed": false
   }
  },
  {
   "cell_type": "code",
   "outputs": [
    {
     "name": "stdout",
     "output_type": "stream",
     "text": [
      "[LMDemo(inputs='Natalia sold clips to 48 of her friends in April, and then she '\n",
      "               'sold half as many clips in May. How many clips did Natalia '\n",
      "               'sell altogether in April and May?',\n",
      "        outputs='72',\n",
      "        adaptor_object=None),\n",
      " LMDemo(inputs='Weng earns $12 an hour for babysitting. Yesterday, she just '\n",
      "               'did 50 minutes of babysitting. How much did she earn?',\n",
      "        outputs='10',\n",
      "        adaptor_object=None),\n",
      " LMDemo(inputs='Betty is saving money for a new wallet which costs $100. Betty '\n",
      "               'has only half of the money she needs. Her parents decided to '\n",
      "               'give her $15 for that purpose, and her grandparents twice as '\n",
      "               'much as her parents. How much more money does Betty need to '\n",
      "               'buy the wallet?',\n",
      "        outputs='5',\n",
      "        adaptor_object=None),\n",
      " LMDemo(inputs='James writes a 3-page letter to 2 different friends twice a '\n",
      "               'week.  How many pages does he write a year?',\n",
      "        outputs='624',\n",
      "        adaptor_object=None)]\n",
      "[LMDemo(inputs='Natalia sold clips to 48 of her friends in April, and then she '\n",
      "               'sold half as many clips in May. How many clips did Natalia '\n",
      "               'sell altogether in April and May?',\n",
      "        outputs={'plan': '1. Calculate the number of clips Natalia sold in May '\n",
      "                         'by dividing the number of clips she sold in April by '\n",
      "                         '2. 2. Add the number of clips she sold in April to '\n",
      "                         'the number of clips she sold in May to find the '\n",
      "                         'total number of clips sold in April and May.'},\n",
      "        adaptor_object=None),\n",
      " LMDemo(inputs='Weng earns $12 an hour for babysitting. Yesterday, she just '\n",
      "               'did 50 minutes of babysitting. How much did she earn?',\n",
      "        outputs={'plan': 'Since Weng earns $12 per hour, first calculate how '\n",
      "                         'much she earns per minute by dividing $12 by 60 '\n",
      "                         'minutes. Then, multiply the result by 50 minutes to '\n",
      "                         'find out how much she earned in total for 50 minutes '\n",
      "                         'of babysitting.'},\n",
      "        adaptor_object=None),\n",
      " LMDemo(inputs='Betty is saving money for a new wallet which costs $100. Betty '\n",
      "               'has only half of the money she needs. Her parents decided to '\n",
      "               'give her $15 for that purpose, and her grandparents twice as '\n",
      "               'much as her parents. How much more money does Betty need to '\n",
      "               'buy the wallet?',\n",
      "        outputs={'plan': '1. Calculate half of the $100 needed for the wallet: '\n",
      "                         '$100 / 2 = $50.\\n'\n",
      "                         '2. Determine the total amount Betty has after her '\n",
      "                         'parents and grandparents give her the money: $50 + '\n",
      "                         '$15 + $30 = $95.\\n'\n",
      "                         '3. Find out how much more money Betty needs to buy '\n",
      "                         'the wallet: $100 - $95 = $5.'},\n",
      "        adaptor_object=None),\n",
      " LMDemo(inputs='James writes a 3-page letter to 2 different friends twice a '\n",
      "               'week.  How many pages does he write a year?',\n",
      "        outputs={'plan': '1. Calculate the number of pages written in a week: '\n",
      "                         '3 pages/letter * 2 letters/friend = 6 pages/friend. '\n",
      "                         '2. Calculate the total number of pages written in a '\n",
      "                         'week: 6 pages/friend * 2 friends = 12 pages/week. 3. '\n",
      "                         'Calculate the total number of pages written in a '\n",
      "                         'year: 12 pages/week * 52 weeks/year = 624 '\n",
      "                         'pages/year.'},\n",
      "        adaptor_object=None)]\n",
      "[LMDemo(inputs={'plan': '1. Calculate the number of clips Natalia sold in May '\n",
      "                        'by dividing the number of clips she sold in April by '\n",
      "                        '2. 2. Add the number of clips she sold in April to '\n",
      "                        'the number of clips she sold in May to find the total '\n",
      "                        'number of clips sold in April and May.',\n",
      "                'question': 'Natalia sold clips to 48 of her friends in April, '\n",
      "                            'and then she sold half as many clips in May. How '\n",
      "                            'many clips did Natalia sell altogether in April '\n",
      "                            'and May?'},\n",
      "        outputs={'operation': 'division'},\n",
      "        adaptor_object=None),\n",
      " LMDemo(inputs={'plan': 'Since Weng earns $12 per hour, first calculate how '\n",
      "                        'much she earns per minute by dividing $12 by 60 '\n",
      "                        'minutes. Then, multiply the result by 50 minutes to '\n",
      "                        'find out how much she earned in total for 50 minutes '\n",
      "                        'of babysitting.',\n",
      "                'question': 'Weng earns $12 an hour for babysitting. '\n",
      "                            'Yesterday, she just did 50 minutes of '\n",
      "                            'babysitting. How much did she earn?'},\n",
      "        outputs={'operation': 'multiplication'},\n",
      "        adaptor_object=None),\n",
      " LMDemo(inputs={'plan': '1. Calculate half of the $100 needed for the wallet: '\n",
      "                        '$100 / 2 = $50.\\n'\n",
      "                        '2. Determine the total amount Betty has after her '\n",
      "                        'parents and grandparents give her the money: $50 + '\n",
      "                        '$15 + $30 = $95.\\n'\n",
      "                        '3. Find out how much more money Betty needs to buy '\n",
      "                        'the wallet: $100 - $95 = $5.',\n",
      "                'question': 'Betty is saving money for a new wallet which '\n",
      "                            'costs $100. Betty has only half of the money she '\n",
      "                            'needs. Her parents decided to give her $15 for '\n",
      "                            'that purpose, and her grandparents twice as much '\n",
      "                            'as her parents. How much more money does Betty '\n",
      "                            'need to buy the wallet?'},\n",
      "        outputs={'operation': 'subtraction'},\n",
      "        adaptor_object=None),\n",
      " LMDemo(inputs={'plan': '1. Calculate the number of pages written in a week: 3 '\n",
      "                        'pages/letter * 2 letters/friend = 6 pages/friend. 2. '\n",
      "                        'Calculate the total number of pages written in a '\n",
      "                        'week: 6 pages/friend * 2 friends = 12 pages/week. 3. '\n",
      "                        'Calculate the total number of pages written in a '\n",
      "                        'year: 12 pages/week * 52 weeks/year = 624 pages/year.',\n",
      "                'question': 'James writes a 3-page letter to 2 different '\n",
      "                            'friends twice a week.  How many pages does he '\n",
      "                            'write a year?'},\n",
      "        outputs={'operation': 'multiplication'},\n",
      "        adaptor_object=None)]\n"
     ]
    }
   ],
   "source": [
    "zenbase_tracer.all_traces = {}\n",
    "optimized_function(\"If I have 30% of shares, and Mo has 24.5% of shares, how many of our 10M shares are unassigned?\")\n",
    "function_traces = [v for k, v in zenbase_tracer.all_traces.items()][0][\"optimized\"]\n",
    "from pprint import pprint\n",
    "\n",
    "pprint(function_traces[\"solver\"][\"args\"][\"request\"].zenbase.task_demos)\n",
    "pprint(function_traces[\"planner_chain\"][\"args\"][\"request\"].zenbase.task_demos)\n",
    "pprint(function_traces[\"operation_finder\"][\"args\"][\"request\"].zenbase.task_demos)\n"
   ],
   "metadata": {
    "collapsed": false,
    "ExecuteTime": {
     "end_time": "2024-07-10T02:08:41.276338Z",
     "start_time": "2024-07-10T02:08:38.542080Z"
    }
   },
   "execution_count": 48
  },
  {
   "cell_type": "code",
   "outputs": [],
   "source": [],
   "metadata": {
    "collapsed": false
   }
  }
 ],
 "metadata": {
  "kernelspec": {
   "display_name": ".venv",
   "language": "python",
   "name": "python3"
  },
  "language_info": {
   "codemirror_mode": {
    "name": "ipython",
    "version": 3
   },
   "file_extension": ".py",
   "mimetype": "text/x-python",
   "name": "python",
   "nbconvert_exporter": "python",
   "pygments_lexer": "ipython3",
   "version": "3.10.13"
  }
 },
 "nbformat": 4,
 "nbformat_minor": 2
}
